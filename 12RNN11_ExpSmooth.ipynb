{
 "cells": [
  {
   "cell_type": "code",
   "execution_count": 1,
   "metadata": {
    "collapsed": true
   },
   "outputs": [],
   "source": [
    "import tensorflow as tf\n",
    "import numpy as np\n",
    "import datetime, time"
   ]
  },
  {
   "cell_type": "code",
   "execution_count": 38,
   "metadata": {
    "collapsed": true
   },
   "outputs": [],
   "source": [
    "def genObs(length):\n",
    "    x0 = np.random.normal(size=length)\n",
    "    a = np.random.uniform()\n",
    "    x = []\n",
    "    r = 0\n",
    "    for i in range(length):\n",
    "        r = r * a + x0[i] * (1-a)\n",
    "        x.append(r)\n",
    "    return np.array(x), a\n",
    "\n",
    "def genSample(num, length=20):\n",
    "    r = [genObs(length) for _ in range(num)]\n",
    "    x = [a[0] for a in r]\n",
    "    y = [a[1] for a in r]\n",
    "    return np.array(x), np.array(y)\n",
    "\n",
    "def randomBatch(tensorTuple, batchSize=64):\n",
    "    ids = np.random.choice(range(tensorTuple[0].shape[0]), batchSize)\n",
    "    return (x[ids,] for x in tensorTuple)\n",
    "\n",
    "def shuffleBatches(tensorTuple, batchSize=64):\n",
    "    if type(tensorTuple) is list or type(tensorTuple) is tuple: \n",
    "        ids = list(range(tensorTuple[0].shape[0]))\n",
    "        np.random.shuffle(ids)\n",
    "        for i in range(0,len(ids),batchSize):\n",
    "            lst = min(len(ids), i + batchSize)\n",
    "            yield (np.array(x[ids[i:lst],]) for x in tensorTuple)\n",
    "    else:\n",
    "        ids = list(range(tensorTuple.shape[0]))\n",
    "        np.random.shuffle(ids)\n",
    "        for i in range(0,len(ids),batchSize):\n",
    "            lst = min(len(ids), i + batchSize)\n",
    "            yield np.array(tensorTuple[ids[i:lst],])"
   ]
  },
  {
   "cell_type": "code",
   "execution_count": 42,
   "metadata": {},
   "outputs": [
    {
     "data": {
      "text/plain": [
       "(array([[ -1.23004168e-01,  -6.88945362e-02,  -2.25642409e-01,\n",
       "          -4.00371354e-01,  -1.89123452e-01,  -2.63609967e-01,\n",
       "          -2.62846158e-01,  -8.24234355e-02,  -2.35288998e-01,\n",
       "          -1.53707377e-01,  -6.75684520e-02,   1.29592405e-01,\n",
       "           1.23604252e-01,   1.91147616e-01,   1.23158879e-01,\n",
       "          -7.32235756e-02,  -2.03454981e-01,  -3.74180447e-01,\n",
       "          -1.00968657e-01,   1.55232318e-01],\n",
       "        [  2.78028858e-01,   1.24090021e+00,   6.91694704e-01,\n",
       "           1.01457563e+00,  -3.70500383e-01,   1.04067377e+00,\n",
       "           8.85536262e-01,   4.22380397e-01,  -1.26734234e-01,\n",
       "          -1.11446515e-01,   6.56475732e-01,  -8.41127158e-01,\n",
       "           3.42567182e-01,   1.48154514e-01,   8.09629555e-01,\n",
       "           3.25048934e-01,   9.06817543e-01,  -4.03981528e-02,\n",
       "          -6.96111943e-01,  -4.39845680e-01],\n",
       "        [ -1.40702523e-01,   3.22523753e-01,  -5.59456732e-01,\n",
       "          -9.04027911e-01,  -4.03700184e-01,   1.11028383e-01,\n",
       "           3.15762912e-02,  -4.10191550e-01,  -7.69457197e-01,\n",
       "          -7.53073267e-01,  -6.47225522e-01,  -1.16996812e+00,\n",
       "          -6.58450918e-01,  -1.69764660e-01,   3.91702926e-01,\n",
       "           1.22668924e-01,  -8.36521965e-01,  -1.03368564e+00,\n",
       "          -4.78201584e-01,  -1.71728490e-01],\n",
       "        [  6.61864477e-01,  -2.99968687e-02,   1.86187587e-01,\n",
       "          -1.17476727e+00,  -9.41728271e-01,   4.64667705e-02,\n",
       "           1.29215865e+00,   9.42371782e-01,   1.49426486e+00,\n",
       "           1.36125654e+00,   5.25439518e-01,   5.18193899e-01,\n",
       "          -4.69267166e-02,  -1.20175832e-01,   3.53659552e-01,\n",
       "          -2.38461209e-01,  -2.18370821e-01,   3.17190232e-01,\n",
       "           9.36391862e-01,   9.64117426e-01],\n",
       "        [ -9.32513872e-01,   1.74914920e+00,  -5.36626779e-01,\n",
       "          -1.15355985e+00,   2.30166927e-01,   7.97426736e-01,\n",
       "           1.19140219e+00,  -1.20392714e+00,  -1.58142169e+00,\n",
       "          -1.15824074e-01,   1.83015354e-01,  -2.70054615e-01,\n",
       "           1.42146114e+00,   2.81254458e-01,   5.17733370e-01,\n",
       "          -6.76813691e-01,   7.97896078e-01,  -1.42370765e+00,\n",
       "          -8.74534353e-01,   1.06240396e+00],\n",
       "        [  1.98671228e-03,   1.05100680e-02,   1.58907625e-02,\n",
       "          -3.20580455e-03,   1.04593535e-02,   2.34504670e-02,\n",
       "           1.21028874e-02,   1.20008960e-02,  -8.38858744e-04,\n",
       "           1.83321026e-03,   3.71395407e-03,  -1.04921605e-02,\n",
       "          -7.27889965e-04,  -9.12485082e-03,  -1.54749780e-02,\n",
       "          -1.78419300e-02,  -1.86893357e-02,  -4.43648218e-02,\n",
       "          -5.93779414e-02,  -4.84833563e-02],\n",
       "        [  4.05088054e-01,  -1.34928939e-02,  -2.63994157e-02,\n",
       "          -2.04672523e-01,  -8.33036006e-01,   3.18818106e-02,\n",
       "           5.87156948e-01,   2.70992929e-01,  -3.69350326e-01,\n",
       "          -6.11365332e-01,  -1.22469329e-02,   7.50033013e-02,\n",
       "          -3.29268358e-01,  -4.16128460e-01,   2.10881360e-03,\n",
       "           5.24169196e-01,   1.87611261e-01,   2.45012944e-01,\n",
       "          -1.55579647e-01,   8.76061054e-02],\n",
       "        [ -1.64944155e+00,   1.47817336e-01,   9.95425378e-01,\n",
       "           1.31367746e+00,  -1.74613774e+00,  -7.93413556e-01,\n",
       "          -1.62284006e+00,  -8.66848922e-02,   1.36108568e+00,\n",
       "          -1.47959180e+00,  -8.84989632e-02,  -1.09092847e-01,\n",
       "          -6.00142100e-01,   2.24429200e-01,  -4.96182134e-01,\n",
       "          -4.17858909e-01,   5.22272021e-01,  -3.79590716e-01,\n",
       "          -3.99748450e-01,  -1.18971284e+00],\n",
       "        [  3.29526696e-01,   6.49344471e-02,  -7.80296060e-01,\n",
       "           1.58396060e-01,   2.22130594e-01,  -9.49879705e-01,\n",
       "           3.18858568e-01,   1.81811875e-02,   4.21773604e-01,\n",
       "          -4.36305022e-01,  -1.01464909e-01,  -8.24437595e-02,\n",
       "           1.60487570e-02,  -2.66120951e-01,  -3.63657337e-01,\n",
       "          -5.64498783e-01,  -6.39034402e-02,  -1.59289744e-01,\n",
       "           6.78958285e-01,  -4.26166343e-01],\n",
       "        [  1.49450875e-01,  -4.36246357e-01,   2.08472592e-01,\n",
       "          -1.60166494e-01,  -4.37845588e-01,   1.31975154e-01,\n",
       "          -7.46094099e-01,   4.91358794e-02,   1.33205086e+00,\n",
       "           1.26677721e+00,   1.19032804e+00,   5.12263889e-01,\n",
       "           7.26063265e-02,  -3.57961537e-01,  -3.63193515e-01,\n",
       "           3.88817866e-01,   6.69919816e-01,   6.93933155e-01,\n",
       "          -2.89091712e-01,   1.26357368e-01]]),\n",
       " array([ 0.84148051,  0.44053465,  0.47938465,  0.54788993,  0.04749372,\n",
       "         0.98721807,  0.54124298,  0.04247371,  0.60897317,  0.52056456]))"
      ]
     },
     "execution_count": 42,
     "metadata": {},
     "output_type": "execute_result"
    }
   ],
   "source": [
    "train_x, train_y = genSample(30000)\n",
    "valid_x, valid_y = genSample(3000)\n",
    "valid_x[:10], valid_y[:10]"
   ]
  },
  {
   "cell_type": "code",
   "execution_count": 54,
   "metadata": {},
   "outputs": [
    {
     "name": "stdout",
     "output_type": "stream",
     "text": [
      "Graph creation complete\n"
     ]
    }
   ],
   "source": [
    "RNN_SIZE = [1]\n",
    "\n",
    "RCell = lambda n: tf.nn.rnn_cell.GRUCell(num_units=n, activation=tf.nn.elu)\n",
    "\n",
    "tf.reset_default_graph()\n",
    "\n",
    "rnnCell = tf.nn.rnn_cell.MultiRNNCell([RCell(s) for s in RNN_SIZE], state_is_tuple=True)\n",
    "\n",
    "tfi_x = tf.placeholder(shape=(None, None), dtype=tf.float32)\n",
    "tfi_y = tf.placeholder(shape=(None), dtype=tf.float32)\n",
    "\n",
    "tfX = tf.reshape(tfi_x, shape=(tf.shape(tfi_x)[0], tf.shape(tfi_x)[1], 1))\n",
    "\n",
    "_, tfFin0 = tf.nn.dynamic_rnn(rnnCell, inputs=tfX, dtype=tf.float32)\n",
    "tfRes0 = tf.layers.dense(tfFin0[-1], 1)\n",
    "tfRes = tf.reshape(tfRes0, shape=(tf.shape(tfRes0)[0],))\n",
    "\n",
    "tfLoss = tf.sqrt(tf.reduce_mean(tf.square(tfRes - tfi_y)))\n",
    "tfTrain = tf.train.AdamOptimizer(1e-3).minimize(tfLoss)\n",
    "\n",
    "#tfsLoss = tf.summary.scalar('RMSE', tfLoss)\n",
    "tfsSaver = tf.train.Saver()\n",
    "\n",
    "tffw = tf.summary.FileWriter('D:/Jupyter/Logs/00_A', tf.get_default_graph())\n",
    "print('Graph creation complete')"
   ]
  },
  {
   "cell_type": "code",
   "execution_count": 55,
   "metadata": {},
   "outputs": [
    {
     "name": "stdout",
     "output_type": "stream",
     "text": [
      "Epoch 0 (2.68 sec): \t\tVL:0.287\n",
      "Epoch 1 (2.66 sec): \t\tVL:0.245\n",
      "Epoch 2 (2.68 sec): \t\tVL:0.221\n",
      "Epoch 3 (2.66 sec): \t\tVL:0.206\n",
      "Epoch 4 (2.67 sec): \t\tVL:0.195\n",
      "Epoch 5 (2.66 sec): \t\tVL:0.184\n",
      "Epoch 6 (2.66 sec): \t\tVL:0.175\n",
      "Epoch 7 (2.66 sec): \t\tVL:0.167\n",
      "Epoch 8 (2.69 sec): \t\tVL:0.160\n",
      "Epoch 9 (2.66 sec): \t\tVL:0.154\n",
      "Epoch 10 (2.67 sec): \t\tVL:0.146\n",
      "Epoch 11 (2.66 sec): \t\tVL:0.141\n",
      "Epoch 12 (2.66 sec): \t\tVL:0.137\n",
      "Epoch 13 (2.67 sec): \t\tVL:0.135\n",
      "Epoch 14 (2.66 sec): \t\tVL:0.134\n",
      "Epoch 15 (2.66 sec): \t\tVL:0.133\n",
      "Epoch 16 (2.66 sec): \t\tVL:0.131\n",
      "Epoch 17 (2.78 sec): \t\tVL:0.131\n",
      "Epoch 18 (2.78 sec): \t\tVL:0.129\n",
      "Epoch 19 (2.66 sec): \t\tVL:0.129\n",
      "Epoch 20 (2.67 sec): \t\tVL:0.127\n",
      "Epoch 21 (2.88 sec): \t\tVL:0.126\n",
      "Epoch 22 (2.65 sec): \t\tVL:0.126\n",
      "Epoch 23 (2.66 sec): \t\tVL:0.126\n",
      "Epoch 24 (2.68 sec): \t\tVL:0.125\n",
      "Epoch 25 (2.78 sec): \t\tVL:0.125\n"
     ]
    },
    {
     "ename": "KeyboardInterrupt",
     "evalue": "",
     "output_type": "error",
     "traceback": [
      "\u001b[1;31m---------------------------------------------------------------------------\u001b[0m",
      "\u001b[1;31mKeyboardInterrupt\u001b[0m                         Traceback (most recent call last)",
      "\u001b[1;32m<ipython-input-55-920c90105ae0>\u001b[0m in \u001b[0;36m<module>\u001b[1;34m()\u001b[0m\n\u001b[0;32m     19\u001b[0m             \u001b[1;31m#t0 = time.perf_counter()\u001b[0m\u001b[1;33m\u001b[0m\u001b[1;33m\u001b[0m\u001b[0m\n\u001b[0;32m     20\u001b[0m             \u001b[1;32mfor\u001b[0m \u001b[0mj\u001b[0m \u001b[1;32min\u001b[0m \u001b[0mrange\u001b[0m\u001b[1;33m(\u001b[0m\u001b[0mnum_steps\u001b[0m\u001b[1;33m)\u001b[0m\u001b[1;33m:\u001b[0m\u001b[1;33m\u001b[0m\u001b[0m\n\u001b[1;32m---> 21\u001b[1;33m                 \u001b[0mtfTrain\u001b[0m\u001b[1;33m.\u001b[0m\u001b[0mrun\u001b[0m\u001b[1;33m(\u001b[0m\u001b[0mfeed_dict\u001b[0m\u001b[1;33m=\u001b[0m\u001b[0mtrain_batch\u001b[0m\u001b[1;33m)\u001b[0m\u001b[1;33m\u001b[0m\u001b[0m\n\u001b[0m\u001b[0;32m     22\u001b[0m             \u001b[1;31m#t1 = time.perf_counter()\u001b[0m\u001b[1;33m\u001b[0m\u001b[1;33m\u001b[0m\u001b[0m\n\u001b[0;32m     23\u001b[0m             \u001b[0ml1\u001b[0m \u001b[1;33m=\u001b[0m \u001b[0mtfLoss\u001b[0m\u001b[1;33m.\u001b[0m\u001b[0meval\u001b[0m\u001b[1;33m(\u001b[0m\u001b[0mfeed_dict\u001b[0m\u001b[1;33m=\u001b[0m\u001b[0mtrain_batch\u001b[0m\u001b[1;33m)\u001b[0m\u001b[1;33m\u001b[0m\u001b[0m\n",
      "\u001b[1;32mC:\\Anaconda3\\lib\\site-packages\\tensorflow\\python\\framework\\ops.py\u001b[0m in \u001b[0;36mrun\u001b[1;34m(self, feed_dict, session)\u001b[0m\n\u001b[0;32m   1704\u001b[0m         \u001b[0mnone\u001b[0m\u001b[1;33m,\u001b[0m \u001b[0mthe\u001b[0m \u001b[0mdefault\u001b[0m \u001b[0msession\u001b[0m \u001b[0mwill\u001b[0m \u001b[0mbe\u001b[0m \u001b[0mused\u001b[0m\u001b[1;33m.\u001b[0m\u001b[1;33m\u001b[0m\u001b[0m\n\u001b[0;32m   1705\u001b[0m     \"\"\"\n\u001b[1;32m-> 1706\u001b[1;33m     \u001b[0m_run_using_default_session\u001b[0m\u001b[1;33m(\u001b[0m\u001b[0mself\u001b[0m\u001b[1;33m,\u001b[0m \u001b[0mfeed_dict\u001b[0m\u001b[1;33m,\u001b[0m \u001b[0mself\u001b[0m\u001b[1;33m.\u001b[0m\u001b[0mgraph\u001b[0m\u001b[1;33m,\u001b[0m \u001b[0msession\u001b[0m\u001b[1;33m)\u001b[0m\u001b[1;33m\u001b[0m\u001b[0m\n\u001b[0m\u001b[0;32m   1707\u001b[0m \u001b[1;33m\u001b[0m\u001b[0m\n\u001b[0;32m   1708\u001b[0m \u001b[1;33m\u001b[0m\u001b[0m\n",
      "\u001b[1;32mC:\\Anaconda3\\lib\\site-packages\\tensorflow\\python\\framework\\ops.py\u001b[0m in \u001b[0;36m_run_using_default_session\u001b[1;34m(operation, feed_dict, graph, session)\u001b[0m\n\u001b[0;32m   3961\u001b[0m                        \u001b[1;34m\"the operation's graph is different from the session's \"\u001b[0m\u001b[1;33m\u001b[0m\u001b[0m\n\u001b[0;32m   3962\u001b[0m                        \"graph.\")\n\u001b[1;32m-> 3963\u001b[1;33m   \u001b[0msession\u001b[0m\u001b[1;33m.\u001b[0m\u001b[0mrun\u001b[0m\u001b[1;33m(\u001b[0m\u001b[0moperation\u001b[0m\u001b[1;33m,\u001b[0m \u001b[0mfeed_dict\u001b[0m\u001b[1;33m)\u001b[0m\u001b[1;33m\u001b[0m\u001b[0m\n\u001b[0m\u001b[0;32m   3964\u001b[0m \u001b[1;33m\u001b[0m\u001b[0m\n\u001b[0;32m   3965\u001b[0m \u001b[1;33m\u001b[0m\u001b[0m\n",
      "\u001b[1;32mC:\\Anaconda3\\lib\\site-packages\\tensorflow\\python\\client\\session.py\u001b[0m in \u001b[0;36mrun\u001b[1;34m(self, fetches, feed_dict, options, run_metadata)\u001b[0m\n\u001b[0;32m    787\u001b[0m     \u001b[1;32mtry\u001b[0m\u001b[1;33m:\u001b[0m\u001b[1;33m\u001b[0m\u001b[0m\n\u001b[0;32m    788\u001b[0m       result = self._run(None, fetches, feed_dict, options_ptr,\n\u001b[1;32m--> 789\u001b[1;33m                          run_metadata_ptr)\n\u001b[0m\u001b[0;32m    790\u001b[0m       \u001b[1;32mif\u001b[0m \u001b[0mrun_metadata\u001b[0m\u001b[1;33m:\u001b[0m\u001b[1;33m\u001b[0m\u001b[0m\n\u001b[0;32m    791\u001b[0m         \u001b[0mproto_data\u001b[0m \u001b[1;33m=\u001b[0m \u001b[0mtf_session\u001b[0m\u001b[1;33m.\u001b[0m\u001b[0mTF_GetBuffer\u001b[0m\u001b[1;33m(\u001b[0m\u001b[0mrun_metadata_ptr\u001b[0m\u001b[1;33m)\u001b[0m\u001b[1;33m\u001b[0m\u001b[0m\n",
      "\u001b[1;32mC:\\Anaconda3\\lib\\site-packages\\tensorflow\\python\\client\\session.py\u001b[0m in \u001b[0;36m_run\u001b[1;34m(self, handle, fetches, feed_dict, options, run_metadata)\u001b[0m\n\u001b[0;32m    995\u001b[0m     \u001b[1;32mif\u001b[0m \u001b[0mfinal_fetches\u001b[0m \u001b[1;32mor\u001b[0m \u001b[0mfinal_targets\u001b[0m\u001b[1;33m:\u001b[0m\u001b[1;33m\u001b[0m\u001b[0m\n\u001b[0;32m    996\u001b[0m       results = self._do_run(handle, final_targets, final_fetches,\n\u001b[1;32m--> 997\u001b[1;33m                              feed_dict_string, options, run_metadata)\n\u001b[0m\u001b[0;32m    998\u001b[0m     \u001b[1;32melse\u001b[0m\u001b[1;33m:\u001b[0m\u001b[1;33m\u001b[0m\u001b[0m\n\u001b[0;32m    999\u001b[0m       \u001b[0mresults\u001b[0m \u001b[1;33m=\u001b[0m \u001b[1;33m[\u001b[0m\u001b[1;33m]\u001b[0m\u001b[1;33m\u001b[0m\u001b[0m\n",
      "\u001b[1;32mC:\\Anaconda3\\lib\\site-packages\\tensorflow\\python\\client\\session.py\u001b[0m in \u001b[0;36m_do_run\u001b[1;34m(self, handle, target_list, fetch_list, feed_dict, options, run_metadata)\u001b[0m\n\u001b[0;32m   1130\u001b[0m     \u001b[1;32mif\u001b[0m \u001b[0mhandle\u001b[0m \u001b[1;32mis\u001b[0m \u001b[1;32mNone\u001b[0m\u001b[1;33m:\u001b[0m\u001b[1;33m\u001b[0m\u001b[0m\n\u001b[0;32m   1131\u001b[0m       return self._do_call(_run_fn, self._session, feed_dict, fetch_list,\n\u001b[1;32m-> 1132\u001b[1;33m                            target_list, options, run_metadata)\n\u001b[0m\u001b[0;32m   1133\u001b[0m     \u001b[1;32melse\u001b[0m\u001b[1;33m:\u001b[0m\u001b[1;33m\u001b[0m\u001b[0m\n\u001b[0;32m   1134\u001b[0m       return self._do_call(_prun_fn, self._session, handle, feed_dict,\n",
      "\u001b[1;32mC:\\Anaconda3\\lib\\site-packages\\tensorflow\\python\\client\\session.py\u001b[0m in \u001b[0;36m_do_call\u001b[1;34m(self, fn, *args)\u001b[0m\n\u001b[0;32m   1137\u001b[0m   \u001b[1;32mdef\u001b[0m \u001b[0m_do_call\u001b[0m\u001b[1;33m(\u001b[0m\u001b[0mself\u001b[0m\u001b[1;33m,\u001b[0m \u001b[0mfn\u001b[0m\u001b[1;33m,\u001b[0m \u001b[1;33m*\u001b[0m\u001b[0margs\u001b[0m\u001b[1;33m)\u001b[0m\u001b[1;33m:\u001b[0m\u001b[1;33m\u001b[0m\u001b[0m\n\u001b[0;32m   1138\u001b[0m     \u001b[1;32mtry\u001b[0m\u001b[1;33m:\u001b[0m\u001b[1;33m\u001b[0m\u001b[0m\n\u001b[1;32m-> 1139\u001b[1;33m       \u001b[1;32mreturn\u001b[0m \u001b[0mfn\u001b[0m\u001b[1;33m(\u001b[0m\u001b[1;33m*\u001b[0m\u001b[0margs\u001b[0m\u001b[1;33m)\u001b[0m\u001b[1;33m\u001b[0m\u001b[0m\n\u001b[0m\u001b[0;32m   1140\u001b[0m     \u001b[1;32mexcept\u001b[0m \u001b[0merrors\u001b[0m\u001b[1;33m.\u001b[0m\u001b[0mOpError\u001b[0m \u001b[1;32mas\u001b[0m \u001b[0me\u001b[0m\u001b[1;33m:\u001b[0m\u001b[1;33m\u001b[0m\u001b[0m\n\u001b[0;32m   1141\u001b[0m       \u001b[0mmessage\u001b[0m \u001b[1;33m=\u001b[0m \u001b[0mcompat\u001b[0m\u001b[1;33m.\u001b[0m\u001b[0mas_text\u001b[0m\u001b[1;33m(\u001b[0m\u001b[0me\u001b[0m\u001b[1;33m.\u001b[0m\u001b[0mmessage\u001b[0m\u001b[1;33m)\u001b[0m\u001b[1;33m\u001b[0m\u001b[0m\n",
      "\u001b[1;32mC:\\Anaconda3\\lib\\site-packages\\tensorflow\\python\\client\\session.py\u001b[0m in \u001b[0;36m_run_fn\u001b[1;34m(session, feed_dict, fetch_list, target_list, options, run_metadata)\u001b[0m\n\u001b[0;32m   1119\u001b[0m         return tf_session.TF_Run(session, options,\n\u001b[0;32m   1120\u001b[0m                                  \u001b[0mfeed_dict\u001b[0m\u001b[1;33m,\u001b[0m \u001b[0mfetch_list\u001b[0m\u001b[1;33m,\u001b[0m \u001b[0mtarget_list\u001b[0m\u001b[1;33m,\u001b[0m\u001b[1;33m\u001b[0m\u001b[0m\n\u001b[1;32m-> 1121\u001b[1;33m                                  status, run_metadata)\n\u001b[0m\u001b[0;32m   1122\u001b[0m \u001b[1;33m\u001b[0m\u001b[0m\n\u001b[0;32m   1123\u001b[0m     \u001b[1;32mdef\u001b[0m \u001b[0m_prun_fn\u001b[0m\u001b[1;33m(\u001b[0m\u001b[0msession\u001b[0m\u001b[1;33m,\u001b[0m \u001b[0mhandle\u001b[0m\u001b[1;33m,\u001b[0m \u001b[0mfeed_dict\u001b[0m\u001b[1;33m,\u001b[0m \u001b[0mfetch_list\u001b[0m\u001b[1;33m)\u001b[0m\u001b[1;33m:\u001b[0m\u001b[1;33m\u001b[0m\u001b[0m\n",
      "\u001b[1;31mKeyboardInterrupt\u001b[0m: "
     ]
    }
   ],
   "source": [
    "dt_now = datetime.datetime.now().strftime(\"%Y-%m-%d_%H%M%S\")\n",
    "#tffw = tf.summary.FileWriter('D:/Jupyter/Logs/12RNN07-{0}'.format(dt_now), tf.get_default_graph())\n",
    "\n",
    "batch_size = 1000\n",
    "num_steps  = 10\n",
    "num_epochs = 100\n",
    "checkpoints = 50 #every 5 epochs save the model\n",
    "\n",
    "fmtstr = 'Epoch {0} ({1:1.3} sec): \\t\\tVL:{2:1.3f}'\n",
    "valid_batch = {tfi_x: valid_x, tfi_y: valid_y}\n",
    "with tf.Session() as tfs:\n",
    "    tfs.run(tf.global_variables_initializer())\n",
    "    for i in range(num_epochs):\n",
    "        te0 = time.perf_counter()\n",
    "        for (mini_x, mini_y) in shuffleBatches((train_x, train_y), batchSize=batch_size):\n",
    "            train_batch = {tfi_x:mini_x, tfi_y: mini_y}\n",
    "            \n",
    "            #l0 = tfLoss.eval(feed_dict=train_batch)\n",
    "            #t0 = time.perf_counter()\n",
    "            for j in range(num_steps):\n",
    "                tfTrain.run(feed_dict=train_batch)\n",
    "            #t1 = time.perf_counter()\n",
    "            l1 = tfLoss.eval(feed_dict=train_batch)\n",
    "    \n",
    "        te1 = time.perf_counter()\n",
    "        lv = tfs.run(tfLoss, feed_dict=valid_batch)\n",
    "            #tffw.add_summary(summary, i)\n",
    "        if i%checkpoints == 0 and i > 0:\n",
    "            p = tfsSaver.save(tfs, 'D:/Jupyter/mltest/Models-13RNN02/model-{0:02d}.ckpt'.format(i))\n",
    "            print('Model saved at checkpoint: {0}'.format(p))\n",
    "                             \n",
    "        print(fmtstr.format(i,te1-te0,lv))\n",
    "        valid_r = tfs.run(tfRes, feed_dict=valid_batch)"
   ]
  },
  {
   "cell_type": "code",
   "execution_count": 51,
   "metadata": {},
   "outputs": [
    {
     "data": {
      "text/plain": [
       "(array([ 0.84148051,  0.44053465,  0.47938465,  0.54788993,  0.04749372,\n",
       "         0.98721807,  0.54124298,  0.04247371,  0.60897317,  0.52056456]),\n",
       " array([ 0.88763374,  0.31081051,  0.55287969,  0.42527467,  0.05256396,\n",
       "         0.95385128,  0.568717  ,  0.11541147,  0.42359295,  0.4542667 ], dtype=float32))"
      ]
     },
     "execution_count": 51,
     "metadata": {},
     "output_type": "execute_result"
    }
   ],
   "source": [
    "valid_y[:10], valid_r[:10]"
   ]
  },
  {
   "cell_type": "code",
   "execution_count": 27,
   "metadata": {},
   "outputs": [
    {
     "data": {
      "text/plain": [
       "(array([[0, 0, 0, 0, 1, 0, 0, 1, 0, 1, 1, 1, 0, 0, 1, 0, 1, 1, 1, 1],\n",
       "        [0, 1, 1, 1, 0, 1, 0, 0, 1, 0, 1, 0, 1, 1, 1, 0, 1, 0, 0, 1],\n",
       "        [1, 1, 0, 0, 1, 0, 0, 0, 1, 1, 1, 1, 1, 0, 1, 0, 0, 0, 0, 1],\n",
       "        [1, 0, 1, 1, 1, 1, 1, 1, 0, 0, 1, 0, 1, 1, 0, 0, 1, 1, 0, 1],\n",
       "        [0, 0, 1, 0, 1, 0, 0, 0, 0, 1, 1, 0, 1, 1, 1, 0, 0, 1, 1, 1],\n",
       "        [0, 0, 0, 0, 0, 0, 0, 0, 0, 1, 1, 0, 0, 0, 0, 0, 0, 0, 1, 1],\n",
       "        [1, 0, 0, 0, 0, 0, 1, 1, 0, 0, 1, 1, 1, 0, 0, 0, 1, 0, 0, 0],\n",
       "        [0, 1, 0, 0, 1, 1, 0, 0, 1, 1, 1, 1, 0, 0, 1, 0, 1, 1, 1, 0],\n",
       "        [0, 1, 0, 0, 0, 0, 0, 1, 0, 1, 0, 1, 1, 1, 0, 1, 1, 0, 1, 1],\n",
       "        [0, 0, 0, 1, 0, 1, 0, 1, 1, 0, 0, 0, 1, 1, 0, 0, 0, 1, 0, 1]]),\n",
       " array([ 0.75573151,  0.1209592 ,  0.20764871,  0.20998484,  0.7739573 ,\n",
       "         0.45167749,  0.22475061,  0.47594867,  0.12762448,  0.75846315]))"
      ]
     },
     "execution_count": 27,
     "metadata": {},
     "output_type": "execute_result"
    }
   ],
   "source": [
    "genSample(10)"
   ]
  },
  {
   "cell_type": "code",
   "execution_count": null,
   "metadata": {
    "collapsed": true
   },
   "outputs": [],
   "source": []
  }
 ],
 "metadata": {
  "kernelspec": {
   "display_name": "Python 3",
   "language": "python",
   "name": "python3"
  },
  "language_info": {
   "codemirror_mode": {
    "name": "ipython",
    "version": 3
   },
   "file_extension": ".py",
   "mimetype": "text/x-python",
   "name": "python",
   "nbconvert_exporter": "python",
   "pygments_lexer": "ipython3",
   "version": "3.6.1"
  }
 },
 "nbformat": 4,
 "nbformat_minor": 2
}
