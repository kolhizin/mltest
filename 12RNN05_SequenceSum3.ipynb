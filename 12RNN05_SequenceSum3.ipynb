{
 "cells": [
  {
   "cell_type": "code",
   "execution_count": 1,
   "metadata": {
    "collapsed": true
   },
   "outputs": [],
   "source": [
    "import tensorflow as tf\n",
    "import numpy as np\n",
    "import datetime\n",
    "import time\n",
    "\n",
    "import sklearn.metrics"
   ]
  },
  {
   "cell_type": "code",
   "execution_count": 76,
   "metadata": {
    "collapsed": true
   },
   "outputs": [],
   "source": [
    "def genObs(length):\n",
    "    return np.random.choice(range(3), size=length)\n",
    "\n",
    "def genTarget(x):\n",
    "    return ''.join([str(z) for z in x]).count('012') - ''.join([str(z) for z in x]).count('210')\n",
    "\n",
    "def genSample(num, length=20):\n",
    "    x = [genObs(length=length) for _ in range(num)]\n",
    "    y = [genTarget(t) for t in x]\n",
    "    return np.array(x), np.array(y)\n",
    "\n",
    "def randomBatch(tensorTuple, batchSize=64):\n",
    "    ids = np.random.choice(range(tensorTuple[0].shape[0]), batchSize)\n",
    "    return (x[ids,] for x in tensorTuple)"
   ]
  },
  {
   "cell_type": "code",
   "execution_count": 77,
   "metadata": {},
   "outputs": [
    {
     "data": {
      "text/plain": [
       "(array([[0, 1, 0, 0, 1, 2, 2, 1, 1, 0, 1, 2, 0, 0, 1, 2, 1, 0, 2, 1],\n",
       "        [1, 2, 1, 0, 2, 2, 2, 2, 2, 2, 1, 0, 2, 2, 1, 0, 1, 2, 1, 2],\n",
       "        [2, 2, 2, 1, 0, 2, 1, 0, 1, 2, 0, 1, 1, 1, 2, 2, 2, 1, 0, 2],\n",
       "        [2, 0, 2, 2, 0, 1, 2, 1, 2, 1, 1, 0, 2, 0, 0, 1, 1, 1, 0, 1],\n",
       "        [1, 1, 0, 2, 1, 2, 2, 0, 1, 0, 0, 1, 1, 1, 2, 1, 0, 2, 2, 0],\n",
       "        [1, 2, 0, 2, 2, 2, 1, 1, 1, 0, 0, 2, 0, 2, 0, 2, 2, 0, 1, 1],\n",
       "        [1, 0, 2, 1, 2, 2, 1, 2, 0, 2, 2, 1, 2, 0, 2, 0, 2, 1, 1, 1],\n",
       "        [1, 0, 1, 1, 0, 1, 0, 0, 2, 1, 1, 1, 0, 0, 0, 2, 1, 2, 2, 0],\n",
       "        [0, 1, 1, 0, 2, 1, 1, 2, 0, 2, 2, 1, 1, 2, 1, 0, 0, 2, 1, 1],\n",
       "        [2, 2, 1, 0, 1, 0, 2, 0, 2, 2, 0, 1, 0, 1, 1, 2, 2, 1, 1, 2]]),\n",
       " array([ 2, -2, -2,  1, -1,  0,  0,  0, -1, -1]))"
      ]
     },
     "execution_count": 77,
     "metadata": {},
     "output_type": "execute_result"
    }
   ],
   "source": [
    "train_x, train_y = genSample(10000)\n",
    "valid_x, valid_y = genSample(1000)\n",
    "valid_x[:10], valid_y[:10]"
   ]
  },
  {
   "cell_type": "code",
   "execution_count": 78,
   "metadata": {},
   "outputs": [
    {
     "name": "stdout",
     "output_type": "stream",
     "text": [
      "Graph creation complete\n"
     ]
    }
   ],
   "source": [
    "SEQ_LEN = 20\n",
    "RNN_SIZE = [10]\n",
    "\n",
    "InnerCell = lambda n: tf.nn.rnn_cell.BasicRNNCell(num_units=n, activation=tf.nn.relu)\n",
    "#InnerCell = lambda n: tf.nn.rnn_cell.LSTMCell(num_units=n, activation=tf.nn.relu, use_peepholes=True)\n",
    "\n",
    "tf.reset_default_graph()\n",
    "\n",
    "tfi_x = tf.placeholder(shape=(None, SEQ_LEN), dtype=tf.float32)\n",
    "tfi_y = tf.placeholder(shape=(None), dtype=tf.float32)\n",
    "\n",
    "tfX = tf.reshape(tfi_x, shape=(tf.shape(tfi_x)[0], tf.shape(tfi_x)[1], 1))\n",
    "tfY = tf.reshape(tfi_y, shape=(tf.shape(tfi_y)[0], 1))\n",
    "\n",
    "\n",
    "rnnCell = tf.nn.rnn_cell.MultiRNNCell([InnerCell(s) for s in RNN_SIZE])\n",
    "#rnnCell = tf.nn.rnn_cell.GRUCell(RNN_SIZE[0])\n",
    "\n",
    "_, tfO = tf.nn.dynamic_rnn(rnnCell, inputs=tfX, dtype=tf.float32)\n",
    "\n",
    "tfOut = tf.layers.dense(tfO[-1], 1)\n",
    "\n",
    "tfLoss = tf.sqrt(tf.reduce_mean(tf.square(tfY - tfOut)))\n",
    "tfTrain = tf.train.AdamOptimizer(1e-3).minimize(tfLoss)\n",
    "\n",
    "#tfOutP = tf.nn.softmax(tfOut)\n",
    "tfOutR = tf.cast(tf.round(tfOut),dtype=tf.int64)\n",
    "\n",
    "tfAccuracy = tf.reduce_mean(tf.cast(tf.equal(tf.cast(tfY, dtype=tf.int64), tf.cast(tf.round(tfOut),dtype=tf.int64)), dtype=tf.float32))\n",
    "tffw = tf.summary.FileWriter('D:/Jupyter/Logs/00_A', tf.get_default_graph())\n",
    "print('Graph creation complete')"
   ]
  },
  {
   "cell_type": "code",
   "execution_count": 79,
   "metadata": {},
   "outputs": [
    {
     "name": "stdout",
     "output_type": "stream",
     "text": [
      "Epoch 0 (0.203 sec): loss changed from 1.04 to 1.01\t\tVL:1.049\t\tAC:0.386\n",
      "Epoch 10 (0.183 sec): loss changed from 0.717 to 0.646\t\tVL:0.680\t\tAC:0.535\n",
      "Epoch 20 (0.182 sec): loss changed from 0.441 to 0.426\t\tVL:0.454\t\tAC:0.736\n",
      "Epoch 30 (0.195 sec): loss changed from 0.346 to 0.331\t\tVL:0.356\t\tAC:0.847\n",
      "Epoch 40 (0.184 sec): loss changed from 0.279 to 0.276\t\tVL:0.300\t\tAC:0.901\n",
      "Epoch 50 (0.184 sec): loss changed from 0.246 to 0.239\t\tVL:0.271\t\tAC:0.922\n",
      "Epoch 60 (0.23 sec): loss changed from 0.265 to 0.242\t\tVL:0.250\t\tAC:0.938\n",
      "Epoch 70 (0.187 sec): loss changed from 0.209 to 0.222\t\tVL:0.245\t\tAC:0.953\n",
      "Epoch 80 (0.216 sec): loss changed from 0.196 to 0.189\t\tVL:0.210\t\tAC:0.966\n",
      "Epoch 90 (0.183 sec): loss changed from 0.181 to 0.178\t\tVL:0.189\t\tAC:0.985\n",
      "Epoch 100 (0.182 sec): loss changed from 0.164 to 0.172\t\tVL:0.187\t\tAC:0.990\n",
      "Epoch 110 (0.183 sec): loss changed from 0.164 to 0.154\t\tVL:0.165\t\tAC:0.997\n",
      "Epoch 120 (0.183 sec): loss changed from 0.147 to 0.149\t\tVL:0.164\t\tAC:0.997\n",
      "Epoch 130 (0.183 sec): loss changed from 0.139 to 0.138\t\tVL:0.145\t\tAC:0.999\n",
      "Epoch 140 (0.182 sec): loss changed from 0.13 to 0.128\t\tVL:0.139\t\tAC:0.999\n",
      "Epoch 150 (0.183 sec): loss changed from 0.136 to 0.133\t\tVL:0.134\t\tAC:1.000\n",
      "Epoch 160 (0.195 sec): loss changed from 0.123 to 0.119\t\tVL:0.121\t\tAC:1.000\n",
      "Epoch 170 (0.183 sec): loss changed from 0.117 to 0.108\t\tVL:0.109\t\tAC:1.000\n",
      "Epoch 180 (0.213 sec): loss changed from 0.111 to 0.108\t\tVL:0.109\t\tAC:1.000\n",
      "Epoch 190 (0.183 sec): loss changed from 0.105 to 0.105\t\tVL:0.106\t\tAC:1.000\n",
      "Epoch 200 (0.183 sec): loss changed from 0.109 to 0.0997\t\tVL:0.098\t\tAC:1.000\n",
      "Epoch 210 (0.243 sec): loss changed from 0.0993 to 0.0995\t\tVL:0.097\t\tAC:1.000\n",
      "Epoch 220 (0.188 sec): loss changed from 0.0933 to 0.0993\t\tVL:0.102\t\tAC:1.000\n",
      "Epoch 230 (0.182 sec): loss changed from 0.0959 to 0.0959\t\tVL:0.098\t\tAC:1.000\n",
      "Epoch 240 (0.183 sec): loss changed from 0.0912 to 0.0922\t\tVL:0.094\t\tAC:1.000\n",
      "Epoch 250 (0.187 sec): loss changed from 0.091 to 0.0881\t\tVL:0.089\t\tAC:1.000\n",
      "Epoch 260 (0.269 sec): loss changed from 0.0919 to 0.0874\t\tVL:0.088\t\tAC:1.000\n",
      "Epoch 270 (0.214 sec): loss changed from 0.087 to 0.085\t\tVL:0.085\t\tAC:1.000\n",
      "Epoch 280 (0.182 sec): loss changed from 0.0821 to 0.0836\t\tVL:0.084\t\tAC:1.000\n",
      "Epoch 290 (0.185 sec): loss changed from 0.0814 to 0.0807\t\tVL:0.078\t\tAC:1.000\n",
      "Epoch 300 (0.183 sec): loss changed from 0.0762 to 0.0766\t\tVL:0.078\t\tAC:1.000\n",
      "Epoch 310 (0.183 sec): loss changed from 0.0808 to 0.0785\t\tVL:0.076\t\tAC:1.000\n",
      "Epoch 320 (0.186 sec): loss changed from 0.0783 to 0.0769\t\tVL:0.077\t\tAC:1.000\n",
      "Epoch 330 (0.183 sec): loss changed from 0.0761 to 0.0758\t\tVL:0.078\t\tAC:1.000\n",
      "Epoch 340 (0.183 sec): loss changed from 0.0747 to 0.077\t\tVL:0.075\t\tAC:1.000\n",
      "Epoch 350 (0.183 sec): loss changed from 0.0776 to 0.0745\t\tVL:0.071\t\tAC:1.000\n",
      "Epoch 360 (0.183 sec): loss changed from 0.0786 to 0.0722\t\tVL:0.070\t\tAC:1.000\n",
      "Epoch 370 (0.215 sec): loss changed from 0.0768 to 0.0727\t\tVL:0.068\t\tAC:1.000\n",
      "Epoch 380 (0.185 sec): loss changed from 0.0697 to 0.0731\t\tVL:0.073\t\tAC:1.000\n",
      "Epoch 390 (0.193 sec): loss changed from 0.0712 to 0.0737\t\tVL:0.072\t\tAC:1.000\n",
      "Epoch 400 (0.184 sec): loss changed from 0.0747 to 0.0713\t\tVL:0.069\t\tAC:1.000\n",
      "Epoch 410 (0.184 sec): loss changed from 0.0677 to 0.0695\t\tVL:0.069\t\tAC:1.000\n",
      "Epoch 420 (0.192 sec): loss changed from 0.0698 to 0.0694\t\tVL:0.069\t\tAC:1.000\n",
      "Epoch 430 (0.249 sec): loss changed from 0.0718 to 0.0695\t\tVL:0.068\t\tAC:1.000\n",
      "Epoch 440 (0.187 sec): loss changed from 0.0695 to 0.0696\t\tVL:0.066\t\tAC:1.000\n",
      "Epoch 450 (0.183 sec): loss changed from 0.0686 to 0.0678\t\tVL:0.066\t\tAC:1.000\n",
      "Epoch 460 (0.183 sec): loss changed from 0.0665 to 0.0673\t\tVL:0.067\t\tAC:1.000\n",
      "Epoch 470 (0.212 sec): loss changed from 0.0695 to 0.068\t\tVL:0.065\t\tAC:1.000\n",
      "Epoch 480 (0.184 sec): loss changed from 0.0638 to 0.0669\t\tVL:0.068\t\tAC:1.000\n",
      "Epoch 490 (0.187 sec): loss changed from 0.0668 to 0.0665\t\tVL:0.066\t\tAC:1.000\n"
     ]
    }
   ],
   "source": [
    "batch_size = 1000\n",
    "num_steps  = 30\n",
    "num_epochs = 500\n",
    "\n",
    "fmtstr = 'Epoch {0} ({1:1.3} sec): loss changed from {2:1.3} to {3:1.3}\\t\\tVL:{4:1.3f}\\t\\tAC:{5:1.3f}'\n",
    "valid_batch = {tfi_x: valid_x, tfi_y: valid_y}\n",
    "with tf.Session() as tfs:\n",
    "    tfs.run(tf.global_variables_initializer())\n",
    "    for i in range(num_epochs):\n",
    "        mini_x, mini_y = randomBatch((train_x, train_y), batchSize=batch_size)\n",
    "        train_batch = {tfi_x:mini_x, tfi_y:mini_y}\n",
    "        l0 = tfLoss.eval(feed_dict=train_batch)\n",
    "        t0 = time.perf_counter()\n",
    "        for j in range(num_steps):\n",
    "            tfTrain.run(feed_dict=train_batch)\n",
    "        t1 = time.perf_counter()\n",
    "        l1 = tfLoss.eval(feed_dict=train_batch)\n",
    "        lv = tfLoss.eval(feed_dict=valid_batch)\n",
    "        ac = tfAccuracy.eval(feed_dict=valid_batch)\n",
    "        if i%10 == 0:\n",
    "            print(fmtstr.format(i,t1-t0,l0,l1,lv,ac))\n",
    "    valid_r = tfs.run(tfOutR, feed_dict=valid_batch)"
   ]
  },
  {
   "cell_type": "code",
   "execution_count": 80,
   "metadata": {},
   "outputs": [
    {
     "data": {
      "text/plain": [
       "array([[ 2],\n",
       "       [-2],\n",
       "       [-2],\n",
       "       [ 1],\n",
       "       [-1],\n",
       "       [ 0],\n",
       "       [ 0],\n",
       "       [ 0],\n",
       "       [-1],\n",
       "       [-1]], dtype=int64)"
      ]
     },
     "execution_count": 80,
     "metadata": {},
     "output_type": "execute_result"
    }
   ],
   "source": [
    "valid_r[:10]"
   ]
  },
  {
   "cell_type": "code",
   "execution_count": 81,
   "metadata": {},
   "outputs": [
    {
     "data": {
      "text/plain": [
       "array([ 2, -2, -2,  1, -1,  0,  0,  0, -1, -1])"
      ]
     },
     "execution_count": 81,
     "metadata": {},
     "output_type": "execute_result"
    }
   ],
   "source": [
    "valid_y[:10]"
   ]
  },
  {
   "cell_type": "code",
   "execution_count": null,
   "metadata": {
    "collapsed": true
   },
   "outputs": [],
   "source": []
  }
 ],
 "metadata": {
  "kernelspec": {
   "display_name": "Python 3",
   "language": "python",
   "name": "python3"
  },
  "language_info": {
   "codemirror_mode": {
    "name": "ipython",
    "version": 3
   },
   "file_extension": ".py",
   "mimetype": "text/x-python",
   "name": "python",
   "nbconvert_exporter": "python",
   "pygments_lexer": "ipython3",
   "version": "3.6.1"
  }
 },
 "nbformat": 4,
 "nbformat_minor": 2
}
