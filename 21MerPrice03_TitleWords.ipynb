{
 "cells": [
  {
   "cell_type": "code",
   "execution_count": 1,
   "metadata": {
    "collapsed": true
   },
   "outputs": [],
   "source": [
    "import numpy as np\n",
    "import tensorflow as tf\n",
    "import pandas as pd\n",
    "import matplotlib.pyplot as plt\n",
    "import seaborn\n",
    "import datetime, time\n",
    "import sklearn, sklearn.metrics, sklearn.preprocessing, sklearn.linear_model, sklearn.ensemble, sklearn.model_selection\n",
    "import nltk, nltk.stem\n",
    "\n",
    "import collections\n",
    "\n",
    "import modutils\n",
    "\n",
    "data_dir = '../DataSets/MercariPrice/'\n",
    "src_file = data_dir + 'train_text.csv' \n",
    "dst_file = data_dir + 'train_descr.csv'"
   ]
  },
  {
   "cell_type": "code",
   "execution_count": 2,
   "metadata": {},
   "outputs": [
    {
     "name": "stdout",
     "output_type": "stream",
     "text": [
      "Wall time: 10.6 s\n"
     ]
    }
   ],
   "source": [
    "%%time\n",
    "src = pd.read_csv(src_file)"
   ]
  },
  {
   "cell_type": "code",
   "execution_count": 3,
   "metadata": {},
   "outputs": [
    {
     "name": "stdout",
     "output_type": "stream",
     "text": [
      "Wall time: 1min 27s\n"
     ]
    }
   ],
   "source": [
    "%%time\n",
    "stemmer = nltk.stem.SnowballStemmer('english')\n",
    "src['name_proc'] = src.name.map(lambda x: [stemmer.stem(y.lower()) for y in x.split()])"
   ]
  },
  {
   "cell_type": "code",
   "execution_count": 4,
   "metadata": {},
   "outputs": [
    {
     "name": "stdout",
     "output_type": "stream",
     "text": [
      "Wall time: 1.13 s\n"
     ]
    }
   ],
   "source": [
    "%%time\n",
    "name_dict = collections.Counter([y for x in src.name_proc for y in x])"
   ]
  },
  {
   "cell_type": "code",
   "execution_count": 5,
   "metadata": {},
   "outputs": [],
   "source": [
    "topNwords = list(sorted(list(name_dict.items()), key=lambda x: x[1], reverse=True))[:1000]"
   ]
  },
  {
   "cell_type": "code",
   "execution_count": 6,
   "metadata": {},
   "outputs": [],
   "source": [
    "src_hit = src[['name', 'fcst_diff_simple']].copy()"
   ]
  },
  {
   "cell_type": "code",
   "execution_count": 7,
   "metadata": {},
   "outputs": [
    {
     "name": "stdout",
     "output_type": "stream",
     "text": [
      "Wall time: 6minf 1000\n"
     ]
    }
   ],
   "source": [
    "%%time\n",
    "i = 0\n",
    "sample = [x for (x,_) in topNwords[:1000]] \n",
    "for x in sample:\n",
    "    src_hit[x] = src.name_proc.map(lambda z: x in z)\n",
    "    i += 1\n",
    "    print('Done {0} out of {1}'.format(i, len(sample)), end='\\r')"
   ]
  },
  {
   "cell_type": "code",
   "execution_count": 8,
   "metadata": {},
   "outputs": [
    {
     "name": "stdout",
     "output_type": "stream",
     "text": [
      "Wall time: 16min 58s0\n"
     ]
    }
   ],
   "source": [
    "%%time\n",
    "topNpairs = []\n",
    "for (i,(x,xn)) in enumerate(topNwords):\n",
    "    tmp = src_hit[src_hit[x]]\n",
    "    for j in range(i, len(topNwords)):\n",
    "        y = topNwords[j][0]\n",
    "        res = tmp.fcst_diff_simple[tmp[y]].agg(['count','mean'])\n",
    "        if res[0] == 0:\n",
    "            res[1] = 0\n",
    "        topNpairs.append(((x,y), res[0], res[1]))\n",
    "    print('Done {0} out of {1}'.format(i+1, len(topNwords)), end='\\r')"
   ]
  },
  {
   "cell_type": "code",
   "execution_count": 9,
   "metadata": {},
   "outputs": [
    {
     "data": {
      "text/plain": [
       "[(('bundl', 'bundl'), 29178.0, 0.33101167723292341),\n",
       " (('lularo', 'lularo'), 25009.0, 0.23650043712832872),\n",
       " (('for', 'for'), 23357.0, 0.21425363778375922),\n",
       " (('bundl', 'for'), 7224.0, 0.47665894150339605),\n",
       " (('set', 'set'), 15027.0, 0.15841957756653116),\n",
       " (('&', '&'), 14659.0, 0.13665723823000916),\n",
       " (('nwt', 'nwt'), 14452.0, 0.12394013422537664),\n",
       " (('lot', 'lot'), 6826.0, 0.25254058778794886),\n",
       " (('size', 'size'), 28757.0, -0.058799418625461168),\n",
       " (('and', 'and'), 18268.0, 0.091980782779687187)]"
      ]
     },
     "execution_count": 9,
     "metadata": {},
     "output_type": "execute_result"
    }
   ],
   "source": [
    "sorted(topNpairs, key=lambda x:abs(x[2]*x[1]), reverse=True)[:10]"
   ]
  },
  {
   "cell_type": "code",
   "execution_count": 10,
   "metadata": {},
   "outputs": [],
   "source": [
    "features_1lev = [x[0] for x in topNwords]\n",
    "src_train = src[['name', 'price', 'fcst_log_simple', 'fcst_diff_simple']].copy()"
   ]
  },
  {
   "cell_type": "code",
   "execution_count": 11,
   "metadata": {},
   "outputs": [],
   "source": [
    "for f in features_1lev:\n",
    "    src_train['f_{0}'.format(f)] = src_hit[f]*1"
   ]
  },
  {
   "cell_type": "code",
   "execution_count": 12,
   "metadata": {},
   "outputs": [],
   "source": [
    "X = src_train[['f_{0}'.format(f) for f in features_1lev]].values\n",
    "Y = src_train.fcst_diff_simple.values\n",
    "(Xtrain,Ytrain),(Xtest,Ytest) = modutils.splitSample((X, Y), pcts = [0.3,0.7])"
   ]
  },
  {
   "cell_type": "code",
   "execution_count": 35,
   "metadata": {},
   "outputs": [
    {
     "data": {
      "text/plain": [
       "(59384, 1000)"
      ]
     },
     "execution_count": 35,
     "metadata": {},
     "output_type": "execute_result"
    }
   ],
   "source": [
    "Xtrain.shape"
   ]
  },
  {
   "cell_type": "code",
   "execution_count": 46,
   "metadata": {},
   "outputs": [
    {
     "name": "stdout",
     "output_type": "stream",
     "text": [
      "Wall time: 1min 9s\n"
     ]
    }
   ],
   "source": [
    "%%time\n",
    "mod0gb = sklearn.ensemble.GradientBoostingRegressor(min_samples_leaf=100, n_estimators=30, max_depth=2, subsample=0.5).fit(Xtrain, Ytrain)"
   ]
  },
  {
   "cell_type": "code",
   "execution_count": 95,
   "metadata": {},
   "outputs": [
    {
     "name": "stdout",
     "output_type": "stream",
     "text": [
      "Wall time: 49.5 s\n"
     ]
    }
   ],
   "source": [
    "%%time\n",
    "#mod0lr = sklearn.linear_model.LinearRegression().fit(Xtrain, Ytrain)\n",
    "#mod0lr = sklearn.linear_model.SGDRegressor(n_iter=100).fit(Xtrain, Ytrain) #15.5 vs 13.5\n",
    "#mod0lr = sklearn.linear_model.Lasso(alpha=1e-3).fit(Xtrain, Ytrain) #1e-4: 14.7 vs 13.1, 1e-5: 16.1 vs 13.6, 1e-3: 4.89\n",
    "#mod0lr = sklearn.linear_model.LassoLars(alpha=1e-5).fit(Xtrain, Ytrain) \n",
    "#mod0lr = sklearn.linear_model.Ridge(alpha=1e1).fit(Xtrain, Ytrain) #def: 16.1 vs 13.5\n",
    "mod0lr = sklearn.linear_model.Lasso(alpha=2e-5).fit(Xtrain, Ytrain)"
   ]
  },
  {
   "cell_type": "code",
   "execution_count": 55,
   "metadata": {},
   "outputs": [
    {
     "name": "stdout",
     "output_type": "stream",
     "text": [
      "Wall time: 1min 33s\n"
     ]
    }
   ],
   "source": [
    "%%time\n",
    "mod0rf2 = sklearn.ensemble.RandomForestRegressor(min_samples_leaf=100, n_estimators=100, max_depth=2, n_jobs=4).fit(Xtrain, Ytrain)"
   ]
  },
  {
   "cell_type": "code",
   "execution_count": 60,
   "metadata": {},
   "outputs": [
    {
     "name": "stdout",
     "output_type": "stream",
     "text": [
      "Rsqr=0.0331 (train), 0.0311 (test)\n"
     ]
    }
   ],
   "source": [
    "Ptrain = mod0gb.predict(Xtrain)\n",
    "Ptest = mod0gb.predict(Xtest)\n",
    "print('Rsqr={:.4f} (train), {:.4f} (test)'.format(sklearn.metrics.r2_score(Ytrain, Ptrain),\n",
    "                                                  sklearn.metrics.r2_score(Ytest, Ptest))) "
   ]
  },
  {
   "cell_type": "code",
   "execution_count": 96,
   "metadata": {},
   "outputs": [
    {
     "name": "stdout",
     "output_type": "stream",
     "text": [
      "Rsqr=0.1495 (train), 0.1446 (test)\n",
      "Wall time: 4.76 s\n"
     ]
    }
   ],
   "source": [
    "%%time\n",
    "Ptrain = mod0lr.predict(Xtrain)\n",
    "Ptest = mod0lr.predict(Xtest)\n",
    "print('Rsqr={:.4f} (train), {:.4f} (test)'.format(sklearn.metrics.r2_score(Ytrain, Ptrain),\n",
    "                                                  sklearn.metrics.r2_score(Ytest, Ptest))) "
   ]
  },
  {
   "cell_type": "code",
   "execution_count": 56,
   "metadata": {},
   "outputs": [
    {
     "name": "stdout",
     "output_type": "stream",
     "text": [
      "Rsqr=0.0254 (train), 0.0228 (test)\n",
      "Wall time: 6.03 s\n"
     ]
    }
   ],
   "source": [
    "%%time\n",
    "Ptrain = mod0rf2.predict(Xtrain)\n",
    "Ptest = mod0rf2.predict(Xtest)\n",
    "print('Rsqr={:.4f} (train), {:.4f} (test)'.format(sklearn.metrics.r2_score(Ytrain, Ptrain),\n",
    "                                                  sklearn.metrics.r2_score(Ytest, Ptest))) "
   ]
  },
  {
   "cell_type": "code",
   "execution_count": 97,
   "metadata": {},
   "outputs": [],
   "source": [
    "Ztrain = Ytrain - mod0lr.predict(Xtrain)"
   ]
  },
  {
   "cell_type": "code",
   "execution_count": 13,
   "metadata": {
    "collapsed": true
   },
   "outputs": [],
   "source": [
    "mod0 = sklearn.linear_model.Lasso(alpha=2e-5).fit(Xtrain, Ytrain)"
   ]
  },
  {
   "cell_type": "code",
   "execution_count": 14,
   "metadata": {},
   "outputs": [],
   "source": [
    "src_hit['fcst_diff_lev1'] = src_hit.fcst_diff_simple - mod0.predict(X)"
   ]
  },
  {
   "cell_type": "code",
   "execution_count": 15,
   "metadata": {},
   "outputs": [
    {
     "data": {
      "text/html": [
       "<div>\n",
       "<style>\n",
       "    .dataframe thead tr:only-child th {\n",
       "        text-align: right;\n",
       "    }\n",
       "\n",
       "    .dataframe thead th {\n",
       "        text-align: left;\n",
       "    }\n",
       "\n",
       "    .dataframe tbody tr th {\n",
       "        vertical-align: top;\n",
       "    }\n",
       "</style>\n",
       "<table border=\"1\" class=\"dataframe\">\n",
       "  <thead>\n",
       "    <tr style=\"text-align: right;\">\n",
       "      <th></th>\n",
       "      <th>fcst_diff_lev1</th>\n",
       "      <th>fcst_diff_simple</th>\n",
       "    </tr>\n",
       "  </thead>\n",
       "  <tbody>\n",
       "    <tr>\n",
       "      <th>count</th>\n",
       "      <td>593376.000000</td>\n",
       "      <td>593376.000000</td>\n",
       "    </tr>\n",
       "    <tr>\n",
       "      <th>mean</th>\n",
       "      <td>-0.000822</td>\n",
       "      <td>-0.000583</td>\n",
       "    </tr>\n",
       "    <tr>\n",
       "      <th>std</th>\n",
       "      <td>0.565424</td>\n",
       "      <td>0.611888</td>\n",
       "    </tr>\n",
       "    <tr>\n",
       "      <th>min</th>\n",
       "      <td>-4.970987</td>\n",
       "      <td>-4.826117</td>\n",
       "    </tr>\n",
       "    <tr>\n",
       "      <th>25%</th>\n",
       "      <td>-0.362045</td>\n",
       "      <td>-0.406212</td>\n",
       "    </tr>\n",
       "    <tr>\n",
       "      <th>50%</th>\n",
       "      <td>-0.038435</td>\n",
       "      <td>-0.055451</td>\n",
       "    </tr>\n",
       "    <tr>\n",
       "      <th>75%</th>\n",
       "      <td>0.311027</td>\n",
       "      <td>0.341269</td>\n",
       "    </tr>\n",
       "    <tr>\n",
       "      <th>max</th>\n",
       "      <td>4.698386</td>\n",
       "      <td>4.636777</td>\n",
       "    </tr>\n",
       "  </tbody>\n",
       "</table>\n",
       "</div>"
      ],
      "text/plain": [
       "       fcst_diff_lev1  fcst_diff_simple\n",
       "count   593376.000000     593376.000000\n",
       "mean        -0.000822         -0.000583\n",
       "std          0.565424          0.611888\n",
       "min         -4.970987         -4.826117\n",
       "25%         -0.362045         -0.406212\n",
       "50%         -0.038435         -0.055451\n",
       "75%          0.311027          0.341269\n",
       "max          4.698386          4.636777"
      ]
     },
     "execution_count": 15,
     "metadata": {},
     "output_type": "execute_result"
    }
   ],
   "source": [
    "src_hit[['fcst_diff_lev1', 'fcst_diff_simple']].describe()"
   ]
  },
  {
   "cell_type": "code",
   "execution_count": 16,
   "metadata": {},
   "outputs": [
    {
     "name": "stdout",
     "output_type": "stream",
     "text": [
      "Wall time: 24min 24s0\n"
     ]
    }
   ],
   "source": [
    "%%time\n",
    "lev1Npairs = []\n",
    "for (i,(x,xn)) in enumerate(topNwords):\n",
    "    tmp = src_hit[src_hit[x]]\n",
    "    for j in range(i, len(topNwords)):\n",
    "        y = topNwords[j][0]\n",
    "        res = tmp.fcst_diff_lev1[tmp[y]].agg(['count','mean'])\n",
    "        if res[0] == 0:\n",
    "            res[1] = 0\n",
    "        lev1Npairs.append(((x,y), res[0], res[1]))\n",
    "    print('Done {0} out of {1}'.format(i+1, len(topNwords)), end='\\r')"
   ]
  },
  {
   "cell_type": "code",
   "execution_count": 19,
   "metadata": {},
   "outputs": [],
   "source": [
    "lev0pairs = [(x[0],x[1],x[2],abs(np.power(x[1], 0.7)*x[2])) for x in topNpairs]\n",
    "lev1pairs = [(x[0],x[1],x[2],abs(np.power(x[1], 0.7)*x[2])) for x in lev1Npairs]"
   ]
  },
  {
   "cell_type": "code",
   "execution_count": 145,
   "metadata": {},
   "outputs": [
    {
     "data": {
      "text/plain": [
       "(('bundl', 'vs'), 891.0, 0.53264896274449647, 61.852246563620675)"
      ]
     },
     "execution_count": 145,
     "metadata": {},
     "output_type": "execute_result"
    }
   ],
   "source": [
    "sorted([x for x in lev0pairs if x[1]>500], key=lambda x:x[3], reverse=True)[49]"
   ]
  },
  {
   "cell_type": "code",
   "execution_count": 20,
   "metadata": {},
   "outputs": [],
   "source": [
    "lev2features = sorted([x for x in lev1pairs if x[1]>500], key=lambda x:x[3], reverse=True)[:50]"
   ]
  },
  {
   "cell_type": "code",
   "execution_count": 21,
   "metadata": {},
   "outputs": [
    {
     "data": {
      "text/plain": [
       "[(('watch', 'appl'), 678.0, 0.47929002940943927, 45.968378037234203),\n",
       " (('bundl', 'for'), 7224.0, 0.06577360402594315, 33.051871493181622),\n",
       " (('pink', 'set'), 846.0, 0.25625612512750218, 28.696802512531711),\n",
       " (('black', 'and'), 1762.0, -0.12396515141145711, 23.200842082371704),\n",
       " (('pink', 'vs'), 11599.0, 0.033133208942037834, 23.193051007763426),\n",
       " (('vs', 'set'), 801.0, 0.20930288505875916, 22.558902956786053),\n",
       " (('kor', 'purs'), 554.0, 0.26621253980546739, 22.165898700420396),\n",
       " (('michael', 'purs'), 518.0, 0.27479237563755737, 21.829083920397352),\n",
       " (('one', 'xbox'), 990.0, 0.17327711117950548, 21.661365735231904),\n",
       " (('lularo', 'free'), 605.0, 0.24117117885392669, 21.357684586278459),\n",
       " (('lularo', 'black'), 1287.0, 0.13502338606908995, 20.282149412417603),\n",
       " (('new', 'nike'), 1001.0, 0.15605808340745198, 19.660299213843508),\n",
       " (('bundl', 'makeup'), 505.0, -0.24918300059071535, 19.44564602343533),\n",
       " (('2', 'of'), 1324.0, -0.12158826413400491, 18.630016855888204),\n",
       " (('girl', 'american'), 1536.0, 0.10825559641486443, 18.404507825795591),\n",
       " (('6', '6s'), 570.0, -0.21638570572325294, 18.379807867101267),\n",
       " (('victoria', 'bag'), 628.0, -0.20188254163966651, 18.351455474968983),\n",
       " (('xbox', '360'), 856.0, -0.16129229615169549, 18.211480780391103),\n",
       " (('secret', 'bag'), 627.0, -0.19759189580965647, 17.941403217514296),\n",
       " (('lularo', 'ship'), 511.0, 0.22506282697700639, 17.709177860692929),\n",
       " (('case', '6s'), 764.0, -0.16652844768903632, 17.364160232508436),\n",
       " (('gold', 'ring'), 570.0, 0.20166663636855062, 17.129569706416259),\n",
       " (('and', 'white'), 1301.0, -0.1128167997350831, 17.075281950120772),\n",
       " (('bundl', 'vs'), 891.0, 0.14201610433553533, 16.491189724854429),\n",
       " (('set', 'of'), 1718.0, -0.088724264926531557, 16.313931017488898),\n",
       " (('for', 'iphon'), 979.0, -0.12775167977106799, 15.845812164791282),\n",
       " (('case', 'plus'), 2113.0, -0.072144110771476713, 15.333119935107483),\n",
       " (('pant', 'yoga'), 750.0, -0.14876663946014437, 15.312582341211222),\n",
       " (('set', '2'), 875.0, -0.13280749332726219, 15.227486277702695),\n",
       " (('pink', 'secret'), 6213.0, 0.033429213334309718, 15.116007694070781),\n",
       " (('pink', 'victoria'), 6219.0, 0.032517184148809344, 14.713544945998498),\n",
       " (('case', '6'), 1651.0, -0.081061605162369002, 14.49566522768308),\n",
       " (('jordan', 'air'), 1277.0, -0.09647818972214596, 14.413278356600745),\n",
       " (('bundl', 'bundl'), 29178.0, 0.010553888391582798, 14.091309737496575),\n",
       " (('pink', 'bundl'), 994.0, 0.11081657071713583, 13.892332705372437),\n",
       " (('appl', 'appl'), 2509.0, 0.056614125310744882, 13.569856803261789),\n",
       " (('pink', 'nwt'), 1857.0, 0.069535570906324229, 13.501292845688894),\n",
       " (('blue', 'blue'), 7372.0, -0.026181449226615569, 13.344533954210247),\n",
       " (('charm', 'charm'), 1790.0, -0.069507411707426608, 13.153103525995565),\n",
       " (('set', 'piec'), 709.0, -0.13287592551309715, 13.14917989815439),\n",
       " (('girl', 'doll'), 583.0, 0.15071778584062584, 13.005662917312241),\n",
       " (('and', 'gold'), 505.0, -0.16565879591547739, 12.927616644812632),\n",
       " (('dunn', 'mug'), 1535.0, -0.075100709850599037, 12.762034309201777),\n",
       " (('vs', 'hoodi'), 740.0, 0.12508682571347576, 12.754803595507571),\n",
       " (('rae', 'mug'), 1540.0, -0.074835838280131212, 12.746006405397955),\n",
       " (('american', 'doll'), 553.0, 0.15269976816971648, 12.698311299745136),\n",
       " (('wallet', 'wallet'), 4293.0, 0.036263860388634744, 12.65921150695069),\n",
       " (('long', 'sleev'), 3312.0, 0.043351535884362656, 12.620243028402813),\n",
       " (('vs', 'nwt'), 1709.0, 0.068853577054373449, 12.613800310536005),\n",
       " (('ipad', 'ipad'), 871.0, 0.10834202202500312, 12.382537309613348)]"
      ]
     },
     "execution_count": 21,
     "metadata": {},
     "output_type": "execute_result"
    }
   ],
   "source": [
    "lev2features"
   ]
  },
  {
   "cell_type": "code",
   "execution_count": 22,
   "metadata": {
    "collapsed": true
   },
   "outputs": [],
   "source": [
    "features_2lev = [f[0] for f in lev2features]\n",
    "src_train['fcst_diff_lev1'] = src_hit.fcst_diff_lev1\n",
    "for f1, f2 in features_2lev:\n",
    "    src_train['f2_{0}_{1}'.format(f1, f2)] = (src_hit[f1]*1)*(src_hit[f2]*1)"
   ]
  },
  {
   "cell_type": "code",
   "execution_count": 23,
   "metadata": {},
   "outputs": [],
   "source": [
    "X2 = src_train[['f2_{0}_{1}'.format(f1,f2) for f1,f2 in features_2lev]].values\n",
    "Y2 = src_train.fcst_diff_lev1.values\n",
    "(Xtrain,Ytrain),(Xtest,Ytest) = modutils.splitSample((X2, Y2), pcts = [0.7,0.3])"
   ]
  },
  {
   "cell_type": "code",
   "execution_count": 24,
   "metadata": {},
   "outputs": [
    {
     "data": {
      "text/plain": [
       "((593376, 50), (593376, 1000))"
      ]
     },
     "execution_count": 24,
     "metadata": {},
     "output_type": "execute_result"
    }
   ],
   "source": [
    "X2.shape, X.shape"
   ]
  },
  {
   "cell_type": "code",
   "execution_count": 25,
   "metadata": {},
   "outputs": [
    {
     "name": "stdout",
     "output_type": "stream",
     "text": [
      "Wall time: 5.65 s\n"
     ]
    }
   ],
   "source": [
    "%%time\n",
    "#mod1 = sklearn.linear_model.LinearRegression().fit(Xtrain, Ytrain)\n",
    "#mod1 = sklearn.linear_model.SGDRegressor(n_iter=100).fit(Xtrain, Ytrain) #15.5 vs 13.5\n",
    "#mod1 = sklearn.linear_model.Lasso(alpha=1e-4).fit(Xtrain, Ytrain) #1e-4: 14.7 vs 13.1, 1e-5: 16.1 vs 13.6, 1e-3: 4.89\n",
    "#mod1 = sklearn.linear_model.LassoLars(alpha=1e-5).fit(Xtrain, Ytrain) \n",
    "#mod1 = sklearn.linear_model.Ridge(alpha=1e1).fit(Xtrain, Ytrain) #def: 16.1 vs 13.5\n",
    "mod1 = sklearn.linear_model.Lasso(alpha=1e-4).fit(Xtrain, Ytrain)"
   ]
  },
  {
   "cell_type": "code",
   "execution_count": 175,
   "metadata": {},
   "outputs": [
    {
     "name": "stdout",
     "output_type": "stream",
     "text": [
      "Wall time: 37 s\n"
     ]
    }
   ],
   "source": [
    "%%time\n",
    "mod1 = sklearn.ensemble.GradientBoostingRegressor(min_samples_leaf=100, n_estimators=100, max_depth=2).fit(Xtrain, Ytrain)"
   ]
  },
  {
   "cell_type": "code",
   "execution_count": 181,
   "metadata": {},
   "outputs": [
    {
     "name": "stdout",
     "output_type": "stream",
     "text": [
      "Wall time: 3.86 s\n"
     ]
    }
   ],
   "source": [
    "%%time\n",
    "mod1 = sklearn.ensemble.RandomForestRegressor(min_samples_leaf=100, n_estimators=10, max_depth=3).fit(Xtrain, Ytrain)"
   ]
  },
  {
   "cell_type": "code",
   "execution_count": 26,
   "metadata": {},
   "outputs": [
    {
     "name": "stdout",
     "output_type": "stream",
     "text": [
      "Rsqr=0.0036 (train), 0.0033 (test)\n",
      "Wall time: 211 ms\n"
     ]
    }
   ],
   "source": [
    "%%time\n",
    "Ptrain = mod1.predict(Xtrain)\n",
    "Ptest = mod1.predict(Xtest)\n",
    "print('Rsqr={:.4f} (train), {:.4f} (test)'.format(sklearn.metrics.r2_score(Ytrain, Ptrain),\n",
    "                                                  sklearn.metrics.r2_score(Ytest, Ptest))) "
   ]
  },
  {
   "cell_type": "code",
   "execution_count": 27,
   "metadata": {
    "collapsed": true
   },
   "outputs": [],
   "source": [
    "src_hit['fcst_diff_lev2'] = src_hit.fcst_diff_lev1 - mod1.predict(X2)"
   ]
  },
  {
   "cell_type": "code",
   "execution_count": 28,
   "metadata": {},
   "outputs": [
    {
     "data": {
      "text/html": [
       "<div>\n",
       "<style>\n",
       "    .dataframe thead tr:only-child th {\n",
       "        text-align: right;\n",
       "    }\n",
       "\n",
       "    .dataframe thead th {\n",
       "        text-align: left;\n",
       "    }\n",
       "\n",
       "    .dataframe tbody tr th {\n",
       "        vertical-align: top;\n",
       "    }\n",
       "</style>\n",
       "<table border=\"1\" class=\"dataframe\">\n",
       "  <thead>\n",
       "    <tr style=\"text-align: right;\">\n",
       "      <th></th>\n",
       "      <th>fcst_diff_simple</th>\n",
       "      <th>fcst_diff_lev1</th>\n",
       "      <th>fcst_diff_lev2</th>\n",
       "    </tr>\n",
       "  </thead>\n",
       "  <tbody>\n",
       "    <tr>\n",
       "      <th>count</th>\n",
       "      <td>593376.000000</td>\n",
       "      <td>593376.000000</td>\n",
       "      <td>593376.000000</td>\n",
       "    </tr>\n",
       "    <tr>\n",
       "      <th>mean</th>\n",
       "      <td>-0.000583</td>\n",
       "      <td>-0.000822</td>\n",
       "      <td>0.000513</td>\n",
       "    </tr>\n",
       "    <tr>\n",
       "      <th>std</th>\n",
       "      <td>0.611888</td>\n",
       "      <td>0.565424</td>\n",
       "      <td>0.564432</td>\n",
       "    </tr>\n",
       "    <tr>\n",
       "      <th>min</th>\n",
       "      <td>-4.826117</td>\n",
       "      <td>-4.970987</td>\n",
       "      <td>-4.967552</td>\n",
       "    </tr>\n",
       "    <tr>\n",
       "      <th>25%</th>\n",
       "      <td>-0.406212</td>\n",
       "      <td>-0.362045</td>\n",
       "      <td>-0.359768</td>\n",
       "    </tr>\n",
       "    <tr>\n",
       "      <th>50%</th>\n",
       "      <td>-0.055451</td>\n",
       "      <td>-0.038435</td>\n",
       "      <td>-0.036708</td>\n",
       "    </tr>\n",
       "    <tr>\n",
       "      <th>75%</th>\n",
       "      <td>0.341269</td>\n",
       "      <td>0.311027</td>\n",
       "      <td>0.311668</td>\n",
       "    </tr>\n",
       "    <tr>\n",
       "      <th>max</th>\n",
       "      <td>4.636777</td>\n",
       "      <td>4.698386</td>\n",
       "      <td>4.701821</td>\n",
       "    </tr>\n",
       "  </tbody>\n",
       "</table>\n",
       "</div>"
      ],
      "text/plain": [
       "       fcst_diff_simple  fcst_diff_lev1  fcst_diff_lev2\n",
       "count     593376.000000   593376.000000   593376.000000\n",
       "mean          -0.000583       -0.000822        0.000513\n",
       "std            0.611888        0.565424        0.564432\n",
       "min           -4.826117       -4.970987       -4.967552\n",
       "25%           -0.406212       -0.362045       -0.359768\n",
       "50%           -0.055451       -0.038435       -0.036708\n",
       "75%            0.341269        0.311027        0.311668\n",
       "max            4.636777        4.698386        4.701821"
      ]
     },
     "execution_count": 28,
     "metadata": {},
     "output_type": "execute_result"
    }
   ],
   "source": [
    "src_hit[['fcst_diff_simple', 'fcst_diff_lev1', 'fcst_diff_lev2']].describe()"
   ]
  },
  {
   "cell_type": "code",
   "execution_count": 30,
   "metadata": {},
   "outputs": [],
   "source": [
    "src['fcst_log_simple_title'] = src.fcst_log_simple + mod0.predict(X) + mod1.predict(X2)"
   ]
  },
  {
   "cell_type": "code",
   "execution_count": 31,
   "metadata": {},
   "outputs": [],
   "source": [
    "src['fcst_diff_simple_title'] = np.log(1+src.price) - src.fcst_log_simple_title"
   ]
  },
  {
   "cell_type": "code",
   "execution_count": 32,
   "metadata": {},
   "outputs": [
    {
     "data": {
      "text/html": [
       "<div>\n",
       "<style>\n",
       "    .dataframe thead tr:only-child th {\n",
       "        text-align: right;\n",
       "    }\n",
       "\n",
       "    .dataframe thead th {\n",
       "        text-align: left;\n",
       "    }\n",
       "\n",
       "    .dataframe tbody tr th {\n",
       "        vertical-align: top;\n",
       "    }\n",
       "</style>\n",
       "<table border=\"1\" class=\"dataframe\">\n",
       "  <thead>\n",
       "    <tr style=\"text-align: right;\">\n",
       "      <th></th>\n",
       "      <th>fcst_diff_simple</th>\n",
       "      <th>fcst_diff_simple_title</th>\n",
       "    </tr>\n",
       "  </thead>\n",
       "  <tbody>\n",
       "    <tr>\n",
       "      <th>count</th>\n",
       "      <td>593376.000000</td>\n",
       "      <td>593376.000000</td>\n",
       "    </tr>\n",
       "    <tr>\n",
       "      <th>mean</th>\n",
       "      <td>-0.000583</td>\n",
       "      <td>0.000513</td>\n",
       "    </tr>\n",
       "    <tr>\n",
       "      <th>std</th>\n",
       "      <td>0.611888</td>\n",
       "      <td>0.564432</td>\n",
       "    </tr>\n",
       "    <tr>\n",
       "      <th>min</th>\n",
       "      <td>-4.826117</td>\n",
       "      <td>-4.967552</td>\n",
       "    </tr>\n",
       "    <tr>\n",
       "      <th>25%</th>\n",
       "      <td>-0.406212</td>\n",
       "      <td>-0.359768</td>\n",
       "    </tr>\n",
       "    <tr>\n",
       "      <th>50%</th>\n",
       "      <td>-0.055451</td>\n",
       "      <td>-0.036708</td>\n",
       "    </tr>\n",
       "    <tr>\n",
       "      <th>75%</th>\n",
       "      <td>0.341269</td>\n",
       "      <td>0.311668</td>\n",
       "    </tr>\n",
       "    <tr>\n",
       "      <th>max</th>\n",
       "      <td>4.636777</td>\n",
       "      <td>4.701821</td>\n",
       "    </tr>\n",
       "  </tbody>\n",
       "</table>\n",
       "</div>"
      ],
      "text/plain": [
       "       fcst_diff_simple  fcst_diff_simple_title\n",
       "count     593376.000000           593376.000000\n",
       "mean          -0.000583                0.000513\n",
       "std            0.611888                0.564432\n",
       "min           -4.826117               -4.967552\n",
       "25%           -0.406212               -0.359768\n",
       "50%           -0.055451               -0.036708\n",
       "75%            0.341269                0.311668\n",
       "max            4.636777                4.701821"
      ]
     },
     "execution_count": 32,
     "metadata": {},
     "output_type": "execute_result"
    }
   ],
   "source": [
    "src[['fcst_diff_simple', 'fcst_diff_simple_title']].describe()"
   ]
  },
  {
   "cell_type": "code",
   "execution_count": 206,
   "metadata": {},
   "outputs": [
    {
     "data": {
      "text/plain": [
       "0.33107475204617176"
      ]
     },
     "execution_count": 206,
     "metadata": {},
     "output_type": "execute_result"
    }
   ],
   "source": [
    "sklearn.metrics.r2_score(np.log(1+src.price), src.fcst_log_simple)"
   ]
  },
  {
   "cell_type": "code",
   "execution_count": 207,
   "metadata": {},
   "outputs": [
    {
     "data": {
      "text/plain": [
       "0.43084089710748941"
      ]
     },
     "execution_count": 207,
     "metadata": {},
     "output_type": "execute_result"
    }
   ],
   "source": [
    "sklearn.metrics.r2_score(np.log(1+src.price), src.fcst_log_simple_title)"
   ]
  },
  {
   "cell_type": "code",
   "execution_count": 33,
   "metadata": {},
   "outputs": [],
   "source": [
    "src_res = src[[x for x in list(src.columns) if x != 'name_proc']].copy()"
   ]
  },
  {
   "cell_type": "code",
   "execution_count": 34,
   "metadata": {},
   "outputs": [],
   "source": [
    "src_res.to_csv(dst_file, index=False, encoding='utf-8')"
   ]
  },
  {
   "cell_type": "code",
   "execution_count": null,
   "metadata": {
    "collapsed": true
   },
   "outputs": [],
   "source": []
  }
 ],
 "metadata": {
  "kernelspec": {
   "display_name": "Python 3",
   "language": "python",
   "name": "python3"
  },
  "language_info": {
   "codemirror_mode": {
    "name": "ipython",
    "version": 3
   },
   "file_extension": ".py",
   "mimetype": "text/x-python",
   "name": "python",
   "nbconvert_exporter": "python",
   "pygments_lexer": "ipython3",
   "version": "3.6.1"
  }
 },
 "nbformat": 4,
 "nbformat_minor": 2
}
