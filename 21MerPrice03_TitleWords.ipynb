{
 "cells": [
  {
   "cell_type": "code",
   "execution_count": 1,
   "metadata": {
    "collapsed": true
   },
   "outputs": [],
   "source": [
    "import numpy as np\n",
    "import pandas as pd\n",
    "import matplotlib.pyplot as plt\n",
    "import seaborn\n",
    "import datetime, time\n",
    "import sklearn, sklearn.metrics, sklearn.preprocessing, sklearn.linear_model, sklearn.ensemble, sklearn.model_selection\n",
    "import nltk, nltk.stem\n",
    "\n",
    "import collections\n",
    "\n",
    "import modutils\n",
    "\n",
    "data_dir = '../DataSets/MercariPrice/'\n",
    "src_file = data_dir + 'train_simple.csv' \n",
    "dst_file = data_dir + 'train_title.csv'"
   ]
  },
  {
   "cell_type": "code",
   "execution_count": 2,
   "metadata": {},
   "outputs": [
    {
     "name": "stdout",
     "output_type": "stream",
     "text": [
      "Wall time: 4.76 s\n"
     ]
    }
   ],
   "source": [
    "%%time\n",
    "src = pd.read_csv(src_file)"
   ]
  },
  {
   "cell_type": "code",
   "execution_count": 3,
   "metadata": {},
   "outputs": [
    {
     "name": "stdout",
     "output_type": "stream",
     "text": [
      "Wall time: 41.8 s\n"
     ]
    }
   ],
   "source": [
    "%%time\n",
    "stemmer = nltk.stem.SnowballStemmer('english')\n",
    "src['name_proc'] = src.name.map(lambda x: [stemmer.stem(y.lower()) for y in x.split()])"
   ]
  },
  {
   "cell_type": "code",
   "execution_count": 4,
   "metadata": {},
   "outputs": [
    {
     "name": "stdout",
     "output_type": "stream",
     "text": [
      "Wall time: 491 ms\n"
     ]
    }
   ],
   "source": [
    "%%time\n",
    "name_dict = collections.Counter([y for x in src.name_proc for y in x])"
   ]
  },
  {
   "cell_type": "code",
   "execution_count": 5,
   "metadata": {
    "collapsed": true
   },
   "outputs": [],
   "source": [
    "topNwords = list(sorted(list(name_dict.items()), key=lambda x: x[1], reverse=True))[:1000]"
   ]
  },
  {
   "cell_type": "code",
   "execution_count": 6,
   "metadata": {
    "collapsed": true
   },
   "outputs": [],
   "source": [
    "src_hit = src[['name', 'fcst_diff_simple']].copy()"
   ]
  },
  {
   "cell_type": "code",
   "execution_count": 7,
   "metadata": {},
   "outputs": [
    {
     "name": "stdout",
     "output_type": "stream",
     "text": [
      "Wall time: 3min 4s000\n"
     ]
    }
   ],
   "source": [
    "%%time\n",
    "i = 0\n",
    "sample = [x for (x,_) in topNwords[:1000]] \n",
    "for x in sample:\n",
    "    src_hit[x] = src.name_proc.map(lambda z: x in z)\n",
    "    i += 1\n",
    "    print('Done {0} out of {1}'.format(i, len(sample)), end='\\r')"
   ]
  },
  {
   "cell_type": "code",
   "execution_count": 8,
   "metadata": {},
   "outputs": [
    {
     "name": "stdout",
     "output_type": "stream",
     "text": [
      "Wall time: 8min 3s000\n"
     ]
    }
   ],
   "source": [
    "%%time\n",
    "topNpairs = []\n",
    "for (i,(x,xn)) in enumerate(topNwords):\n",
    "    tmp = src_hit[src_hit[x]]\n",
    "    for j in range(i, len(topNwords)):\n",
    "        y = topNwords[j][0]\n",
    "        res = tmp.fcst_diff_simple[tmp[y]].agg(['count','mean'])\n",
    "        if res[0] == 0:\n",
    "            res[1] = 0\n",
    "        topNpairs.append(((x,y), res[0], res[1]))\n",
    "    print('Done {0} out of {1}'.format(i+1, len(topNwords)), end='\\r')"
   ]
  },
  {
   "cell_type": "code",
   "execution_count": 9,
   "metadata": {},
   "outputs": [
    {
     "data": {
      "text/plain": [
       "[(('bundl', 'bundl'), 29178.0, 0.33122653016724407),\n",
       " (('lularo', 'lularo'), 25009.0, 0.23260376490633902),\n",
       " (('for', 'for'), 23357.0, 0.21415967172981221),\n",
       " (('bundl', 'for'), 7224.0, 0.47591511329661451),\n",
       " (('set', 'set'), 15027.0, 0.15762321809369126),\n",
       " (('&', '&'), 14659.0, 0.13737297290212691),\n",
       " (('nwt', 'nwt'), 14452.0, 0.12270215503351693),\n",
       " (('lot', 'lot'), 6826.0, 0.25288536652625437),\n",
       " (('and', 'and'), 18268.0, 0.092291414273561148),\n",
       " (('size', 'size'), 28757.0, -0.058239882698287788)]"
      ]
     },
     "execution_count": 9,
     "metadata": {},
     "output_type": "execute_result"
    }
   ],
   "source": [
    "sorted(topNpairs, key=lambda x:abs(x[2]*x[1]), reverse=True)[:10]"
   ]
  },
  {
   "cell_type": "code",
   "execution_count": 12,
   "metadata": {},
   "outputs": [],
   "source": [
    "features_1lev = [x[0] for x in topNwords]\n",
    "src_train = src[['name', 'price', 'fcst_simple', 'fcst_diff_simple']].copy()"
   ]
  },
  {
   "cell_type": "code",
   "execution_count": 13,
   "metadata": {
    "collapsed": true
   },
   "outputs": [],
   "source": [
    "for f in features_1lev:\n",
    "    src_train['f_{0}'.format(f)] = src_hit[f]*1"
   ]
  },
  {
   "cell_type": "code",
   "execution_count": 14,
   "metadata": {
    "collapsed": true
   },
   "outputs": [],
   "source": [
    "X = src_train[['f_{0}'.format(f) for f in features_1lev]].values\n",
    "Y = src_train.fcst_diff_simple.values\n",
    "(Xtrain,Ytrain),(Xtest,Ytest) = modutils.splitSample((X, Y), pcts = [0.3,0.7])"
   ]
  },
  {
   "cell_type": "code",
   "execution_count": 15,
   "metadata": {},
   "outputs": [
    {
     "data": {
      "text/plain": [
       "(178024, 1000)"
      ]
     },
     "execution_count": 15,
     "metadata": {},
     "output_type": "execute_result"
    }
   ],
   "source": [
    "Xtrain.shape"
   ]
  },
  {
   "cell_type": "code",
   "execution_count": 16,
   "metadata": {},
   "outputs": [
    {
     "name": "stdout",
     "output_type": "stream",
     "text": [
      "Wall time: 2min 15s\n"
     ]
    }
   ],
   "source": [
    "%%time\n",
    "mod0gb = sklearn.ensemble.GradientBoostingRegressor(min_samples_leaf=100, n_estimators=30, max_depth=2, subsample=0.5).fit(Xtrain, Ytrain)"
   ]
  },
  {
   "cell_type": "code",
   "execution_count": 17,
   "metadata": {},
   "outputs": [
    {
     "name": "stdout",
     "output_type": "stream",
     "text": [
      "Wall time: 27.8 s\n"
     ]
    }
   ],
   "source": [
    "%%time\n",
    "#mod0lr = sklearn.linear_model.LinearRegression().fit(Xtrain, Ytrain)\n",
    "#mod0lr = sklearn.linear_model.SGDRegressor(n_iter=100).fit(Xtrain, Ytrain) #15.5 vs 13.5\n",
    "#mod0lr = sklearn.linear_model.Lasso(alpha=1e-3).fit(Xtrain, Ytrain) #1e-4: 14.7 vs 13.1, 1e-5: 16.1 vs 13.6, 1e-3: 4.89\n",
    "#mod0lr = sklearn.linear_model.LassoLars(alpha=1e-5).fit(Xtrain, Ytrain) \n",
    "#mod0lr = sklearn.linear_model.Ridge(alpha=1e1).fit(Xtrain, Ytrain) #def: 16.1 vs 13.5\n",
    "mod0lr = sklearn.linear_model.Lasso(alpha=2e-5).fit(Xtrain, Ytrain)"
   ]
  },
  {
   "cell_type": "code",
   "execution_count": 18,
   "metadata": {},
   "outputs": [
    {
     "name": "stdout",
     "output_type": "stream",
     "text": [
      "Wall time: 2min 14s\n"
     ]
    }
   ],
   "source": [
    "%%time\n",
    "mod0rf2 = sklearn.ensemble.RandomForestRegressor(min_samples_leaf=100, n_estimators=100, max_depth=2, n_jobs=4).fit(Xtrain, Ytrain)"
   ]
  },
  {
   "cell_type": "code",
   "execution_count": 19,
   "metadata": {},
   "outputs": [
    {
     "name": "stdout",
     "output_type": "stream",
     "text": [
      "Rsqr=0.0378 (train), 0.0379 (test)\n"
     ]
    }
   ],
   "source": [
    "Ptrain = mod0gb.predict(Xtrain)\n",
    "Ptest = mod0gb.predict(Xtest)\n",
    "print('Rsqr={:.4f} (train), {:.4f} (test)'.format(sklearn.metrics.r2_score(Ytrain, Ptrain),\n",
    "                                                  sklearn.metrics.r2_score(Ytest, Ptest))) "
   ]
  },
  {
   "cell_type": "code",
   "execution_count": 20,
   "metadata": {},
   "outputs": [
    {
     "name": "stdout",
     "output_type": "stream",
     "text": [
      "Rsqr=0.1523 (train), 0.1436 (test)\n",
      "Wall time: 2 s\n"
     ]
    }
   ],
   "source": [
    "%%time\n",
    "Ptrain = mod0lr.predict(Xtrain)\n",
    "Ptest = mod0lr.predict(Xtest)\n",
    "print('Rsqr={:.4f} (train), {:.4f} (test)'.format(sklearn.metrics.r2_score(Ytrain, Ptrain),\n",
    "                                                  sklearn.metrics.r2_score(Ytest, Ptest))) "
   ]
  },
  {
   "cell_type": "code",
   "execution_count": 21,
   "metadata": {},
   "outputs": [
    {
     "name": "stdout",
     "output_type": "stream",
     "text": [
      "Rsqr=0.0222 (train), 0.0232 (test)\n",
      "Wall time: 2.73 s\n"
     ]
    }
   ],
   "source": [
    "%%time\n",
    "Ptrain = mod0rf2.predict(Xtrain)\n",
    "Ptest = mod0rf2.predict(Xtest)\n",
    "print('Rsqr={:.4f} (train), {:.4f} (test)'.format(sklearn.metrics.r2_score(Ytrain, Ptrain),\n",
    "                                                  sklearn.metrics.r2_score(Ytest, Ptest))) "
   ]
  },
  {
   "cell_type": "code",
   "execution_count": 22,
   "metadata": {
    "collapsed": true
   },
   "outputs": [],
   "source": [
    "Ztrain = Ytrain - mod0lr.predict(Xtrain)"
   ]
  },
  {
   "cell_type": "code",
   "execution_count": 23,
   "metadata": {
    "collapsed": true
   },
   "outputs": [],
   "source": [
    "mod0 = sklearn.linear_model.Lasso(alpha=2e-5).fit(Xtrain, Ytrain)"
   ]
  },
  {
   "cell_type": "code",
   "execution_count": 24,
   "metadata": {
    "collapsed": true
   },
   "outputs": [],
   "source": [
    "src_hit['fcst_diff_lev1'] = src_hit.fcst_diff_simple - mod0.predict(X)"
   ]
  },
  {
   "cell_type": "code",
   "execution_count": 25,
   "metadata": {},
   "outputs": [
    {
     "data": {
      "text/html": [
       "<div>\n",
       "<style>\n",
       "    .dataframe thead tr:only-child th {\n",
       "        text-align: right;\n",
       "    }\n",
       "\n",
       "    .dataframe thead th {\n",
       "        text-align: left;\n",
       "    }\n",
       "\n",
       "    .dataframe tbody tr th {\n",
       "        vertical-align: top;\n",
       "    }\n",
       "</style>\n",
       "<table border=\"1\" class=\"dataframe\">\n",
       "  <thead>\n",
       "    <tr style=\"text-align: right;\">\n",
       "      <th></th>\n",
       "      <th>fcst_diff_lev1</th>\n",
       "      <th>fcst_diff_simple</th>\n",
       "    </tr>\n",
       "  </thead>\n",
       "  <tbody>\n",
       "    <tr>\n",
       "      <th>count</th>\n",
       "      <td>593376.000000</td>\n",
       "      <td>593376.000000</td>\n",
       "    </tr>\n",
       "    <tr>\n",
       "      <th>mean</th>\n",
       "      <td>0.001877</td>\n",
       "      <td>-0.000393</td>\n",
       "    </tr>\n",
       "    <tr>\n",
       "      <th>std</th>\n",
       "      <td>0.565513</td>\n",
       "      <td>0.612034</td>\n",
       "    </tr>\n",
       "    <tr>\n",
       "      <th>min</th>\n",
       "      <td>-4.877501</td>\n",
       "      <td>-4.782042</td>\n",
       "    </tr>\n",
       "    <tr>\n",
       "      <th>25%</th>\n",
       "      <td>-0.359090</td>\n",
       "      <td>-0.405822</td>\n",
       "    </tr>\n",
       "    <tr>\n",
       "      <th>50%</th>\n",
       "      <td>-0.035914</td>\n",
       "      <td>-0.055312</td>\n",
       "    </tr>\n",
       "    <tr>\n",
       "      <th>75%</th>\n",
       "      <td>0.313937</td>\n",
       "      <td>0.340884</td>\n",
       "    </tr>\n",
       "    <tr>\n",
       "      <th>max</th>\n",
       "      <td>4.680613</td>\n",
       "      <td>4.625071</td>\n",
       "    </tr>\n",
       "  </tbody>\n",
       "</table>\n",
       "</div>"
      ],
      "text/plain": [
       "       fcst_diff_lev1  fcst_diff_simple\n",
       "count   593376.000000     593376.000000\n",
       "mean         0.001877         -0.000393\n",
       "std          0.565513          0.612034\n",
       "min         -4.877501         -4.782042\n",
       "25%         -0.359090         -0.405822\n",
       "50%         -0.035914         -0.055312\n",
       "75%          0.313937          0.340884\n",
       "max          4.680613          4.625071"
      ]
     },
     "execution_count": 25,
     "metadata": {},
     "output_type": "execute_result"
    }
   ],
   "source": [
    "src_hit[['fcst_diff_lev1', 'fcst_diff_simple']].describe()"
   ]
  },
  {
   "cell_type": "code",
   "execution_count": 26,
   "metadata": {},
   "outputs": [
    {
     "name": "stdout",
     "output_type": "stream",
     "text": [
      "Wall time: 8min 7s000\n"
     ]
    }
   ],
   "source": [
    "%%time\n",
    "lev1Npairs = []\n",
    "for (i,(x,xn)) in enumerate(topNwords):\n",
    "    tmp = src_hit[src_hit[x]]\n",
    "    for j in range(i, len(topNwords)):\n",
    "        y = topNwords[j][0]\n",
    "        res = tmp.fcst_diff_lev1[tmp[y]].agg(['count','mean'])\n",
    "        if res[0] == 0:\n",
    "            res[1] = 0\n",
    "        lev1Npairs.append(((x,y), res[0], res[1]))\n",
    "    print('Done {0} out of {1}'.format(i+1, len(topNwords)), end='\\r')"
   ]
  },
  {
   "cell_type": "code",
   "execution_count": 27,
   "metadata": {
    "collapsed": true
   },
   "outputs": [],
   "source": [
    "lev0pairs = [(x[0],x[1],x[2],abs(np.power(x[1], 0.7)*x[2])) for x in topNpairs]\n",
    "lev1pairs = [(x[0],x[1],x[2],abs(np.power(x[1], 0.7)*x[2])) for x in lev1Npairs]"
   ]
  },
  {
   "cell_type": "code",
   "execution_count": 145,
   "metadata": {},
   "outputs": [
    {
     "data": {
      "text/plain": [
       "(('bundl', 'vs'), 891.0, 0.53264896274449647, 61.852246563620675)"
      ]
     },
     "execution_count": 145,
     "metadata": {},
     "output_type": "execute_result"
    }
   ],
   "source": [
    "sorted([x for x in lev0pairs if x[1]>500], key=lambda x:x[3], reverse=True)[49]"
   ]
  },
  {
   "cell_type": "code",
   "execution_count": 30,
   "metadata": {
    "collapsed": true
   },
   "outputs": [],
   "source": [
    "lev2features = sorted([x for x in lev1pairs if x[1]>500], key=lambda x:x[3], reverse=True)[:200]"
   ]
  },
  {
   "cell_type": "code",
   "execution_count": 31,
   "metadata": {},
   "outputs": [
    {
     "data": {
      "text/plain": [
       "[(('watch', 'appl'), 678.0, 0.33636448859067331, 32.260487431563718),\n",
       " (('bundl', 'for'), 7224.0, 0.061343830060119349, 30.825867277197045),\n",
       " (('pink', 'set'), 846.0, 0.2538331126469659, 28.425461834900094),\n",
       " (('lularo', 'free'), 605.0, 0.25344401707211384, 22.444545001723153),\n",
       " (('vs', 'set'), 801.0, 0.2074577964798624, 22.360037211642016),\n",
       " (('kor', 'purs'), 554.0, 0.26726073150912733, 22.253175246968222),\n",
       " (('michael', 'purs'), 518.0, 0.27943088083607065, 22.19755964323581),\n",
       " (('black', 'and'), 1762.0, -0.11852321733252197, 22.182350580925579),\n",
       " (('new', 'nike'), 1001.0, 0.17026864000646513, 21.450554410060512),\n",
       " (('girl', 'american'), 1536.0, 0.1201719116314084, 20.430397700505264),\n",
       " (('one', 'xbox'), 990.0, 0.15687217094246642, 19.610584717934135),\n",
       " (('pink', 'vs'), 11599.0, 0.027715772979688077, 19.400877758686573),\n",
       " (('lularo', 'ship'), 511.0, 0.23518943649126223, 18.505995049130998),\n",
       " (('lularo', 'black'), 1287.0, 0.12260510052238358, 18.41677238228235),\n",
       " (('case', '6s'), 764.0, -0.17344190105093793, 18.085035936341331),\n",
       " (('6', '6s'), 570.0, -0.21239526187795632, 18.040859455810129),\n",
       " (('bundl', 'makeup'), 505.0, -0.22776555698675696, 17.7742798946779),\n",
       " (('victoria', 'bag'), 628.0, -0.19329336413422302, 17.570685095928038),\n",
       " (('gold', 'ring'), 570.0, 0.20580996382384684, 17.48150405579619),\n",
       " (('girl', 'doll'), 583.0, 0.2006335098821492, 17.312965320521005),\n",
       " (('secret', 'bag'), 627.0, -0.18898952100783525, 17.160305013485036),\n",
       " (('pant', 'yoga'), 750.0, -0.16632921701236325, 17.120302243120459),\n",
       " (('for', 'iphon'), 979.0, -0.13701886846648323, 16.995277530932661),\n",
       " (('american', 'doll'), 553.0, 0.20017721490371346, 16.646473144203821),\n",
       " (('2', 'of'), 1324.0, -0.10774974503236495, 16.509649023019534),\n",
       " (('nike', 'women'), 1722.0, 0.088500438649999111, 16.299287725046035),\n",
       " (('case', 'plus'), 2113.0, -0.075606708848148352, 16.069041842369657),\n",
       " (('bundl', 'vs'), 891.0, 0.13391121961988106, 15.55003454974741),\n",
       " (('set', '2'), 875.0, -0.13521387372375987, 15.503397851278637),\n",
       " (('set', 'of'), 1718.0, -0.081396446049368479, 14.966548407222342),\n",
       " (('case', '6'), 1651.0, -0.082427486681472165, 14.739916019435105),\n",
       " (('for', 'reserv'), 1933.0, -0.072988604915373678, 14.575295236251669),\n",
       " (('and', 'white'), 1301.0, -0.096132415748281186, 14.550032506707167),\n",
       " (('jordan', 'air'), 1277.0, -0.097261007436084748, 14.530226753393556),\n",
       " (('ring', 'ring'), 4744.0, 0.038308078515603451, 14.341403174056726),\n",
       " (('pink', 'secret'), 6213.0, 0.031228651946557599, 14.120958766778308),\n",
       " (('pink', 'nwt'), 1857.0, 0.07132337455638911, 13.8484196516604),\n",
       " (('and', 'gold'), 505.0, -0.17486293426819607, 13.645885611529463),\n",
       " (('pink', 'victoria'), 6219.0, 0.029994940661476649, 13.572267068252724),\n",
       " (('for', '2'), 764.0, -0.12882478046572871, 13.432744741017052),\n",
       " (('pink', 'bundl'), 994.0, 0.10427352161843911, 13.072074377593069),\n",
       " (('bundl', 'bundl'), 29178.0, 0.0095465884058458794, 12.746385897965041),\n",
       " (('vs', 'nwt'), 1709.0, 0.069061389191001923, 12.651870965768156),\n",
       " (('xbox', '360'), 856.0, -0.11182338285712694, 12.6259557107773),\n",
       " (('pink', 'larg'), 921.0, 0.10473646501524925, 12.447428863376544),\n",
       " (('iphon', 'gold'), 503.0, 0.15803468676110075, 12.298439513180279),\n",
       " (('bundl', '&'), 1092.0, -0.090861949082075302, 12.165722206194211),\n",
       " (('diamond', 'diamond'), 1337.0, 0.078788333792239124, 12.154970278665543),\n",
       " (('iphon', '6'), 2691.0, 0.048221518929620136, 12.138931886563402),\n",
       " (('bundl', 'and'), 1324.0, -0.079161611711306631, 12.129313392413696),\n",
       " (('bundl', '2'), 840.0, -0.10879272304278031, 12.12258805444656),\n",
       " (('vs', 'hoodi'), 740.0, 0.11729128761011193, 11.959911272814393),\n",
       " (('size', 'jordan'), 781.0, 0.11176457991820517, 11.834772497860198),\n",
       " (('set', 'piec'), 709.0, -0.11888014563890908, 11.764180872408918),\n",
       " (('top', 'bikini'), 911.0, -0.099707100487306022, 11.75950255769798),\n",
       " (('appl', 'appl'), 2509.0, -0.049014551079227524, 11.748312559287106),\n",
       " (('michael', 'wallet'), 592.0, 0.13339822457123129, 11.635237275138818),\n",
       " (('size', 'one'), 538.0, -0.14226461299519744, 11.604982229202173),\n",
       " (('new', 'iphon'), 660.0, -0.12279821984954023, 11.557737485033039),\n",
       " (('size', 'plus'), 1062.0, -0.087667528257613439, 11.511341120200726),\n",
       " (('for', 'hold'), 2447.0, -0.048723677636969276, 11.475822961353009),\n",
       " (('6', '6'), 7690.0, 0.021633268975190495, 11.357182064878664),\n",
       " (('pair', 'pair'), 2695.0, 0.045038807391752873, 11.34953375206215),\n",
       " (('dress', 'maxi'), 848.0, -0.10093327977494011, 11.321695812758017),\n",
       " (('up', 'zip'), 982.0, -0.090889129971894439, 11.297698683289967),\n",
       " (('hold', 'hold'), 5695.0, -0.026197202301984503, 11.145524830355017),\n",
       " (('doll', 'doll'), 2262.0, 0.049905229436125825, 11.124765801462411),\n",
       " (('pink', 'l'), 742.0, 0.10778922847985989, 11.01179447505103),\n",
       " (('kor', 'wallet'), 621.0, 0.12171972037211946, 10.978046502526899),\n",
       " (('shirt', 'men'), 1380.0, 0.067720918685492959, 10.68164650556443),\n",
       " (('nike', 'pro'), 973.0, -0.085356790454200845, 10.541855641864364),\n",
       " (('iphon', '5'), 560.0, -0.12423083432900486, 10.422238826482033),\n",
       " (('dunn', 'mug'), 1535.0, -0.061324143825313399, 10.420951133990265),\n",
       " (('pink', 'hoodi'), 1496.0, 0.062121927011716989, 10.368048843506854),\n",
       " (('pink', 'zip'), 1124.0, 0.075868319485048727, 10.365658153052696),\n",
       " (('pink', 'new'), 1805.0, 0.054192630173873539, 10.315119743197352),\n",
       " (('rae', 'mug'), 1540.0, -0.060444581249715558, 10.294893963725649),\n",
       " (('vs', 'zip'), 607.0, 0.11542938802743312, 10.245861405122728),\n",
       " (('pink', 'bling'), 735.0, 0.099996723509584537, 10.148150691581503),\n",
       " (('nike', 'nike'), 18323.0, 0.010499929746574325, 10.122411779035973),\n",
       " (('bag', 'tote'), 581.0, -0.11708903432726275, 10.079512247944526),\n",
       " (('short', 'eagl'), 564.0, 0.11950667619841096, 10.075985653360984),\n",
       " (('short', 'american'), 628.0, 0.11056096218767428, 10.050173523564251),\n",
       " (('huge', 'huge'), 528.0, 0.12383348600717176, 9.9696943646160019),\n",
       " (('lularo', 'small'), 1180.0, 0.07021250584833813, 9.9250311429101945),\n",
       " (('crystal', 'crystal'), 1035.0, 0.076812324253439604, 9.9057907891812462),\n",
       " (('set', 'nwt'), 519.0, 0.12408201003724505, 9.8702004030291342),\n",
       " (('costum', 'costum'), 1477.0, 0.05965098061036412, 9.8669728729525303),\n",
       " (('pink', 'sz'), 540.0, 0.12054020886770674, 9.8584257884949142),\n",
       " (('secret', 'bra'), 2203.0, 0.045046457581955919, 9.8575909352804736),\n",
       " (('vs', 'ship'), 510.0, 0.12509841349933956, 9.8299413189511391),\n",
       " (('size', 'leg'), 709.0, -0.099169130454549753, 9.8136116956858803),\n",
       " (('brown', 'brown'), 2944.0, -0.036500394903589826, 9.7848467276914377),\n",
       " (('ball', 'ball'), 785.0, -0.092025841700588695, 9.7795429431243779),\n",
       " (('case', 'phone'), 713.0, 0.098121000374279371, 9.7482046545832386),\n",
       " (('&', 'white'), 587.0, -0.11240495804065485, 9.7461286250963735),\n",
       " (('short', 'lululemon'), 627.0, 0.10670740542050103, 9.6890643166267818),\n",
       " (('for', '[rm]'), 548.0, -0.11645582292488879, 9.6229360480264869),\n",
       " (('victoria', 'bra'), 2253.0, 0.042572253092762365, 9.4636674206088625),\n",
       " (('vs', 'l'), 531.0, 0.11647882982093974, 9.4148447667211244),\n",
       " (('of', '3'), 1050.0, -0.072222854146146487, 9.4082133316293035),\n",
       " (('gold', '14k'), 586.0, -0.10774147780622878, 9.3306362570920793),\n",
       " (('lularo', 'classic'), 998.0, -0.074019707102144727, 9.3054791666328516),\n",
       " (('new', 'sz'), 535.0, 0.1137290624263726, 9.241002894711837),\n",
       " (('vs', 'boyshort'), 636.0, -0.10076146818288108, 9.2409041982810649),\n",
       " (('pink', 'tee'), 1372.0, 0.058555802549650503, 9.1985170066253144),\n",
       " (('pink', 'tank'), 960.0, 0.074690290726847977, 9.1380601630378653),\n",
       " (('ring', 'silver'), 716.0, -0.091356686465072376, 9.1028933555853087),\n",
       " (('vs', 'larg'), 607.0, 0.10236169555327258, 9.0859335196591591),\n",
       " (('pink', 'bag'), 669.0, -0.09517325259223916, 9.0430138132323172),\n",
       " (('card', 'card'), 2484.0, -0.037944807446472259, 9.0314704929176823),\n",
       " (('and', 'blue'), 593.0, -0.10331430536621278, 9.0219152979614314),\n",
       " (('6', 'plus'), 1092.0, -0.067250189509176744, 9.0042876269749712),\n",
       " (('girl', 'outfit'), 517.0, -0.11346810988930929, 9.0015479813808064),\n",
       " (('pink', 'ship'), 633.0, 0.098426126876421854, 8.9969020586099777),\n",
       " (('bag', 'coach'), 612.0, 0.10071312205662174, 8.991083989066551),\n",
       " (('7.5', '7.5'), 740.0, 0.08775337286696884, 8.9480009535564502),\n",
       " (('love', 'love'), 2257.0, -0.040016222056359518, 8.9065226300995999),\n",
       " (('jacket', 'face'), 732.0, 0.087943213019396352, 8.8993868434579007),\n",
       " (('air', 'max'), 931.0, 0.074167022233879651, 8.8812811673796617),\n",
       " (('air', 'air'), 3743.0, 0.027926320695201897, 8.8566116107103046),\n",
       " (('new', 'case'), 615.0, -0.097365015230887642, 8.7219886495996164),\n",
       " (('bundl', 'victoria'), 514.0, 0.11022464125944076, 8.7086909208447256),\n",
       " (('bundl', 'secret'), 509.0, 0.1109656823039582, 8.7074529310595832),\n",
       " (('black', '&'), 919.0, -0.072967370855031605, 8.6586374625162517),\n",
       " (('new', 'women'), 682.0, 0.089426459488002985, 8.6122196761755081),\n",
       " (('jacket', 'north'), 732.0, 0.084508911362365852, 8.5518537259642056),\n",
       " (('iphon', 'plus'), 2940.0, -0.03186310825713088, 8.5335801210413003),\n",
       " (('top', 'crop'), 2134.0, 0.039419594840977769, 8.4362267995908358),\n",
       " (('and', 'leg'), 594.0, 0.096228238458155146, 8.413041809908977),\n",
       " (('iphon', '7'), 2073.0, 0.03982160184395804, 8.3509952608069469),\n",
       " (('shoe', 'shoe'), 7177.0, 0.016676051773758995, 8.3416756121612181),\n",
       " (('real', 'real'), 666.0, 0.087593237811817368, 8.2966456240108393),\n",
       " (('jordan', 'retro'), 1126.0, 0.060592965701032481, 8.2889416563816578),\n",
       " (('4', '4'), 6153.0, -0.018407765405009439, 8.2672660026987401),\n",
       " (('nike', 'nwt'), 526.0, 0.10222502504902334, 8.2081870853906338),\n",
       " (('up', 'lace'), 954.0, 0.06723559010781284, 8.1899845634945017),\n",
       " (('set', '&'), 954.0, -0.06673733017561928, 8.1292913927090655),\n",
       " (('vs', 'panti'), 685.0, -0.083712960944588521, 8.086788844638086),\n",
       " (('michael', 'kor'), 4807.0, 0.021383634706790111, 8.0796660778978726),\n",
       " (('pink', 'free'), 878.0, 0.07026434752771242, 8.0757186269057719),\n",
       " (('black', 'boot'), 755.0, -0.077910971181249122, 8.0567796149545021),\n",
       " (('secret', 'set'), 552.0, 0.095814985207884201, 7.9577591622986104),\n",
       " (('tank', 'lululemon'), 680.0, -0.082560669466121284, 7.9346805139921956),\n",
       " (('of', 'pair'), 932.0, 0.066025098120145509, 7.9122535145533623),\n",
       " (('and', 'set'), 998.0, -0.062407164601470763, 7.845594001692378),\n",
       " (('new', 'leg'), 1221.0, 0.054188388238401643, 7.8452574226759175),\n",
       " (('moistur', 'moistur'), 586.0, -0.090567863406604859, 7.8433655007855823),\n",
       " (('glass', 'glass'), 2386.0, 0.033629500563348465, 7.7819730979184421),\n",
       " (('pink', 'pant'), 901.0, -0.066093822148125564, 7.7351407597288935),\n",
       " (('new', 'set'), 1055.0, -0.059057738380113869, 7.7188665641281649),\n",
       " (('watch', 'watch'), 3419.0, -0.025856705474880455, 7.6966645562287237),\n",
       " (('of', 'of'), 10202.0, 0.01201738039814506, 7.6893482760278369),\n",
       " (('care', 'care'), 554.0, -0.092332448897721367, 7.6879613203953268),\n",
       " (('girl', 'babi'), 1392.0, 0.048406403527451881, 7.6815751124761045),\n",
       " (('high', 'high'), 4103.0, 0.022647314031555104, 7.6592767851299568),\n",
       " (('war', 'war'), 1156.0, -0.054840246129425244, 7.6413462493372037),\n",
       " (('victoria', 'set'), 550.0, 0.091717951158042668, 7.5981563741072566),\n",
       " (('lot', 'lot'), 6826.0, 0.015719592088094966, 7.5920257248281198),\n",
       " (('rose', 'rose'), 3313.0, 0.025972670334350842, 7.5626083220152207),\n",
       " (('zip', 'half'), 606.0, 0.085048330840060513, 7.5404390086545003),\n",
       " (('men', 'shoe'), 602.0, -0.085198022841376064, 7.5187745071954515),\n",
       " (('authent', 'authent'), 3178.0, 0.026557307297034139, 7.510896265255961),\n",
       " (('revers', 'revers'), 665.0, 0.079294685526154512, 7.5027285312432532),\n",
       " (('lularo', 't'), 1024.0, -0.058253035165179975, 7.4563885011430342),\n",
       " (('jordan', 'jordan'), 4772.0, 0.019696507474261299, 7.4042236709297926),\n",
       " (('max', 'max'), 1114.0, 0.054179169042465419, 7.3561736637996287),\n",
       " (('blous', 'blous'), 2038.0, -0.035480706101991867, 7.3525024842049058),\n",
       " (('bottom', 'bottom'), 1350.0, 0.047077743489218851, 7.3122204515407487),\n",
       " (('mist', 'mist'), 1018.0, -0.056903558048844165, 7.2537547386146173),\n",
       " (('flat', 'flat'), 2034.0, -0.034940923159467292, 7.2306949384000161),\n",
       " (('nwt', 'nwt'), 14452.0, 0.0088557394225761369, 7.2306009867670404),\n",
       " (('nwt', 'free'), 663.0, 0.076521827779147747, 7.2251156784455723),\n",
       " (('long', 'long'), 4654.0, -0.019547270319157067, 7.2204553066960289),\n",
       " (('clip', 'clip'), 584.0, -0.083409035699963552, 7.2061300110614299),\n",
       " (('vs', 'bling'), 532.0, 0.08901902234788589, 7.2047839630839556),\n",
       " (('nike', 'free'), 863.0, 0.063282918082477602, 7.1861131969215268),\n",
       " (('women', 'shoe'), 678.0, 0.074595789546123614, 7.1544310197049148),\n",
       " (('shoe', 'toddler'), 517.0, 0.089955538510381614, 7.1362702426441036),\n",
       " (('decay', 'decay'), 1890.0, -0.036278329467716947, 7.1313301604889565),\n",
       " (('black', 'nwt'), 641.0, 0.077184980461875413, 7.1175974050230479),\n",
       " (('&', '&'), 14659.0, 0.0086021233050115661, 7.0937961610007241),\n",
       " (('victoria', 'shirt'), 546.0, 0.085379806492997701, 7.0370399418537088),\n",
       " (('vs', 'tee'), 856.0, 0.062248224511927464, 7.0284345338245764),\n",
       " (('urban', 'decay'), 1867.0, -0.036056878222396671, 7.0273105409280987),\n",
       " (('case', '7'), 1457.0, 0.042878334350016839, 7.0252145586736212),\n",
       " (('girl', 'shoe'), 588.0, 0.080511103132185027, 6.9890782917284362),\n",
       " (('top', 'tank'), 2394.0, 0.030001727271028015, 6.9587808724967308),\n",
       " (('mesh', 'mesh'), 671.0, -0.0729992510078111, 6.9506299643873595),\n",
       " (('l', 'l'), 3759.0, 0.021831005832917728, 6.9442344290421572),\n",
       " (('yellow', 'yellow'), 1173.0, 0.049235389386772806, 6.9308417916606562),\n",
       " (('suit', 'suit'), 1976.0, 0.034153724656332339, 6.9261027649952691),\n",
       " (('15', '15'), 527.0, -0.085142585690215322, 6.8456432963519047),\n",
       " (('black', 'dress'), 1246.0, -0.046596878569062798, 6.8425732426484585),\n",
       " (('under', 'under'), 4037.0, 0.02045133639277763, 6.8385309504999103),\n",
       " (('top', 'top'), 14794.0, 0.0082008794612568429, 6.8064452993940154),\n",
       " (('the', 'the'), 7993.0, 0.012533781483282604, 6.7605026587211148),\n",
       " (('size', '8'), 1932.0, -0.033785386893573625, 6.7442534391236526),\n",
       " (('sunglass', 'sunglass'), 1996.0, -0.03289443684076053, 6.7179200571170279),\n",
       " (('item', 'item'), 713.0, 0.067518498913843358, 6.7078825416758816)]"
      ]
     },
     "execution_count": 31,
     "metadata": {},
     "output_type": "execute_result"
    }
   ],
   "source": [
    "lev2features"
   ]
  },
  {
   "cell_type": "code",
   "execution_count": 32,
   "metadata": {
    "collapsed": true
   },
   "outputs": [],
   "source": [
    "features_2lev = [f[0] for f in lev2features]\n",
    "src_train['fcst_diff_lev1'] = src_hit.fcst_diff_lev1\n",
    "for f1, f2 in features_2lev:\n",
    "    src_train['f2_{0}_{1}'.format(f1, f2)] = (src_hit[f1]*1)*(src_hit[f2]*1)"
   ]
  },
  {
   "cell_type": "code",
   "execution_count": 33,
   "metadata": {
    "collapsed": true
   },
   "outputs": [],
   "source": [
    "X2 = src_train[['f2_{0}_{1}'.format(f1,f2) for f1,f2 in features_2lev]].values\n",
    "Y2 = src_train.fcst_diff_lev1.values\n",
    "(Xtrain,Ytrain),(Xtest,Ytest) = modutils.splitSample((X2, Y2), pcts = [0.7,0.3])"
   ]
  },
  {
   "cell_type": "code",
   "execution_count": 34,
   "metadata": {},
   "outputs": [
    {
     "data": {
      "text/plain": [
       "((593376, 200), (593376, 1000))"
      ]
     },
     "execution_count": 34,
     "metadata": {},
     "output_type": "execute_result"
    }
   ],
   "source": [
    "X2.shape, X.shape"
   ]
  },
  {
   "cell_type": "code",
   "execution_count": 39,
   "metadata": {},
   "outputs": [
    {
     "name": "stdout",
     "output_type": "stream",
     "text": [
      "Wall time: 5.62 s\n"
     ]
    }
   ],
   "source": [
    "%%time\n",
    "#mod1 = sklearn.linear_model.LinearRegression().fit(Xtrain, Ytrain)\n",
    "#mod1 = sklearn.linear_model.SGDRegressor(n_iter=100).fit(Xtrain, Ytrain) #15.5 vs 13.5\n",
    "#mod1 = sklearn.linear_model.Lasso(alpha=1e-4).fit(Xtrain, Ytrain) #1e-4: 14.7 vs 13.1, 1e-5: 16.1 vs 13.6, 1e-3: 4.89\n",
    "#mod1 = sklearn.linear_model.LassoLars(alpha=1e-5).fit(Xtrain, Ytrain) \n",
    "#mod1 = sklearn.linear_model.Ridge(alpha=1e1).fit(Xtrain, Ytrain) #def: 16.1 vs 13.5\n",
    "mod1 = sklearn.linear_model.Lasso(alpha=1e-4).fit(Xtrain, Ytrain)"
   ]
  },
  {
   "cell_type": "code",
   "execution_count": 36,
   "metadata": {},
   "outputs": [
    {
     "name": "stdout",
     "output_type": "stream",
     "text": [
      "Wall time: 3min 42s\n"
     ]
    }
   ],
   "source": [
    "%%time\n",
    "mod1 = sklearn.ensemble.GradientBoostingRegressor(min_samples_leaf=100, n_estimators=100, max_depth=2).fit(Xtrain, Ytrain)"
   ]
  },
  {
   "cell_type": "code",
   "execution_count": 37,
   "metadata": {},
   "outputs": [
    {
     "name": "stdout",
     "output_type": "stream",
     "text": [
      "Wall time: 21.4 s\n"
     ]
    }
   ],
   "source": [
    "%%time\n",
    "mod1 = sklearn.ensemble.RandomForestRegressor(min_samples_leaf=100, n_estimators=10, max_depth=3).fit(Xtrain, Ytrain)"
   ]
  },
  {
   "cell_type": "code",
   "execution_count": 40,
   "metadata": {},
   "outputs": [
    {
     "name": "stdout",
     "output_type": "stream",
     "text": [
      "Rsqr=0.0050 (train), 0.0046 (test)\n",
      "Wall time: 443 ms\n"
     ]
    }
   ],
   "source": [
    "%%time\n",
    "Ptrain = mod1.predict(Xtrain)\n",
    "Ptest = mod1.predict(Xtest)\n",
    "print('Rsqr={:.4f} (train), {:.4f} (test)'.format(sklearn.metrics.r2_score(Ytrain, Ptrain),\n",
    "                                                  sklearn.metrics.r2_score(Ytest, Ptest))) "
   ]
  },
  {
   "cell_type": "code",
   "execution_count": 41,
   "metadata": {
    "collapsed": true
   },
   "outputs": [],
   "source": [
    "src_hit['fcst_diff_lev2'] = src_hit.fcst_diff_lev1 - mod1.predict(X2)"
   ]
  },
  {
   "cell_type": "code",
   "execution_count": 42,
   "metadata": {},
   "outputs": [
    {
     "data": {
      "text/html": [
       "<div>\n",
       "<style>\n",
       "    .dataframe thead tr:only-child th {\n",
       "        text-align: right;\n",
       "    }\n",
       "\n",
       "    .dataframe thead th {\n",
       "        text-align: left;\n",
       "    }\n",
       "\n",
       "    .dataframe tbody tr th {\n",
       "        vertical-align: top;\n",
       "    }\n",
       "</style>\n",
       "<table border=\"1\" class=\"dataframe\">\n",
       "  <thead>\n",
       "    <tr style=\"text-align: right;\">\n",
       "      <th></th>\n",
       "      <th>fcst_diff_simple</th>\n",
       "      <th>fcst_diff_lev1</th>\n",
       "      <th>fcst_diff_lev2</th>\n",
       "    </tr>\n",
       "  </thead>\n",
       "  <tbody>\n",
       "    <tr>\n",
       "      <th>count</th>\n",
       "      <td>593376.000000</td>\n",
       "      <td>593376.000000</td>\n",
       "      <td>593376.000000</td>\n",
       "    </tr>\n",
       "    <tr>\n",
       "      <th>mean</th>\n",
       "      <td>-0.000393</td>\n",
       "      <td>0.001877</td>\n",
       "      <td>0.000263</td>\n",
       "    </tr>\n",
       "    <tr>\n",
       "      <th>std</th>\n",
       "      <td>0.612034</td>\n",
       "      <td>0.565513</td>\n",
       "      <td>0.564125</td>\n",
       "    </tr>\n",
       "    <tr>\n",
       "      <th>min</th>\n",
       "      <td>-4.782042</td>\n",
       "      <td>-4.877501</td>\n",
       "      <td>-4.877560</td>\n",
       "    </tr>\n",
       "    <tr>\n",
       "      <th>25%</th>\n",
       "      <td>-0.405822</td>\n",
       "      <td>-0.359090</td>\n",
       "      <td>-0.359428</td>\n",
       "    </tr>\n",
       "    <tr>\n",
       "      <th>50%</th>\n",
       "      <td>-0.055312</td>\n",
       "      <td>-0.035914</td>\n",
       "      <td>-0.037380</td>\n",
       "    </tr>\n",
       "    <tr>\n",
       "      <th>75%</th>\n",
       "      <td>0.340884</td>\n",
       "      <td>0.313937</td>\n",
       "      <td>0.311331</td>\n",
       "    </tr>\n",
       "    <tr>\n",
       "      <th>max</th>\n",
       "      <td>4.625071</td>\n",
       "      <td>4.680613</td>\n",
       "      <td>4.680554</td>\n",
       "    </tr>\n",
       "  </tbody>\n",
       "</table>\n",
       "</div>"
      ],
      "text/plain": [
       "       fcst_diff_simple  fcst_diff_lev1  fcst_diff_lev2\n",
       "count     593376.000000   593376.000000   593376.000000\n",
       "mean          -0.000393        0.001877        0.000263\n",
       "std            0.612034        0.565513        0.564125\n",
       "min           -4.782042       -4.877501       -4.877560\n",
       "25%           -0.405822       -0.359090       -0.359428\n",
       "50%           -0.055312       -0.035914       -0.037380\n",
       "75%            0.340884        0.313937        0.311331\n",
       "max            4.625071        4.680613        4.680554"
      ]
     },
     "execution_count": 42,
     "metadata": {},
     "output_type": "execute_result"
    }
   ],
   "source": [
    "src_hit[['fcst_diff_simple', 'fcst_diff_lev1', 'fcst_diff_lev2']].describe()"
   ]
  },
  {
   "cell_type": "code",
   "execution_count": 44,
   "metadata": {},
   "outputs": [],
   "source": [
    "src['fcst_simple_title'] = src.fcst_simple + mod0.predict(X) + mod1.predict(X2)"
   ]
  },
  {
   "cell_type": "code",
   "execution_count": 45,
   "metadata": {
    "collapsed": true
   },
   "outputs": [],
   "source": [
    "src['fcst_diff_simple_title'] = np.log(1+src.price) - src.fcst_simple_title"
   ]
  },
  {
   "cell_type": "code",
   "execution_count": 46,
   "metadata": {},
   "outputs": [
    {
     "data": {
      "text/html": [
       "<div>\n",
       "<style>\n",
       "    .dataframe thead tr:only-child th {\n",
       "        text-align: right;\n",
       "    }\n",
       "\n",
       "    .dataframe thead th {\n",
       "        text-align: left;\n",
       "    }\n",
       "\n",
       "    .dataframe tbody tr th {\n",
       "        vertical-align: top;\n",
       "    }\n",
       "</style>\n",
       "<table border=\"1\" class=\"dataframe\">\n",
       "  <thead>\n",
       "    <tr style=\"text-align: right;\">\n",
       "      <th></th>\n",
       "      <th>fcst_diff_simple</th>\n",
       "      <th>fcst_diff_simple_title</th>\n",
       "    </tr>\n",
       "  </thead>\n",
       "  <tbody>\n",
       "    <tr>\n",
       "      <th>count</th>\n",
       "      <td>593376.000000</td>\n",
       "      <td>593376.000000</td>\n",
       "    </tr>\n",
       "    <tr>\n",
       "      <th>mean</th>\n",
       "      <td>-0.000393</td>\n",
       "      <td>0.000263</td>\n",
       "    </tr>\n",
       "    <tr>\n",
       "      <th>std</th>\n",
       "      <td>0.612034</td>\n",
       "      <td>0.564125</td>\n",
       "    </tr>\n",
       "    <tr>\n",
       "      <th>min</th>\n",
       "      <td>-4.782042</td>\n",
       "      <td>-4.877560</td>\n",
       "    </tr>\n",
       "    <tr>\n",
       "      <th>25%</th>\n",
       "      <td>-0.405822</td>\n",
       "      <td>-0.359428</td>\n",
       "    </tr>\n",
       "    <tr>\n",
       "      <th>50%</th>\n",
       "      <td>-0.055312</td>\n",
       "      <td>-0.037380</td>\n",
       "    </tr>\n",
       "    <tr>\n",
       "      <th>75%</th>\n",
       "      <td>0.340884</td>\n",
       "      <td>0.311331</td>\n",
       "    </tr>\n",
       "    <tr>\n",
       "      <th>max</th>\n",
       "      <td>4.625071</td>\n",
       "      <td>4.680554</td>\n",
       "    </tr>\n",
       "  </tbody>\n",
       "</table>\n",
       "</div>"
      ],
      "text/plain": [
       "       fcst_diff_simple  fcst_diff_simple_title\n",
       "count     593376.000000           593376.000000\n",
       "mean          -0.000393                0.000263\n",
       "std            0.612034                0.564125\n",
       "min           -4.782042               -4.877560\n",
       "25%           -0.405822               -0.359428\n",
       "50%           -0.055312               -0.037380\n",
       "75%            0.340884                0.311331\n",
       "max            4.625071                4.680554"
      ]
     },
     "execution_count": 46,
     "metadata": {},
     "output_type": "execute_result"
    }
   ],
   "source": [
    "src[['fcst_diff_simple', 'fcst_diff_simple_title']].describe()"
   ]
  },
  {
   "cell_type": "code",
   "execution_count": 47,
   "metadata": {},
   "outputs": [
    {
     "ename": "AttributeError",
     "evalue": "'DataFrame' object has no attribute 'fcst_log_simple'",
     "output_type": "error",
     "traceback": [
      "\u001b[1;31m---------------------------------------------------------------------------\u001b[0m",
      "\u001b[1;31mAttributeError\u001b[0m                            Traceback (most recent call last)",
      "\u001b[1;32m<ipython-input-47-11e0173f9c00>\u001b[0m in \u001b[0;36m<module>\u001b[1;34m()\u001b[0m\n\u001b[1;32m----> 1\u001b[1;33m \u001b[0msklearn\u001b[0m\u001b[1;33m.\u001b[0m\u001b[0mmetrics\u001b[0m\u001b[1;33m.\u001b[0m\u001b[0mr2_score\u001b[0m\u001b[1;33m(\u001b[0m\u001b[0mnp\u001b[0m\u001b[1;33m.\u001b[0m\u001b[0mlog\u001b[0m\u001b[1;33m(\u001b[0m\u001b[1;36m1\u001b[0m\u001b[1;33m+\u001b[0m\u001b[0msrc\u001b[0m\u001b[1;33m.\u001b[0m\u001b[0mprice\u001b[0m\u001b[1;33m)\u001b[0m\u001b[1;33m,\u001b[0m \u001b[0msrc\u001b[0m\u001b[1;33m.\u001b[0m\u001b[0mfcst_log_simple\u001b[0m\u001b[1;33m)\u001b[0m\u001b[1;33m\u001b[0m\u001b[0m\n\u001b[0m",
      "\u001b[1;32mC:\\Anaconda3\\lib\\site-packages\\pandas\\core\\generic.py\u001b[0m in \u001b[0;36m__getattr__\u001b[1;34m(self, name)\u001b[0m\n\u001b[0;32m   2968\u001b[0m             \u001b[1;32mif\u001b[0m \u001b[0mname\u001b[0m \u001b[1;32min\u001b[0m \u001b[0mself\u001b[0m\u001b[1;33m.\u001b[0m\u001b[0m_info_axis\u001b[0m\u001b[1;33m:\u001b[0m\u001b[1;33m\u001b[0m\u001b[0m\n\u001b[0;32m   2969\u001b[0m                 \u001b[1;32mreturn\u001b[0m \u001b[0mself\u001b[0m\u001b[1;33m[\u001b[0m\u001b[0mname\u001b[0m\u001b[1;33m]\u001b[0m\u001b[1;33m\u001b[0m\u001b[0m\n\u001b[1;32m-> 2970\u001b[1;33m             \u001b[1;32mreturn\u001b[0m \u001b[0mobject\u001b[0m\u001b[1;33m.\u001b[0m\u001b[0m__getattribute__\u001b[0m\u001b[1;33m(\u001b[0m\u001b[0mself\u001b[0m\u001b[1;33m,\u001b[0m \u001b[0mname\u001b[0m\u001b[1;33m)\u001b[0m\u001b[1;33m\u001b[0m\u001b[0m\n\u001b[0m\u001b[0;32m   2971\u001b[0m \u001b[1;33m\u001b[0m\u001b[0m\n\u001b[0;32m   2972\u001b[0m     \u001b[1;32mdef\u001b[0m \u001b[0m__setattr__\u001b[0m\u001b[1;33m(\u001b[0m\u001b[0mself\u001b[0m\u001b[1;33m,\u001b[0m \u001b[0mname\u001b[0m\u001b[1;33m,\u001b[0m \u001b[0mvalue\u001b[0m\u001b[1;33m)\u001b[0m\u001b[1;33m:\u001b[0m\u001b[1;33m\u001b[0m\u001b[0m\n",
      "\u001b[1;31mAttributeError\u001b[0m: 'DataFrame' object has no attribute 'fcst_log_simple'"
     ]
    }
   ],
   "source": [
    "sklearn.metrics.r2_score(np.log(1+src.price), src.fcst_log_simple)"
   ]
  },
  {
   "cell_type": "code",
   "execution_count": null,
   "metadata": {},
   "outputs": [],
   "source": [
    "sklearn.metrics.r2_score(np.log(1+src.price), src.fcst_log_simple_title)"
   ]
  },
  {
   "cell_type": "code",
   "execution_count": null,
   "metadata": {
    "collapsed": true
   },
   "outputs": [],
   "source": [
    "src_res = src[[x for x in list(src.columns) if x != 'name_proc']].copy()"
   ]
  },
  {
   "cell_type": "code",
   "execution_count": null,
   "metadata": {
    "collapsed": true
   },
   "outputs": [],
   "source": [
    "src_res.to_csv(dst_file, index=False, encoding='utf-8')"
   ]
  },
  {
   "cell_type": "code",
   "execution_count": null,
   "metadata": {
    "collapsed": true
   },
   "outputs": [],
   "source": []
  }
 ],
 "metadata": {
  "kernelspec": {
   "display_name": "Python [default]",
   "language": "python",
   "name": "python3"
  },
  "language_info": {
   "codemirror_mode": {
    "name": "ipython",
    "version": 3
   },
   "file_extension": ".py",
   "mimetype": "text/x-python",
   "name": "python",
   "nbconvert_exporter": "python",
   "pygments_lexer": "ipython3",
   "version": "3.6.1"
  }
 },
 "nbformat": 4,
 "nbformat_minor": 2
}
