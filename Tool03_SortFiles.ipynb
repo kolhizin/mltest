{
 "cells": [
  {
   "cell_type": "code",
   "execution_count": 1,
   "metadata": {
    "collapsed": true
   },
   "outputs": [],
   "source": [
    "import numpy as np\n",
    "import pandas as pd\n",
    "import datetime, time\n",
    "\n",
    "src_template = '../Datasets/kkbox/churn/raw/user_logs/uldt_{0}.csv'\n",
    "dst_template = '../Datasets/kkbox/churn/raw/user_logs/uldts_{0}.csv'\n",
    "\n",
    "t_years = ['2015','2016','2017']\n",
    "t_months = ['{0:02}'.format(i+1) for i in range(12)]\n",
    "t_files = [z for z in [x+y for x in t_years for y in t_months] if z <= '201702']\n",
    "t_files = ['201701','201702']"
   ]
  },
  {
   "cell_type": "code",
   "execution_count": 2,
   "metadata": {},
   "outputs": [
    {
     "name": "stdout",
     "output_type": "stream",
     "text": [
      "Processed file (201701) in 220.07 seconds (I: 35.42, S: 25.12, O: 159.53)\n",
      "Processed file (201702) in 202.54 seconds (I: 38.85, S: 21.82, O: 141.88)\n"
     ]
    }
   ],
   "source": [
    "print_format = 'Processed file ({0}) in {1:.2f} seconds (I: {2:.2f}, S: {3:.2f}, O: {4:.2f})'\n",
    "for t_file in t_files:\n",
    "    t0 = time.perf_counter()\n",
    "    src = pd.read_csv(src_template.format(t_file))\n",
    "    t1 = time.perf_counter()\n",
    "    src = src.sort_values(by=['msno','date'])\n",
    "    t2 = time.perf_counter()\n",
    "    src.to_csv(dst_template.format(t_file), index=False)\n",
    "    t3 = time.perf_counter()\n",
    "    print(print_format.format(t_file, t3-t0, t1-t0,t2-t1,t3-t2))"
   ]
  },
  {
   "cell_type": "code",
   "execution_count": 8,
   "metadata": {
    "collapsed": true
   },
   "outputs": [],
   "source": [
    "batch_size = 100000\n",
    "res = []\n",
    "with open(dst_template.format(t_file), 'r') as f:\n",
    "    while True:\n",
    "        lines = [f.readline().split(',') for i in range(batch_size)]\n",
    "        rlines = [x[0]+'@'+x[1] for x in lines if len(x) > 2]\n",
    "        if len(rlines) == 0:\n",
    "            break\n",
    "        res += rlines\n",
    "        print(len(res), end='\\r')"
   ]
  },
  {
   "cell_type": "code",
   "execution_count": 11,
   "metadata": {},
   "outputs": [
    {
     "data": {
      "text/plain": [
       "(16079620, 16079620)"
      ]
     },
     "execution_count": 11,
     "metadata": {},
     "output_type": "execute_result"
    }
   ],
   "source": [
    "len(res) - len(set(res))"
   ]
  },
  {
   "cell_type": "code",
   "execution_count": null,
   "metadata": {
    "collapsed": true
   },
   "outputs": [],
   "source": []
  }
 ],
 "metadata": {
  "kernelspec": {
   "display_name": "Python [default]",
   "language": "python",
   "name": "python3"
  },
  "language_info": {
   "codemirror_mode": {
    "name": "ipython",
    "version": 3
   },
   "file_extension": ".py",
   "mimetype": "text/x-python",
   "name": "python",
   "nbconvert_exporter": "python",
   "pygments_lexer": "ipython3",
   "version": "3.6.1"
  }
 },
 "nbformat": 4,
 "nbformat_minor": 2
}
