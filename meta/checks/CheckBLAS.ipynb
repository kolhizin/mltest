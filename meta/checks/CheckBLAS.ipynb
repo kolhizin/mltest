{
 "cells": [
  {
   "cell_type": "code",
   "execution_count": 1,
   "metadata": {},
   "outputs": [
    {
     "name": "stdout",
     "output_type": "stream",
     "text": [
      "blas_mkl_info:\n",
      "    libraries = ['mkl_core_dll', 'mkl_intel_lp64_dll', 'mkl_intel_thread_dll']\n",
      "    library_dirs = ['C:/Anaconda3\\\\Library\\\\lib']\n",
      "    define_macros = [('SCIPY_MKL_H', None), ('HAVE_CBLAS', None)]\n",
      "    include_dirs = ['C:/Anaconda3\\\\Library\\\\include']\n",
      "blas_opt_info:\n",
      "    libraries = ['mkl_core_dll', 'mkl_intel_lp64_dll', 'mkl_intel_thread_dll']\n",
      "    library_dirs = ['C:/Anaconda3\\\\Library\\\\lib']\n",
      "    define_macros = [('SCIPY_MKL_H', None), ('HAVE_CBLAS', None)]\n",
      "    include_dirs = ['C:/Anaconda3\\\\Library\\\\include']\n",
      "lapack_mkl_info:\n",
      "    libraries = ['mkl_core_dll', 'mkl_intel_lp64_dll', 'mkl_intel_thread_dll']\n",
      "    library_dirs = ['C:/Anaconda3\\\\Library\\\\lib']\n",
      "    define_macros = [('SCIPY_MKL_H', None), ('HAVE_CBLAS', None)]\n",
      "    include_dirs = ['C:/Anaconda3\\\\Library\\\\include']\n",
      "lapack_opt_info:\n",
      "    libraries = ['mkl_core_dll', 'mkl_intel_lp64_dll', 'mkl_intel_thread_dll']\n",
      "    library_dirs = ['C:/Anaconda3\\\\Library\\\\lib']\n",
      "    define_macros = [('SCIPY_MKL_H', None), ('HAVE_CBLAS', None)]\n",
      "    include_dirs = ['C:/Anaconda3\\\\Library\\\\include']\n"
     ]
    }
   ],
   "source": [
    "import numpy as np\n",
    "np.__config__.show()"
   ]
  },
  {
   "cell_type": "code",
   "execution_count": 2,
   "metadata": {},
   "outputs": [
    {
     "name": "stdout",
     "output_type": "stream",
     "text": [
      "atlas: {} {}\n",
      "openblas: {} {}\n",
      "mkl: {} {}\n",
      "blas: {} {}\n",
      "lapack: {} {}\n"
     ]
    },
    {
     "name": "stderr",
     "output_type": "stream",
     "text": [
      "C:\\Anaconda3\\lib\\site-packages\\numpy\\distutils\\system_info.py:572: UserWarning: \n",
      "    Atlas (http://math-atlas.sourceforge.net/) libraries not found.\n",
      "    Directories to search for the libraries can be specified in the\n",
      "    numpy/distutils/site.cfg file (section [atlas]) or by setting\n",
      "    the ATLAS environment variable.\n",
      "  self.calc_info()\n",
      "C:\\Anaconda3\\lib\\site-packages\\numpy\\distutils\\system_info.py:572: UserWarning: \n",
      "    Blas (http://www.netlib.org/blas/) libraries not found.\n",
      "    Directories to search for the libraries can be specified in the\n",
      "    numpy/distutils/site.cfg file (section [blas]) or by setting\n",
      "    the BLAS environment variable.\n",
      "  self.calc_info()\n",
      "C:\\Anaconda3\\lib\\site-packages\\numpy\\distutils\\system_info.py:572: UserWarning: \n",
      "    Blas (http://www.netlib.org/blas/) sources not found.\n",
      "    Directories to search for the sources can be specified in the\n",
      "    numpy/distutils/site.cfg file (section [blas_src]) or by setting\n",
      "    the BLAS_SRC environment variable.\n",
      "  self.calc_info()\n",
      "C:\\Anaconda3\\lib\\site-packages\\numpy\\distutils\\system_info.py:572: UserWarning: \n",
      "    Lapack (http://www.netlib.org/lapack/) libraries not found.\n",
      "    Directories to search for the libraries can be specified in the\n",
      "    numpy/distutils/site.cfg file (section [lapack]) or by setting\n",
      "    the LAPACK environment variable.\n",
      "  self.calc_info()\n",
      "C:\\Anaconda3\\lib\\site-packages\\numpy\\distutils\\system_info.py:572: UserWarning: \n",
      "    Lapack (http://www.netlib.org/lapack/) sources not found.\n",
      "    Directories to search for the sources can be specified in the\n",
      "    numpy/distutils/site.cfg file (section [lapack_src]) or by setting\n",
      "    the LAPACK_SRC environment variable.\n",
      "  self.calc_info()\n"
     ]
    }
   ],
   "source": [
    "import numpy.distutils.system_info as sysinfo\n",
    "print('atlas:', sysinfo.get_info('atlas'), sysinfo.get_info('atlas_opt'))\n",
    "print('openblas:', sysinfo.get_info('openblas'), sysinfo.get_info('openblas_opt'))\n",
    "print('mkl:', sysinfo.get_info('mkl'), sysinfo.get_info('mkl_opt'))\n",
    "print('blas:', sysinfo.get_info('blas'), sysinfo.get_info('blas_opt'))\n",
    "print('lapack:', sysinfo.get_info('lapack'), sysinfo.get_info('lapack_opt'))"
   ]
  },
  {
   "cell_type": "code",
   "execution_count": null,
   "metadata": {
    "collapsed": true
   },
   "outputs": [],
   "source": []
  }
 ],
 "metadata": {
  "kernelspec": {
   "display_name": "Python [default]",
   "language": "python",
   "name": "python3"
  },
  "language_info": {
   "codemirror_mode": {
    "name": "ipython",
    "version": 3
   },
   "file_extension": ".py",
   "mimetype": "text/x-python",
   "name": "python",
   "nbconvert_exporter": "python",
   "pygments_lexer": "ipython3",
   "version": "3.6.1"
  }
 },
 "nbformat": 4,
 "nbformat_minor": 2
}
