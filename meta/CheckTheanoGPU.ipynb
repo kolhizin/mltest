{
 "cells": [
  {
   "cell_type": "code",
   "execution_count": 9,
   "metadata": {},
   "outputs": [
    {
     "name": "stdout",
     "output_type": "stream",
     "text": [
      "NP time: 0.251812[s], theano time: 0.247358[s] **(times should be close when runon CPU!)**\n",
      "Result difference: 0.000000\n"
     ]
    }
   ],
   "source": [
    "#should run from console with THEANO_FLAGS='cuda0'\n",
    "import sys,os,os.path\n",
    "os.environ['THEANO_FLAGS']=\"device='cuda0'\"\n",
    "\n",
    "import numpy as np\n",
    "import time\n",
    "import theano\n",
    "\n",
    "A = np.random.rand(1000,10000).astype(theano.config.floatX)\n",
    "B = np.random.rand(10000,1000).astype(theano.config.floatX)\n",
    "np_start = time.time()\n",
    "AB = np.matmul(A,B)\n",
    "np_end = time.time()\n",
    "X,Y = theano.tensor.matrices('XY')\n",
    "mf = theano.function([X,Y],X.dot(Y))\n",
    "t_start = time.time()\n",
    "tAB = mf(A,B)\n",
    "t_end = time.time()\n",
    "print (\"NP time: %f[s], theano time: %f[s] **(times should be close when runon CPU!)**\" %(np_end-np_start, t_end-t_start))\n",
    "print (\"Result difference: %f\" % (np.abs(AB-tAB).max(), ))"
   ]
  },
  {
   "cell_type": "code",
   "execution_count": null,
   "metadata": {
    "collapsed": true
   },
   "outputs": [],
   "source": []
  }
 ],
 "metadata": {
  "kernelspec": {
   "display_name": "Python [conda env:pytheano]",
   "language": "python",
   "name": "conda-env-pytheano-py"
  },
  "language_info": {
   "codemirror_mode": {
    "name": "ipython",
    "version": 3
   },
   "file_extension": ".py",
   "mimetype": "text/x-python",
   "name": "python",
   "nbconvert_exporter": "python",
   "pygments_lexer": "ipython3",
   "version": "3.5.4"
  }
 },
 "nbformat": 4,
 "nbformat_minor": 2
}
