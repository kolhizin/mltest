{
 "cells": [
  {
   "cell_type": "code",
   "execution_count": 1,
   "metadata": {},
   "outputs": [],
   "source": [
    "import tensorflow as tf\n",
    "import numpy as np\n",
    "import time\n",
    "\n",
    "A = np.random.rand(1000,10000).astype(np.float32)\n",
    "B = np.random.rand(10000,1000).astype(np.float32)"
   ]
  },
  {
   "cell_type": "code",
   "execution_count": 2,
   "metadata": {
    "collapsed": true
   },
   "outputs": [],
   "source": [
    "tf_A = tf.Variable(A, dtype=tf.float32)\n",
    "tf_B = tf.Variable(B, dtype=tf.float32)\n",
    "tf_R = tf.matmul(tf_A, tf_B)\n",
    "tf_init = tf.global_variables_initializer()"
   ]
  },
  {
   "cell_type": "code",
   "execution_count": 8,
   "metadata": {},
   "outputs": [],
   "source": [
    "np_start = time.perf_counter()\n",
    "R = np.matmul(A, B)\n",
    "np_end = time.perf_counter()\n",
    "with tf.Session() as sess:\n",
    "    tf_init.run()\n",
    "    tf_start = time.perf_counter()\n",
    "    Rf = tf_R.eval()\n",
    "    tf_end = time.perf_counter()"
   ]
  },
  {
   "cell_type": "code",
   "execution_count": 9,
   "metadata": {},
   "outputs": [
    {
     "name": "stdout",
     "output_type": "stream",
     "text": [
      "0.17570095918806317 0.11151596184312851\n"
     ]
    }
   ],
   "source": [
    "print(tf_end-tf_start, np_end-np_start)"
   ]
  },
  {
   "cell_type": "code",
   "execution_count": null,
   "metadata": {
    "collapsed": true
   },
   "outputs": [],
   "source": []
  }
 ],
 "metadata": {
  "kernelspec": {
   "display_name": "Python [conda env:pytf]",
   "language": "python",
   "name": "conda-env-pytf-py"
  },
  "language_info": {
   "codemirror_mode": {
    "name": "ipython",
    "version": 3
   },
   "file_extension": ".py",
   "mimetype": "text/x-python",
   "name": "python",
   "nbconvert_exporter": "python",
   "pygments_lexer": "ipython3",
   "version": "3.6.2"
  }
 },
 "nbformat": 4,
 "nbformat_minor": 2
}
