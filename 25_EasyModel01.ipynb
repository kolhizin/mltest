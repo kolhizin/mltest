{
 "cells": [
  {
   "cell_type": "code",
   "execution_count": 3,
   "metadata": {},
   "outputs": [],
   "source": [
    "%matplotlib inline\n",
    "import matplotlib.pyplot as plt\n",
    "import tensorflow as tf\n",
    "import numpy as np\n",
    "import pandas as pd\n",
    "import datetime, time\n",
    "import skimage.io\n",
    "import skimage.transform\n",
    "\n",
    "import modutils"
   ]
  },
  {
   "cell_type": "code",
   "execution_count": 4,
   "metadata": {},
   "outputs": [],
   "source": [
    "def tf_create_mobilenet_graph(model_fname):\n",
    "    t_input = 'input:0'\n",
    "    t_output = 'MobilenetV1/Predictions/Reshape:0'\n",
    "    tf_graph_def = tf.GraphDef()\n",
    "    with open(model_fname, 'rb') as f:\n",
    "        tf_graph_def.ParseFromString(f.read())\n",
    "    tf_input, tf_output = tf.import_graph_def(tf_graph_def, name='', return_elements=[t_input, t_output])\n",
    "    \n",
    "    return tf_input, tf_output\n",
    "\n",
    "\n",
    "def tf_create_jpeg_load_graph(dst_dim):\n",
    "    tf_input_jpeg = tf.placeholder(tf.string)\n",
    "    tf_input_img = tf.cast(tf.image.decode_jpeg(tf_input_jpeg, channels=dst_dim[2]), dtype=tf.float32)\n",
    "    tf_resized_img = tf.image.resize_bilinear(tf.expand_dims(tf_input_img, 0), tf.cast(tf.stack([dst_dim[0], dst_dim[1]]), dtype=tf.int32))\n",
    "    tf_final_img = (tf_resized_img - 127.5) / 127.5\n",
    "    return tf_input_jpeg, tf_final_img\n",
    "\n",
    "def tf_get_features(img_fnames, model_fname, img_dim, verbose=False):\n",
    "    tf.reset_default_graph()\n",
    "    \n",
    "    tf_input_cnn, tf_output_cnn = tf_create_mobilenet_graph(model_fname)\n",
    "    tf_input_jpeg, tf_output_img = tf_create_jpeg_load_graph(img_dim)\n",
    "    \n",
    "    with tf.Session() as tfs:\n",
    "        res = []\n",
    "        num_current = 1\n",
    "        num_total = len(img_fnames)\n",
    "        for img_fname in img_fnames:\n",
    "            img_data = None\n",
    "            with open(img_fname, 'rb') as f:\n",
    "                img_data = f.read()\n",
    "            img_transformed = tf_output_img.eval(feed_dict={tf_input_jpeg:img_data})\n",
    "            img_features = tf_output_cnn.eval(feed_dict={tf_input_cnn:img_transformed})\n",
    "            res.append(img_features)\n",
    "            if not verbose:\n",
    "                print('{0} of {1} processed...'.format(num_current, num_total), end='\\r')\n",
    "                num_current += 1\n",
    "    return np.vstack(res)"
   ]
  },
  {
   "cell_type": "code",
   "execution_count": 5,
   "metadata": {},
   "outputs": [],
   "source": [
    "def read_img(fname, out_size = 128):\n",
    "    f_img = skimage.io.imread(fname)\n",
    "    if len(f_img.shape) != 3:\n",
    "        print('Invalid dimensions in file \"{0}\"'.format(fname))\n",
    "        return None\n",
    "    req_size = max(f_img.shape[:2])\n",
    "    misdim = req_size - f_img.shape[0]\n",
    "    if misdim > 0:\n",
    "        addtop = misdim // 2\n",
    "        addbot = misdim - addtop\n",
    "        if addtop > 0:\n",
    "            f_img = np.vstack([np.tile(f_img[0], addtop).reshape(f_img.shape[1], addtop, 3).transpose([1,0,2]),\n",
    "                                f_img,\n",
    "                                np.tile(f_img[-1], addbot).reshape(f_img.shape[1], addbot, 3).transpose([1,0,2])])\n",
    "        else:\n",
    "            f_img = np.vstack([f_img, np.tile(f_img[-1], addbot).reshape(f_img.shape[1], addbot, 3).transpose([1,0,2])])\n",
    "            \n",
    "    misdim = req_size - f_img.shape[1]\n",
    "    if misdim > 0:\n",
    "        addl = misdim // 2\n",
    "        addr = misdim - addl\n",
    "        if addl > 0:\n",
    "            f_img = np.hstack([np.tile(f_img[:, 0, :], addl).reshape(f_img.shape[0], addl, 3),\n",
    "                              f_img,\n",
    "                              np.tile(f_img[:, -1, :], addr).reshape(f_img.shape[0], addr, 3)])\n",
    "        else:\n",
    "            f_img = np.hstack([f_img, np.tile(f_img[:, -1, :], addr).reshape(f_img.shape[0], addr, 3)])\n",
    "    return skimage.transform.resize(f_img, output_shape=(out_size, out_size), mode='constant', order = 1)\n",
    "\n",
    "def transform_img(img):\n",
    "    return skimage.color.rgb2gray(img).reshape(1,-1)\n",
    "\n",
    "def transform_batch(dst_format, src_files, src_data, batch_size=1024):\n",
    "    num_batches = len(src_files) // batch_size\n",
    "    if num_batches * batch_size < len(src_files):\n",
    "        num_batches += 1\n",
    "    for i in range(num_batches):\n",
    "        start = i * batch_size\n",
    "        end = (i + 1) * batch_size\n",
    "        imgs = np.vstack([transform_img(read_img(x)) for x in src_files[start:end]])\n",
    "        data = np.hstack([src_data[start:end], imgs])\n",
    "        np.save(dst_format.format(i), data)\n",
    "        print('Processed batch {}/{}'.format(i+1, num_batches), end='\\r')\n",
    "    print('Processing complete')"
   ]
  },
  {
   "cell_type": "code",
   "execution_count": 15,
   "metadata": {},
   "outputs": [],
   "source": [
    "def tf_transform_batch(dst_format, src_files, src_data, model_fname, img_dim, batch_size=512):\n",
    "    num_batches = len(src_files) // batch_size\n",
    "    if num_batches * batch_size < len(src_files):\n",
    "        num_batches += 1\n",
    "        \n",
    "    tf.reset_default_graph()\n",
    "    \n",
    "    tf_input_cnn, tf_output_cnn = tf_create_mobilenet_graph(model_fname)\n",
    "    tf_input_jpeg, tf_output_img = tf_create_jpeg_load_graph(img_dim)\n",
    "    \n",
    "    for i in range(num_batches):\n",
    "        start = i * batch_size\n",
    "        end = (i + 1) * batch_size\n",
    "        img_fnames = src_files[start:end]\n",
    "        try:\n",
    "            with tf.Session() as tfs:\n",
    "                res = []\n",
    "                num_current = 1\n",
    "                num_total = len(img_fnames)\n",
    "                for img_fname in img_fnames:\n",
    "                    img_data = None\n",
    "                    with open(img_fname, 'rb') as f:\n",
    "                        img_data = f.read()\n",
    "                    img_transformed = tf_output_img.eval(feed_dict={tf_input_jpeg:img_data})\n",
    "                    img_features = tf_output_cnn.eval(feed_dict={tf_input_cnn:img_transformed})\n",
    "                    res.append(img_features)\n",
    "            imgs = np.vstack(res)\n",
    "            data = np.hstack([src_data[start:end], imgs])\n",
    "        except:\n",
    "            print('batch failed')\n",
    "        np.save(dst_format.format(i), data)\n",
    "        print('Processed batch {}/{}'.format(i+1, num_batches))"
   ]
  },
  {
   "cell_type": "code",
   "execution_count": 6,
   "metadata": {},
   "outputs": [],
   "source": [
    "src = pd.read_csv('D:/Jupyter/DataSets/prv/data_mf.csv', sep=';')"
   ]
  },
  {
   "cell_type": "code",
   "execution_count": 14,
   "metadata": {},
   "outputs": [
    {
     "name": "stdout",
     "output_type": "stream",
     "text": [
      "Wall time: 15.6 s\n"
     ]
    }
   ],
   "source": [
    "%%time\n",
    "batch_size = \n",
    "res = tf_get_features(src.local_url[:1000].values, 'D:/Jupyter/DataSets/prv/graph_mobilenet_0.50_224.pb',\n",
    "                img_dim=(224,224,3), verbose=True)"
   ]
  },
  {
   "cell_type": "code",
   "execution_count": 16,
   "metadata": {},
   "outputs": [
    {
     "name": "stdout",
     "output_type": "stream",
     "text": [
      "Processed batch 1/101\n",
      "Processed batch 2/101\n",
      "Processed batch 3/101\n",
      "Processed batch 4/101\n",
      "Processed batch 5/101\n",
      "Processed batch 6/101\n",
      "Processed batch 7/101\n",
      "Processed batch 8/101\n",
      "Processed batch 9/101\n",
      "Processed batch 10/101\n",
      "Processed batch 11/101\n",
      "Processed batch 12/101\n",
      "Processed batch 13/101\n",
      "Processed batch 14/101\n",
      "Processed batch 15/101\n",
      "Processed batch 16/101\n",
      "Processed batch 17/101\n",
      "Processed batch 18/101\n",
      "Processed batch 19/101\n",
      "Processed batch 20/101\n",
      "Processed batch 21/101\n",
      "Processed batch 22/101\n",
      "Processed batch 23/101\n",
      "Processed batch 24/101\n",
      "Processed batch 25/101\n",
      "Processed batch 26/101\n",
      "Processed batch 27/101\n",
      "Processed batch 28/101\n",
      "Processed batch 29/101\n",
      "Processed batch 30/101\n",
      "Processed batch 31/101\n",
      "Processed batch 32/101\n",
      "Processed batch 33/101\n",
      "Processed batch 34/101\n",
      "Processed batch 35/101\n",
      "Processed batch 36/101\n",
      "Processed batch 37/101\n",
      "Processed batch 38/101\n",
      "Processed batch 39/101\n",
      "Processed batch 40/101\n",
      "Processed batch 41/101\n",
      "Processed batch 42/101\n",
      "Processed batch 43/101\n",
      "Processed batch 44/101\n",
      "Processed batch 45/101\n",
      "Processed batch 46/101\n",
      "Processed batch 47/101\n",
      "Processed batch 48/101\n",
      "Processed batch 49/101\n",
      "Processed batch 50/101\n",
      "Processed batch 51/101\n",
      "Processed batch 52/101\n",
      "Processed batch 53/101\n",
      "Processed batch 54/101\n",
      "Processed batch 55/101\n",
      "Processed batch 56/101\n",
      "Processed batch 57/101\n",
      "Processed batch 58/101\n",
      "Processed batch 59/101\n",
      "Processed batch 60/101\n",
      "Processed batch 61/101\n",
      "Processed batch 62/101\n",
      "Processed batch 63/101\n",
      "Processed batch 64/101\n",
      "Processed batch 65/101\n",
      "Processed batch 66/101\n",
      "Processed batch 67/101\n",
      "Processed batch 68/101\n",
      "Processed batch 69/101\n",
      "Processed batch 70/101\n",
      "Processed batch 71/101\n",
      "Processed batch 72/101\n",
      "Processed batch 73/101\n",
      "Processed batch 74/101\n",
      "Processed batch 75/101\n",
      "Processed batch 76/101\n",
      "Processed batch 77/101\n",
      "Processed batch 78/101\n",
      "Processed batch 79/101\n",
      "Processed batch 80/101\n",
      "Processed batch 81/101\n",
      "Processed batch 82/101\n",
      "Processed batch 83/101\n",
      "Processed batch 84/101\n",
      "Processed batch 85/101\n",
      "Processed batch 86/101\n",
      "Processed batch 87/101\n",
      "Processed batch 88/101\n",
      "Processed batch 89/101\n",
      "Processed batch 90/101\n",
      "Processed batch 91/101\n",
      "Processed batch 92/101\n",
      "Processed batch 93/101\n",
      "Processed batch 94/101\n",
      "Processed batch 95/101\n",
      "Processed batch 96/101\n",
      "Processed batch 97/101\n",
      "Processed batch 98/101\n",
      "Processed batch 99/101\n",
      "Processed batch 100/101\n",
      "Processed batch 101/101\n"
     ]
    }
   ],
   "source": [
    "tf_transform_batch('D:/Jupyter/DataSets/prv/mobnet_batch{0:03d}.npy',\n",
    "                   src.local_url, src[['trg_m','trg_f']].values,\n",
    "                  'D:/Jupyter/DataSets/prv/graph_mobilenet_0.50_224.pb',\n",
    "                  img_dim=(224,224,3), batch_size=512)"
   ]
  },
  {
   "cell_type": "code",
   "execution_count": 135,
   "metadata": {},
   "outputs": [
    {
     "name": "stdout",
     "output_type": "stream",
     "text": []
    },
    {
     "name": "stdout",
     "output_type": "stream",
     "text": []
    },
    {
     "name": "stdout",
     "output_type": "stream",
     "text": []
    },
    {
     "name": "stdout",
     "output_type": "stream",
     "text": []
    },
    {
     "name": "stdout",
     "output_type": "stream",
     "text": []
    },
    {
     "name": "stdout",
     "output_type": "stream",
     "text": []
    },
    {
     "name": "stdout",
     "output_type": "stream",
     "text": []
    },
    {
     "ename": "FileNotFoundError",
     "evalue": "[Errno 2] No such file or directory: 'D:\\\\Jupyter\\\\Datasets\\\\prv\\\\u0563955_002437761.jpg'",
     "output_type": "error",
     "traceback": [
      "\u001b[1;31m---------------------------------------------------------------------------\u001b[0m",
      "\u001b[1;31mFileNotFoundError\u001b[0m                         Traceback (most recent call last)",
      "\u001b[1;32m<ipython-input-135-12eed4d84324>\u001b[0m in \u001b[0;36m<module>\u001b[1;34m()\u001b[0m\n\u001b[0;32m      1\u001b[0m transform_batch('D:/Jupyter/DataSets/prv/dev0_batch{0:03d}.npy',\n\u001b[1;32m----> 2\u001b[1;33m                 src.local_url, src[['trg_m','trg_f']].values)\n\u001b[0m",
      "\u001b[1;32m<ipython-input-134-40e4738a8f58>\u001b[0m in \u001b[0;36mtransform_batch\u001b[1;34m(dst_format, src_files, src_data, batch_size)\u001b[0m\n\u001b[0;32m     38\u001b[0m         \u001b[0mstart\u001b[0m \u001b[1;33m=\u001b[0m \u001b[0mi\u001b[0m \u001b[1;33m*\u001b[0m \u001b[0mbatch_size\u001b[0m\u001b[1;33m\u001b[0m\u001b[0m\n\u001b[0;32m     39\u001b[0m         \u001b[0mend\u001b[0m \u001b[1;33m=\u001b[0m \u001b[1;33m(\u001b[0m\u001b[0mi\u001b[0m \u001b[1;33m+\u001b[0m \u001b[1;36m1\u001b[0m\u001b[1;33m)\u001b[0m \u001b[1;33m*\u001b[0m \u001b[0mbatch_size\u001b[0m\u001b[1;33m\u001b[0m\u001b[0m\n\u001b[1;32m---> 40\u001b[1;33m         \u001b[0mimgs\u001b[0m \u001b[1;33m=\u001b[0m \u001b[0mnp\u001b[0m\u001b[1;33m.\u001b[0m\u001b[0mvstack\u001b[0m\u001b[1;33m(\u001b[0m\u001b[1;33m[\u001b[0m\u001b[0mtransform_img\u001b[0m\u001b[1;33m(\u001b[0m\u001b[0mread_img\u001b[0m\u001b[1;33m(\u001b[0m\u001b[0mx\u001b[0m\u001b[1;33m)\u001b[0m\u001b[1;33m)\u001b[0m \u001b[1;32mfor\u001b[0m \u001b[0mx\u001b[0m \u001b[1;32min\u001b[0m \u001b[0msrc_files\u001b[0m\u001b[1;33m[\u001b[0m\u001b[0mstart\u001b[0m\u001b[1;33m:\u001b[0m\u001b[0mend\u001b[0m\u001b[1;33m]\u001b[0m\u001b[1;33m]\u001b[0m\u001b[1;33m)\u001b[0m\u001b[1;33m\u001b[0m\u001b[0m\n\u001b[0m\u001b[0;32m     41\u001b[0m         \u001b[0mdata\u001b[0m \u001b[1;33m=\u001b[0m \u001b[0mnp\u001b[0m\u001b[1;33m.\u001b[0m\u001b[0mhstack\u001b[0m\u001b[1;33m(\u001b[0m\u001b[1;33m[\u001b[0m\u001b[0msrc_data\u001b[0m\u001b[1;33m[\u001b[0m\u001b[0mstart\u001b[0m\u001b[1;33m:\u001b[0m\u001b[0mend\u001b[0m\u001b[1;33m]\u001b[0m\u001b[1;33m,\u001b[0m \u001b[0mimgs\u001b[0m\u001b[1;33m]\u001b[0m\u001b[1;33m)\u001b[0m\u001b[1;33m\u001b[0m\u001b[0m\n\u001b[0;32m     42\u001b[0m         \u001b[0mnp\u001b[0m\u001b[1;33m.\u001b[0m\u001b[0msave\u001b[0m\u001b[1;33m(\u001b[0m\u001b[0mdst_format\u001b[0m\u001b[1;33m.\u001b[0m\u001b[0mformat\u001b[0m\u001b[1;33m(\u001b[0m\u001b[0mi\u001b[0m\u001b[1;33m)\u001b[0m\u001b[1;33m,\u001b[0m \u001b[0mdata\u001b[0m\u001b[1;33m)\u001b[0m\u001b[1;33m\u001b[0m\u001b[0m\n",
      "\u001b[1;32m<ipython-input-134-40e4738a8f58>\u001b[0m in \u001b[0;36m<listcomp>\u001b[1;34m(.0)\u001b[0m\n\u001b[0;32m     38\u001b[0m         \u001b[0mstart\u001b[0m \u001b[1;33m=\u001b[0m \u001b[0mi\u001b[0m \u001b[1;33m*\u001b[0m \u001b[0mbatch_size\u001b[0m\u001b[1;33m\u001b[0m\u001b[0m\n\u001b[0;32m     39\u001b[0m         \u001b[0mend\u001b[0m \u001b[1;33m=\u001b[0m \u001b[1;33m(\u001b[0m\u001b[0mi\u001b[0m \u001b[1;33m+\u001b[0m \u001b[1;36m1\u001b[0m\u001b[1;33m)\u001b[0m \u001b[1;33m*\u001b[0m \u001b[0mbatch_size\u001b[0m\u001b[1;33m\u001b[0m\u001b[0m\n\u001b[1;32m---> 40\u001b[1;33m         \u001b[0mimgs\u001b[0m \u001b[1;33m=\u001b[0m \u001b[0mnp\u001b[0m\u001b[1;33m.\u001b[0m\u001b[0mvstack\u001b[0m\u001b[1;33m(\u001b[0m\u001b[1;33m[\u001b[0m\u001b[0mtransform_img\u001b[0m\u001b[1;33m(\u001b[0m\u001b[0mread_img\u001b[0m\u001b[1;33m(\u001b[0m\u001b[0mx\u001b[0m\u001b[1;33m)\u001b[0m\u001b[1;33m)\u001b[0m \u001b[1;32mfor\u001b[0m \u001b[0mx\u001b[0m \u001b[1;32min\u001b[0m \u001b[0msrc_files\u001b[0m\u001b[1;33m[\u001b[0m\u001b[0mstart\u001b[0m\u001b[1;33m:\u001b[0m\u001b[0mend\u001b[0m\u001b[1;33m]\u001b[0m\u001b[1;33m]\u001b[0m\u001b[1;33m)\u001b[0m\u001b[1;33m\u001b[0m\u001b[0m\n\u001b[0m\u001b[0;32m     41\u001b[0m         \u001b[0mdata\u001b[0m \u001b[1;33m=\u001b[0m \u001b[0mnp\u001b[0m\u001b[1;33m.\u001b[0m\u001b[0mhstack\u001b[0m\u001b[1;33m(\u001b[0m\u001b[1;33m[\u001b[0m\u001b[0msrc_data\u001b[0m\u001b[1;33m[\u001b[0m\u001b[0mstart\u001b[0m\u001b[1;33m:\u001b[0m\u001b[0mend\u001b[0m\u001b[1;33m]\u001b[0m\u001b[1;33m,\u001b[0m \u001b[0mimgs\u001b[0m\u001b[1;33m]\u001b[0m\u001b[1;33m)\u001b[0m\u001b[1;33m\u001b[0m\u001b[0m\n\u001b[0;32m     42\u001b[0m         \u001b[0mnp\u001b[0m\u001b[1;33m.\u001b[0m\u001b[0msave\u001b[0m\u001b[1;33m(\u001b[0m\u001b[0mdst_format\u001b[0m\u001b[1;33m.\u001b[0m\u001b[0mformat\u001b[0m\u001b[1;33m(\u001b[0m\u001b[0mi\u001b[0m\u001b[1;33m)\u001b[0m\u001b[1;33m,\u001b[0m \u001b[0mdata\u001b[0m\u001b[1;33m)\u001b[0m\u001b[1;33m\u001b[0m\u001b[0m\n",
      "\u001b[1;32m<ipython-input-134-40e4738a8f58>\u001b[0m in \u001b[0;36mread_img\u001b[1;34m(fname, out_size)\u001b[0m\n\u001b[0;32m      1\u001b[0m \u001b[1;32mdef\u001b[0m \u001b[0mread_img\u001b[0m\u001b[1;33m(\u001b[0m\u001b[0mfname\u001b[0m\u001b[1;33m,\u001b[0m \u001b[0mout_size\u001b[0m \u001b[1;33m=\u001b[0m \u001b[1;36m128\u001b[0m\u001b[1;33m)\u001b[0m\u001b[1;33m:\u001b[0m\u001b[1;33m\u001b[0m\u001b[0m\n\u001b[1;32m----> 2\u001b[1;33m     \u001b[0mf_img\u001b[0m \u001b[1;33m=\u001b[0m \u001b[0mskimage\u001b[0m\u001b[1;33m.\u001b[0m\u001b[0mio\u001b[0m\u001b[1;33m.\u001b[0m\u001b[0mimread\u001b[0m\u001b[1;33m(\u001b[0m\u001b[0mfname\u001b[0m\u001b[1;33m)\u001b[0m\u001b[1;33m\u001b[0m\u001b[0m\n\u001b[0m\u001b[0;32m      3\u001b[0m     \u001b[1;32mif\u001b[0m \u001b[0mlen\u001b[0m\u001b[1;33m(\u001b[0m\u001b[0mf_img\u001b[0m\u001b[1;33m.\u001b[0m\u001b[0mshape\u001b[0m\u001b[1;33m)\u001b[0m \u001b[1;33m!=\u001b[0m \u001b[1;36m3\u001b[0m\u001b[1;33m:\u001b[0m\u001b[1;33m\u001b[0m\u001b[0m\n\u001b[0;32m      4\u001b[0m         \u001b[0mprint\u001b[0m\u001b[1;33m(\u001b[0m\u001b[1;34m'Invalid dimensions in file \"{0}\"'\u001b[0m\u001b[1;33m.\u001b[0m\u001b[0mformat\u001b[0m\u001b[1;33m(\u001b[0m\u001b[0mfname\u001b[0m\u001b[1;33m)\u001b[0m\u001b[1;33m)\u001b[0m\u001b[1;33m\u001b[0m\u001b[0m\n\u001b[0;32m      5\u001b[0m         \u001b[1;32mreturn\u001b[0m \u001b[1;32mNone\u001b[0m\u001b[1;33m\u001b[0m\u001b[0m\n",
      "\u001b[1;32mc:\\anaconda3\\lib\\site-packages\\skimage\\io\\_io.py\u001b[0m in \u001b[0;36mimread\u001b[1;34m(fname, as_grey, plugin, flatten, **plugin_args)\u001b[0m\n\u001b[0;32m     59\u001b[0m \u001b[1;33m\u001b[0m\u001b[0m\n\u001b[0;32m     60\u001b[0m     \u001b[1;32mwith\u001b[0m \u001b[0mfile_or_url_context\u001b[0m\u001b[1;33m(\u001b[0m\u001b[0mfname\u001b[0m\u001b[1;33m)\u001b[0m \u001b[1;32mas\u001b[0m \u001b[0mfname\u001b[0m\u001b[1;33m:\u001b[0m\u001b[1;33m\u001b[0m\u001b[0m\n\u001b[1;32m---> 61\u001b[1;33m         \u001b[0mimg\u001b[0m \u001b[1;33m=\u001b[0m \u001b[0mcall_plugin\u001b[0m\u001b[1;33m(\u001b[0m\u001b[1;34m'imread'\u001b[0m\u001b[1;33m,\u001b[0m \u001b[0mfname\u001b[0m\u001b[1;33m,\u001b[0m \u001b[0mplugin\u001b[0m\u001b[1;33m=\u001b[0m\u001b[0mplugin\u001b[0m\u001b[1;33m,\u001b[0m \u001b[1;33m**\u001b[0m\u001b[0mplugin_args\u001b[0m\u001b[1;33m)\u001b[0m\u001b[1;33m\u001b[0m\u001b[0m\n\u001b[0m\u001b[0;32m     62\u001b[0m \u001b[1;33m\u001b[0m\u001b[0m\n\u001b[0;32m     63\u001b[0m     \u001b[1;32mif\u001b[0m \u001b[1;32mnot\u001b[0m \u001b[0mhasattr\u001b[0m\u001b[1;33m(\u001b[0m\u001b[0mimg\u001b[0m\u001b[1;33m,\u001b[0m \u001b[1;34m'ndim'\u001b[0m\u001b[1;33m)\u001b[0m\u001b[1;33m:\u001b[0m\u001b[1;33m\u001b[0m\u001b[0m\n",
      "\u001b[1;32mc:\\anaconda3\\lib\\site-packages\\skimage\\io\\manage_plugins.py\u001b[0m in \u001b[0;36mcall_plugin\u001b[1;34m(kind, *args, **kwargs)\u001b[0m\n\u001b[0;32m    209\u001b[0m                                (plugin, kind))\n\u001b[0;32m    210\u001b[0m \u001b[1;33m\u001b[0m\u001b[0m\n\u001b[1;32m--> 211\u001b[1;33m     \u001b[1;32mreturn\u001b[0m \u001b[0mfunc\u001b[0m\u001b[1;33m(\u001b[0m\u001b[1;33m*\u001b[0m\u001b[0margs\u001b[0m\u001b[1;33m,\u001b[0m \u001b[1;33m**\u001b[0m\u001b[0mkwargs\u001b[0m\u001b[1;33m)\u001b[0m\u001b[1;33m\u001b[0m\u001b[0m\n\u001b[0m\u001b[0;32m    212\u001b[0m \u001b[1;33m\u001b[0m\u001b[0m\n\u001b[0;32m    213\u001b[0m \u001b[1;33m\u001b[0m\u001b[0m\n",
      "\u001b[1;32mc:\\anaconda3\\lib\\site-packages\\skimage\\io\\_plugins\\pil_plugin.py\u001b[0m in \u001b[0;36mimread\u001b[1;34m(fname, dtype, img_num, **kwargs)\u001b[0m\n\u001b[0;32m     33\u001b[0m     \"\"\"\n\u001b[0;32m     34\u001b[0m     \u001b[1;32mif\u001b[0m \u001b[0misinstance\u001b[0m\u001b[1;33m(\u001b[0m\u001b[0mfname\u001b[0m\u001b[1;33m,\u001b[0m \u001b[0mstring_types\u001b[0m\u001b[1;33m)\u001b[0m\u001b[1;33m:\u001b[0m\u001b[1;33m\u001b[0m\u001b[0m\n\u001b[1;32m---> 35\u001b[1;33m         \u001b[1;32mwith\u001b[0m \u001b[0mopen\u001b[0m\u001b[1;33m(\u001b[0m\u001b[0mfname\u001b[0m\u001b[1;33m,\u001b[0m \u001b[1;34m'rb'\u001b[0m\u001b[1;33m)\u001b[0m \u001b[1;32mas\u001b[0m \u001b[0mf\u001b[0m\u001b[1;33m:\u001b[0m\u001b[1;33m\u001b[0m\u001b[0m\n\u001b[0m\u001b[0;32m     36\u001b[0m             \u001b[0mim\u001b[0m \u001b[1;33m=\u001b[0m \u001b[0mImage\u001b[0m\u001b[1;33m.\u001b[0m\u001b[0mopen\u001b[0m\u001b[1;33m(\u001b[0m\u001b[0mf\u001b[0m\u001b[1;33m)\u001b[0m\u001b[1;33m\u001b[0m\u001b[0m\n\u001b[0;32m     37\u001b[0m             \u001b[1;32mreturn\u001b[0m \u001b[0mpil_to_ndarray\u001b[0m\u001b[1;33m(\u001b[0m\u001b[0mim\u001b[0m\u001b[1;33m,\u001b[0m \u001b[0mdtype\u001b[0m\u001b[1;33m=\u001b[0m\u001b[0mdtype\u001b[0m\u001b[1;33m,\u001b[0m \u001b[0mimg_num\u001b[0m\u001b[1;33m=\u001b[0m\u001b[0mimg_num\u001b[0m\u001b[1;33m)\u001b[0m\u001b[1;33m\u001b[0m\u001b[0m\n",
      "\u001b[1;31mFileNotFoundError\u001b[0m: [Errno 2] No such file or directory: 'D:\\\\Jupyter\\\\Datasets\\\\prv\\\\u0563955_002437761.jpg'"
     ]
    }
   ],
   "source": [
    "transform_batch('D:/Jupyter/DataSets/prv/dev0_batch{0:03d}.npy',\n",
    "                src.local_url, src[['trg_m','trg_f']].values)"
   ]
  },
  {
   "cell_type": "code",
   "execution_count": 131,
   "metadata": {},
   "outputs": [
    {
     "data": {
      "text/plain": [
       "(200, 3)"
      ]
     },
     "execution_count": 131,
     "metadata": {},
     "output_type": "execute_result"
    }
   ],
   "source": [
    "src[['rid','trg_m','trg_f']].values[:200].shape"
   ]
  },
  {
   "cell_type": "code",
   "execution_count": 68,
   "metadata": {},
   "outputs": [
    {
     "name": "stdout",
     "output_type": "stream",
     "text": [
      "Wall time: 2min 33s\n"
     ]
    }
   ],
   "source": [
    "%%time\n",
    "test_X = np.vstack([readimg(x).reshape(1,-1) for x in src.local_url[1000:2000]])"
   ]
  },
  {
   "cell_type": "code",
   "execution_count": 69,
   "metadata": {},
   "outputs": [],
   "source": [
    "train_Y1 = src.trg_m[:1000].values.reshape(-1)\n",
    "train_Y2 = src.trg_f[:1000].values.reshape(-1)\n",
    "test_Y1 = src.trg_m[1000:2000].values.reshape(-1)\n",
    "test_Y2 = src.trg_f[1000:2000].values.reshape(-1)"
   ]
  },
  {
   "cell_type": "code",
   "execution_count": 54,
   "metadata": {},
   "outputs": [
    {
     "data": {
      "text/plain": [
       "((1000, 49152), (1000, 1))"
      ]
     },
     "execution_count": 54,
     "metadata": {},
     "output_type": "execute_result"
    }
   ],
   "source": [
    "train_X.shape, train_Y1.shape"
   ]
  },
  {
   "cell_type": "code",
   "execution_count": 64,
   "metadata": {},
   "outputs": [],
   "source": [
    "import sklearn, sklearn.linear_model, sklearn.metrics"
   ]
  },
  {
   "cell_type": "code",
   "execution_count": 84,
   "metadata": {},
   "outputs": [
    {
     "name": "stdout",
     "output_type": "stream",
     "text": [
      "Wall time: 6.24 s\n"
     ]
    }
   ],
   "source": [
    "%%time\n",
    "lr1 = sklearn.linear_model.LogisticRegression(penalty='l1', C=1).fit(train_X, train_Y1)"
   ]
  },
  {
   "cell_type": "code",
   "execution_count": 85,
   "metadata": {},
   "outputs": [],
   "source": [
    "train_P = lr1.predict_proba(train_X)[:,1]\n",
    "test_P = lr1.predict_proba(test_X)[:,1]"
   ]
  },
  {
   "cell_type": "code",
   "execution_count": 86,
   "metadata": {},
   "outputs": [
    {
     "data": {
      "text/plain": [
       "(0.99961915349143626, -0.012196356498047956)"
      ]
     },
     "execution_count": 86,
     "metadata": {},
     "output_type": "execute_result"
    }
   ],
   "source": [
    "sklearn.metrics.roc_auc_score(train_Y1, train_P)*2-1,\\\n",
    "sklearn.metrics.roc_auc_score(test_Y1, test_P)*2-1"
   ]
  },
  {
   "cell_type": "code",
   "execution_count": 119,
   "metadata": {},
   "outputs": [
    {
     "data": {
      "text/plain": [
       "<matplotlib.image.AxesImage at 0x1fe1288bac8>"
      ]
     },
     "execution_count": 119,
     "metadata": {},
     "output_type": "execute_result"
    },
    {
     "data": {
      "image/png": "[encoded data removed]",
      "text/plain": [
       "<matplotlib.figure.Figure at 0x1fe127c28d0>"
      ]
     },
     "metadata": {},
     "output_type": "display_data"
    }
   ],
   "source": [
    "plt.imshow(tmp2, cmap='autumn')"
   ]
  },
  {
   "cell_type": "code",
   "execution_count": 94,
   "metadata": {},
   "outputs": [
    {
     "data": {
      "text/plain": [
       "(128, 128)"
      ]
     },
     "execution_count": 94,
     "metadata": {},
     "output_type": "execute_result"
    }
   ],
   "source": [
    "tmp1.shape"
   ]
  },
  {
   "cell_type": "code",
   "execution_count": null,
   "metadata": {},
   "outputs": [],
   "source": []
  }
 ],
 "metadata": {
  "kernelspec": {
   "display_name": "Python 3",
   "language": "python",
   "name": "python3"
  },
  "language_info": {
   "codemirror_mode": {
    "name": "ipython",
    "version": 3
   },
   "file_extension": ".py",
   "mimetype": "text/x-python",
   "name": "python",
   "nbconvert_exporter": "python",
   "pygments_lexer": "ipython3",
   "version": "3.6.1"
  }
 },
 "nbformat": 4,
 "nbformat_minor": 2
}
