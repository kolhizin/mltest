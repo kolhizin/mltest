{
 "cells": [
  {
   "cell_type": "code",
   "execution_count": 196,
   "metadata": {
    "collapsed": true
   },
   "outputs": [],
   "source": [
    "import tensorflow as tf\n",
    "import numpy as np\n",
    "import pandas as pd\n",
    "import datetime\n",
    "import time\n",
    "\n",
    "from sklearn.linear_model import LogisticRegression\n",
    "from sklearn.svm import LinearSVC, SVC\n",
    "import sklearn.metrics"
   ]
  },
  {
   "cell_type": "code",
   "execution_count": 31,
   "metadata": {
    "collapsed": true
   },
   "outputs": [],
   "source": [
    "#Client generation functions\n",
    "#0 - ok, 1 - 1 bucket, 2 - 2, 3 - 3, 4 - 4+, C - closed\n",
    "#rr[i,j] - p ith to jth, j=5 => Early Repayment\n",
    "\n",
    "def states2string(states):\n",
    "    mp = {0:'0',1:'1',2:'2',3:'3',4:'4',5:'C', 6:'L'}\n",
    "    if type(states) is list:\n",
    "        return ''.join([mp[x] for x in states])\n",
    "    return mp[states]\n",
    "\n",
    "def augmentSymbol(s, pm):\n",
    "    if s in ('C', 'N'):\n",
    "        return s\n",
    "    return np.random.choice(['-',s],p=[pm,1-pm])\n",
    "\n",
    "def augmentMissing(pp, pm):\n",
    "    return ''.join([augmentSymbol(x, pm) for x in pp])\n",
    "\n",
    "def string2states(s):\n",
    "    mp = {'0':0,'1':1,'2':2,'3':3,'4':4,'C':5, 'L':6}\n",
    "    return [mp[x] for x in s]\n",
    "\n",
    "def genPP(age, term, rr, s0, pMissing=0.05):\n",
    "    if age <= 0:\n",
    "        return \"\"\n",
    "    pp = [np.random.choice(range(6), p=s0)]\n",
    "    if age <= 1:\n",
    "        return states2string(pp)\n",
    "    for i in range(age-1):\n",
    "        prev = pp[-1]\n",
    "        nxt = 5\n",
    "        if prev < 5 and (i < term or prev > 0):\n",
    "            nxt = np.random.choice(range(6), p=rr[prev,:])\n",
    "            if i >= term and nxt==0:\n",
    "                nxt = 5\n",
    "        pp.append(nxt)\n",
    "    return augmentMissing(states2string(list(reversed(pp))), pm=pMissing)\n",
    "\n",
    "def genCreditRR(rr, lamAge=20, lamTerm=10, emu=np.log(1e5), esigma=3, pMissing=0.1):\n",
    "    s0 = np.zeros(6)\n",
    "    s0[0] = rr[0,0] / (rr[0,0] + rr[0,5])\n",
    "    s0[5] = rr[0,5] / (rr[0,0] + rr[0,5])\n",
    "    \n",
    "    age = np.random.poisson(lam=lamAge)\n",
    "    term = np.random.poisson(lam=lamTerm)\n",
    "    limit = np.ceil(np.exp(np.random.normal(loc=emu, scale=esigma)) / 1e3) * 1e3\n",
    "    pp = genPP(age, term, rr, s0, pMissing=pMissing)\n",
    "    return (limit, term, pp)    \n",
    "\n",
    "def genCreditSimple(pBad=0.1, pEarlyRepayment=0.1, lamAge=20, pMissing=0.1):\n",
    "    pGood = (1 - pBad) \n",
    "    r0 = [(pGood - pEarlyRepayment), pBad, 0, 0, 0, pEarlyRepayment]\n",
    "    r1x = np.array([pGood * 0.33 / 0.9, 0.33, pBad * 0.33 / 0.1, 0, 0, pEarlyRepayment * pGood * 0.2])\n",
    "    r1s = np.sum(r1x)\n",
    "    r1 = [x/r1s for x in r1x]\n",
    "    r2p = [[0.10, 0.20, 0.10, 0.60, 0.0, 0.0],\n",
    "      [0.05, 0.05, 0.05, 0.05, 0.8, 0.0],\n",
    "      [0.03, 0.03, 0.02, 0.02, 0.9, 0.0]]\n",
    "    rr = np.array([r0] + [r1] + r2p)\n",
    "    return genCreditRR(rr, lamAge=lamAge, pMissing=pMissing)\n",
    "\n",
    "def getClientTarget(data):\n",
    "    num0 = 0\n",
    "    num1 = 0\n",
    "    num2p = 0\n",
    "    for r in data:\n",
    "        num0 += r[2].count('0') + r[2].count('L') + min(1, r[2].count('C'))\n",
    "        num1 += r[2].count('1')\n",
    "        num2p += 2 * r[2].count('2') + 3 * r[2].count('3') + 4 * r[2].count('4')\n",
    "    pGood = 0.5\n",
    "    if num0 + num1 + num2p > 0:\n",
    "        pGood = num0 / (0.1 + num0 + num1 + num2p)\n",
    "    pBad = 1 - pGood\n",
    "    return (np.random.binomial(1, pBad), pBad)\n",
    "\n",
    "def genClient(muBad=0.1, sigmaBad=0.1, pEarlyRepayment=0.05, muAge=20, sigmaAge=5, pMissing=0.1):\n",
    "    numCredits = 1\n",
    "    data = [genCreditSimple(pBad=min(0.5,np.random.lognormal(mean=np.log(muBad), sigma=sigmaBad)),\n",
    "                            pEarlyRepayment=pEarlyRepayment, pMissing=pMissing,\n",
    "                           lamAge=np.random.lognormal(mean=np.log(muAge), sigma=np.log(sigmaAge)))\n",
    "            for i in range(numCredits)]\n",
    "    target, prob = getClientTarget(data)\n",
    "    return (data, target, prob)\n",
    "\n",
    "#Generate sample (as in RRs)\n",
    "def genSample(numObs=1000, genObs=genClient):\n",
    "    res = []\n",
    "    for i in range(numObs):\n",
    "        (obs, trgt, prob) = genObs()\n",
    "        row = [i, trgt, prob] + list(obs[0])\n",
    "        res.append(row)\n",
    "    return pd.DataFrame(np.array(res),\n",
    "                        columns=['accnt_id', 'trgt', 'prob', 'limit0', 'term0', 'pp0'])"
   ]
  },
  {
   "cell_type": "code",
   "execution_count": 169,
   "metadata": {},
   "outputs": [
    {
     "data": {
      "text/html": [
       "<div>\n",
       "<style>\n",
       "    .dataframe thead tr:only-child th {\n",
       "        text-align: right;\n",
       "    }\n",
       "\n",
       "    .dataframe thead th {\n",
       "        text-align: left;\n",
       "    }\n",
       "\n",
       "    .dataframe tbody tr th {\n",
       "        vertical-align: top;\n",
       "    }\n",
       "</style>\n",
       "<table border=\"1\" class=\"dataframe\">\n",
       "  <thead>\n",
       "    <tr style=\"text-align: right;\">\n",
       "      <th></th>\n",
       "      <th>accnt_id</th>\n",
       "      <th>trgt</th>\n",
       "      <th>prob</th>\n",
       "      <th>limit0</th>\n",
       "      <th>term0</th>\n",
       "      <th>pp0</th>\n",
       "    </tr>\n",
       "  </thead>\n",
       "  <tbody>\n",
       "    <tr>\n",
       "      <th>0</th>\n",
       "      <td>0</td>\n",
       "      <td>0</td>\n",
       "      <td>0.024390243902438935</td>\n",
       "      <td>6000.0</td>\n",
       "      <td>10</td>\n",
       "      <td>CCCCCCCCCCCCCCCCCCCCCCCCCCCCCCCCCCCCCCCCCCCCCC...</td>\n",
       "    </tr>\n",
       "    <tr>\n",
       "      <th>1</th>\n",
       "      <td>1</td>\n",
       "      <td>0</td>\n",
       "      <td>0.032258064516129115</td>\n",
       "      <td>262000.0</td>\n",
       "      <td>15</td>\n",
       "      <td>CCCCCCCCCCCCC00</td>\n",
       "    </tr>\n",
       "    <tr>\n",
       "      <th>2</th>\n",
       "      <td>2</td>\n",
       "      <td>1</td>\n",
       "      <td>0.8573466476462197</td>\n",
       "      <td>20000.0</td>\n",
       "      <td>15</td>\n",
       "      <td>CCCCCCCCCCCCCCCCCCCCCC1444444-4-44443432110001...</td>\n",
       "    </tr>\n",
       "    <tr>\n",
       "      <th>3</th>\n",
       "      <td>3</td>\n",
       "      <td>0</td>\n",
       "      <td>0.21568627450980382</td>\n",
       "      <td>1000.0</td>\n",
       "      <td>4</td>\n",
       "      <td>CCCCCCCCCCCCCCCCCCCCCCCCCCCCCCCCCCCCCC-0010</td>\n",
       "    </tr>\n",
       "    <tr>\n",
       "      <th>4</th>\n",
       "      <td>4</td>\n",
       "      <td>0</td>\n",
       "      <td>0.00990099009900991</td>\n",
       "      <td>9000.0</td>\n",
       "      <td>11</td>\n",
       "      <td>CCCCCCCCCCCCCCCCCCCCCCCCCCCCCCCCCCCCCCCCCCCCCC...</td>\n",
       "    </tr>\n",
       "    <tr>\n",
       "      <th>5</th>\n",
       "      <td>5</td>\n",
       "      <td>0</td>\n",
       "      <td>0.09090909090909094</td>\n",
       "      <td>122000.0</td>\n",
       "      <td>13</td>\n",
       "      <td>-0</td>\n",
       "    </tr>\n",
       "    <tr>\n",
       "      <th>6</th>\n",
       "      <td>6</td>\n",
       "      <td>0</td>\n",
       "      <td>0.09090909090909094</td>\n",
       "      <td>43000.0</td>\n",
       "      <td>14</td>\n",
       "      <td>CCCCCCCCCCCCCCCCCCCCCCCC</td>\n",
       "    </tr>\n",
       "    <tr>\n",
       "      <th>7</th>\n",
       "      <td>7</td>\n",
       "      <td>0</td>\n",
       "      <td>0.09090909090909094</td>\n",
       "      <td>55000.0</td>\n",
       "      <td>10</td>\n",
       "      <td>CCCCCCCCCCCCCCCCCCCCCCCCCCCCCCCCCC</td>\n",
       "    </tr>\n",
       "    <tr>\n",
       "      <th>8</th>\n",
       "      <td>8</td>\n",
       "      <td>0</td>\n",
       "      <td>0.008264462809917328</td>\n",
       "      <td>17000.0</td>\n",
       "      <td>10</td>\n",
       "      <td>CCCCCCCCCCCCCCC00000000000</td>\n",
       "    </tr>\n",
       "    <tr>\n",
       "      <th>9</th>\n",
       "      <td>9</td>\n",
       "      <td>0</td>\n",
       "      <td>0.33884297520661155</td>\n",
       "      <td>118000.0</td>\n",
       "      <td>9</td>\n",
       "      <td>CCCCCCCCCC0000121000</td>\n",
       "    </tr>\n",
       "  </tbody>\n",
       "</table>\n",
       "</div>"
      ],
      "text/plain": [
       "  accnt_id trgt                  prob    limit0 term0  \\\n",
       "0        0    0  0.024390243902438935    6000.0    10   \n",
       "1        1    0  0.032258064516129115  262000.0    15   \n",
       "2        2    1    0.8573466476462197   20000.0    15   \n",
       "3        3    0   0.21568627450980382    1000.0     4   \n",
       "4        4    0   0.00990099009900991    9000.0    11   \n",
       "5        5    0   0.09090909090909094  122000.0    13   \n",
       "6        6    0   0.09090909090909094   43000.0    14   \n",
       "7        7    0   0.09090909090909094   55000.0    10   \n",
       "8        8    0  0.008264462809917328   17000.0    10   \n",
       "9        9    0   0.33884297520661155  118000.0     9   \n",
       "\n",
       "                                                 pp0  \n",
       "0  CCCCCCCCCCCCCCCCCCCCCCCCCCCCCCCCCCCCCCCCCCCCCC...  \n",
       "1                                    CCCCCCCCCCCCC00  \n",
       "2  CCCCCCCCCCCCCCCCCCCCCC1444444-4-44443432110001...  \n",
       "3        CCCCCCCCCCCCCCCCCCCCCCCCCCCCCCCCCCCCCC-0010  \n",
       "4  CCCCCCCCCCCCCCCCCCCCCCCCCCCCCCCCCCCCCCCCCCCCCC...  \n",
       "5                                                 -0  \n",
       "6                           CCCCCCCCCCCCCCCCCCCCCCCC  \n",
       "7                 CCCCCCCCCCCCCCCCCCCCCCCCCCCCCCCCCC  \n",
       "8                         CCCCCCCCCCCCCCC00000000000  \n",
       "9                               CCCCCCCCCC0000121000  "
      ]
     },
     "execution_count": 169,
     "metadata": {},
     "output_type": "execute_result"
    }
   ],
   "source": [
    "train_sample_src = genSample(20000)\n",
    "valid_sample_src = genSample(2000)\n",
    "train_sample_src[:10]"
   ]
  },
  {
   "cell_type": "code",
   "execution_count": 28,
   "metadata": {
    "collapsed": true
   },
   "outputs": [],
   "source": [
    "#Transformation functions\n",
    "def transformPP(term, pp):\n",
    "    if pp is None:\n",
    "        return pp\n",
    "    pplen = len(pp)\n",
    "    lst = max(0, pplen - term)\n",
    "    return pp[:lst] + pp[lst:].replace('C', 'L')\n",
    "\n",
    "def truncPP(term, pp, trlen=60):\n",
    "    if pp is None:\n",
    "        if term is None:\n",
    "            return 'X'*trlen\n",
    "        else:\n",
    "            return 'N'*trlen\n",
    "    pplen = len(pp)\n",
    "    if pplen >= trlen:\n",
    "        return pp[:trlen]\n",
    "    return pp + 'N'*(trlen - pplen)\n",
    "\n",
    "def transformDF(df, name='pp{0}t', trlen=60):\n",
    "    num = np.sum([x.replace('pp','').isnumeric() for x in df.columns])\n",
    "    res = df.copy()\n",
    "    for i in range(num):\n",
    "        cols = ['pp{0}'.format(i), 'term{0}'.format(i)]\n",
    "        res[name.format(i)] = [truncPP(int(t), transformPP(int(t), p), trlen) for _,(p,t) in df[cols].iterrows()]\n",
    "    return res\n",
    "\n",
    "\n",
    "def transformToTensor(df, pp='pp{0}t', useX=False, numCredits=None):\n",
    "    #check dimensions\n",
    "    #num credits\n",
    "    num_credits = np.sum([x.replace('pp','').isnumeric() for x in df.columns])\n",
    "    if numCredits is not None:\n",
    "        if num_credits < numCredits:\n",
    "            raise \"Provided <numCredits> is greater than number of fields in DF\"\n",
    "        num_credits = numCredits\n",
    "    num_mobs = None\n",
    "    for i in range(num_credits):\n",
    "        lens = list(set(len(x) for x in df[pp.format(i)] if x is not None))\n",
    "        numx = np.sum(['X' in x for x in df[pp.format(i)] if x is not None])\n",
    "        if numx > 0 and not useX:\n",
    "            raise \"Not supposed to use X, but X is found in observations!\"\n",
    "        if len(lens) != 1:\n",
    "            raise \"Expected same length in all observations!\"\n",
    "        if num_mobs is None:\n",
    "            num_mobs = lens[0]\n",
    "        if num_mobs != lens[0]:\n",
    "            raise \"Expected same length in all observations!\"\n",
    "    mapping = {'0':0,'1':1,'2':2,'3':3,'4':4,'-':5,'L':6,'C':7,'N':8}\n",
    "    if useX:\n",
    "        mapping['X'] = 9\n",
    "    \n",
    "    res = []\n",
    "    res_meta = []\n",
    "    res_trgt = []\n",
    "    for _, r in df.iterrows():\n",
    "        cred = []\n",
    "        cred_meta = []\n",
    "        res_trgt.append(r.trgt)\n",
    "        for i in range(num_credits):\n",
    "            cred.append([mapping[x] for x in reversed(r[pp.format(i)])])\n",
    "            cred_meta.append([-1 if r[f.format(i)] is None else r[f.format(i)] for f in ['limit{0}','term{0}']])\n",
    "        res.append(cred)\n",
    "        res_meta.append(cred_meta)\n",
    "    return np.array(res, dtype=np.int32), np.array(res_meta, dtype=np.float32), np.array(res_trgt, dtype=np.int32)\n",
    "\n",
    "def randomBatch(tensorTuple, batchSize=64):\n",
    "    ids = np.random.choice(range(tensorTuple[0].shape[0]), batchSize)\n",
    "    return (x[ids,] for x in tensorTuple)"
   ]
  },
  {
   "cell_type": "code",
   "execution_count": 108,
   "metadata": {},
   "outputs": [],
   "source": [
    "def safe_logit(x, clampX=1e-3):\n",
    "    p0 = np.maximum(clampX, x)\n",
    "    p1 = np.maximum(clampX, 1-x)\n",
    "    return np.log(p0 / p1)\n",
    "    \n",
    "def extractFeatures(df, pp='pp{0}'):\n",
    "    num_credits = np.sum([x.replace('pp','').isnumeric() for x in df.columns])\n",
    "    cnt_symbols = ['0', '1', '2', '3', '4', '5', 'L', 'C', '00', '01', '0L', '0C', '10', '11', '12', '1L', '1C']\n",
    "    \n",
    "    rr_names = ['f_rr{0}_01{1}', 'f_rr{0}_00{1}', 'f_rr{0}_10{1}', 'f_rr{0}_11{1}', 'f_rr{0}_12{1}']\n",
    "    rr_types = ['', 'f0', 'f1', 'lgt']\n",
    "    rr_final = [x.format(i) for x in ['f_rr{0}_0d', 'f_rr{0}_1d'] for i in range(num_credits)] + [x.format(i, y) for x in rr_names for y in rr_types for i in range(num_credits)]\n",
    "    \n",
    "    new_features = ['f_num{0}_{1}'.format(i, x) for i in range(num_credits) for x in cnt_symbols] + rr_final\n",
    "    res = pd.concat([df, pd.DataFrame(columns=new_features)])\n",
    "    \n",
    "    for _, r in res.iterrows():\n",
    "        for i in range(num_credits):\n",
    "            paypat = r[pp.format(i)]\n",
    "            cnts = {x:paypat.count(x) for x in cnt_symbols}\n",
    "            for x,v in cnts.items():\n",
    "                r['f_num{0}_{1}'.format(i, x)] = v\n",
    "            r0 = cnts['00'] + cnts['01'] + cnts['0L'] + cnts['0C']\n",
    "            r1 = cnts['10'] + cnts['11'] + cnts['12'] + cnts['1L'] + cnts['1C']\n",
    "            r['f_rr{0}_0d'.format(i)] = r0\n",
    "            r['f_rr{0}_1d'.format(i)] = r0\n",
    "            r['f_rr{0}_01'.format(i)] = (cnts['01'] / r0 if r0 > 0 else 0) \n",
    "            r['f_rr{0}_00'.format(i)] = ((cnts['00'] + cnts['0L'] + cnts['0C']) / r0 if r0 > 0 else 1)\n",
    "            r['f_rr{0}_12'.format(i)] = (cnts['12'] / r1 if r1 > 0 else 0)\n",
    "            r['f_rr{0}_11'.format(i)] = (cnts['11'] / r1 if r1 > 0 else 0)\n",
    "            r['f_rr{0}_10'.format(i)] = ((cnts['10'] + cnts['1L'] + cnts['1C']) / r1 if r1 > 0 else 0)\n",
    "            for f in ['f_rr{0}_01{1}', 'f_rr{0}_00{1}', 'f_rr{0}_10{1}', 'f_rr{0}_11{1}', 'f_rr{0}_12{1}']:\n",
    "                r[f.format(i, 'f0')] = (1 if r[f.format(i,'')]==0 else 0)\n",
    "                r[f.format(i, 'f1')] = (1 if r[f.format(i,'')]==1 else 0)\n",
    "                r[f.format(i, 'lgt')] = safe_logit(r[f.format(i,'')])   \n",
    "    return res\n",
    "\n",
    "def featuresToTensor(df):\n",
    "    features = [x for x in df.columns if x.find('f_') == 0]\n",
    "    return np.array(df[features]), np.array(df.trgt)"
   ]
  },
  {
   "cell_type": "code",
   "execution_count": 170,
   "metadata": {},
   "outputs": [],
   "source": [
    "train_sample = transformDF(train_sample_src)\n",
    "valid_sample = transformDF(valid_sample_src)\n",
    "train_wf = extractFeatures(train_sample, pp='pp{0}t')\n",
    "valid_wf = extractFeatures(valid_sample, pp='pp{0}t')"
   ]
  },
  {
   "cell_type": "code",
   "execution_count": 202,
   "metadata": {},
   "outputs": [
    {
     "ename": "KeyboardInterrupt",
     "evalue": "",
     "output_type": "error",
     "traceback": [
      "\u001b[1;31m---------------------------------------------------------------------------\u001b[0m",
      "\u001b[1;31mKeyboardInterrupt\u001b[0m                         Traceback (most recent call last)",
      "\u001b[1;32m<ipython-input-202-31b608082f47>\u001b[0m in \u001b[0;36m<module>\u001b[1;34m()\u001b[0m\n\u001b[0;32m      6\u001b[0m \u001b[0mvalid_p\u001b[0m \u001b[1;33m=\u001b[0m \u001b[0mlogreg0\u001b[0m\u001b[1;33m.\u001b[0m\u001b[0mpredict_proba\u001b[0m\u001b[1;33m(\u001b[0m\u001b[0mvalid_x\u001b[0m\u001b[1;33m)\u001b[0m\u001b[1;33m[\u001b[0m\u001b[1;33m:\u001b[0m\u001b[1;33m,\u001b[0m\u001b[1;36m1\u001b[0m\u001b[1;33m]\u001b[0m\u001b[1;33m\u001b[0m\u001b[0m\n\u001b[0;32m      7\u001b[0m \u001b[1;33m\u001b[0m\u001b[0m\n\u001b[1;32m----> 8\u001b[1;33m \u001b[0msvc0\u001b[0m \u001b[1;33m=\u001b[0m \u001b[0mSVC\u001b[0m\u001b[1;33m(\u001b[0m\u001b[0mprobability\u001b[0m\u001b[1;33m=\u001b[0m\u001b[1;32mTrue\u001b[0m\u001b[1;33m)\u001b[0m\u001b[1;33m.\u001b[0m\u001b[0mfit\u001b[0m\u001b[1;33m(\u001b[0m\u001b[0mtrain_x\u001b[0m\u001b[1;33m,\u001b[0m \u001b[0mtrain_y\u001b[0m\u001b[1;33m)\u001b[0m\u001b[1;33m\u001b[0m\u001b[0m\n\u001b[0m\u001b[0;32m      9\u001b[0m \u001b[0mvalid_psvc\u001b[0m \u001b[1;33m=\u001b[0m \u001b[0msvc0\u001b[0m\u001b[1;33m.\u001b[0m\u001b[0mpredict_proba\u001b[0m\u001b[1;33m(\u001b[0m\u001b[0mvalid_x\u001b[0m\u001b[1;33m)\u001b[0m\u001b[1;33m[\u001b[0m\u001b[1;33m:\u001b[0m\u001b[1;33m,\u001b[0m\u001b[1;36m1\u001b[0m\u001b[1;33m]\u001b[0m\u001b[1;33m\u001b[0m\u001b[0m\n",
      "\u001b[1;32mC:\\Anaconda3\\lib\\site-packages\\sklearn\\svm\\base.py\u001b[0m in \u001b[0;36mfit\u001b[1;34m(self, X, y, sample_weight)\u001b[0m\n\u001b[0;32m    187\u001b[0m \u001b[1;33m\u001b[0m\u001b[0m\n\u001b[0;32m    188\u001b[0m         \u001b[0mseed\u001b[0m \u001b[1;33m=\u001b[0m \u001b[0mrnd\u001b[0m\u001b[1;33m.\u001b[0m\u001b[0mrandint\u001b[0m\u001b[1;33m(\u001b[0m\u001b[0mnp\u001b[0m\u001b[1;33m.\u001b[0m\u001b[0miinfo\u001b[0m\u001b[1;33m(\u001b[0m\u001b[1;34m'i'\u001b[0m\u001b[1;33m)\u001b[0m\u001b[1;33m.\u001b[0m\u001b[0mmax\u001b[0m\u001b[1;33m)\u001b[0m\u001b[1;33m\u001b[0m\u001b[0m\n\u001b[1;32m--> 189\u001b[1;33m         \u001b[0mfit\u001b[0m\u001b[1;33m(\u001b[0m\u001b[0mX\u001b[0m\u001b[1;33m,\u001b[0m \u001b[0my\u001b[0m\u001b[1;33m,\u001b[0m \u001b[0msample_weight\u001b[0m\u001b[1;33m,\u001b[0m \u001b[0msolver_type\u001b[0m\u001b[1;33m,\u001b[0m \u001b[0mkernel\u001b[0m\u001b[1;33m,\u001b[0m \u001b[0mrandom_seed\u001b[0m\u001b[1;33m=\u001b[0m\u001b[0mseed\u001b[0m\u001b[1;33m)\u001b[0m\u001b[1;33m\u001b[0m\u001b[0m\n\u001b[0m\u001b[0;32m    190\u001b[0m         \u001b[1;31m# see comment on the other call to np.iinfo in this file\u001b[0m\u001b[1;33m\u001b[0m\u001b[1;33m\u001b[0m\u001b[0m\n\u001b[0;32m    191\u001b[0m \u001b[1;33m\u001b[0m\u001b[0m\n",
      "\u001b[1;32mC:\\Anaconda3\\lib\\site-packages\\sklearn\\svm\\base.py\u001b[0m in \u001b[0;36m_dense_fit\u001b[1;34m(self, X, y, sample_weight, solver_type, kernel, random_seed)\u001b[0m\n\u001b[0;32m    254\u001b[0m                 \u001b[0mcache_size\u001b[0m\u001b[1;33m=\u001b[0m\u001b[0mself\u001b[0m\u001b[1;33m.\u001b[0m\u001b[0mcache_size\u001b[0m\u001b[1;33m,\u001b[0m \u001b[0mcoef0\u001b[0m\u001b[1;33m=\u001b[0m\u001b[0mself\u001b[0m\u001b[1;33m.\u001b[0m\u001b[0mcoef0\u001b[0m\u001b[1;33m,\u001b[0m\u001b[1;33m\u001b[0m\u001b[0m\n\u001b[0;32m    255\u001b[0m                 \u001b[0mgamma\u001b[0m\u001b[1;33m=\u001b[0m\u001b[0mself\u001b[0m\u001b[1;33m.\u001b[0m\u001b[0m_gamma\u001b[0m\u001b[1;33m,\u001b[0m \u001b[0mepsilon\u001b[0m\u001b[1;33m=\u001b[0m\u001b[0mself\u001b[0m\u001b[1;33m.\u001b[0m\u001b[0mepsilon\u001b[0m\u001b[1;33m,\u001b[0m\u001b[1;33m\u001b[0m\u001b[0m\n\u001b[1;32m--> 256\u001b[1;33m                 max_iter=self.max_iter, random_seed=random_seed)\n\u001b[0m\u001b[0;32m    257\u001b[0m \u001b[1;33m\u001b[0m\u001b[0m\n\u001b[0;32m    258\u001b[0m         \u001b[0mself\u001b[0m\u001b[1;33m.\u001b[0m\u001b[0m_warn_from_fit_status\u001b[0m\u001b[1;33m(\u001b[0m\u001b[1;33m)\u001b[0m\u001b[1;33m\u001b[0m\u001b[0m\n",
      "\u001b[1;31mKeyboardInterrupt\u001b[0m: "
     ]
    }
   ],
   "source": [
    "train_x, train_y = featuresToTensor(train_wf)\n",
    "valid_x, valid_y = featuresToTensor(valid_wf)\n",
    "\n",
    "logreg0 = LogisticRegression().fit(train_x, train_y)\n",
    "train_p = logreg0.predict_proba(train_x)[:,1]\n",
    "valid_p = logreg0.predict_proba(valid_x)[:,1]\n",
    "\n",
    "svc0 = SVC(probability=True).fit(train_x, train_y)\n",
    "valid_psvc = svc0.predict_proba(valid_x)[:,1]"
   ]
  },
  {
   "cell_type": "code",
   "execution_count": 191,
   "metadata": {},
   "outputs": [
    {
     "name": "stdout",
     "output_type": "stream",
     "text": [
      "Graph creation complete\n"
     ]
    }
   ],
   "source": [
    "param_RNN_size = 30\n",
    "param_OUT_H1   = 30\n",
    "param_LR       = 1e-3\n",
    "\n",
    "size_pp_dictionary =  9\n",
    "size_meta_vars = 2\n",
    "\n",
    "size_mob_vars = size_pp_dictionary + size_meta_vars\n",
    "\n",
    "tf.reset_default_graph()\n",
    "\n",
    "tfIn_Train = tf.placeholder(shape=(), dtype=tf.bool)\n",
    "tfIn_Trgt = tf.placeholder(shape=(None,), dtype=tf.int32)\n",
    "tfIn_PP = tf.placeholder(shape=(None, 1, None), dtype=tf.int32)\n",
    "\n",
    "with tf.name_scope(name='DATA-TRANSFORMATION'):\n",
    "    tfY  = tf.one_hot(tfIn_Trgt, 2)\n",
    "    tfX  = tf.reduce_sum(tf.one_hot(tfIn_PP, size_pp_dictionary), axis=1)\n",
    "    tfXn = tfX[:,1:,:]\n",
    "\n",
    "#3 define RNN on these inputs\n",
    "with tf.name_scope(name='RNN'):\n",
    "    rnnCell = tf.nn.rnn_cell.GRUCell(num_units=param_RNN_size, activation=tf.nn.relu)\n",
    "    #rnnCell = tf.nn.rnn_cell.LSTMCell(num_units=param_RNN_size, state_is_tuple=True)\n",
    "    #rnnCell = tf.nn.rnn_cell.BasicRNNCell(num_units=param_RNN_size, activation=tf.nn.relu)\n",
    "    #rnnCell = tf.nn.rnn_cell.MultiRNNCell([tf.nn.rnn_cell.GRUCell(num_units=param_RNN_size, activation=tf.nn.relu) for _ in range(3)])\n",
    "    _, tfMO = tf.nn.dynamic_rnn(rnnCell, inputs=tfX, dtype=tf.float32)\n",
    "    #tfMO = tfMOh[2::3]\n",
    "\n",
    "#4 define output layer\n",
    "with tf.name_scope(name='OUTPUT-FFNN'):\n",
    "    tfOH1 = tf.layers.dense(tf.layers.dropout(tfMO, training=tfIn_Train), param_OUT_H1*2, activation=tf.nn.relu, name='OUT-H1')\n",
    "    tfOHD = tfOH1[:,:param_OUT_H1] / tf.maximum(1.0, tfOH1[:,param_OUT_H1:])\n",
    "    tfOHM = tfOH1[:,:param_OUT_H1] * tfOH1[:,param_OUT_H1:]\n",
    "    tfOHT = tf.concat([tfOH1, tfOHM, tfOHD], axis=1)\n",
    "    tfOO = tf.layers.dense(tfOHT, 2, name='OUT-OUT')\n",
    "    tft = tf.reduce_mean(tfOO)\n",
    "\n",
    "#5a define loss functions\n",
    "with tf.name_scope(name='LOSS-OPTIMIZER'):\n",
    "    tfLoss = tf.reduce_mean(tf.nn.softmax_cross_entropy_with_logits(labels=tfY,logits=tfOO))\n",
    "    tfTrain = tf.train.AdamOptimizer(param_LR).minimize(tfLoss)\n",
    "\n",
    "tfLossSummary = tf.summary.scalar('Cross-Entropy-Loss', tfLoss)\n",
    "#5b prediction\n",
    "tfOutProb = tf.nn.softmax(tfOO)[:,1]\n",
    "\n",
    "print('Graph creation complete')"
   ]
  },
  {
   "cell_type": "code",
   "execution_count": 173,
   "metadata": {
    "collapsed": true
   },
   "outputs": [],
   "source": [
    "train_pp, train_meta, train_trgt = transformToTensor(train_sample, useX=False, numCredits=1)\n",
    "valid_pp, valid_meta, valid_trgt = transformToTensor(valid_sample, useX=False, numCredits=1)"
   ]
  },
  {
   "cell_type": "code",
   "execution_count": 192,
   "metadata": {},
   "outputs": [
    {
     "name": "stdout",
     "output_type": "stream",
     "text": [
      "Epoch 0 (5.8 sec): loss changed from 0.688 to 0.554\n",
      "Epoch 1 (5.8 sec): loss changed from 0.544 to 0.511\n",
      "Epoch 2 (6.1 sec): loss changed from 0.522 to 0.499\n",
      "Epoch 3 (5.7 sec): loss changed from 0.493 to 0.449\n",
      "Epoch 4 (5.8 sec): loss changed from 0.457 to 0.423\n",
      "Epoch 5 (6.1 sec): loss changed from 0.429 to 0.407\n",
      "Epoch 6 (6.2 sec): loss changed from 0.409 to 0.39\n",
      "Epoch 7 (7.3 sec): loss changed from 0.395 to 0.381\n",
      "Epoch 8 (7.6 sec): loss changed from 0.395 to 0.372\n",
      "Epoch 9 (6.8 sec): loss changed from 0.413 to 0.403\n",
      "Epoch 10 (6.4 sec): loss changed from 0.403 to 0.397\n",
      "Epoch 11 (6.2 sec): loss changed from 0.361 to 0.355\n",
      "Epoch 12 (6.8 sec): loss changed from 0.368 to 0.37\n",
      "Epoch 13 (6.4 sec): loss changed from 0.373 to 0.371\n",
      "Epoch 14 (6.7 sec): loss changed from 0.371 to 0.363\n",
      "Epoch 15 (7.5 sec): loss changed from 0.378 to 0.365\n",
      "Epoch 16 (6.8 sec): loss changed from 0.365 to 0.359\n",
      "Epoch 17 (6.7 sec): loss changed from 0.367 to 0.359\n",
      "Epoch 18 (6.7 sec): loss changed from 0.36 to 0.344\n",
      "Epoch 19 (6.7 sec): loss changed from 0.355 to 0.353\n"
     ]
    }
   ],
   "source": [
    "num_epoch = 20\n",
    "num_step  = 20\n",
    "batch_size = 2000\n",
    "\n",
    "dt_now = datetime.datetime.now().strftime(\"%Y-%m-%d_%H%M%S\")\n",
    "tffw = tf.summary.FileWriter('D:/Jupyter/Logs/00_BurPat_SRNN-{0}'.format(dt_now), tf.get_default_graph())\n",
    "train_batch = {tfIn_PP: train_pp, tfIn_Trgt: train_trgt, tfIn_Train:True}\n",
    "valid_batch = {tfIn_PP: valid_pp, tfIn_Trgt: valid_trgt, tfIn_Train:False}\n",
    "with tf.Session() as tfs:    \n",
    "    tfs.run(tf.global_variables_initializer())\n",
    "    for i in range(num_epoch):\n",
    "        mini_pp, mini_meta, mini_trgt = randomBatch((train_pp, train_meta, train_trgt), batch_size)\n",
    "        mini_batch = {tfIn_PP: mini_pp, tfIn_Trgt: mini_trgt, tfIn_Train:True}\n",
    "        \n",
    "        time0 = time.perf_counter()\n",
    "        loss0 = tfLoss.eval(feed_dict=mini_batch)\n",
    "        for j in range(num_step):\n",
    "            tfTrain.run(feed_dict=mini_batch)\n",
    "        loss1 = tfLoss.eval(feed_dict=mini_batch)\n",
    "        time1 = time.perf_counter()\n",
    "        \n",
    "        valid_loss_str = tfLossSummary.eval(feed_dict=valid_batch)\n",
    "        tffw.add_summary(valid_loss_str, i)\n",
    "        print('Epoch {0} ({3:1.2} sec): loss changed from {1:1.3} to {2:1.3}'.format(i, loss0, loss1, time1-time0))\n",
    "    train_prob = tfOutProb.eval(feed_dict=train_batch)\n",
    "    valid_prob = tfOutProb.eval(feed_dict=valid_batch)"
   ]
  },
  {
   "cell_type": "code",
   "execution_count": 200,
   "metadata": {},
   "outputs": [
    {
     "ename": "NameError",
     "evalue": "name 'valid_psvc' is not defined",
     "output_type": "error",
     "traceback": [
      "\u001b[1;31m---------------------------------------------------------------------------\u001b[0m",
      "\u001b[1;31mNameError\u001b[0m                                 Traceback (most recent call last)",
      "\u001b[1;32m<ipython-input-200-725518a4acbe>\u001b[0m in \u001b[0;36m<module>\u001b[1;34m()\u001b[0m\n\u001b[0;32m      2\u001b[0m \u001b[0mvsmpl\u001b[0m\u001b[1;33m[\u001b[0m\u001b[1;34m'nnp'\u001b[0m\u001b[1;33m]\u001b[0m \u001b[1;33m=\u001b[0m \u001b[0mvalid_prob\u001b[0m\u001b[1;33m\u001b[0m\u001b[0m\n\u001b[0;32m      3\u001b[0m \u001b[0mvsmpl\u001b[0m\u001b[1;33m[\u001b[0m\u001b[1;34m'lrp'\u001b[0m\u001b[1;33m]\u001b[0m \u001b[1;33m=\u001b[0m \u001b[0mvalid_p\u001b[0m\u001b[1;33m\u001b[0m\u001b[0m\n\u001b[1;32m----> 4\u001b[1;33m \u001b[0mvsmpl\u001b[0m\u001b[1;33m[\u001b[0m\u001b[1;34m'svcp'\u001b[0m\u001b[1;33m]\u001b[0m \u001b[1;33m=\u001b[0m \u001b[0mvalid_psvc\u001b[0m\u001b[1;33m\u001b[0m\u001b[0m\n\u001b[0m\u001b[0;32m      5\u001b[0m \u001b[0mvsmpl\u001b[0m \u001b[1;33m=\u001b[0m \u001b[0mvsmpl\u001b[0m\u001b[1;33m[\u001b[0m\u001b[1;33m[\u001b[0m\u001b[1;34m'accnt_id'\u001b[0m\u001b[1;33m,\u001b[0m\u001b[1;34m'trgt'\u001b[0m\u001b[1;33m,\u001b[0m\u001b[1;34m'prob'\u001b[0m\u001b[1;33m,\u001b[0m\u001b[1;34m'nnp'\u001b[0m\u001b[1;33m,\u001b[0m\u001b[1;34m'lrp'\u001b[0m\u001b[1;33m,\u001b[0m \u001b[1;34m'svcp'\u001b[0m\u001b[1;33m,\u001b[0m\u001b[1;34m'pp0'\u001b[0m\u001b[1;33m,\u001b[0m\u001b[1;34m'pp0t'\u001b[0m\u001b[1;33m]\u001b[0m\u001b[1;33m]\u001b[0m\u001b[1;33m\u001b[0m\u001b[0m\n",
      "\u001b[1;31mNameError\u001b[0m: name 'valid_psvc' is not defined"
     ]
    }
   ],
   "source": [
    "vsmpl = valid_sample.copy()\n",
    "vsmpl['nnp'] = valid_prob\n",
    "vsmpl['lrp'] = valid_p\n",
    "vsmpl['svcp'] = valid_psvc\n",
    "vsmpl = vsmpl[['accnt_id','trgt','prob','nnp','lrp', 'svcp','pp0','pp0t']]"
   ]
  },
  {
   "cell_type": "code",
   "execution_count": 176,
   "metadata": {},
   "outputs": [
    {
     "data": {
      "text/plain": [
       "0.82460401327152066"
      ]
     },
     "execution_count": 176,
     "metadata": {},
     "output_type": "execute_result"
    }
   ],
   "source": [
    "sklearn.metrics.roc_auc_score(np.array(vsmpl.trgt, dtype=np.float32), np.array(vsmpl.prob, dtype=np.float32))*2-1"
   ]
  },
  {
   "cell_type": "code",
   "execution_count": 194,
   "metadata": {},
   "outputs": [
    {
     "data": {
      "text/plain": [
       "0.72316153076993017"
      ]
     },
     "execution_count": 194,
     "metadata": {},
     "output_type": "execute_result"
    }
   ],
   "source": [
    "sklearn.metrics.roc_auc_score(np.array(vsmpl.trgt, dtype=np.float32), np.array(vsmpl.nnp, dtype=np.float32))*2-1"
   ]
  },
  {
   "cell_type": "code",
   "execution_count": 190,
   "metadata": {},
   "outputs": [
    {
     "data": {
      "text/plain": [
       "0.68162837469320969"
      ]
     },
     "execution_count": 190,
     "metadata": {},
     "output_type": "execute_result"
    }
   ],
   "source": [
    "sklearn.metrics.roc_auc_score(np.array(vsmpl.trgt, dtype=np.float32), np.array(vsmpl.lrp, dtype=np.float32))*2-1"
   ]
  },
  {
   "cell_type": "code",
   "execution_count": 75,
   "metadata": {},
   "outputs": [],
   "source": [
    "tmp = {a:a+'-' for a in 'xyz'}"
   ]
  },
  {
   "cell_type": "code",
   "execution_count": 114,
   "metadata": {},
   "outputs": [
    {
     "data": {
      "text/plain": [
       "(10, 39)"
      ]
     },
     "execution_count": 114,
     "metadata": {},
     "output_type": "execute_result"
    }
   ],
   "source": []
  },
  {
   "cell_type": "code",
   "execution_count": null,
   "metadata": {
    "collapsed": true
   },
   "outputs": [],
   "source": []
  }
 ],
 "metadata": {
  "kernelspec": {
   "display_name": "Python 3",
   "language": "python",
   "name": "python3"
  },
  "language_info": {
   "codemirror_mode": {
    "name": "ipython",
    "version": 3
   },
   "file_extension": ".py",
   "mimetype": "text/x-python",
   "name": "python",
   "nbconvert_exporter": "python",
   "pygments_lexer": "ipython3",
   "version": "3.6.1"
  }
 },
 "nbformat": 4,
 "nbformat_minor": 2
}
