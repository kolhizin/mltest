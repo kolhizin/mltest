{
 "cells": [
  {
   "cell_type": "code",
   "execution_count": 4,
   "metadata": {
    "collapsed": true
   },
   "outputs": [],
   "source": [
    "import numpy as np\n",
    "import tensorflow as tf\n",
    "import pandas as pd\n",
    "import matplotlib.pyplot as plt\n",
    "import datetime, time\n",
    "\n",
    "import modutils\n",
    "\n",
    "data_dir = '../DataSets/Churn/'\n",
    "#data_dir = '../DataSets/kkbox/churn/raw/'\n",
    "logs_fmt = data_dir + 'user_logs/uldts_{0}.csv'\n",
    "logm_fmt = data_dir + 'user_logs/uldtm_{0}.csv'\n",
    "logu_fmt = data_dir + 'user_logs/uldtu_{0}.csv'\n",
    "used_log = '201702'"
   ]
  },
  {
   "cell_type": "code",
   "execution_count": 5,
   "metadata": {},
   "outputs": [
    {
     "data": {
      "text/plain": [
       "'../DataSets/Churn/user_logs/uldts_201702.csv'"
      ]
     },
     "execution_count": 5,
     "metadata": {},
     "output_type": "execute_result"
    }
   ],
   "source": [
    "fname = logs_fmt.format(used_log)\n",
    "fname"
   ]
  },
  {
   "cell_type": "code",
   "execution_count": 6,
   "metadata": {},
   "outputs": [],
   "source": [
    "srclog = pd.read_csv(fname)"
   ]
  },
  {
   "cell_type": "code",
   "execution_count": 7,
   "metadata": {
    "collapsed": true
   },
   "outputs": [],
   "source": [
    "srcid = pd.DataFrame(np.array(srclog.groupby('msno').date.count().index), columns=['msno'])\n",
    "srcid['uid'] = srcid.index\n",
    "df_dates = pd.DataFrame(np.sort(np.array(srclog.date.value_counts().index)), columns=['date'])\n",
    "\n",
    "srcid['fake'] = 0\n",
    "df_dates['fake'] = 0"
   ]
  },
  {
   "cell_type": "code",
   "execution_count": 8,
   "metadata": {
    "collapsed": true
   },
   "outputs": [],
   "source": [
    "srcfull = pd.merge(srcid, df_dates, on='fake')[['msno', 'uid', 'date']]"
   ]
  },
  {
   "cell_type": "code",
   "execution_count": 9,
   "metadata": {
    "collapsed": true
   },
   "outputs": [],
   "source": [
    "#20 sec\n",
    "srcfull = pd.merge(srcfull, srclog, how='left', on=['msno', 'date'])"
   ]
  },
  {
   "cell_type": "code",
   "execution_count": 10,
   "metadata": {
    "collapsed": true
   },
   "outputs": [],
   "source": [
    "srcfull['used'] = 1*(~srcfull.total_secs.isnull())\n",
    "srcfull.num_25.view()[srcfull.used==0] = 0\n",
    "srcfull.num_50.view()[srcfull.used==0] = 0\n",
    "srcfull.num_75.view()[srcfull.used==0] = 0\n",
    "srcfull.num_985.view()[srcfull.used==0] = 0\n",
    "srcfull.num_100.view()[srcfull.used==0] = 0\n",
    "srcfull.num_unq.view()[srcfull.used==0] = 0\n",
    "srcfull.total_secs.view()[srcfull.used==0] = 0"
   ]
  },
  {
   "cell_type": "code",
   "execution_count": 11,
   "metadata": {
    "collapsed": true
   },
   "outputs": [],
   "source": [
    "srcfull['num_tot'] = srcfull.num_25 + srcfull.num_50 + srcfull.num_75 + srcfull.num_985 + srcfull.num_100\n",
    "srcfull['pct_low'] = srcfull.num_25 / srcfull.num_tot\n",
    "srcfull['pct_high'] = (srcfull.num_50 + srcfull.num_75 + srcfull.num_985) / srcfull.num_tot\n",
    "srcfull['pct_100'] = (srcfull.num_100) / srcfull.num_tot\n",
    "srcfull['pct_unq'] = (srcfull.num_unq) / srcfull.num_tot\n",
    "srcfull['avg_sec'] = srcfull.total_secs / srcfull.num_tot\n",
    "\n",
    "srcfull['ln_tot'] = np.log(1 + srcfull.num_tot)\n",
    "srcfull['ln_sec'] = np.log(1 + srcfull.total_secs)\n",
    "srcfull['avg_sec_n'] = (srcfull.avg_sec - 180) / 60"
   ]
  },
  {
   "cell_type": "code",
   "execution_count": 12,
   "metadata": {
    "collapsed": true
   },
   "outputs": [],
   "source": [
    "srcfull.pct_low.view()[srcfull.used==0]=0\n",
    "srcfull.pct_high.view()[srcfull.used==0]=0\n",
    "srcfull.pct_100.view()[srcfull.used==0]=0\n",
    "srcfull.pct_unq.view()[srcfull.used==0]=0\n",
    "srcfull.avg_sec.view()[srcfull.used==0]=0\n",
    "srcfull.avg_sec_n.view()[srcfull.used==0]=0\n",
    "srcfull.ln_tot.view()[srcfull.used==0]=0\n",
    "srcfull.ln_sec.view()[srcfull.used==0]=0"
   ]
  },
  {
   "cell_type": "code",
   "execution_count": 13,
   "metadata": {
    "collapsed": true
   },
   "outputs": [],
   "source": [
    "srcfull['nxt_used'] = srcfull.used.shift(-1)\n",
    "srcfull.nxt_used.view()[srcfull.uid.shift(-1)!=srcfull.uid] = np.nan"
   ]
  },
  {
   "cell_type": "code",
   "execution_count": 14,
   "metadata": {
    "collapsed": true
   },
   "outputs": [],
   "source": [
    "srcid[['msno','uid']].to_csv(logu_fmt.format(used_log), index=False)"
   ]
  },
  {
   "cell_type": "code",
   "execution_count": 34,
   "metadata": {},
   "outputs": [
    {
     "data": {
      "text/plain": [
       "(11, '../DataSets/Churn/user_logs/uldtm_201702.csv')"
      ]
     },
     "execution_count": 34,
     "metadata": {},
     "output_type": "execute_result"
    }
   ],
   "source": [
    "flds = ['uid','date','used', 'nxt_used', 'ln_tot', 'ln_sec','pct_low','pct_high','pct_100','pct_unq','avg_sec_n']\n",
    "len(flds), logm_fmt.format(used_log)"
   ]
  },
  {
   "cell_type": "code",
   "execution_count": null,
   "metadata": {},
   "outputs": [],
   "source": [
    "srcfull.to_csv(logm_fmt.format(used_log), index=False, columns=flds, float_format='%g')"
   ]
  },
  {
   "cell_type": "code",
   "execution_count": null,
   "metadata": {
    "collapsed": true
   },
   "outputs": [],
   "source": []
  }
 ],
 "metadata": {
  "kernelspec": {
   "display_name": "Python 3",
   "language": "python",
   "name": "python3"
  },
  "language_info": {
   "codemirror_mode": {
    "name": "ipython",
    "version": 3
   },
   "file_extension": ".py",
   "mimetype": "text/x-python",
   "name": "python",
   "nbconvert_exporter": "python",
   "pygments_lexer": "ipython3",
   "version": "3.6.1"
  }
 },
 "nbformat": 4,
 "nbformat_minor": 2
}
