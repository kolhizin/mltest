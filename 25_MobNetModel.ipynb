{
 "cells": [
  {
   "cell_type": "code",
   "execution_count": 321,
   "metadata": {},
   "outputs": [],
   "source": [
    "import numpy as np\n",
    "import pandas as pd\n",
    "import modutils\n",
    "import time, datetime\n",
    "import sklearn, sklearn.metrics, sklearn.decomposition, sklearn.ensemble, sklearn.linear_model\n",
    "import collections\n",
    "import matplotlib.pyplot as plt\n",
    "import seaborn\n",
    "from collections import Counter\n",
    "\n",
    "dev_batch_format = 'D:/Jupyter/DataSets/prv/mobnet_batch{0:03d}.npy'\n",
    "dev_batches = range(101)\n",
    "\n",
    "def read_batches(batches):\n",
    "    res = []\n",
    "    for x in batches:\n",
    "        try:\n",
    "            res.append(np.load(dev_batch_format.format(x)))\n",
    "        except:\n",
    "            print('failed load')\n",
    "    return np.vstack(res)\n",
    "\n",
    "def split_full(full):\n",
    "    return full[:, 2:], full[:,0], full[:,1]\n",
    "\n",
    "def transform_models(X, models):\n",
    "    tmp = [m.predict_proba(X)[:,1] for m in models]\n",
    "    return np.vstack([np.log(x / (1-x)) for x in tmp]).T"
   ]
  },
  {
   "cell_type": "code",
   "execution_count": 280,
   "metadata": {},
   "outputs": [],
   "source": [
    "dev0_X, dev0_YM, dev0_YF = split_full(read_batches(dev_batches))\n",
    "dev_X =dev0_X[~np.isnan(dev0_YF)]\n",
    "dev_YM =dev0_YM[~np.isnan(dev0_YF)]\n",
    "dev_YF =dev0_YF[~np.isnan(dev0_YF)]\n",
    "rndval = np.random.uniform(size=len(dev_X))\n",
    "rndcut = 0.9\n",
    "train_X = dev_X[rndval < rndcut]\n",
    "train_YF = dev_YF[rndval < rndcut]\n",
    "train_YM = dev_YM[rndval < rndcut]\n",
    "test_X = dev_X[rndval >= rndcut]\n",
    "test_YF = dev_YF[rndval >= rndcut]\n",
    "test_YM = dev_YM[rndval >= rndcut]"
   ]
  },
  {
   "cell_type": "code",
   "execution_count": 281,
   "metadata": {},
   "outputs": [
    {
     "name": "stdout",
     "output_type": "stream",
     "text": [
      "0.823859486835 0.798403255299\n",
      "Wall time: 19 s\n"
     ]
    }
   ],
   "source": [
    "%%time\n",
    "m_l2r_f = sklearn.linear_model.LogisticRegression(penalty='l2', C=0.001).fit(train_X, train_YF)\n",
    "print(sklearn.metrics.roc_auc_score(train_YF, m_l2r_f.predict_proba(train_X)[:,1]) * 2 - 1,\\\n",
    "    sklearn.metrics.roc_auc_score(test_YF, m_l2r_f.predict_proba(test_X)[:, 1]) * 2 - 1)"
   ]
  },
  {
   "cell_type": "code",
   "execution_count": 282,
   "metadata": {},
   "outputs": [
    {
     "name": "stdout",
     "output_type": "stream",
     "text": [
      "0.825619559525 0.795129070197\n",
      "Wall time: 47.2 s\n"
     ]
    }
   ],
   "source": [
    "%%time\n",
    "m_l1r_f = sklearn.linear_model.LogisticRegression(penalty='l1', C=0.05).fit(train_X, train_YF)\n",
    "print(sklearn.metrics.roc_auc_score(train_YF, m_l1r_f.predict_proba(train_X)[:,1]) * 2 - 1,\\\n",
    "    sklearn.metrics.roc_auc_score(test_YF, m_l1r_f.predict_proba(test_X)[:, 1]) * 2 - 1)"
   ]
  },
  {
   "cell_type": "code",
   "execution_count": 283,
   "metadata": {},
   "outputs": [],
   "source": [
    "models0 = [m_l1r_f, m_l2r_f]\n",
    "m_lr_f = sklearn.linear_model.LogisticRegression(C=1.0).fit(transform_models(train_X, models0), train_YF)"
   ]
  },
  {
   "cell_type": "code",
   "execution_count": 284,
   "metadata": {},
   "outputs": [
    {
     "data": {
      "text/plain": [
       "(0.82544560685035706, 0.79327306909783935)"
      ]
     },
     "execution_count": 284,
     "metadata": {},
     "output_type": "execute_result"
    }
   ],
   "source": [
    "sklearn.metrics.roc_auc_score(train_YF, m_lr_f.predict_proba(transform_models(train_X, models0))[:,1]) * 2 - 1,\\\n",
    "sklearn.metrics.roc_auc_score(test_YF, m_lr_f.predict_proba(transform_models(test_X, models0))[:,1]) * 2 - 1"
   ]
  },
  {
   "cell_type": "code",
   "execution_count": 285,
   "metadata": {},
   "outputs": [],
   "source": [
    "dev0_PF = m_l2r_f.predict_proba(dev0_X)[:,1]"
   ]
  },
  {
   "cell_type": "code",
   "execution_count": 243,
   "metadata": {},
   "outputs": [
    {
     "data": {
      "text/plain": [
       "0.36307053941908712"
      ]
     },
     "execution_count": 243,
     "metadata": {},
     "output_type": "execute_result"
    }
   ],
   "source": [
    "test_YF[test_PF>0.3].mean()"
   ]
  },
  {
   "cell_type": "code",
   "execution_count": 213,
   "metadata": {},
   "outputs": [
    {
     "name": "stdout",
     "output_type": "stream",
     "text": [
      "Wall time: 21min 8s\n"
     ]
    }
   ],
   "source": [
    "%%time\n",
    "m_gb_f = sklearn.ensemble.GradientBoostingClassifier(max_depth=3, min_samples_leaf=3, n_estimators=100)\n",
    "m_gb_f.fit(train_X, train_YF)"
   ]
  },
  {
   "cell_type": "code",
   "execution_count": 214,
   "metadata": {},
   "outputs": [
    {
     "data": {
      "text/plain": [
       "(0.86652417954866623, 0.75719303596030363)"
      ]
     },
     "execution_count": 214,
     "metadata": {},
     "output_type": "execute_result"
    }
   ],
   "source": [
    "sklearn.metrics.roc_auc_score(train_YF, m_gb_f.predict_proba(train_X)[:,1]) * 2 - 1,\\\n",
    "sklearn.metrics.roc_auc_score(test_YF, m_gb_f.predict_proba(test_X)[:,1]) * 2 - 1"
   ]
  },
  {
   "cell_type": "code",
   "execution_count": 81,
   "metadata": {},
   "outputs": [
    {
     "name": "stdout",
     "output_type": "stream",
     "text": [
      "Wall time: 1min 7s\n"
     ]
    }
   ],
   "source": [
    "%%time\n",
    "m_rf_f = sklearn.ensemble.RandomForestClassifier(max_depth=3, min_samples_leaf=3, n_estimators=500)\n",
    "m_rf_f.fit(train_X, train_YF)"
   ]
  },
  {
   "cell_type": "code",
   "execution_count": 82,
   "metadata": {},
   "outputs": [
    {
     "data": {
      "text/plain": [
       "(0.78752977891760789, 0.57370618277697094)"
      ]
     },
     "execution_count": 82,
     "metadata": {},
     "output_type": "execute_result"
    }
   ],
   "source": [
    "sklearn.metrics.roc_auc_score(train_YF, m_rf_f.predict_proba(train_X)[:,1]) * 2 - 1,\\\n",
    "sklearn.metrics.roc_auc_score(test_YF, m_rf_f.predict_proba(test_X)[:,1]) * 2 - 1"
   ]
  },
  {
   "cell_type": "code",
   "execution_count": 165,
   "metadata": {},
   "outputs": [
    {
     "data": {
      "text/plain": [
       "array([   0,    7,   28,  100,  245,  249,  257,  287,  326,  331,  358,\n",
       "        383,  400,  458,  471,  495,  503,  515,  520,  562,  629,  709,\n",
       "        717,  719,  722,  776,  777,  780,  842,  899,  902,  940,  964,\n",
       "        968,  980, 1034, 1041, 1060, 1087, 1143, 1185, 1212, 1217, 1294,\n",
       "       1317, 1322, 1364, 1378, 1452, 1460, 1499, 1525, 1535, 1585, 1605,\n",
       "       1728, 1782, 1795, 1830, 1842, 1862, 1928, 1957, 1980, 2008, 2016,\n",
       "       2053, 2077, 2104, 2123, 2164, 2173, 2196, 2201, 2204, 2230, 2290,\n",
       "       2301, 2336, 2338, 2352, 2398, 2495, 2502, 2546])"
      ]
     },
     "execution_count": 165,
     "metadata": {},
     "output_type": "execute_result"
    }
   ],
   "source": [
    "np.array(range(len(test_PF)))[(test_PF>0.4)&(test_YF==0)]"
   ]
  },
  {
   "cell_type": "code",
   "execution_count": 166,
   "metadata": {},
   "outputs": [],
   "source": [
    "all_X,all_YM,all_YF = split_full(read_batches(range(40)))"
   ]
  },
  {
   "cell_type": "code",
   "execution_count": 167,
   "metadata": {},
   "outputs": [],
   "source": [
    "all_PF = m_lr_f.predict_proba(transform_models(all_X, models0))[:,1]"
   ]
  },
  {
   "cell_type": "code",
   "execution_count": 168,
   "metadata": {},
   "outputs": [
    {
     "data": {
      "text/plain": [
       "0.78821123786037717"
      ]
     },
     "execution_count": 168,
     "metadata": {},
     "output_type": "execute_result"
    }
   ],
   "source": [
    "sklearn.metrics.roc_auc_score(all_YF, all_PF)*2-1"
   ]
  },
  {
   "cell_type": "code",
   "execution_count": 287,
   "metadata": {},
   "outputs": [],
   "source": [
    "src = pd.read_csv('D:/Jupyter/DataSets/prv/raw_image.csv', delimiter=';', encoding='cp1251', quotechar='\"')"
   ]
  },
  {
   "cell_type": "code",
   "execution_count": 310,
   "metadata": {},
   "outputs": [],
   "source": [
    "src['p_f'] = dev0_PF\n",
    "src['score_f'] = -np.log(dev0_PF / (1-dev0_PF))*36+533\n",
    "src['score_f10'] = np.clip(np.floor(src.score_f / 10).astype(np.int32) * 10, 500, 800)\n",
    "src['score_f50'] = np.clip(np.floor(src.score_f / 50).astype(np.int32) * 50, 500, 800)"
   ]
  },
  {
   "cell_type": "code",
   "execution_count": 366,
   "metadata": {},
   "outputs": [
    {
     "data": {
      "text/html": [
       "<div>\n",
       "<style>\n",
       "    .dataframe thead tr:only-child th {\n",
       "        text-align: right;\n",
       "    }\n",
       "\n",
       "    .dataframe thead th {\n",
       "        text-align: left;\n",
       "    }\n",
       "\n",
       "    .dataframe tbody tr th {\n",
       "        vertical-align: top;\n",
       "    }\n",
       "</style>\n",
       "<table border=\"1\" class=\"dataframe\">\n",
       "  <thead>\n",
       "    <tr>\n",
       "      <th></th>\n",
       "      <th colspan=\"3\" halign=\"left\">trg_f</th>\n",
       "      <th colspan=\"3\" halign=\"left\">trg_m</th>\n",
       "      <th>score_f</th>\n",
       "      <th>p_f</th>\n",
       "    </tr>\n",
       "    <tr>\n",
       "      <th></th>\n",
       "      <th>mean</th>\n",
       "      <th>sum</th>\n",
       "      <th>count</th>\n",
       "      <th>mean</th>\n",
       "      <th>sum</th>\n",
       "      <th>count</th>\n",
       "      <th>count</th>\n",
       "      <th>mean</th>\n",
       "    </tr>\n",
       "    <tr>\n",
       "      <th>score_f10</th>\n",
       "      <th></th>\n",
       "      <th></th>\n",
       "      <th></th>\n",
       "      <th></th>\n",
       "      <th></th>\n",
       "      <th></th>\n",
       "      <th></th>\n",
       "      <th></th>\n",
       "    </tr>\n",
       "  </thead>\n",
       "  <tbody>\n",
       "    <tr>\n",
       "      <th>500</th>\n",
       "      <td>0.605140</td>\n",
       "      <td>259.0</td>\n",
       "      <td>428</td>\n",
       "      <td>0.081776</td>\n",
       "      <td>35.0</td>\n",
       "      <td>428</td>\n",
       "      <td>541</td>\n",
       "      <td>0.761870</td>\n",
       "    </tr>\n",
       "    <tr>\n",
       "      <th>510</th>\n",
       "      <td>0.657407</td>\n",
       "      <td>142.0</td>\n",
       "      <td>216</td>\n",
       "      <td>0.125000</td>\n",
       "      <td>27.0</td>\n",
       "      <td>216</td>\n",
       "      <td>263</td>\n",
       "      <td>0.618652</td>\n",
       "    </tr>\n",
       "    <tr>\n",
       "      <th>520</th>\n",
       "      <td>0.545139</td>\n",
       "      <td>157.0</td>\n",
       "      <td>288</td>\n",
       "      <td>0.170139</td>\n",
       "      <td>49.0</td>\n",
       "      <td>288</td>\n",
       "      <td>353</td>\n",
       "      <td>0.553265</td>\n",
       "    </tr>\n",
       "    <tr>\n",
       "      <th>530</th>\n",
       "      <td>0.504762</td>\n",
       "      <td>212.0</td>\n",
       "      <td>420</td>\n",
       "      <td>0.202381</td>\n",
       "      <td>85.0</td>\n",
       "      <td>420</td>\n",
       "      <td>513</td>\n",
       "      <td>0.485465</td>\n",
       "    </tr>\n",
       "    <tr>\n",
       "      <th>540</th>\n",
       "      <td>0.440162</td>\n",
       "      <td>217.0</td>\n",
       "      <td>493</td>\n",
       "      <td>0.249493</td>\n",
       "      <td>123.0</td>\n",
       "      <td>493</td>\n",
       "      <td>605</td>\n",
       "      <td>0.416359</td>\n",
       "    </tr>\n",
       "    <tr>\n",
       "      <th>550</th>\n",
       "      <td>0.425760</td>\n",
       "      <td>238.0</td>\n",
       "      <td>559</td>\n",
       "      <td>0.293381</td>\n",
       "      <td>164.0</td>\n",
       "      <td>559</td>\n",
       "      <td>724</td>\n",
       "      <td>0.352597</td>\n",
       "    </tr>\n",
       "    <tr>\n",
       "      <th>560</th>\n",
       "      <td>0.357430</td>\n",
       "      <td>267.0</td>\n",
       "      <td>747</td>\n",
       "      <td>0.331995</td>\n",
       "      <td>248.0</td>\n",
       "      <td>747</td>\n",
       "      <td>904</td>\n",
       "      <td>0.291256</td>\n",
       "    </tr>\n",
       "    <tr>\n",
       "      <th>570</th>\n",
       "      <td>0.286349</td>\n",
       "      <td>258.0</td>\n",
       "      <td>901</td>\n",
       "      <td>0.407325</td>\n",
       "      <td>367.0</td>\n",
       "      <td>901</td>\n",
       "      <td>1085</td>\n",
       "      <td>0.237214</td>\n",
       "    </tr>\n",
       "    <tr>\n",
       "      <th>580</th>\n",
       "      <td>0.238647</td>\n",
       "      <td>247.0</td>\n",
       "      <td>1035</td>\n",
       "      <td>0.440580</td>\n",
       "      <td>456.0</td>\n",
       "      <td>1035</td>\n",
       "      <td>1281</td>\n",
       "      <td>0.190281</td>\n",
       "    </tr>\n",
       "    <tr>\n",
       "      <th>590</th>\n",
       "      <td>0.180382</td>\n",
       "      <td>217.0</td>\n",
       "      <td>1203</td>\n",
       "      <td>0.525353</td>\n",
       "      <td>632.0</td>\n",
       "      <td>1203</td>\n",
       "      <td>1496</td>\n",
       "      <td>0.151929</td>\n",
       "    </tr>\n",
       "    <tr>\n",
       "      <th>600</th>\n",
       "      <td>0.140484</td>\n",
       "      <td>203.0</td>\n",
       "      <td>1445</td>\n",
       "      <td>0.565398</td>\n",
       "      <td>817.0</td>\n",
       "      <td>1445</td>\n",
       "      <td>1799</td>\n",
       "      <td>0.119172</td>\n",
       "    </tr>\n",
       "    <tr>\n",
       "      <th>610</th>\n",
       "      <td>0.092468</td>\n",
       "      <td>151.0</td>\n",
       "      <td>1633</td>\n",
       "      <td>0.589712</td>\n",
       "      <td>963.0</td>\n",
       "      <td>1633</td>\n",
       "      <td>2027</td>\n",
       "      <td>0.092832</td>\n",
       "    </tr>\n",
       "    <tr>\n",
       "      <th>620</th>\n",
       "      <td>0.067901</td>\n",
       "      <td>121.0</td>\n",
       "      <td>1782</td>\n",
       "      <td>0.633558</td>\n",
       "      <td>1129.0</td>\n",
       "      <td>1782</td>\n",
       "      <td>2261</td>\n",
       "      <td>0.072127</td>\n",
       "    </tr>\n",
       "    <tr>\n",
       "      <th>630</th>\n",
       "      <td>0.046914</td>\n",
       "      <td>95.0</td>\n",
       "      <td>2025</td>\n",
       "      <td>0.663210</td>\n",
       "      <td>1343.0</td>\n",
       "      <td>2025</td>\n",
       "      <td>2532</td>\n",
       "      <td>0.055523</td>\n",
       "    </tr>\n",
       "    <tr>\n",
       "      <th>640</th>\n",
       "      <td>0.025968</td>\n",
       "      <td>55.0</td>\n",
       "      <td>2118</td>\n",
       "      <td>0.671860</td>\n",
       "      <td>1423.0</td>\n",
       "      <td>2118</td>\n",
       "      <td>2678</td>\n",
       "      <td>0.042680</td>\n",
       "    </tr>\n",
       "    <tr>\n",
       "      <th>650</th>\n",
       "      <td>0.026502</td>\n",
       "      <td>60.0</td>\n",
       "      <td>2264</td>\n",
       "      <td>0.687279</td>\n",
       "      <td>1556.0</td>\n",
       "      <td>2264</td>\n",
       "      <td>2900</td>\n",
       "      <td>0.032727</td>\n",
       "    </tr>\n",
       "    <tr>\n",
       "      <th>660</th>\n",
       "      <td>0.013445</td>\n",
       "      <td>32.0</td>\n",
       "      <td>2380</td>\n",
       "      <td>0.696639</td>\n",
       "      <td>1658.0</td>\n",
       "      <td>2380</td>\n",
       "      <td>3068</td>\n",
       "      <td>0.025023</td>\n",
       "    </tr>\n",
       "    <tr>\n",
       "      <th>670</th>\n",
       "      <td>0.010033</td>\n",
       "      <td>24.0</td>\n",
       "      <td>2392</td>\n",
       "      <td>0.705686</td>\n",
       "      <td>1688.0</td>\n",
       "      <td>2392</td>\n",
       "      <td>3103</td>\n",
       "      <td>0.019062</td>\n",
       "    </tr>\n",
       "    <tr>\n",
       "      <th>680</th>\n",
       "      <td>0.006321</td>\n",
       "      <td>15.0</td>\n",
       "      <td>2373</td>\n",
       "      <td>0.715129</td>\n",
       "      <td>1697.0</td>\n",
       "      <td>2373</td>\n",
       "      <td>3087</td>\n",
       "      <td>0.014509</td>\n",
       "    </tr>\n",
       "    <tr>\n",
       "      <th>690</th>\n",
       "      <td>0.004444</td>\n",
       "      <td>10.0</td>\n",
       "      <td>2250</td>\n",
       "      <td>0.732000</td>\n",
       "      <td>1647.0</td>\n",
       "      <td>2250</td>\n",
       "      <td>2951</td>\n",
       "      <td>0.011017</td>\n",
       "    </tr>\n",
       "    <tr>\n",
       "      <th>700</th>\n",
       "      <td>0.000469</td>\n",
       "      <td>1.0</td>\n",
       "      <td>2131</td>\n",
       "      <td>0.733458</td>\n",
       "      <td>1563.0</td>\n",
       "      <td>2131</td>\n",
       "      <td>2784</td>\n",
       "      <td>0.008378</td>\n",
       "    </tr>\n",
       "    <tr>\n",
       "      <th>710</th>\n",
       "      <td>0.003106</td>\n",
       "      <td>6.0</td>\n",
       "      <td>1932</td>\n",
       "      <td>0.728261</td>\n",
       "      <td>1407.0</td>\n",
       "      <td>1932</td>\n",
       "      <td>2548</td>\n",
       "      <td>0.006347</td>\n",
       "    </tr>\n",
       "    <tr>\n",
       "      <th>720</th>\n",
       "      <td>0.001170</td>\n",
       "      <td>2.0</td>\n",
       "      <td>1710</td>\n",
       "      <td>0.736257</td>\n",
       "      <td>1259.0</td>\n",
       "      <td>1710</td>\n",
       "      <td>2280</td>\n",
       "      <td>0.004835</td>\n",
       "    </tr>\n",
       "    <tr>\n",
       "      <th>730</th>\n",
       "      <td>0.000660</td>\n",
       "      <td>1.0</td>\n",
       "      <td>1515</td>\n",
       "      <td>0.733333</td>\n",
       "      <td>1111.0</td>\n",
       "      <td>1515</td>\n",
       "      <td>1992</td>\n",
       "      <td>0.003663</td>\n",
       "    </tr>\n",
       "    <tr>\n",
       "      <th>740</th>\n",
       "      <td>0.001631</td>\n",
       "      <td>2.0</td>\n",
       "      <td>1226</td>\n",
       "      <td>0.738173</td>\n",
       "      <td>905.0</td>\n",
       "      <td>1226</td>\n",
       "      <td>1647</td>\n",
       "      <td>0.002780</td>\n",
       "    </tr>\n",
       "    <tr>\n",
       "      <th>750</th>\n",
       "      <td>0.000000</td>\n",
       "      <td>0.0</td>\n",
       "      <td>1065</td>\n",
       "      <td>0.736150</td>\n",
       "      <td>784.0</td>\n",
       "      <td>1065</td>\n",
       "      <td>1398</td>\n",
       "      <td>0.002115</td>\n",
       "    </tr>\n",
       "    <tr>\n",
       "      <th>760</th>\n",
       "      <td>0.000000</td>\n",
       "      <td>0.0</td>\n",
       "      <td>861</td>\n",
       "      <td>0.728223</td>\n",
       "      <td>627.0</td>\n",
       "      <td>861</td>\n",
       "      <td>1171</td>\n",
       "      <td>0.001596</td>\n",
       "    </tr>\n",
       "    <tr>\n",
       "      <th>770</th>\n",
       "      <td>0.001460</td>\n",
       "      <td>1.0</td>\n",
       "      <td>685</td>\n",
       "      <td>0.696350</td>\n",
       "      <td>477.0</td>\n",
       "      <td>685</td>\n",
       "      <td>914</td>\n",
       "      <td>0.001212</td>\n",
       "    </tr>\n",
       "    <tr>\n",
       "      <th>780</th>\n",
       "      <td>0.000000</td>\n",
       "      <td>0.0</td>\n",
       "      <td>493</td>\n",
       "      <td>0.752535</td>\n",
       "      <td>371.0</td>\n",
       "      <td>493</td>\n",
       "      <td>655</td>\n",
       "      <td>0.000917</td>\n",
       "    </tr>\n",
       "    <tr>\n",
       "      <th>790</th>\n",
       "      <td>0.000000</td>\n",
       "      <td>0.0</td>\n",
       "      <td>373</td>\n",
       "      <td>0.721180</td>\n",
       "      <td>269.0</td>\n",
       "      <td>373</td>\n",
       "      <td>511</td>\n",
       "      <td>0.000694</td>\n",
       "    </tr>\n",
       "    <tr>\n",
       "      <th>800</th>\n",
       "      <td>0.000000</td>\n",
       "      <td>0.0</td>\n",
       "      <td>862</td>\n",
       "      <td>0.737819</td>\n",
       "      <td>636.0</td>\n",
       "      <td>862</td>\n",
       "      <td>1131</td>\n",
       "      <td>0.000362</td>\n",
       "    </tr>\n",
       "  </tbody>\n",
       "</table>\n",
       "</div>"
      ],
      "text/plain": [
       "              trg_f                  trg_m               score_f       p_f\n",
       "               mean    sum count      mean     sum count   count      mean\n",
       "score_f10                                                                 \n",
       "500        0.605140  259.0   428  0.081776    35.0   428     541  0.761870\n",
       "510        0.657407  142.0   216  0.125000    27.0   216     263  0.618652\n",
       "520        0.545139  157.0   288  0.170139    49.0   288     353  0.553265\n",
       "530        0.504762  212.0   420  0.202381    85.0   420     513  0.485465\n",
       "540        0.440162  217.0   493  0.249493   123.0   493     605  0.416359\n",
       "550        0.425760  238.0   559  0.293381   164.0   559     724  0.352597\n",
       "560        0.357430  267.0   747  0.331995   248.0   747     904  0.291256\n",
       "570        0.286349  258.0   901  0.407325   367.0   901    1085  0.237214\n",
       "580        0.238647  247.0  1035  0.440580   456.0  1035    1281  0.190281\n",
       "590        0.180382  217.0  1203  0.525353   632.0  1203    1496  0.151929\n",
       "600        0.140484  203.0  1445  0.565398   817.0  1445    1799  0.119172\n",
       "610        0.092468  151.0  1633  0.589712   963.0  1633    2027  0.092832\n",
       "620        0.067901  121.0  1782  0.633558  1129.0  1782    2261  0.072127\n",
       "630        0.046914   95.0  2025  0.663210  1343.0  2025    2532  0.055523\n",
       "640        0.025968   55.0  2118  0.671860  1423.0  2118    2678  0.042680\n",
       "650        0.026502   60.0  2264  0.687279  1556.0  2264    2900  0.032727\n",
       "660        0.013445   32.0  2380  0.696639  1658.0  2380    3068  0.025023\n",
       "670        0.010033   24.0  2392  0.705686  1688.0  2392    3103  0.019062\n",
       "680        0.006321   15.0  2373  0.715129  1697.0  2373    3087  0.014509\n",
       "690        0.004444   10.0  2250  0.732000  1647.0  2250    2951  0.011017\n",
       "700        0.000469    1.0  2131  0.733458  1563.0  2131    2784  0.008378\n",
       "710        0.003106    6.0  1932  0.728261  1407.0  1932    2548  0.006347\n",
       "720        0.001170    2.0  1710  0.736257  1259.0  1710    2280  0.004835\n",
       "730        0.000660    1.0  1515  0.733333  1111.0  1515    1992  0.003663\n",
       "740        0.001631    2.0  1226  0.738173   905.0  1226    1647  0.002780\n",
       "750        0.000000    0.0  1065  0.736150   784.0  1065    1398  0.002115\n",
       "760        0.000000    0.0   861  0.728223   627.0   861    1171  0.001596\n",
       "770        0.001460    1.0   685  0.696350   477.0   685     914  0.001212\n",
       "780        0.000000    0.0   493  0.752535   371.0   493     655  0.000917\n",
       "790        0.000000    0.0   373  0.721180   269.0   373     511  0.000694\n",
       "800        0.000000    0.0   862  0.737819   636.0   862    1131  0.000362"
      ]
     },
     "execution_count": 366,
     "metadata": {},
     "output_type": "execute_result"
    }
   ],
   "source": [
    "src.groupby('score_f10').agg({'trg_f':['mean', 'sum', 'count'], 'trg_m':['mean', 'sum', 'count'], 'score_f':'count', 'p_f':'mean'})"
   ]
  },
  {
   "cell_type": "code",
   "execution_count": 335,
   "metadata": {},
   "outputs": [],
   "source": [
    "def gather_stat(df, cutoff=0.01):\n",
    "    tmp = dict(Counter(sum(df.tags.map(lambda x: x.split(';') if type(x) is str else []).values.tolist(), [])))\n",
    "    tsum = sum(tmp.values())\n",
    "    return sorted({k:v/tsum for (k,v) in tmp.items() if v > cutoff*tsum}.items(), key = lambda x: x[1], reverse=True)"
   ]
  },
  {
   "cell_type": "code",
   "execution_count": 344,
   "metadata": {},
   "outputs": [
    {
     "name": "stdout",
     "output_type": "stream",
     "text": [
      "Wall time: 7.45 s\n"
     ]
    }
   ],
   "source": [
    "%%time\n",
    "tmp = [(x, gather_stat(src[src.score_f50==x])) for x in range(500, 801, 50)]"
   ]
  },
  {
   "cell_type": "code",
   "execution_count": 365,
   "metadata": {},
   "outputs": [
    {
     "data": {
      "text/html": [
       "<div>\n",
       "<style>\n",
       "    .dataframe thead tr:only-child th {\n",
       "        text-align: right;\n",
       "    }\n",
       "\n",
       "    .dataframe thead th {\n",
       "        text-align: left;\n",
       "    }\n",
       "\n",
       "    .dataframe tbody tr th {\n",
       "        vertical-align: top;\n",
       "    }\n",
       "</style>\n",
       "<table border=\"1\" class=\"dataframe\">\n",
       "  <thead>\n",
       "    <tr style=\"text-align: right;\">\n",
       "      <th></th>\n",
       "      <th>rid</th>\n",
       "      <th>rdt</th>\n",
       "      <th>req_rid</th>\n",
       "      <th>img_id</th>\n",
       "      <th>img_url</th>\n",
       "      <th>user_id</th>\n",
       "      <th>user_name</th>\n",
       "      <th>user_url</th>\n",
       "      <th>upload_dt</th>\n",
       "      <th>tags</th>\n",
       "      <th>views</th>\n",
       "      <th>rating</th>\n",
       "      <th>cmts</th>\n",
       "      <th>local_url</th>\n",
       "      <th>trg_m</th>\n",
       "      <th>trg_f</th>\n",
       "      <th>p_f</th>\n",
       "      <th>score_f</th>\n",
       "      <th>score_f10</th>\n",
       "      <th>score_f50</th>\n",
       "    </tr>\n",
       "  </thead>\n",
       "  <tbody>\n",
       "    <tr>\n",
       "      <th>44729</th>\n",
       "      <td>44730</td>\n",
       "      <td>2018-03-28 23:40:40.907000000</td>\n",
       "      <td>70507</td>\n",
       "      <td>293009</td>\n",
       "      <td>http://porevo.win/pics.php?q=gioQhSbCgKFKCD5mV...</td>\n",
       "      <td>152049</td>\n",
       "      <td>Riser100</td>\n",
       "      <td>http://porevo.win/index.php?action=user&amp;id=152049</td>\n",
       "      <td>2008-01-13</td>\n",
       "      <td>NaN</td>\n",
       "      <td>1385</td>\n",
       "      <td>10</td>\n",
       "      <td>46</td>\n",
       "      <td>D:\\Jupyter\\Datasets\\prv\\u0152049_000293009.jpg</td>\n",
       "      <td>NaN</td>\n",
       "      <td>NaN</td>\n",
       "      <td>0.984921</td>\n",
       "      <td>382.547589</td>\n",
       "      <td>500</td>\n",
       "      <td>500</td>\n",
       "    </tr>\n",
       "  </tbody>\n",
       "</table>\n",
       "</div>"
      ],
      "text/plain": [
       "         rid                            rdt  req_rid  img_id  \\\n",
       "44729  44730  2018-03-28 23:40:40.907000000    70507  293009   \n",
       "\n",
       "                                                 img_url  user_id user_name  \\\n",
       "44729  http://porevo.win/pics.php?q=gioQhSbCgKFKCD5mV...   152049  Riser100   \n",
       "\n",
       "                                                user_url   upload_dt tags  \\\n",
       "44729  http://porevo.win/index.php?action=user&id=152049  2008-01-13  NaN   \n",
       "\n",
       "       views rating  cmts                                       local_url  \\\n",
       "44729   1385     10    46  D:\\Jupyter\\Datasets\\prv\\u0152049_000293009.jpg   \n",
       "\n",
       "       trg_m  trg_f       p_f     score_f  score_f10  score_f50  \n",
       "44729    NaN    NaN  0.984921  382.547589        500        500  "
      ]
     },
     "execution_count": 365,
     "metadata": {},
     "output_type": "execute_result"
    }
   ],
   "source": [
    "src[src.tags.map(lambda x: type(x) is not str) & (src.score_f < 400)].head()"
   ]
  },
  {
   "cell_type": "code",
   "execution_count": null,
   "metadata": {},
   "outputs": [],
   "source": [
    "#gini = 80 in case of logistic regression"
   ]
  }
 ],
 "metadata": {
  "kernelspec": {
   "display_name": "Python 3",
   "language": "python",
   "name": "python3"
  },
  "language_info": {
   "codemirror_mode": {
    "name": "ipython",
    "version": 3
   },
   "file_extension": ".py",
   "mimetype": "text/x-python",
   "name": "python",
   "nbconvert_exporter": "python",
   "pygments_lexer": "ipython3",
   "version": "3.6.1"
  }
 },
 "nbformat": 4,
 "nbformat_minor": 2
}
