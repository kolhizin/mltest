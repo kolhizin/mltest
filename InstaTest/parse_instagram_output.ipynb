{
 "cells": [
  {
   "cell_type": "code",
   "execution_count": 32,
   "metadata": {
    "collapsed": true
   },
   "outputs": [],
   "source": [
    "import re\n",
    "import urllib.request"
   ]
  },
  {
   "cell_type": "code",
   "execution_count": 54,
   "metadata": {
    "collapsed": true
   },
   "outputs": [],
   "source": [
    "#src_file = 'data/random_instagram_src.txt'\n",
    "#dst_file = 'data/random/pic_{0:03d}.jpg'\n",
    "src_file = 'data/beach_instagram_src.txt'\n",
    "dst_file = 'data/inst-beach/pic_{0:03d}.jpg'\n",
    "regex = '\\\"[^\"]+jpg\\\"'"
   ]
  },
  {
   "cell_type": "code",
   "execution_count": 55,
   "metadata": {
    "collapsed": true
   },
   "outputs": [],
   "source": [
    "src = open(src_file, 'r').read()"
   ]
  },
  {
   "cell_type": "code",
   "execution_count": 56,
   "metadata": {},
   "outputs": [],
   "source": [
    "res = re.findall(regex, src, re.M|re.I)"
   ]
  },
  {
   "cell_type": "code",
   "execution_count": 57,
   "metadata": {},
   "outputs": [],
   "source": [
    "res = list(set([x.replace('\\\"','') for x in res if 's240x240' in x]))"
   ]
  },
  {
   "cell_type": "code",
   "execution_count": 58,
   "metadata": {},
   "outputs": [
    {
     "name": "stdout",
     "output_type": "stream",
     "text": [
      "Total steps 59\n",
      "58 https://scontent-arn2-1.cdninstagram.com/t51.2885-15/s240x240/e35/c0.135.1080.1080/25013763_1360657974043079_7643672813299040256_n.jpghttps://scontent-arn2-1.cdninstagram.com/t51.2885-15/s240x240/e35/c0.135.1080.1080/25015470_348556252279778_5748584043729911808_n.jpghttps://scontent-arn2-1.cdninstagram.com/t51.2885-15/s240x240/e35/c0.135.1080.1080/25009287_923264531171404_2511195265470300160_n.jpg\r"
     ]
    }
   ],
   "source": [
    "print('Total steps {0}'.format(len(res)))\n",
    "for (i, u) in enumerate(res):\n",
    "    print(i, u, end='\\r')\n",
    "    data = urllib.request.urlopen(u).read()\n",
    "    with open(dst_file.format(i), 'wb') as f:\n",
    "        f.write(data)"
   ]
  },
  {
   "cell_type": "code",
   "execution_count": 43,
   "metadata": {},
   "outputs": [
    {
     "data": {
      "text/plain": [
       "130"
      ]
     },
     "execution_count": 43,
     "metadata": {},
     "output_type": "execute_result"
    }
   ],
   "source": [
    "len(res)"
   ]
  },
  {
   "cell_type": "code",
   "execution_count": null,
   "metadata": {
    "collapsed": true
   },
   "outputs": [],
   "source": []
  }
 ],
 "metadata": {
  "kernelspec": {
   "display_name": "Python [default]",
   "language": "python",
   "name": "python3"
  },
  "language_info": {
   "codemirror_mode": {
    "name": "ipython",
    "version": 3
   },
   "file_extension": ".py",
   "mimetype": "text/x-python",
   "name": "python",
   "nbconvert_exporter": "python",
   "pygments_lexer": "ipython3",
   "version": "3.6.1"
  }
 },
 "nbformat": 4,
 "nbformat_minor": 2
}
