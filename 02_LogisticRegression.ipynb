{
 "cells": [
  {
   "cell_type": "code",
   "execution_count": 228,
   "metadata": {
    "collapsed": true
   },
   "outputs": [],
   "source": [
    "%matplotlib inline\n",
    "import matplotlib.pyplot as plt\n",
    "import numpy as np\n",
    "import numpy.random\n",
    "import tensorflow as tf\n",
    "import datetime\n",
    "from sklearn import linear_model"
   ]
  },
  {
   "cell_type": "code",
   "execution_count": 135,
   "metadata": {},
   "outputs": [],
   "source": [
    "# Generate sample\n",
    "# y = a1 * x1 + a2 * x2 + eps\n",
    "numObs = 20000\n",
    "rndSmpl = np.random.normal(0, 1, [3, numObs])\n",
    "#print(rndSmpl)\n",
    "cutoff = 0\n",
    "beta = np.array([[1.9, -1.7, 2.3]]).transpose()\n",
    "x = np.vstack([np.ones((1, numObs)), rndSmpl[0:2, :]])\n",
    "eps = rndSmpl[2, :]\n",
    "\n",
    "y_n = np.matmul(beta.transpose(), x) + eps*8\n",
    "y = (y_n > cutoff) * 1.0"
   ]
  },
  {
   "cell_type": "code",
   "execution_count": 110,
   "metadata": {},
   "outputs": [
    {
     "data": {
      "text/plain": [
       "<matplotlib.collections.PathCollection at 0x169f8e1d7f0>"
      ]
     },
     "execution_count": 110,
     "metadata": {},
     "output_type": "execute_result"
    },
    {
     "data": {
      "image/png": "[encoded data removed]",
      "text/plain": [
       "<matplotlib.figure.Figure at 0x169f8ac75f8>"
      ]
     },
     "metadata": {},
     "output_type": "display_data"
    }
   ],
   "source": [
    "#Plot sample\n",
    "\n",
    "f, (ax1, ax2) = plt.subplots(1, 2, sharey=True)\n",
    "ax1.scatter(x[1,:], y)\n",
    "ax2.scatter(x[2,:], y)"
   ]
  },
  {
   "cell_type": "code",
   "execution_count": 136,
   "metadata": {},
   "outputs": [
    {
     "name": "stderr",
     "output_type": "stream",
     "text": [
      "C:\\Anaconda3\\lib\\site-packages\\sklearn\\utils\\validation.py:526: DataConversionWarning: A column-vector y was passed when a 1d array was expected. Please change the shape of y to (n_samples, ), for example using ravel().\n",
      "  y = column_or_1d(y, warn=True)\n"
     ]
    },
    {
     "data": {
      "text/plain": [
       "LogisticRegression(C=1.0, class_weight=None, dual=False, fit_intercept=True,\n",
       "          intercept_scaling=1, max_iter=100, multi_class='ovr', n_jobs=1,\n",
       "          penalty='l2', random_state=None, solver='liblinear', tol=0.0001,\n",
       "          verbose=0, warm_start=False)"
      ]
     },
     "execution_count": 136,
     "metadata": {},
     "output_type": "execute_result"
    }
   ],
   "source": [
    "skLR = linear_model.LogisticRegression()\n",
    "skLR.fit(x.transpose(), y.transpose())"
   ]
  },
  {
   "cell_type": "code",
   "execution_count": 137,
   "metadata": {},
   "outputs": [
    {
     "data": {
      "text/plain": [
       "array([[ 0.19295046, -0.33731   ,  0.4435699 ]])"
      ]
     },
     "execution_count": 137,
     "metadata": {},
     "output_type": "execute_result"
    }
   ],
   "source": [
    "skLR.coef_"
   ]
  },
  {
   "cell_type": "code",
   "execution_count": 139,
   "metadata": {},
   "outputs": [
    {
     "data": {
      "image/png": "[encoded data removed]",
      "text/plain": [
       "<matplotlib.figure.Figure at 0x169f91ea048>"
      ]
     },
     "metadata": {},
     "output_type": "display_data"
    }
   ],
   "source": [
    "def plot_logodds(y_act, y_logodds, num=10):\n",
    "    y_lo_rng = np.percentile(y_logodds, [1, 99])\n",
    "    y_lo_ls = np.linspace(y_lo_rng[0], y_lo_rng[1], num-1)\n",
    "\n",
    "    yg = []\n",
    "    for i in range(-1,len(y_lo_ls)):\n",
    "        e_left = -np.Inf\n",
    "        e_right = np.Inf\n",
    "        if(i >= 0):\n",
    "            e_left = y_lo_ls[i]\n",
    "        if(i+1 < len(y_lo_ls)):\n",
    "            e_right = y_lo_ls[i+1]\n",
    "        t_est = np.mean(y_logodds[(y_logodds >= e_left)*(y_logodds <= e_right)])\n",
    "        t_act_p = np.mean(y_act[0,(y_logodds >= e_left)*(y_logodds <= e_right)])\n",
    "        t_act = -np.log(t_act_p / (1 - t_act_p))\n",
    "        yg = yg + [[t_est, t_act, np.sum((y_logodds >= e_left)*(y_logodds <= e_right))]]\n",
    "    ya = np.array(yg)\n",
    "    plt.plot(ya[:,0])\n",
    "    plt.plot(ya[:,1])\n",
    "    "
   ]
  },
  {
   "cell_type": "code",
   "execution_count": 140,
   "metadata": {},
   "outputs": [
    {
     "data": {
      "image/png": "[encoded data removed]",
      "text/plain": [
       "<matplotlib.figure.Figure at 0x169f9062940>"
      ]
     },
     "metadata": {},
     "output_type": "display_data"
    }
   ],
   "source": [
    "y_pred = skLR.predict_log_proba(x.transpose())\n",
    "y_lo = y_pred[:,0]-y_pred[:,1]\n",
    "plot_logodds(y, y_lo)"
   ]
  },
  {
   "cell_type": "code",
   "execution_count": 160,
   "metadata": {},
   "outputs": [],
   "source": [
    "#Manual TensorFlow calculation: graph creation\n",
    "tf.reset_default_graph()\n",
    "tf_X = tf.constant(x, dtype=tf.float32)\n",
    "tf_y = tf.constant(y, dtype=tf.float32)\n",
    "tf_n = tf.constant(y.shape[1], dtype=tf.float32)\n",
    "tf_b = tf.Variable(np.zeros(beta.shape), dtype=tf.float32)\n",
    "tf_lr = tf.Variable(1e-1, dtype=tf.float32)\n",
    "tf_bTX = tf.matmul(tf.transpose(tf_b), tf_X)\n",
    "tf_p = 1.0 / (1.0 + tf.exp(tf_bTX))\n",
    "tf_grad = tf.matmul(tf_X, tf.transpose(tf_y - tf_p)) / tf_n\n",
    "tf_eps = tf.sqrt(tf.matmul(tf.transpose(tf_grad), tf_grad))\n",
    "tf_train = tf.assign(tf_b, tf_b - tf_lr * tf_grad)"
   ]
  },
  {
   "cell_type": "code",
   "execution_count": 163,
   "metadata": {},
   "outputs": [
    {
     "name": "stdout",
     "output_type": "stream",
     "text": [
      "[[-0.38595527]\n",
      " [ 0.33739364]\n",
      " [-0.44368857]]\n"
     ]
    }
   ],
   "source": [
    "#Manual TensorFlow calculation: execution\n",
    "\n",
    "with tf.Session() as sess:\n",
    "    tf_b.initializer.run()\n",
    "    tf_lr.initializer.run()\n",
    "    for n in range(20):\n",
    "        for i in range(100):\n",
    "            tf_train.eval()\n",
    "      #  print(tf_b.eval())\n",
    "      #  print(tf_eps.eval())\n",
    "    mantf_beta = tf_b.eval()\n",
    "    mantf_ylo = tf_bTX.eval()\n",
    "    print(mantf_beta)    "
   ]
  },
  {
   "cell_type": "code",
   "execution_count": 173,
   "metadata": {},
   "outputs": [
    {
     "data": {
      "image/png": "[encoded data removed]",
      "text/plain": [
       "<matplotlib.figure.Figure at 0x169f930eb00>"
      ]
     },
     "metadata": {},
     "output_type": "display_data"
    }
   ],
   "source": [
    "#Manual TensorFlow calculation: validation\n",
    "\n",
    "plot_logodds(y, np.reshape(mantf_ylo, mantf_ylo.shape[1]))"
   ]
  },
  {
   "cell_type": "code",
   "execution_count": 196,
   "metadata": {},
   "outputs": [],
   "source": [
    "#Autodiff TensorFlow calculation: graph creation\n",
    "tf.reset_default_graph()\n",
    "tf_X = tf.constant(x, dtype=tf.float32)\n",
    "tf_y = tf.constant(y, dtype=tf.float32)\n",
    "tf_n = tf.constant(y.shape[1], dtype=tf.float32)\n",
    "tf_b = tf.Variable(np.zeros(beta.shape), dtype=tf.float32)\n",
    "tf_lr = tf.Variable(1e-1, dtype=tf.float32)\n",
    "tf_bTX = tf.matmul(tf.transpose(tf_b), tf_X)\n",
    "tf_errf = -(tf.matmul(tf_y, tf.transpose(tf_bTX)) - tf.reduce_sum(tf.log(1 + tf.exp(tf_bTX)))) / tf_n\n",
    "tf_grad = tf.gradients(tf_errf, [tf_b])[0]\n",
    "tf_eps = tf.sqrt(tf.matmul(tf.transpose(tf_grad), tf_grad))\n",
    "tf_train = tf.assign(tf_b, tf_b - tf_lr * tf_grad)"
   ]
  },
  {
   "cell_type": "code",
   "execution_count": 199,
   "metadata": {},
   "outputs": [
    {
     "name": "stdout",
     "output_type": "stream",
     "text": [
      "[[-0.38595533]\n",
      " [ 0.33739367]\n",
      " [-0.44368851]]\n"
     ]
    }
   ],
   "source": [
    "with tf.Session() as sess:\n",
    "    tf_b.initializer.run()\n",
    "    tf_lr.initializer.run()\n",
    "    for n in range(20):\n",
    "        for i in range(100):\n",
    "            tf_train.eval()\n",
    "        #print(tf_b.eval())\n",
    "        #print(tf_eps.eval())\n",
    "    autotf_beta = -tf_b.eval()\n",
    "    autotf_ylo = -tf_bTX.eval()\n",
    "    print(autotf_beta)    "
   ]
  },
  {
   "cell_type": "code",
   "execution_count": 200,
   "metadata": {},
   "outputs": [
    {
     "data": {
      "image/png": "[encoded data removed]",
      "text/plain": [
       "<matplotlib.figure.Figure at 0x169f792e2e8>"
      ]
     },
     "metadata": {},
     "output_type": "display_data"
    }
   ],
   "source": [
    "#Autodiff TensorFlow calculation: validation\n",
    "\n",
    "plot_logodds(y, np.reshape(autotf_ylo, autotf_ylo.shape[1]))"
   ]
  },
  {
   "cell_type": "code",
   "execution_count": 238,
   "metadata": {},
   "outputs": [
    {
     "data": {
      "text/plain": [
       "<tensorflow.python.summary.writer.writer.FileWriter at 0x169f91929e8>"
      ]
     },
     "execution_count": 238,
     "metadata": {},
     "output_type": "execute_result"
    }
   ],
   "source": [
    "#Auto TensorFlow calculation: graph creation\n",
    "tf.reset_default_graph()\n",
    "tf_X = tf.constant(x, dtype=tf.float32)\n",
    "tf_y = tf.constant(y, dtype=tf.float32)\n",
    "tf_n = tf.constant(y.shape[1], dtype=tf.float32)\n",
    "tf_b = tf.Variable(np.zeros(beta.shape), dtype=tf.float32)\n",
    "tf_bTX = tf.matmul(tf.transpose(tf_b), tf_X)\n",
    "tf_errf = (tf.matmul(tf_y, tf.transpose(tf_bTX)) + tf.reduce_sum(tf.log(1 + tf.exp(-tf_bTX)))) / tf_n\n",
    "tf_optimizer = tf.train.GradientDescentOptimizer(learning_rate=1e-1)\n",
    "tf_train = tf_optimizer.minimize(tf_errf)\n",
    "\n",
    "dt_now = datetime.datetime.now().strftime(\"%Y-%m-%d_%H%M%S\")\n",
    "log_dir = 'D:/Jupyter/Logs/' + dt_now\n",
    "tf.summary.FileWriter(log_dir, tf.get_default_graph())"
   ]
  },
  {
   "cell_type": "code",
   "execution_count": 226,
   "metadata": {},
   "outputs": [
    {
     "name": "stdout",
     "output_type": "stream",
     "text": [
      "[[-0.38595533]\n",
      " [ 0.33739367]\n",
      " [-0.44368851]]\n"
     ]
    }
   ],
   "source": [
    "with tf.Session() as sess:\n",
    "    tf_b.initializer.run()\n",
    "    for i in range(1000):\n",
    "        tf_train.run()\n",
    "    atf_beta = tf_b.eval()\n",
    "    atf_ylo = tf_bTX.eval()\n",
    "    print(atf_beta) "
   ]
  },
  {
   "cell_type": "code",
   "execution_count": 237,
   "metadata": {},
   "outputs": [
    {
     "data": {
      "text/plain": [
       "'2017-08-16_195851'"
      ]
     },
     "execution_count": 237,
     "metadata": {},
     "output_type": "execute_result"
    }
   ],
   "source": [
    "dt_now = datetime.datetime.now().strftime(\"%Y-%m-%d_%H%M%S\")"
   ]
  },
  {
   "cell_type": "code",
   "execution_count": null,
   "metadata": {
    "collapsed": true
   },
   "outputs": [],
   "source": []
  }
 ],
 "metadata": {
  "kernelspec": {
   "display_name": "Python 3",
   "language": "python",
   "name": "python3"
  },
  "language_info": {
   "codemirror_mode": {
    "name": "ipython",
    "version": 3
   },
   "file_extension": ".py",
   "mimetype": "text/x-python",
   "name": "python",
   "nbconvert_exporter": "python",
   "pygments_lexer": "ipython3",
   "version": "3.6.1"
  }
 },
 "nbformat": 4,
 "nbformat_minor": 2
}
