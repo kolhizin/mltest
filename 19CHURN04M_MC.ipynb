{
 "cells": [
  {
   "cell_type": "code",
   "execution_count": 26,
   "metadata": {
    "collapsed": true
   },
   "outputs": [],
   "source": [
    "import numpy as np\n",
    "import pandas as pd\n",
    "import matplotlib.pyplot as plt\n",
    "import datetime, time\n",
    "import sklearn, sklearn.metrics, sklearn.preprocessing, sklearn.linear_model, sklearn.ensemble\n",
    "\n",
    "import modutils\n",
    "\n",
    "#data_dir = '../DataSets/Churn/'\n",
    "data_dir = '../DataSets/kkbox/churn/raw/'\n",
    "logm_fmt = data_dir + 'user_logs/uldtm_{0}.csv'\n",
    "used_log = '201701'"
   ]
  },
  {
   "cell_type": "code",
   "execution_count": 2,
   "metadata": {
    "collapsed": true
   },
   "outputs": [],
   "source": [
    "src0 = pd.read_csv(logm_fmt.format(used_log))"
   ]
  },
  {
   "cell_type": "code",
   "execution_count": 3,
   "metadata": {
    "collapsed": true
   },
   "outputs": [],
   "source": [
    "src0['lag0_used'] = src0.used\n",
    "src0['lag1_used'] = src0.used.shift(1)\n",
    "src0['lag2_used'] = src0.used.shift(2)\n",
    "src0['lag3_used'] = src0.used.shift(3)\n",
    "src0['lag4_used'] = src0.used.shift(4)"
   ]
  },
  {
   "cell_type": "code",
   "execution_count": 7,
   "metadata": {},
   "outputs": [],
   "source": [
    "src0['hist5'] = src0.lag0_used.map(lambda x: '1' if x > 0.5 else '0')+\\\n",
    "                src0.lag1_used.map(lambda x: '1' if x > 0.5 else '0')+\\\n",
    "                src0.lag2_used.map(lambda x: '1' if x > 0.5 else '0')+\\\n",
    "                src0.lag3_used.map(lambda x: '1' if x > 0.5 else '0')+\\\n",
    "                src0.lag4_used.map(lambda x: '1' if x > 0.5 else '0')"
   ]
  },
  {
   "cell_type": "code",
   "execution_count": 9,
   "metadata": {},
   "outputs": [
    {
     "data": {
      "text/plain": [
       "hist5\n",
       "00000    0.092840\n",
       "00001    0.220103\n",
       "00010    0.216622\n",
       "00011    0.328110\n",
       "00100    0.225498\n",
       "00101    0.366406\n",
       "00110    0.344637\n",
       "00111    0.463841\n",
       "01000    0.257029\n",
       "01001    0.405217\n",
       "01010    0.391034\n",
       "01011    0.509740\n",
       "01100    0.381079\n",
       "01101    0.516219\n",
       "01110    0.490762\n",
       "01111    0.621925\n",
       "10000    0.410523\n",
       "10001    0.524124\n",
       "10010    0.496161\n",
       "10011    0.643285\n",
       "10100    0.500432\n",
       "10101    0.618735\n",
       "10110    0.604275\n",
       "10111    0.747586\n",
       "11000    0.563535\n",
       "11001    0.670687\n",
       "11010    0.629685\n",
       "11011    0.769248\n",
       "11100    0.668197\n",
       "11101    0.771152\n",
       "11110    0.753685\n",
       "11111    0.888481\n",
       "Name: nxt_used, dtype: float64"
      ]
     },
     "execution_count": 9,
     "metadata": {},
     "output_type": "execute_result"
    }
   ],
   "source": [
    "src0[src0.date>20170105].groupby('hist5').nxt_used.mean()"
   ]
  },
  {
   "cell_type": "code",
   "execution_count": 12,
   "metadata": {},
   "outputs": [],
   "source": [
    "hist5onehot = sklearn.preprocessing.OneHotEncoder().fit(src0.hist5.values.reshape(-1,1))"
   ]
  },
  {
   "cell_type": "code",
   "execution_count": 13,
   "metadata": {
    "collapsed": true
   },
   "outputs": [],
   "source": [
    "X = hist5onehot.transform(src0.hist5[src0.date>20170105].values.reshape(-1,1))"
   ]
  },
  {
   "cell_type": "code",
   "execution_count": 15,
   "metadata": {},
   "outputs": [],
   "source": [
    "Y = src0.nxt_used[src0.date>20170105].values"
   ]
  },
  {
   "cell_type": "code",
   "execution_count": 17,
   "metadata": {},
   "outputs": [
    {
     "data": {
      "text/plain": [
       "((29536078, 32), (29536078,))"
      ]
     },
     "execution_count": 17,
     "metadata": {},
     "output_type": "execute_result"
    }
   ],
   "source": [
    "X.shape, Y.shape"
   ]
  },
  {
   "cell_type": "code",
   "execution_count": 20,
   "metadata": {},
   "outputs": [],
   "source": [
    "m_logreg = sklearn.linear_model.LogisticRegression().fit(X[~np.isnan(Y)], Y[~np.isnan(Y)])"
   ]
  },
  {
   "cell_type": "code",
   "execution_count": 21,
   "metadata": {
    "collapsed": true
   },
   "outputs": [],
   "source": [
    "pred_p = m_logreg.predict_proba(X[~np.isnan(Y)])[:,1]"
   ]
  },
  {
   "cell_type": "code",
   "execution_count": 23,
   "metadata": {
    "collapsed": true
   },
   "outputs": [],
   "source": [
    "pred_lgt = np.log(pred_p/(1-pred_p))"
   ]
  },
  {
   "cell_type": "code",
   "execution_count": 25,
   "metadata": {},
   "outputs": [
    {
     "data": {
      "text/plain": [
       "0.70187531922614799"
      ]
     },
     "execution_count": 25,
     "metadata": {},
     "output_type": "execute_result"
    }
   ],
   "source": [
    "sklearn.metrics.roc_auc_score(Y[~np.isnan(Y)], pred_lgt)*2-1"
   ]
  },
  {
   "cell_type": "code",
   "execution_count": 27,
   "metadata": {
    "collapsed": true
   },
   "outputs": [],
   "source": [
    "Xd = X[~np.isnan(Y)]\n",
    "Yd = Y[~np.isnan(Y)]"
   ]
  },
  {
   "cell_type": "code",
   "execution_count": 28,
   "metadata": {
    "collapsed": true
   },
   "outputs": [],
   "source": [
    "(Xt,Yt),(Xv,Yv) = modutils.splitSample((Xd,Yd),pcts=[0.4,0.6])"
   ]
  },
  {
   "cell_type": "code",
   "execution_count": 29,
   "metadata": {
    "collapsed": true
   },
   "outputs": [],
   "source": [
    "m_gradboost = sklearn.ensemble.GradientBoostingClassifier().fit(Xt, Yt)"
   ]
  },
  {
   "cell_type": "code",
   "execution_count": 30,
   "metadata": {},
   "outputs": [
    {
     "data": {
      "text/plain": [
       "0.70178393982551146"
      ]
     },
     "execution_count": 30,
     "metadata": {},
     "output_type": "execute_result"
    }
   ],
   "source": [
    "Pv = m_logreg.predict_proba(Xv)[:,1]\n",
    "Sv = np.log(Pv/(1-Pv))\n",
    "sklearn.metrics.roc_auc_score(Yv, Sv)*2-1"
   ]
  },
  {
   "cell_type": "code",
   "execution_count": null,
   "metadata": {
    "collapsed": true
   },
   "outputs": [],
   "source": []
  }
 ],
 "metadata": {
  "kernelspec": {
   "display_name": "Python [default]",
   "language": "python",
   "name": "python3"
  },
  "language_info": {
   "codemirror_mode": {
    "name": "ipython",
    "version": 3
   },
   "file_extension": ".py",
   "mimetype": "text/x-python",
   "name": "python",
   "nbconvert_exporter": "python",
   "pygments_lexer": "ipython3",
   "version": "3.6.1"
  }
 },
 "nbformat": 4,
 "nbformat_minor": 2
}
