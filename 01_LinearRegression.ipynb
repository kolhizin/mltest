{
 "cells": [
  {
   "cell_type": "code",
   "execution_count": 208,
   "metadata": {},
   "outputs": [],
   "source": [
    "%matplotlib inline\n",
    "import matplotlib.pyplot as plt\n",
    "import numpy as np\n",
    "import numpy.random\n",
    "import tensorflow as tf\n",
    "from sklearn import linear_model"
   ]
  },
  {
   "cell_type": "code",
   "execution_count": 32,
   "metadata": {},
   "outputs": [],
   "source": [
    "# Generate sample\n",
    "# y = a1 * x1 + a2 * x2 + eps\n",
    "numObs = 100\n",
    "rndSmpl = np.random.normal(0, 1, [numObs, 3])\n",
    "alpha = 1.9\n",
    "beta = np.array([-1.7, 2.3])\n",
    "x = rndSmpl[:,0:2]\n",
    "eps = rndSmpl[:, 2]\n",
    "y = alpha + np.matmul(x, beta) + eps"
   ]
  },
  {
   "cell_type": "code",
   "execution_count": 39,
   "metadata": {},
   "outputs": [
    {
     "data": {
      "text/plain": [
       "<matplotlib.collections.PathCollection at 0x1fdc54cc240>"
      ]
     },
     "execution_count": 39,
     "metadata": {},
     "output_type": "execute_result"
    },
    {
     "data": {
      "image/png": "[encoded data removed]",
      "text/plain": [
       "<matplotlib.figure.Figure at 0x1fdc53a74a8>"
      ]
     },
     "metadata": {},
     "output_type": "display_data"
    }
   ],
   "source": [
    "#Plot sample\n",
    "\n",
    "f, (ax1, ax2) = plt.subplots(1, 2, sharey=True)\n",
    "ax1.scatter(x[:,0], y)\n",
    "ax2.scatter(x[:,1], y)"
   ]
  },
  {
   "cell_type": "code",
   "execution_count": 42,
   "metadata": {},
   "outputs": [
    {
     "data": {
      "text/plain": [
       "LinearRegression(copy_X=True, fit_intercept=True, n_jobs=1, normalize=False)"
      ]
     },
     "execution_count": 42,
     "metadata": {},
     "output_type": "execute_result"
    }
   ],
   "source": [
    "# Fit linear regression using sk-learn\n",
    "skLR = linear_model.LinearRegression()\n",
    "skLR.fit(x, y)"
   ]
  },
  {
   "cell_type": "code",
   "execution_count": 58,
   "metadata": {},
   "outputs": [
    {
     "name": "stdout",
     "output_type": "stream",
     "text": [
      "alpha-coef: 1.85940007377 ; beta-coef:  [-1.80247351  2.23303453]\n"
     ]
    },
    {
     "data": {
      "text/plain": [
       "<matplotlib.collections.PathCollection at 0x1fdc5c94898>"
      ]
     },
     "execution_count": 58,
     "metadata": {},
     "output_type": "execute_result"
    },
    {
     "data": {
      "image/png": "[encoded data removed]",
      "text/plain": [
       "<matplotlib.figure.Figure at 0x1fdc40ea3c8>"
      ]
     },
     "metadata": {},
     "output_type": "display_data"
    }
   ],
   "source": [
    "# Output linear regression (sk-learn) results\n",
    "print('alpha-coef:', skLR.intercept_, '; beta-coef: ', skLR.coef_)\n",
    "y_sk = skLR.predict(x)\n",
    "r_sk = y - y_sk\n",
    "\n",
    "f, (ax1, ax2) = plt.subplots(1, 2, sharey=True)\n",
    "ax1.scatter(x[:,0], r_sk)\n",
    "ax2.scatter(x[:,1], r_sk)"
   ]
  },
  {
   "cell_type": "code",
   "execution_count": 193,
   "metadata": {},
   "outputs": [],
   "source": [
    "# Gradient Descent using simple numpy\n",
    "def linreg_gd(x, y, learning_rate=0.1, num_steps=100, eps = 1e-7):\n",
    "    widex = np.column_stack([np.ones(( np.shape(x)[0], 1)), x])\n",
    "    yt =np.reshape(y, (np.shape(x)[0], 1))\n",
    "    b = np.zeros((np.shape(widex)[1],1))\n",
    "    for i in range(num_steps):\n",
    "        #calculate gradient\n",
    "        #sum of (yi - bT * xi)^2=>\n",
    "        # => <y - bT * X, y - bT * X>\n",
    "        # => <y,y> - 2 <y, bT * x> + <bT, bT*X*XT>\n",
    "        # d/db => - 2 XT * y + 2XT * X * bT\n",
    "        # => -2XT( y - X * bT )\n",
    "        \n",
    "        #1. calc y - bT * x\n",
    "        #print(b)\n",
    "        resid = y - np.matmul(widex, b).transpose()\n",
    "        #2. calc gradient\n",
    "        grad = 2.0 * np.matmul(resid,widex).transpose()\n",
    "        #print(grad)\n",
    "        delta = grad * learning_rate\n",
    "        \n",
    "        if(np.dot(grad.transpose(),grad) < eps*eps):\n",
    "           # print('Early stopping')\n",
    "            return b+delta\n",
    "        #3. calc next step\n",
    "        b = b + delta\n",
    "    return None"
   ]
  },
  {
   "cell_type": "code",
   "execution_count": 194,
   "metadata": {},
   "outputs": [],
   "source": [
    "man_coefs_ = linreg_gd(x, y, learning_rate=0.001, num_steps=1000, eps=1e-10)"
   ]
  },
  {
   "cell_type": "code",
   "execution_count": 207,
   "metadata": {},
   "outputs": [
    {
     "name": "stdout",
     "output_type": "stream",
     "text": [
      "alpha-coef: 1.85940007377 ; beta-coef:  [-1.80247351  2.23303453]\n"
     ]
    },
    {
     "data": {
      "text/plain": [
       "<matplotlib.collections.PathCollection at 0x1fdc5eaf7f0>"
      ]
     },
     "execution_count": 207,
     "metadata": {},
     "output_type": "execute_result"
    },
    {
     "data": {
      "image/png": "[encoded data removed]",
      "text/plain": [
       "<matplotlib.figure.Figure at 0x1fdc5de7ef0>"
      ]
     },
     "metadata": {},
     "output_type": "display_data"
    }
   ],
   "source": [
    "# Output linear regression (manual numpy) results\n",
    "print('alpha-coef:', man_coefs_[0,0], '; beta-coef: ', man_coefs_[1:,0])\n",
    "y_man = man_coefs_[0,0] + np.matmul(x, man_coefs_[1:])\n",
    "r_man = y - y_man.transpose()\n",
    "\n",
    "f, (ax1, ax2) = plt.subplots(1, 2, sharey=True)\n",
    "ax1.scatter(x[:,0], r_man)\n",
    "ax2.scatter(x[:,1], r_man)"
   ]
  },
  {
   "cell_type": "code",
   "execution_count": 213,
   "metadata": {},
   "outputs": [],
   "source": [
    "tfx = tf.Variable(3, name=\"x\", dtype=tf.float32)\n",
    "tfy = tf.Variable(4, name=\"y\", dtype=tf.float32)\n",
    "tff = tf.sqrt(tfx*tfx + tfy*tfy)"
   ]
  },
  {
   "cell_type": "code",
   "execution_count": 214,
   "metadata": {},
   "outputs": [
    {
     "name": "stdout",
     "output_type": "stream",
     "text": [
      "5.0\n"
     ]
    }
   ],
   "source": [
    "sess = tf.Session()\n",
    "sess.run(tfx.initializer)\n",
    "sess.run(tfy.initializer)\n",
    "print(sess.run(tff))\n",
    "sess.close()"
   ]
  },
  {
   "cell_type": "code",
   "execution_count": 246,
   "metadata": {},
   "outputs": [],
   "source": [
    "tf_X = tf.constant(np.column_stack([np.ones(( np.shape(x)[0], 1)), x]), name='X', dtype=tf.float32)\n",
    "tf_y = tf.constant(y.reshape((y.shape[0],1)), name='y', dtype=tf.float32)\n",
    "tf_lr = tf.constant(1e-2, name='learning_rate', dtype=tf.float32)\n",
    "tf_b = tf.Variable(np.zeros((x.shape[1]+1, 1)), dtype=tf.float32)\n",
    "tf_resid = tf_y - tf.matmul(tf_X, tf_b)\n",
    "tf_grad = tf_lr * 2.0 * tf.matmul(tf.transpose(tf_X), tf_resid)\n",
    "tf_delta = tf_lr * tf_grad\n",
    "tf_trainstep = tf.assign(tf_b, tf_b + tf_delta)"
   ]
  },
  {
   "cell_type": "code",
   "execution_count": 250,
   "metadata": {},
   "outputs": [
    {
     "name": "stdout",
     "output_type": "stream",
     "text": [
      "[[ 1.85939658]\n",
      " [-1.80246878]\n",
      " [ 2.23304105]]\n"
     ]
    }
   ],
   "source": [
    "tf_coef_ = None;\n",
    "with tf.Session() as sess:\n",
    "    tf_b.initializer.run()\n",
    "    for i in range(1000):\n",
    "        tf_trainstep.eval()\n",
    "    tf_coef_ = tf_b.eval()\n",
    "print(tf_coef_)"
   ]
  },
  {
   "cell_type": "code",
   "execution_count": 251,
   "metadata": {},
   "outputs": [
    {
     "name": "stdout",
     "output_type": "stream",
     "text": [
      "alpha-coef: 1.8594 ; beta-coef:  [-1.80246878  2.23304105]\n"
     ]
    },
    {
     "data": {
      "text/plain": [
       "<matplotlib.collections.PathCollection at 0x1fdc94e0b38>"
      ]
     },
     "execution_count": 251,
     "metadata": {},
     "output_type": "execute_result"
    },
    {
     "data": {
      "image/png": "[encoded data removed]",
      "text/plain": [
       "<matplotlib.figure.Figure at 0x1fdc93df438>"
      ]
     },
     "metadata": {},
     "output_type": "display_data"
    }
   ],
   "source": [
    "# Output linear regression (manual tensorflow) results\n",
    "print('alpha-coef:', tf_coef_[0,0], '; beta-coef: ', tf_coef_[1:,0])\n",
    "y_tf = tf_coef_[0,0] + np.matmul(x, tf_coef_[1:])\n",
    "r_tf = y - y_tf.transpose()\n",
    "\n",
    "f, (ax1, ax2) = plt.subplots(1, 2, sharey=True)\n",
    "ax1.scatter(x[:,0], r_tf)\n",
    "ax2.scatter(x[:,1], r_tf)"
   ]
  },
  {
   "cell_type": "code",
   "execution_count": null,
   "metadata": {
    "collapsed": true
   },
   "outputs": [],
   "source": [
    "# tensorflow for SGD\n",
    "# tensorflow autodiff"
   ]
  }
 ],
 "metadata": {
  "kernelspec": {
   "display_name": "Python 3",
   "language": "python",
   "name": "python3"
  },
  "language_info": {
   "codemirror_mode": {
    "name": "ipython",
    "version": 3
   },
   "file_extension": ".py",
   "mimetype": "text/x-python",
   "name": "python",
   "nbconvert_exporter": "python",
   "pygments_lexer": "ipython3",
   "version": "3.6.1"
  }
 },
 "nbformat": 4,
 "nbformat_minor": 2
}
