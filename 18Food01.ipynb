{
 "cells": [
  {
   "cell_type": "code",
   "execution_count": 2,
   "metadata": {
    "collapsed": true
   },
   "outputs": [],
   "source": [
    "%matplotlib inline\n",
    "import matplotlib.pyplot as plt\n",
    "import tensorflow as tf\n",
    "import numpy as np\n",
    "import pandas as pd\n",
    "import datetime, time\n",
    "import skimage.io\n",
    "import skimage.transform\n",
    "import json\n",
    "\n",
    "import modutils"
   ]
  },
  {
   "cell_type": "code",
   "execution_count": 89,
   "metadata": {
    "collapsed": true
   },
   "outputs": [],
   "source": [
    "def food101_readmeta(fname):\n",
    "    with open(fname) as f:\n",
    "        f_meta = json.loads(f.read())\n",
    "    f_meta = zip(*[(x,z) for (x, y) in f_meta.items() for z in y])\n",
    "    (rlab, rfn) = tuple(np.array(x) for x in f_meta)\n",
    "    fullmap = list(enumerate(set(rlab)))\n",
    "    labmap = {y:x for (x,y) in fullmap}\n",
    "    ry = np.array([labmap[x] for x in rlab])\n",
    "    return (rfn, ry, fullmap)\n",
    "\n",
    "def food101_readimg(fname, req_size = 512, out_size = 512):\n",
    "    f_img = skimage.io.imread(fname)\n",
    "    if len(f_img.shape) != 3:\n",
    "        print('Invalid dimensions in file \"{0}\"'.format(fname))\n",
    "        return None\n",
    "    misdim = req_size - f_img.shape[0]\n",
    "    if misdim < 0:\n",
    "        raise 'error'\n",
    "    if misdim > 0:\n",
    "        addtop = misdim // 2\n",
    "        addbot = misdim - addtop\n",
    "        if addtop > 0:\n",
    "            f_img = np.vstack([np.tile(f_img[0], addtop).reshape(f_img.shape[1], addtop, 3).transpose([1,0,2]),\n",
    "                                f_img,\n",
    "                                np.tile(f_img[-1], addbot).reshape(f_img.shape[1], addbot, 3).transpose([1,0,2])])\n",
    "        else:\n",
    "            f_img = np.vstack([f_img, np.tile(f_img[-1], addbot).reshape(f_img.shape[1], addbot, 3).transpose([1,0,2])])\n",
    "            \n",
    "    misdim = req_size - f_img.shape[1]\n",
    "    if misdim < 0:\n",
    "        raise 'error'\n",
    "    fin_res = f_img\n",
    "    if misdim > 0:\n",
    "        addl = misdim // 2\n",
    "        addr = misdim - addl\n",
    "        if addl > 0:\n",
    "            fin_res = np.hstack([np.tile(f_img[:, 0, :], addl).reshape(f_img.shape[0], addl, 3),\n",
    "                              f_img,\n",
    "                              np.tile(f_img[:, -1, :], addr).reshape(f_img.shape[0], addr, 3)])\n",
    "        else:\n",
    "            fin_res = np.hstack([f_img, np.tile(f_img[:, -1, :], addr).reshape(f_img.shape[0], addr, 3)])\n",
    "    if out_size == req_size:\n",
    "        return fin_res / 255.0\n",
    "    return skimage.transform.resize(fin_res, output_shape=(out_size, out_size), mode='constant', order = 1) / 255.0"
   ]
  },
  {
   "cell_type": "code",
   "execution_count": 158,
   "metadata": {},
   "outputs": [
    {
     "name": "stdout",
     "output_type": "stream",
     "text": [
      "Wall time: 199 ms\n"
     ]
    }
   ],
   "source": [
    "%%time\n",
    "dev_met, dev_y, _ = food101_readmeta('../DataSets/food-101/meta/train.json')\n",
    "imgpath = '../DataSets/food-101/images/{0}.jpg'\n",
    "imgpath128 = '../DataSets/food-101/images/{0}s128.jpg'\n",
    "imgpath032 = '../DataSets/food-101/images/{0}s032.jpg'\n",
    "ids = np.array(range(len(dev_y)))\n",
    "np.random.shuffle(ids)\n",
    "\n",
    "(train_met, train_y),(valid_met, valid_y) = modutils.splitSample((dev_met[ids], dev_y[ids]),[0.8, 0.2])"
   ]
  },
  {
   "cell_type": "code",
   "execution_count": 64,
   "metadata": {},
   "outputs": [
    {
     "name": "stdout",
     "output_type": "stream",
     "text": [
      "Invalid dimensions in file \"../DataSets/food-101/images/steak/1340977.jpg\"\n",
      "Processed 15803 out of 75750 files...\r",
      "Processed 15804 out of 75750 files...\r",
      "Processed 15805 out of 75750 files...\r",
      "Processed 15806 out of 75750 files...\r",
      "Processed 15807 out of 75750 files...\r"
     ]
    },
    {
     "name": "stderr",
     "output_type": "stream",
     "text": [
      "C:\\Anaconda3\\lib\\site-packages\\skimage\\util\\dtype.py:122: UserWarning: Possible precision loss when converting from float64 to uint8\n",
      "  .format(dtypeobj_in, dtypeobj_out))\n"
     ]
    },
    {
     "name": "stdout",
     "output_type": "stream",
     "text": [
      "Invalid dimensions in file \"../DataSets/food-101/images/bread_pudding/1375816.jpg\"\n",
      "Invalid dimensions in file \"../DataSets/food-101/images/lasagna/3787908.jpg\"\n",
      "Processed 62855 out of 75750 files...\r"
     ]
    },
    {
     "name": "stderr",
     "output_type": "stream",
     "text": [
      "C:\\Anaconda3\\lib\\site-packages\\skimage\\io\\_io.py:132: UserWarning: ../DataSets/food-101/images/breakfast_burrito/462294s128.jpg is a low contrast image\n",
      "  warn('%s is a low contrast image' % fname)\n"
     ]
    },
    {
     "name": "stdout",
     "output_type": "stream",
     "text": [
      "Processed 75749 out of 75750 files...\r"
     ]
    }
   ],
   "source": [
    "#Resave train-valid files with 128x128 resolution (approx. 45 minutes)\n",
    "for i in range(15802, len(dev_met)):\n",
    "    fimg = food101_readimg(imgpath.format(dev_met[i]), out_size=128)\n",
    "    if fimg is None:\n",
    "        continue\n",
    "    skimage.io.imsave(imgpath128.format(dev_met[i]), fimg)\n",
    "    print('Processed {0} out of {1} files...'.format(i, len(dev_met)), end='\\r')"
   ]
  },
  {
   "cell_type": "code",
   "execution_count": 161,
   "metadata": {},
   "outputs": [
    {
     "name": "stderr",
     "output_type": "stream",
     "text": [
      "C:\\Anaconda3\\lib\\site-packages\\skimage\\util\\dtype.py:122: UserWarning: Possible precision loss when converting from float64 to uint8\n",
      "  .format(dtypeobj_in, dtypeobj_out))\n"
     ]
    },
    {
     "name": "stdout",
     "output_type": "stream",
     "text": [
      "Processed 21622 out of 75746 files...\r"
     ]
    },
    {
     "name": "stderr",
     "output_type": "stream",
     "text": [
      "C:\\Anaconda3\\lib\\site-packages\\skimage\\io\\_io.py:132: UserWarning: ../DataSets/food-101/images/bread_pudding/444890s032.jpg is a low contrast image\n",
      "  warn('%s is a low contrast image' % fname)\n"
     ]
    },
    {
     "name": "stdout",
     "output_type": "stream",
     "text": [
      "Processed 75745 out of 75746 files...\r"
     ]
    }
   ],
   "source": [
    "#Resave train-valid files with 128x128 resolution (approx. 45 minutes)\n",
    "for i in range(len(dev_met)):\n",
    "    fimg = food101_readimg(imgpath128.format(dev_met[i]), req_size=128, out_size=32)\n",
    "    if fimg is None:\n",
    "        continue\n",
    "    skimage.io.imsave(imgpath032.format(dev_met[i]), fimg * 255.0)\n",
    "    print('Processed {0} out of {1} files...'.format(i, len(dev_met)), end='\\r')"
   ]
  },
  {
   "cell_type": "code",
   "execution_count": 44,
   "metadata": {},
   "outputs": [
    {
     "name": "stdout",
     "output_type": "stream",
     "text": [
      "100 loops, best of 3: 16.6 ms per loop\n"
     ]
    }
   ],
   "source": [
    "%%timeit\n",
    "fimg = food101_readimg(imgpath.format(train_met[10]), out_size=128)"
   ]
  },
  {
   "cell_type": "code",
   "execution_count": 48,
   "metadata": {},
   "outputs": [
    {
     "name": "stdout",
     "output_type": "stream",
     "text": [
      "1000 loops, best of 3: 485 µs per loop\n"
     ]
    }
   ],
   "source": [
    "%%timeit\n",
    "fimg = food101_readimg('test128.jpg', req_size=128, out_size=128)"
   ]
  },
  {
   "cell_type": "code",
   "execution_count": 46,
   "metadata": {},
   "outputs": [
    {
     "name": "stderr",
     "output_type": "stream",
     "text": [
      "C:\\Anaconda3\\lib\\site-packages\\skimage\\util\\dtype.py:122: UserWarning: Possible precision loss when converting from float64 to uint8\n",
      "  .format(dtypeobj_in, dtypeobj_out))\n"
     ]
    }
   ],
   "source": [
    "skimage.io.imsave('test128.jpg', fimg)"
   ]
  },
  {
   "cell_type": "code",
   "execution_count": 162,
   "metadata": {},
   "outputs": [
    {
     "name": "stdout",
     "output_type": "stream",
     "text": [
      "Graph created\n"
     ]
    }
   ],
   "source": [
    "#simple logistic regression\n",
    "CONST_SZ = 32\n",
    "CONST_LBL = 101\n",
    "\n",
    "tf.reset_default_graph()\n",
    "\n",
    "with tf.name_scope('Input'):\n",
    "    tf_x = tf.placeholder(shape=(None, CONST_SZ, CONST_SZ, 3), dtype=tf.float32, name='x')\n",
    "    tf_y = tf.placeholder(shape=(None,), dtype=tf.int32, name='y')\n",
    "    tf_xflat = tf.reshape(tf_x, shape=(tf.shape(tf_x)[0], CONST_SZ * CONST_SZ * 3))\n",
    "    tf_y1hot = tf.one_hot(tf_y, CONST_LBL, name='y1hot')\n",
    "    \n",
    "tf_lgt = tf.layers.dense(tf_xflat, CONST_LBL)\n",
    "tf_prob = tf.nn.softmax(tf_lgt, name='prob')\n",
    "tf_pred = tf.reshape(tf.nn.top_k(tf_prob, name='pred')[1], (tf.shape(tf_prob)[0],))\n",
    "tf_accuracy = tf.reduce_mean(tf.cast(tf.equal(tf_pred, tf_y), tf.float32))\n",
    "\n",
    "tf_loss = tf.reduce_mean(tf.nn.softmax_cross_entropy_with_logits(labels=tf_y1hot, logits=tf_lgt))\n",
    "tf_train = tf.train.AdamOptimizer(1e-3).minimize(tf_loss)\n",
    "\n",
    "tfsaver = tf.train.Saver(max_to_keep=2)\n",
    "\n",
    "dt_now = datetime.datetime.now().strftime(\"%Y-%m-%d_%H%M%S\")\n",
    "tffw = tf.summary.FileWriter('D:/Jupyter/Logs/18Food01_32LOGREG-{0}'.format(dt_now), tf.get_default_graph())\n",
    "print('Graph created')"
   ]
  },
  {
   "cell_type": "code",
   "execution_count": 164,
   "metadata": {},
   "outputs": [
    {
     "name": "stdout",
     "output_type": "stream",
     "text": [
      "Graph created\n"
     ]
    }
   ],
   "source": [
    "#simple cnn\n",
    "CONST_SZ = 32\n",
    "CONST_LBL = 101\n",
    "\n",
    "tf.reset_default_graph()\n",
    "\n",
    "with tf.name_scope('Input'):\n",
    "    tf_x = tf.placeholder(shape=(None, CONST_SZ, CONST_SZ, 3), dtype=tf.float32, name='x')\n",
    "    tf_y = tf.placeholder(shape=(None,), dtype=tf.int32, name='y')\n",
    "    tf_y1hot = tf.one_hot(tf_y, CONST_LBL, name='y1hot')\n",
    "    \n",
    "tf_cnn0 = tf.layers.conv2d(tf_x, 30, 3, padding='same', activation=tf.nn.elu)\n",
    "tf_mp0 = tf.layers.max_pooling2d(tf_cnn0, 2, 2, padding='same')\n",
    "#16x16x30\n",
    "tf_cnn1 = tf.layers.conv2d(tf_mp0, 50, 3, padding='same', activation=tf.nn.elu)\n",
    "tf_mp1 = tf.layers.max_pooling2d(tf_cnn1, 2, 2, padding='same')\n",
    "#8x8x50\n",
    "tf_cnn2 = tf.layers.conv2d(tf_mp1, 100, 3, padding='same', activation=tf.nn.elu)\n",
    "tf_mp2 = tf.layers.max_pooling2d(tf_cnn2, 2, 2, padding='same')\n",
    "#4x4x100\n",
    "tf_cnnout = tf.reshape(tf_mp2, shape=(tf.shape(tf_x)[0], 4*4*100))\n",
    "\n",
    "tf_lgt0 = tf.layers.dense(tf_cnnout, 200, activation=tf.nn.elu)\n",
    "tf_lgt = tf.layers.dense(tf_lgt0, CONST_LBL)\n",
    "\n",
    "tf_prob = tf.nn.softmax(tf_lgt, name='prob')\n",
    "tf_pred = tf.reshape(tf.nn.top_k(tf_prob, name='pred')[1], (tf.shape(tf_prob)[0],))\n",
    "tf_accuracy = tf.reduce_mean(tf.cast(tf.equal(tf_pred, tf_y), tf.float32))\n",
    "\n",
    "tf_loss = tf.reduce_mean(tf.nn.softmax_cross_entropy_with_logits(labels=tf_y1hot, logits=tf_lgt))\n",
    "tf_train = tf.train.AdamOptimizer(1e-3).minimize(tf_loss)\n",
    "\n",
    "tfsaver = tf.train.Saver(max_to_keep=2)\n",
    "\n",
    "dt_now = datetime.datetime.now().strftime(\"%Y-%m-%d_%H%M%S\")\n",
    "tffw = tf.summary.FileWriter('D:/Jupyter/Logs/18Food01_01LOGREG-{0}'.format(dt_now), tf.get_default_graph())\n",
    "print('Graph created')"
   ]
  },
  {
   "cell_type": "code",
   "execution_count": 165,
   "metadata": {},
   "outputs": [
    {
     "name": "stdout",
     "output_type": "stream",
     "text": [
      "Model saved at checkpoint: D:/Jupyter/mltest/Models-18FOOD01/model01CNN32-0000.ckpt\n",
      "Epoch 0 (1.08e+03 sec): \t\tVL:4.006\t\tAC:0.000\n",
      "Model saved at checkpoint: D:/Jupyter/mltest/Models-18FOOD01/model01CNN32-0001.ckpt\n",
      "Epoch 1 (2.45e+02 sec): \t\tVL:3.800\t\tAC:0.000\n",
      "Model saved at checkpoint: D:/Jupyter/mltest/Models-18FOOD01/model01CNN32-0002.ckpt\n",
      "Epoch 2 (2.41e+02 sec): \t\tVL:3.747\t\tAC:0.000\n",
      "Model saved at checkpoint: D:/Jupyter/mltest/Models-18FOOD01/model01CNN32-0003.ckpt\n",
      "Epoch 3 (2.4e+02 sec): \t\tVL:3.640\t\tAC:0.000\n",
      "Model saved at checkpoint: D:/Jupyter/mltest/Models-18FOOD01/model01CNN32-0004.ckpt\n",
      "Epoch 4 (2.62e+02 sec): \t\tVL:3.651\t\tAC:0.000\n",
      "Model saved at checkpoint: D:/Jupyter/mltest/Models-18FOOD01/model01CNN32-0005.ckpt\n",
      "Epoch 5 (2.54e+02 sec): \t\tVL:3.673\t\tAC:0.000\n",
      "Minibatch (5/303, 2.70 loss): 0.1 sec (IO), 0.5 sec (TRAIN)\r"
     ]
    },
    {
     "ename": "KeyboardInterrupt",
     "evalue": "",
     "output_type": "error",
     "traceback": [
      "\u001b[1;31m---------------------------------------------------------------------------\u001b[0m",
      "\u001b[1;31mKeyboardInterrupt\u001b[0m                         Traceback (most recent call last)",
      "\u001b[1;32m<ipython-input-165-af7807b8c0b4>\u001b[0m in \u001b[0;36m<module>\u001b[1;34m()\u001b[0m\n\u001b[0;32m     26\u001b[0m                 \u001b[0mtf_train\u001b[0m\u001b[1;33m.\u001b[0m\u001b[0mrun\u001b[0m\u001b[1;33m(\u001b[0m\u001b[0mfeed_dict\u001b[0m\u001b[1;33m=\u001b[0m\u001b[0mtrain_batch\u001b[0m\u001b[1;33m)\u001b[0m\u001b[1;33m\u001b[0m\u001b[0m\n\u001b[0;32m     27\u001b[0m             \u001b[0mtmb2\u001b[0m \u001b[1;33m=\u001b[0m \u001b[0mtime\u001b[0m\u001b[1;33m.\u001b[0m\u001b[0mperf_counter\u001b[0m\u001b[1;33m(\u001b[0m\u001b[1;33m)\u001b[0m\u001b[1;33m\u001b[0m\u001b[0m\n\u001b[1;32m---> 28\u001b[1;33m             \u001b[0mtrloss\u001b[0m \u001b[1;33m=\u001b[0m \u001b[0mtf_loss\u001b[0m\u001b[1;33m.\u001b[0m\u001b[0meval\u001b[0m\u001b[1;33m(\u001b[0m\u001b[0mtrain_batch\u001b[0m\u001b[1;33m)\u001b[0m\u001b[1;33m\u001b[0m\u001b[0m\n\u001b[0m\u001b[0;32m     29\u001b[0m             \u001b[0mprint\u001b[0m\u001b[1;33m(\u001b[0m\u001b[0mfmtstr_run\u001b[0m\u001b[1;33m.\u001b[0m\u001b[0mformat\u001b[0m\u001b[1;33m(\u001b[0m\u001b[0mtmb1\u001b[0m\u001b[1;33m-\u001b[0m\u001b[0mtmb0\u001b[0m\u001b[1;33m,\u001b[0m \u001b[0mtmb2\u001b[0m\u001b[1;33m-\u001b[0m\u001b[0mtmb1\u001b[0m\u001b[1;33m,\u001b[0m \u001b[0mind_minibatch\u001b[0m\u001b[1;33m,\u001b[0m \u001b[0mnum_minibatches\u001b[0m\u001b[1;33m,\u001b[0m \u001b[0mtrloss\u001b[0m\u001b[1;33m)\u001b[0m\u001b[1;33m,\u001b[0m \u001b[0mend\u001b[0m\u001b[1;33m=\u001b[0m\u001b[1;34m'\\r'\u001b[0m\u001b[1;33m)\u001b[0m\u001b[1;33m\u001b[0m\u001b[0m\n\u001b[0;32m     30\u001b[0m             \u001b[0mind_minibatch\u001b[0m \u001b[1;33m+=\u001b[0m \u001b[1;36m1\u001b[0m\u001b[1;33m\u001b[0m\u001b[0m\n",
      "\u001b[1;32mC:\\Anaconda3\\lib\\site-packages\\tensorflow\\python\\framework\\ops.py\u001b[0m in \u001b[0;36meval\u001b[1;34m(self, feed_dict, session)\u001b[0m\n\u001b[0;32m    604\u001b[0m \u001b[1;33m\u001b[0m\u001b[0m\n\u001b[0;32m    605\u001b[0m     \"\"\"\n\u001b[1;32m--> 606\u001b[1;33m     \u001b[1;32mreturn\u001b[0m \u001b[0m_eval_using_default_session\u001b[0m\u001b[1;33m(\u001b[0m\u001b[0mself\u001b[0m\u001b[1;33m,\u001b[0m \u001b[0mfeed_dict\u001b[0m\u001b[1;33m,\u001b[0m \u001b[0mself\u001b[0m\u001b[1;33m.\u001b[0m\u001b[0mgraph\u001b[0m\u001b[1;33m,\u001b[0m \u001b[0msession\u001b[0m\u001b[1;33m)\u001b[0m\u001b[1;33m\u001b[0m\u001b[0m\n\u001b[0m\u001b[0;32m    607\u001b[0m \u001b[1;33m\u001b[0m\u001b[0m\n\u001b[0;32m    608\u001b[0m \u001b[1;33m\u001b[0m\u001b[0m\n",
      "\u001b[1;32mC:\\Anaconda3\\lib\\site-packages\\tensorflow\\python\\framework\\ops.py\u001b[0m in \u001b[0;36m_eval_using_default_session\u001b[1;34m(tensors, feed_dict, graph, session)\u001b[0m\n\u001b[0;32m   3926\u001b[0m                        \u001b[1;34m\"the tensor's graph is different from the session's \"\u001b[0m\u001b[1;33m\u001b[0m\u001b[0m\n\u001b[0;32m   3927\u001b[0m                        \"graph.\")\n\u001b[1;32m-> 3928\u001b[1;33m   \u001b[1;32mreturn\u001b[0m \u001b[0msession\u001b[0m\u001b[1;33m.\u001b[0m\u001b[0mrun\u001b[0m\u001b[1;33m(\u001b[0m\u001b[0mtensors\u001b[0m\u001b[1;33m,\u001b[0m \u001b[0mfeed_dict\u001b[0m\u001b[1;33m)\u001b[0m\u001b[1;33m\u001b[0m\u001b[0m\n\u001b[0m\u001b[0;32m   3929\u001b[0m \u001b[1;33m\u001b[0m\u001b[0m\n\u001b[0;32m   3930\u001b[0m \u001b[1;33m\u001b[0m\u001b[0m\n",
      "\u001b[1;32mC:\\Anaconda3\\lib\\site-packages\\tensorflow\\python\\client\\session.py\u001b[0m in \u001b[0;36mrun\u001b[1;34m(self, fetches, feed_dict, options, run_metadata)\u001b[0m\n\u001b[0;32m    787\u001b[0m     \u001b[1;32mtry\u001b[0m\u001b[1;33m:\u001b[0m\u001b[1;33m\u001b[0m\u001b[0m\n\u001b[0;32m    788\u001b[0m       result = self._run(None, fetches, feed_dict, options_ptr,\n\u001b[1;32m--> 789\u001b[1;33m                          run_metadata_ptr)\n\u001b[0m\u001b[0;32m    790\u001b[0m       \u001b[1;32mif\u001b[0m \u001b[0mrun_metadata\u001b[0m\u001b[1;33m:\u001b[0m\u001b[1;33m\u001b[0m\u001b[0m\n\u001b[0;32m    791\u001b[0m         \u001b[0mproto_data\u001b[0m \u001b[1;33m=\u001b[0m \u001b[0mtf_session\u001b[0m\u001b[1;33m.\u001b[0m\u001b[0mTF_GetBuffer\u001b[0m\u001b[1;33m(\u001b[0m\u001b[0mrun_metadata_ptr\u001b[0m\u001b[1;33m)\u001b[0m\u001b[1;33m\u001b[0m\u001b[0m\n",
      "\u001b[1;32mC:\\Anaconda3\\lib\\site-packages\\tensorflow\\python\\client\\session.py\u001b[0m in \u001b[0;36m_run\u001b[1;34m(self, handle, fetches, feed_dict, options, run_metadata)\u001b[0m\n\u001b[0;32m    995\u001b[0m     \u001b[1;32mif\u001b[0m \u001b[0mfinal_fetches\u001b[0m \u001b[1;32mor\u001b[0m \u001b[0mfinal_targets\u001b[0m\u001b[1;33m:\u001b[0m\u001b[1;33m\u001b[0m\u001b[0m\n\u001b[0;32m    996\u001b[0m       results = self._do_run(handle, final_targets, final_fetches,\n\u001b[1;32m--> 997\u001b[1;33m                              feed_dict_string, options, run_metadata)\n\u001b[0m\u001b[0;32m    998\u001b[0m     \u001b[1;32melse\u001b[0m\u001b[1;33m:\u001b[0m\u001b[1;33m\u001b[0m\u001b[0m\n\u001b[0;32m    999\u001b[0m       \u001b[0mresults\u001b[0m \u001b[1;33m=\u001b[0m \u001b[1;33m[\u001b[0m\u001b[1;33m]\u001b[0m\u001b[1;33m\u001b[0m\u001b[0m\n",
      "\u001b[1;32mC:\\Anaconda3\\lib\\site-packages\\tensorflow\\python\\client\\session.py\u001b[0m in \u001b[0;36m_do_run\u001b[1;34m(self, handle, target_list, fetch_list, feed_dict, options, run_metadata)\u001b[0m\n\u001b[0;32m   1130\u001b[0m     \u001b[1;32mif\u001b[0m \u001b[0mhandle\u001b[0m \u001b[1;32mis\u001b[0m \u001b[1;32mNone\u001b[0m\u001b[1;33m:\u001b[0m\u001b[1;33m\u001b[0m\u001b[0m\n\u001b[0;32m   1131\u001b[0m       return self._do_call(_run_fn, self._session, feed_dict, fetch_list,\n\u001b[1;32m-> 1132\u001b[1;33m                            target_list, options, run_metadata)\n\u001b[0m\u001b[0;32m   1133\u001b[0m     \u001b[1;32melse\u001b[0m\u001b[1;33m:\u001b[0m\u001b[1;33m\u001b[0m\u001b[0m\n\u001b[0;32m   1134\u001b[0m       return self._do_call(_prun_fn, self._session, handle, feed_dict,\n",
      "\u001b[1;32mC:\\Anaconda3\\lib\\site-packages\\tensorflow\\python\\client\\session.py\u001b[0m in \u001b[0;36m_do_call\u001b[1;34m(self, fn, *args)\u001b[0m\n\u001b[0;32m   1137\u001b[0m   \u001b[1;32mdef\u001b[0m \u001b[0m_do_call\u001b[0m\u001b[1;33m(\u001b[0m\u001b[0mself\u001b[0m\u001b[1;33m,\u001b[0m \u001b[0mfn\u001b[0m\u001b[1;33m,\u001b[0m \u001b[1;33m*\u001b[0m\u001b[0margs\u001b[0m\u001b[1;33m)\u001b[0m\u001b[1;33m:\u001b[0m\u001b[1;33m\u001b[0m\u001b[0m\n\u001b[0;32m   1138\u001b[0m     \u001b[1;32mtry\u001b[0m\u001b[1;33m:\u001b[0m\u001b[1;33m\u001b[0m\u001b[0m\n\u001b[1;32m-> 1139\u001b[1;33m       \u001b[1;32mreturn\u001b[0m \u001b[0mfn\u001b[0m\u001b[1;33m(\u001b[0m\u001b[1;33m*\u001b[0m\u001b[0margs\u001b[0m\u001b[1;33m)\u001b[0m\u001b[1;33m\u001b[0m\u001b[0m\n\u001b[0m\u001b[0;32m   1140\u001b[0m     \u001b[1;32mexcept\u001b[0m \u001b[0merrors\u001b[0m\u001b[1;33m.\u001b[0m\u001b[0mOpError\u001b[0m \u001b[1;32mas\u001b[0m \u001b[0me\u001b[0m\u001b[1;33m:\u001b[0m\u001b[1;33m\u001b[0m\u001b[0m\n\u001b[0;32m   1141\u001b[0m       \u001b[0mmessage\u001b[0m \u001b[1;33m=\u001b[0m \u001b[0mcompat\u001b[0m\u001b[1;33m.\u001b[0m\u001b[0mas_text\u001b[0m\u001b[1;33m(\u001b[0m\u001b[0me\u001b[0m\u001b[1;33m.\u001b[0m\u001b[0mmessage\u001b[0m\u001b[1;33m)\u001b[0m\u001b[1;33m\u001b[0m\u001b[0m\n",
      "\u001b[1;32mC:\\Anaconda3\\lib\\site-packages\\tensorflow\\python\\client\\session.py\u001b[0m in \u001b[0;36m_run_fn\u001b[1;34m(session, feed_dict, fetch_list, target_list, options, run_metadata)\u001b[0m\n\u001b[0;32m   1119\u001b[0m         return tf_session.TF_Run(session, options,\n\u001b[0;32m   1120\u001b[0m                                  \u001b[0mfeed_dict\u001b[0m\u001b[1;33m,\u001b[0m \u001b[0mfetch_list\u001b[0m\u001b[1;33m,\u001b[0m \u001b[0mtarget_list\u001b[0m\u001b[1;33m,\u001b[0m\u001b[1;33m\u001b[0m\u001b[0m\n\u001b[1;32m-> 1121\u001b[1;33m                                  status, run_metadata)\n\u001b[0m\u001b[0;32m   1122\u001b[0m \u001b[1;33m\u001b[0m\u001b[0m\n\u001b[0;32m   1123\u001b[0m     \u001b[1;32mdef\u001b[0m \u001b[0m_prun_fn\u001b[0m\u001b[1;33m(\u001b[0m\u001b[0msession\u001b[0m\u001b[1;33m,\u001b[0m \u001b[0mhandle\u001b[0m\u001b[1;33m,\u001b[0m \u001b[0mfeed_dict\u001b[0m\u001b[1;33m,\u001b[0m \u001b[0mfetch_list\u001b[0m\u001b[1;33m)\u001b[0m\u001b[1;33m:\u001b[0m\u001b[1;33m\u001b[0m\u001b[0m\n",
      "\u001b[1;31mKeyboardInterrupt\u001b[0m: "
     ]
    }
   ],
   "source": [
    "batch_size = 200\n",
    "num_steps  = 1\n",
    "num_epochs = 10\n",
    "used_imgpath = imgpath032\n",
    "\n",
    "fmtstr = 'Epoch {0} ({1:1.3} sec): \\t\\tVL:{2:1.3f}\\t\\tAC:{3:1.3f}'\n",
    "fmtstr_run = 'Minibatch ({2}/{3}, {4:.2f} loss): {0:.1f} sec (IO), {1:.1f} sec (TRAIN)'\n",
    "train_tuple = (train_met, train_y)\n",
    "valid_tuple = (valid_met, valid_y)\n",
    "with tf.Session() as tfs:\n",
    "    tfs.run(tf.global_variables_initializer())\n",
    "    for i in range(num_epochs):\n",
    "        te0 = time.perf_counter()\n",
    "        ind_minibatch = 0\n",
    "        num_minibatches = len(train_y) // batch_size\n",
    "        if num_minibatches * batch_size < len(train_y):\n",
    "            num_minibatches += 1\n",
    "        for (mini_met, mini_y) in modutils.shuffleBatches(train_tuple, batchSize=batch_size):\n",
    "            tmb0 = time.perf_counter()\n",
    "            \n",
    "            mini_x = np.array([food101_readimg(used_imgpath.format(x), req_size=CONST_SZ, out_size=CONST_SZ) for x in mini_met])\n",
    "            train_batch = {tf_x:mini_x, tf_y:mini_y}\n",
    "        \n",
    "            tmb1 = time.perf_counter()\n",
    "            for j in range(num_steps):\n",
    "                tf_train.run(feed_dict=train_batch)\n",
    "            tmb2 = time.perf_counter()\n",
    "            trloss = tf_loss.eval(train_batch)\n",
    "            print(fmtstr_run.format(tmb1-tmb0, tmb2-tmb1, ind_minibatch, num_minibatches, trloss), end='\\r')\n",
    "            ind_minibatch += 1\n",
    "    \n",
    "        te1 = time.perf_counter()\n",
    "        vloss = 0\n",
    "        vacc  = 0\n",
    "        ind_minibatch = 0\n",
    "        num_minibatches = len(valid_y) // batch_size\n",
    "        if num_minibatches * batch_size < len(valid_y):\n",
    "            num_minibatches += 1\n",
    "        for (mv_met, mv_y) in modutils.shuffleBatches(valid_tuple, batchSize=batch_size):\n",
    "            mv_x = np.array([food101_readimg(used_imgpath.format(x), req_size=CONST_SZ, out_size=CONST_SZ) for x in mv_met])\n",
    "            valid_batch = {tf_x:mv_x, tf_y:mv_y}\n",
    "            \n",
    "            tloss, tacc = tfs.run([tf_loss, tf_accuracy], valid_batch)\n",
    "            vloss += tloss * batch_size\n",
    "            vacc += vacc * batch_size\n",
    "            \n",
    "            print(fmtstr_run.format(tmb1-tmb0, tmb2-tmb1, ind_minibatch, num_minibatches, tloss), end='\\r')\n",
    "            ind_minibatch += 1\n",
    "            #tffw.add_summary(summary, i)\n",
    "            #if i%checkpoints == 0 and i > 0:\n",
    "        lv = vloss / len(valid_y)\n",
    "        ac = vacc / len(valid_y)\n",
    "        p = tfsaver.save(tfs, 'D:/Jupyter/mltest/Models-18FOOD01/model01CNN32-{0:04d}.ckpt'.format(i))\n",
    "        print('Model saved at checkpoint: {0}'.format(p))\n",
    "                             \n",
    "        print(fmtstr.format(i,te1-te0,lv,ac))"
   ]
  },
  {
   "cell_type": "code",
   "execution_count": 157,
   "metadata": {},
   "outputs": [
    {
     "name": "stdout",
     "output_type": "stream",
     "text": [
      "INFO:tensorflow:Restoring parameters from D:/Jupyter/mltest/Models-18FOOD01/model01CNN1-0000.ckpt\n",
      "Minibatch (12/304, 3.76 loss): 1.2 sec (IO), 10.5 sec (TRAIN)\r"
     ]
    },
    {
     "ename": "KeyboardInterrupt",
     "evalue": "",
     "output_type": "error",
     "traceback": [
      "\u001b[1;31m---------------------------------------------------------------------------\u001b[0m",
      "\u001b[1;31mKeyboardInterrupt\u001b[0m                         Traceback (most recent call last)",
      "\u001b[1;32m<ipython-input-157-4bf1eda0ca8a>\u001b[0m in \u001b[0;36m<module>\u001b[1;34m()\u001b[0m\n\u001b[0;32m     25\u001b[0m             \u001b[0mtmb1\u001b[0m \u001b[1;33m=\u001b[0m \u001b[0mtime\u001b[0m\u001b[1;33m.\u001b[0m\u001b[0mperf_counter\u001b[0m\u001b[1;33m(\u001b[0m\u001b[1;33m)\u001b[0m\u001b[1;33m\u001b[0m\u001b[0m\n\u001b[0;32m     26\u001b[0m             \u001b[1;32mfor\u001b[0m \u001b[0mj\u001b[0m \u001b[1;32min\u001b[0m \u001b[0mrange\u001b[0m\u001b[1;33m(\u001b[0m\u001b[0mnum_steps\u001b[0m\u001b[1;33m)\u001b[0m\u001b[1;33m:\u001b[0m\u001b[1;33m\u001b[0m\u001b[0m\n\u001b[1;32m---> 27\u001b[1;33m                 \u001b[0mtf_train\u001b[0m\u001b[1;33m.\u001b[0m\u001b[0mrun\u001b[0m\u001b[1;33m(\u001b[0m\u001b[0mfeed_dict\u001b[0m\u001b[1;33m=\u001b[0m\u001b[0mtrain_batch\u001b[0m\u001b[1;33m)\u001b[0m\u001b[1;33m\u001b[0m\u001b[0m\n\u001b[0m\u001b[0;32m     28\u001b[0m             \u001b[0mtmb2\u001b[0m \u001b[1;33m=\u001b[0m \u001b[0mtime\u001b[0m\u001b[1;33m.\u001b[0m\u001b[0mperf_counter\u001b[0m\u001b[1;33m(\u001b[0m\u001b[1;33m)\u001b[0m\u001b[1;33m\u001b[0m\u001b[0m\n\u001b[0;32m     29\u001b[0m             \u001b[0mtrloss\u001b[0m \u001b[1;33m=\u001b[0m \u001b[0mtf_loss\u001b[0m\u001b[1;33m.\u001b[0m\u001b[0meval\u001b[0m\u001b[1;33m(\u001b[0m\u001b[0mtrain_batch\u001b[0m\u001b[1;33m)\u001b[0m\u001b[1;33m\u001b[0m\u001b[0m\n",
      "\u001b[1;32mC:\\Anaconda3\\lib\\site-packages\\tensorflow\\python\\framework\\ops.py\u001b[0m in \u001b[0;36mrun\u001b[1;34m(self, feed_dict, session)\u001b[0m\n\u001b[0;32m   1704\u001b[0m         \u001b[0mnone\u001b[0m\u001b[1;33m,\u001b[0m \u001b[0mthe\u001b[0m \u001b[0mdefault\u001b[0m \u001b[0msession\u001b[0m \u001b[0mwill\u001b[0m \u001b[0mbe\u001b[0m \u001b[0mused\u001b[0m\u001b[1;33m.\u001b[0m\u001b[1;33m\u001b[0m\u001b[0m\n\u001b[0;32m   1705\u001b[0m     \"\"\"\n\u001b[1;32m-> 1706\u001b[1;33m     \u001b[0m_run_using_default_session\u001b[0m\u001b[1;33m(\u001b[0m\u001b[0mself\u001b[0m\u001b[1;33m,\u001b[0m \u001b[0mfeed_dict\u001b[0m\u001b[1;33m,\u001b[0m \u001b[0mself\u001b[0m\u001b[1;33m.\u001b[0m\u001b[0mgraph\u001b[0m\u001b[1;33m,\u001b[0m \u001b[0msession\u001b[0m\u001b[1;33m)\u001b[0m\u001b[1;33m\u001b[0m\u001b[0m\n\u001b[0m\u001b[0;32m   1707\u001b[0m \u001b[1;33m\u001b[0m\u001b[0m\n\u001b[0;32m   1708\u001b[0m \u001b[1;33m\u001b[0m\u001b[0m\n",
      "\u001b[1;32mC:\\Anaconda3\\lib\\site-packages\\tensorflow\\python\\framework\\ops.py\u001b[0m in \u001b[0;36m_run_using_default_session\u001b[1;34m(operation, feed_dict, graph, session)\u001b[0m\n\u001b[0;32m   3961\u001b[0m                        \u001b[1;34m\"the operation's graph is different from the session's \"\u001b[0m\u001b[1;33m\u001b[0m\u001b[0m\n\u001b[0;32m   3962\u001b[0m                        \"graph.\")\n\u001b[1;32m-> 3963\u001b[1;33m   \u001b[0msession\u001b[0m\u001b[1;33m.\u001b[0m\u001b[0mrun\u001b[0m\u001b[1;33m(\u001b[0m\u001b[0moperation\u001b[0m\u001b[1;33m,\u001b[0m \u001b[0mfeed_dict\u001b[0m\u001b[1;33m)\u001b[0m\u001b[1;33m\u001b[0m\u001b[0m\n\u001b[0m\u001b[0;32m   3964\u001b[0m \u001b[1;33m\u001b[0m\u001b[0m\n\u001b[0;32m   3965\u001b[0m \u001b[1;33m\u001b[0m\u001b[0m\n",
      "\u001b[1;32mC:\\Anaconda3\\lib\\site-packages\\tensorflow\\python\\client\\session.py\u001b[0m in \u001b[0;36mrun\u001b[1;34m(self, fetches, feed_dict, options, run_metadata)\u001b[0m\n\u001b[0;32m    787\u001b[0m     \u001b[1;32mtry\u001b[0m\u001b[1;33m:\u001b[0m\u001b[1;33m\u001b[0m\u001b[0m\n\u001b[0;32m    788\u001b[0m       result = self._run(None, fetches, feed_dict, options_ptr,\n\u001b[1;32m--> 789\u001b[1;33m                          run_metadata_ptr)\n\u001b[0m\u001b[0;32m    790\u001b[0m       \u001b[1;32mif\u001b[0m \u001b[0mrun_metadata\u001b[0m\u001b[1;33m:\u001b[0m\u001b[1;33m\u001b[0m\u001b[0m\n\u001b[0;32m    791\u001b[0m         \u001b[0mproto_data\u001b[0m \u001b[1;33m=\u001b[0m \u001b[0mtf_session\u001b[0m\u001b[1;33m.\u001b[0m\u001b[0mTF_GetBuffer\u001b[0m\u001b[1;33m(\u001b[0m\u001b[0mrun_metadata_ptr\u001b[0m\u001b[1;33m)\u001b[0m\u001b[1;33m\u001b[0m\u001b[0m\n",
      "\u001b[1;32mC:\\Anaconda3\\lib\\site-packages\\tensorflow\\python\\client\\session.py\u001b[0m in \u001b[0;36m_run\u001b[1;34m(self, handle, fetches, feed_dict, options, run_metadata)\u001b[0m\n\u001b[0;32m    995\u001b[0m     \u001b[1;32mif\u001b[0m \u001b[0mfinal_fetches\u001b[0m \u001b[1;32mor\u001b[0m \u001b[0mfinal_targets\u001b[0m\u001b[1;33m:\u001b[0m\u001b[1;33m\u001b[0m\u001b[0m\n\u001b[0;32m    996\u001b[0m       results = self._do_run(handle, final_targets, final_fetches,\n\u001b[1;32m--> 997\u001b[1;33m                              feed_dict_string, options, run_metadata)\n\u001b[0m\u001b[0;32m    998\u001b[0m     \u001b[1;32melse\u001b[0m\u001b[1;33m:\u001b[0m\u001b[1;33m\u001b[0m\u001b[0m\n\u001b[0;32m    999\u001b[0m       \u001b[0mresults\u001b[0m \u001b[1;33m=\u001b[0m \u001b[1;33m[\u001b[0m\u001b[1;33m]\u001b[0m\u001b[1;33m\u001b[0m\u001b[0m\n",
      "\u001b[1;32mC:\\Anaconda3\\lib\\site-packages\\tensorflow\\python\\client\\session.py\u001b[0m in \u001b[0;36m_do_run\u001b[1;34m(self, handle, target_list, fetch_list, feed_dict, options, run_metadata)\u001b[0m\n\u001b[0;32m   1130\u001b[0m     \u001b[1;32mif\u001b[0m \u001b[0mhandle\u001b[0m \u001b[1;32mis\u001b[0m \u001b[1;32mNone\u001b[0m\u001b[1;33m:\u001b[0m\u001b[1;33m\u001b[0m\u001b[0m\n\u001b[0;32m   1131\u001b[0m       return self._do_call(_run_fn, self._session, feed_dict, fetch_list,\n\u001b[1;32m-> 1132\u001b[1;33m                            target_list, options, run_metadata)\n\u001b[0m\u001b[0;32m   1133\u001b[0m     \u001b[1;32melse\u001b[0m\u001b[1;33m:\u001b[0m\u001b[1;33m\u001b[0m\u001b[0m\n\u001b[0;32m   1134\u001b[0m       return self._do_call(_prun_fn, self._session, handle, feed_dict,\n",
      "\u001b[1;32mC:\\Anaconda3\\lib\\site-packages\\tensorflow\\python\\client\\session.py\u001b[0m in \u001b[0;36m_do_call\u001b[1;34m(self, fn, *args)\u001b[0m\n\u001b[0;32m   1137\u001b[0m   \u001b[1;32mdef\u001b[0m \u001b[0m_do_call\u001b[0m\u001b[1;33m(\u001b[0m\u001b[0mself\u001b[0m\u001b[1;33m,\u001b[0m \u001b[0mfn\u001b[0m\u001b[1;33m,\u001b[0m \u001b[1;33m*\u001b[0m\u001b[0margs\u001b[0m\u001b[1;33m)\u001b[0m\u001b[1;33m:\u001b[0m\u001b[1;33m\u001b[0m\u001b[0m\n\u001b[0;32m   1138\u001b[0m     \u001b[1;32mtry\u001b[0m\u001b[1;33m:\u001b[0m\u001b[1;33m\u001b[0m\u001b[0m\n\u001b[1;32m-> 1139\u001b[1;33m       \u001b[1;32mreturn\u001b[0m \u001b[0mfn\u001b[0m\u001b[1;33m(\u001b[0m\u001b[1;33m*\u001b[0m\u001b[0margs\u001b[0m\u001b[1;33m)\u001b[0m\u001b[1;33m\u001b[0m\u001b[0m\n\u001b[0m\u001b[0;32m   1140\u001b[0m     \u001b[1;32mexcept\u001b[0m \u001b[0merrors\u001b[0m\u001b[1;33m.\u001b[0m\u001b[0mOpError\u001b[0m \u001b[1;32mas\u001b[0m \u001b[0me\u001b[0m\u001b[1;33m:\u001b[0m\u001b[1;33m\u001b[0m\u001b[0m\n\u001b[0;32m   1141\u001b[0m       \u001b[0mmessage\u001b[0m \u001b[1;33m=\u001b[0m \u001b[0mcompat\u001b[0m\u001b[1;33m.\u001b[0m\u001b[0mas_text\u001b[0m\u001b[1;33m(\u001b[0m\u001b[0me\u001b[0m\u001b[1;33m.\u001b[0m\u001b[0mmessage\u001b[0m\u001b[1;33m)\u001b[0m\u001b[1;33m\u001b[0m\u001b[0m\n",
      "\u001b[1;32mC:\\Anaconda3\\lib\\site-packages\\tensorflow\\python\\client\\session.py\u001b[0m in \u001b[0;36m_run_fn\u001b[1;34m(session, feed_dict, fetch_list, target_list, options, run_metadata)\u001b[0m\n\u001b[0;32m   1119\u001b[0m         return tf_session.TF_Run(session, options,\n\u001b[0;32m   1120\u001b[0m                                  \u001b[0mfeed_dict\u001b[0m\u001b[1;33m,\u001b[0m \u001b[0mfetch_list\u001b[0m\u001b[1;33m,\u001b[0m \u001b[0mtarget_list\u001b[0m\u001b[1;33m,\u001b[0m\u001b[1;33m\u001b[0m\u001b[0m\n\u001b[1;32m-> 1121\u001b[1;33m                                  status, run_metadata)\n\u001b[0m\u001b[0;32m   1122\u001b[0m \u001b[1;33m\u001b[0m\u001b[0m\n\u001b[0;32m   1123\u001b[0m     \u001b[1;32mdef\u001b[0m \u001b[0m_prun_fn\u001b[0m\u001b[1;33m(\u001b[0m\u001b[0msession\u001b[0m\u001b[1;33m,\u001b[0m \u001b[0mhandle\u001b[0m\u001b[1;33m,\u001b[0m \u001b[0mfeed_dict\u001b[0m\u001b[1;33m,\u001b[0m \u001b[0mfetch_list\u001b[0m\u001b[1;33m)\u001b[0m\u001b[1;33m:\u001b[0m\u001b[1;33m\u001b[0m\u001b[0m\n",
      "\u001b[1;31mKeyboardInterrupt\u001b[0m: "
     ]
    }
   ],
   "source": [
    "batch_size = 200\n",
    "num_steps  = 1\n",
    "num_epochs = 10\n",
    "used_imgpath = imgpath128\n",
    "\n",
    "fmtstr = 'Epoch {0} ({1:1.3} sec): \\t\\tVL:{2:1.3f}\\t\\tAC:{3:1.3f}'\n",
    "fmtstr_run = 'Minibatch ({2}/{3}, {4:.2f} loss): {0:.1f} sec (IO), {1:.1f} sec (TRAIN)'\n",
    "train_tuple = (train_met, train_y)\n",
    "valid_tuple = (valid_met, valid_y)\n",
    "with tf.Session() as tfs:\n",
    "    tfs.run(tf.global_variables_initializer())\n",
    "    tfsaver.restore(tfs, 'D:/Jupyter/mltest/Models-18FOOD01/model01CNN1-0000.ckpt')\n",
    "    for i in range(1, num_epochs):\n",
    "        te0 = time.perf_counter()\n",
    "        ind_minibatch = 0\n",
    "        num_minibatches = len(train_y) // batch_size\n",
    "        if num_minibatches * batch_size < len(train_y):\n",
    "            num_minibatches += 1\n",
    "        for (mini_met, mini_y) in modutils.shuffleBatches(train_tuple, batchSize=batch_size):\n",
    "            tmb0 = time.perf_counter()\n",
    "            \n",
    "            mini_x = np.array([food101_readimg(used_imgpath.format(x), req_size=CONST_SZ, out_size=CONST_SZ) for x in mini_met])\n",
    "            train_batch = {tf_x:mini_x, tf_y:mini_y}\n",
    "        \n",
    "            tmb1 = time.perf_counter()\n",
    "            for j in range(num_steps):\n",
    "                tf_train.run(feed_dict=train_batch)\n",
    "            tmb2 = time.perf_counter()\n",
    "            trloss = tf_loss.eval(train_batch)\n",
    "            print(fmtstr_run.format(tmb1-tmb0, tmb2-tmb1, ind_minibatch, num_minibatches, trloss), end='\\r')\n",
    "            ind_minibatch += 1\n",
    "    \n",
    "        te1 = time.perf_counter()\n",
    "        vloss = 0\n",
    "        vacc  = 0\n",
    "        ind_minibatch = 0\n",
    "        num_minibatches = len(valid_y) // batch_size\n",
    "        if num_minibatches * batch_size < len(valid_y):\n",
    "            num_minibatches += 1\n",
    "        for (mv_met, mv_y) in modutils.shuffleBatches(valid_tuple, batchSize=batch_size):\n",
    "            mv_x = np.array([food101_readimg(used_imgpath.format(x), req_size=CONST_SZ, out_size=CONST_SZ) for x in mv_met])\n",
    "            valid_batch = {tf_x:mv_x, tf_y:mv_y}\n",
    "            \n",
    "            tloss, tacc = tfs.run([tf_loss, tf_accuracy], valid_batch)\n",
    "            vloss += tloss * batch_size\n",
    "            vacc += vacc * batch_size\n",
    "            \n",
    "            print(fmtstr_run.format(tmb1-tmb0, tmb2-tmb1, ind_minibatch, num_minibatches, tloss), end='\\r')\n",
    "            ind_minibatch += 1\n",
    "            #tffw.add_summary(summary, i)\n",
    "            #if i%checkpoints == 0 and i > 0:\n",
    "        lv = vloss / len(valid_y)\n",
    "        ac = vacc / len(valid_y)\n",
    "        p = tfsaver.save(tfs, 'D:/Jupyter/mltest/Models-18FOOD01/model01CNN1-{0:04d}.ckpt'.format(i))\n",
    "        print('Model saved at checkpoint: {0}'.format(p))\n",
    "                             \n",
    "        print(fmtstr.format(i,te1-te0,lv,ac))"
   ]
  },
  {
   "cell_type": "code",
   "execution_count": null,
   "metadata": {
    "collapsed": true
   },
   "outputs": [],
   "source": [
    "batch_size = 200\n",
    "num_steps  = 1\n",
    "num_epochs = 10\n",
    "used_imgpath = imgpath128\n",
    "\n",
    "fmtstr = 'Epoch {0} ({1:1.3} sec): \\t\\tVL:{2:1.3f}\\t\\tAC:{3:1.3f}'\n",
    "fmtstr_run = 'Minibatch ({2}/{3}, {4:.2f} loss): {0:.1f} sec (IO), {1:.1f} sec (TRAIN)'\n",
    "train_tuple = (train_met, train_y)\n",
    "valid_tuple = (valid_met, valid_y)\n",
    "valid_p = None\n",
    "with tf.Session() as tfs:\n",
    "    tfs.run(tf.global_variables_initializer())\n",
    "    tfsaver.restore(tfs, 'D:/Jupyter/mltest/Models-18FOOD01/model01CNN1-0000.ckpt')\n",
    "    ind_minibatch = 0\n",
    "    num_minibatches = len(valid_y) // batch_size\n",
    "    if num_minibatches * batch_size < len(valid_y):\n",
    "        num_minibatches += 1\n",
    "    for (mv_met, mv_y) in modutils.shuffleBatches(valid_tuple, batchSize=batch_size):\n",
    "        t0 = time.perf_counter()\n",
    "        mv_x = np.array([food101_readimg(used_imgpath.format(x), req_size=CONST_SZ, out_size=CONST_SZ) for x in mv_met])\n",
    "        valid_batch = {tf_x:mv_x, tf_y:mv_y}\n",
    "        t1 = time.perf_counter()\n",
    "        valid_p0 = tf_prob.eval(valid_batch)\n",
    "        t2 = time.perf_counter()\n",
    "        if valid_p is None:\n",
    "            valid_p = valid_p0\n",
    "        else:\n",
    "            valid_p = np.vstack([valid_p, valid_p0])\n",
    "        t3 = time.perf_counter()\n",
    "        ind_minibatch += 1\n",
    "        print('{0} of {1} done; IO: {2:.1f} sec, TF: {3:.1f} sec, NP: {4:.1f} sec'.format(ind_minibatch, num_minibatches, t1-t0,t2-t1,t3-t2), end='\\r')"
   ]
  },
  {
   "cell_type": "code",
   "execution_count": 132,
   "metadata": {},
   "outputs": [
    {
     "data": {
      "text/plain": [
       "(81,\n",
       " [(23, 0.10276058),\n",
       "  (49, 0.093272746),\n",
       "  (88, 0.065886937),\n",
       "  (67, 0.06420172),\n",
       "  (71, 0.052962728),\n",
       "  (27, 0.043844711),\n",
       "  (90, 0.034535103),\n",
       "  (54, 0.029794814),\n",
       "  (8, 0.028898258),\n",
       "  (89, 0.028106257)])"
      ]
     },
     "execution_count": 132,
     "metadata": {},
     "output_type": "execute_result"
    }
   ],
   "source": [
    "valid_y[12], sorted(list(enumerate(valid_p[12])), key=lambda x: x[1], reverse=True)[:10]"
   ]
  },
  {
   "cell_type": "code",
   "execution_count": 135,
   "metadata": {
    "collapsed": true
   },
   "outputs": [],
   "source": [
    "valid_top = [np.sum(valid_p[i] >= valid_p[i][valid_y[i]]) for i in range(len(valid_y))]"
   ]
  },
  {
   "cell_type": "code",
   "execution_count": 140,
   "metadata": {},
   "outputs": [
    {
     "data": {
      "text/plain": [
       "50.783270978086584"
      ]
     },
     "execution_count": 140,
     "metadata": {},
     "output_type": "execute_result"
    }
   ],
   "source": [
    "np.mean(np.array(valid_top))"
   ]
  },
  {
   "cell_type": "code",
   "execution_count": 141,
   "metadata": {},
   "outputs": [
    {
     "data": {
      "text/plain": [
       "[5, 88, 43, 30, 5, 10, 79, 56, 39, 65]"
      ]
     },
     "execution_count": 141,
     "metadata": {},
     "output_type": "execute_result"
    }
   ],
   "source": [
    "valid_top[:10]"
   ]
  },
  {
   "cell_type": "code",
   "execution_count": 155,
   "metadata": {},
   "outputs": [
    {
     "data": {
      "text/plain": [
       "50.7826310758144"
      ]
     },
     "execution_count": 155,
     "metadata": {},
     "output_type": "execute_result"
    }
   ],
   "source": [
    "np.mean(np.array(valid_top)[(np.min(valid_p, axis=1) < 0.0005)])"
   ]
  },
  {
   "cell_type": "code",
   "execution_count": null,
   "metadata": {
    "collapsed": true
   },
   "outputs": [],
   "source": []
  }
 ],
 "metadata": {
  "kernelspec": {
   "display_name": "Python [default]",
   "language": "python",
   "name": "python3"
  },
  "language_info": {
   "codemirror_mode": {
    "name": "ipython",
    "version": 3
   },
   "file_extension": ".py",
   "mimetype": "text/x-python",
   "name": "python",
   "nbconvert_exporter": "python",
   "pygments_lexer": "ipython3",
   "version": "3.6.1"
  }
 },
 "nbformat": 4,
 "nbformat_minor": 2
}
