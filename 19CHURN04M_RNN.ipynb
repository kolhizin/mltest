{
 "cells": [
  {
   "cell_type": "code",
   "execution_count": 1,
   "metadata": {},
   "outputs": [],
   "source": [
    "import numpy as np\n",
    "import tensorflow as tf\n",
    "import pandas as pd\n",
    "import matplotlib.pyplot as plt\n",
    "import datetime, time\n",
    "import sklearn, sklearn.metrics\n",
    "\n",
    "import modutils\n",
    "\n",
    "#data_dir = '../DataSets/Churn/'\n",
    "data_dir = '../DataSets/kkbox/churn/raw/'\n",
    "logm_fmt = data_dir + 'user_logs/uldtm_{0}.csv'\n",
    "used_log = '201701'"
   ]
  },
  {
   "cell_type": "code",
   "execution_count": 2,
   "metadata": {
    "collapsed": true
   },
   "outputs": [],
   "source": [
    "src0 = pd.read_csv(logm_fmt.format(used_log))"
   ]
  },
  {
   "cell_type": "code",
   "execution_count": 3,
   "metadata": {
    "collapsed": true
   },
   "outputs": [],
   "source": [
    "features = ['used', 'ln_tot', 'ln_sec', 'pct_low', 'pct_100', 'pct_unq', 'avg_sec_n']\n",
    "target = ['nxt_used']\n",
    "devX = src0[src0.date < 20170131][features].values.reshape(-1, 30, len(features))\n",
    "devY = src0.nxt_used[src0.date < 20170131].values.reshape(-1, 30)"
   ]
  },
  {
   "cell_type": "code",
   "execution_count": 4,
   "metadata": {
    "collapsed": true
   },
   "outputs": [],
   "source": [
    "(trainX, trainY), (validX, validY), (testX, testY) = modutils.splitSample((devX, devY), pcts=[0.2, 0.2, 0.6])"
   ]
  },
  {
   "cell_type": "code",
   "execution_count": 21,
   "metadata": {},
   "outputs": [
    {
     "name": "stdout",
     "output_type": "stream",
     "text": [
      "Graph creation complete\n"
     ]
    }
   ],
   "source": [
    "SEQ_LENGTH = 30\n",
    "SEQ_FEATURES = len(features)\n",
    "RNN_SIZE = [64, 64]\n",
    "HIDDEN_LAYER = 16\n",
    "\n",
    "RCell = lambda n: tf.nn.rnn_cell.GRUCell(num_units=n, activation=tf.nn.elu)\n",
    "\n",
    "tf.reset_default_graph()\n",
    "\n",
    "rnnCell = tf.nn.rnn_cell.MultiRNNCell([RCell(s) for s in RNN_SIZE], state_is_tuple=True)\n",
    "\n",
    "with tf.name_scope(name='INPUT'):\n",
    "    tfi_x = tf.placeholder(shape=(None, SEQ_LENGTH, SEQ_FEATURES), dtype=tf.float32)\n",
    "    tfi_y = tf.placeholder(shape=(None, SEQ_LENGTH), dtype=tf.int32)\n",
    "    tfi_l = tf.placeholder(shape=(1,), dtype=tf.int32)\n",
    "    \n",
    "    tfX = tfi_x\n",
    "    tfY = tf.one_hot(tfi_y, 2, dtype=tf.float32)\n",
    "    tfActual = tf.cast(tfi_y, dtype=tf.float32)\n",
    "\n",
    "with tf.name_scope(name='RNN'):\n",
    "    tfRNN_Hist, _ = tf.nn.dynamic_rnn(rnnCell, inputs=tfX, dtype=tf.float32, time_major=False)\n",
    "    \n",
    "    tfRNN_HistHid = tf.layers.dense(tfRNN_Hist, HIDDEN_LAYER, activation=tf.nn.elu)\n",
    "    tfRNN_HistRes = tf.layers.dense(tfRNN_HistHid, 2)\n",
    "\n",
    "with tf.name_scope(name='LOSS'):\n",
    "    tfLoss0 = tf.nn.softmax_cross_entropy_with_logits(labels=tfY[:,5:,:], logits=tfRNN_HistRes[:,5:,:])\n",
    "    tfLoss = tf.reduce_mean(tfLoss0)\n",
    "    tfOptimizer = tf.train.AdamOptimizer(1e-3)\n",
    "    tfTrain = tfOptimizer.minimize(tfLoss)\n",
    "    \n",
    "    #tf_TLi = tf.constant(0)\n",
    "    #tf_TLc = lambda i: tf.less(i, tfi_l)\n",
    "    #def tf_TLbody(i):        \n",
    "    #    return tfTrain1\n",
    "\n",
    "    #tfTrainLoop = tf.while_loop(tf_TLc, tf_TLbody, [tf_TLi])\n",
    "\n",
    "with tf.name_scope(name='OUTPUT'):\n",
    "    #tfPredicted = tf.argmax(tfRNN_HistRes, axis=2)\n",
    "    tfProbability = tf.nn.softmax(tfRNN_HistRes)[:,:,1]\n",
    "    tfLogOdds = tf.log(tfProbability / (1-tfProbability))\n",
    "\n",
    "tfsLoss = tf.summary.scalar('CrossEntropy', tfLoss)\n",
    "\n",
    "tffw = tf.summary.FileWriter('D:/Jupyter/Logs/00_A', tf.get_default_graph())\n",
    "print('Graph creation complete')"
   ]
  },
  {
   "cell_type": "code",
   "execution_count": 24,
   "metadata": {},
   "outputs": [
    {
     "name": "stdout",
     "output_type": "stream",
     "text": [
      "Epoch 0 (1.25e+02 sec): \t\tVL:0.449\t\tGINI:0.725 (0.722)\n",
      "Epoch 1 (1.25e+02 sec): \t\tVL:0.446\t\tGINI:0.725 (0.722)\n",
      "Epoch 2 (1.25e+02 sec): \t\tVL:0.445\t\tGINI:0.731 (0.728)\n",
      "Epoch 3 (1.25e+02 sec): \t\tVL:0.443\t\tGINI:0.736 (0.733)\n",
      "Epoch 4 (1.26e+02 sec): \t\tVL:0.442\t\tGINI:0.732 (0.729)\n",
      "Epoch 5 (1.28e+02 sec): \t\tVL:0.441\t\tGINI:0.737 (0.735)\n",
      "Epoch 6 (1.27e+02 sec): \t\tVL:0.441\t\tGINI:0.737 (0.735)\n",
      "Epoch 7 (1.27e+02 sec): \t\tVL:0.441\t\tGINI:0.738 (0.736)\n",
      "Epoch 8 (1.26e+02 sec): \t\tVL:0.440\t\tGINI:0.739 (0.737)\n",
      "Epoch 9 (1.28e+02 sec): \t\tVL:0.440\t\tGINI:0.735 (0.733)\n",
      "Model saved at checkpoint: D:/Jupyter/mltest/Models-13RNN02/model-10.ckpt\n",
      "Epoch 10 (1.28e+02 sec): \t\tVL:0.440\t\tGINI:0.739 (0.737)\n",
      "Epoch 11 (1.27e+02 sec): \t\tVL:0.440\t\tGINI:0.735 (0.733)\n",
      "Epoch 12 (1.27e+02 sec): \t\tVL:0.439\t\tGINI:0.733 (0.731)\n",
      "Epoch 13 (1.27e+02 sec): \t\tVL:0.439\t\tGINI:0.739 (0.737)\n",
      "Epoch 14 (1.29e+02 sec): \t\tVL:0.438\t\tGINI:0.740 (0.738)\n",
      "Epoch 15 (1.28e+02 sec): \t\tVL:0.439\t\tGINI:0.740 (0.737)\n",
      "Epoch 16 (1.29e+02 sec): \t\tVL:0.438\t\tGINI:0.741 (0.739)\n",
      "Epoch 17 (1.28e+02 sec): \t\tVL:0.439\t\tGINI:0.740 (0.738)\n",
      "Epoch 18 (1.28e+02 sec): \t\tVL:0.439\t\tGINI:0.740 (0.738)\n",
      "Epoch 19 (1.28e+02 sec): \t\tVL:0.439\t\tGINI:0.740 (0.738)\n",
      "Model saved at checkpoint: D:/Jupyter/mltest/Models-13RNN02/model-20.ckpt\n",
      "Epoch 20 (1.3e+02 sec): \t\tVL:0.439\t\tGINI:0.740 (0.738)\n",
      "Epoch 21 (1.32e+02 sec): \t\tVL:0.438\t\tGINI:0.740 (0.739)\n",
      "Epoch 22 (1.28e+02 sec): \t\tVL:0.438\t\tGINI:0.741 (0.739)\n",
      "Epoch 23 (1.27e+02 sec): \t\tVL:0.439\t\tGINI:0.740 (0.739)\n",
      "Epoch 24 (1.27e+02 sec): \t\tVL:0.438\t\tGINI:0.741 (0.739)\n",
      "Epoch 25 (1.28e+02 sec): \t\tVL:0.438\t\tGINI:0.741 (0.739)\n",
      "Epoch 26 (1.27e+02 sec): \t\tVL:0.438\t\tGINI:0.741 (0.739)\n",
      "Epoch 27 (1.28e+02 sec): \t\tVL:0.438\t\tGINI:0.737 (0.736)\n",
      "Epoch 28 (1.28e+02 sec): \t\tVL:0.438\t\tGINI:0.740 (0.739)\n",
      "Epoch 29 (1.29e+02 sec): \t\tVL:0.438\t\tGINI:0.740 (0.739)\n",
      "Model saved at checkpoint: D:/Jupyter/mltest/Models-13RNN02/model-30.ckpt\n",
      "Epoch 30 (1.28e+02 sec): \t\tVL:0.438\t\tGINI:0.740 (0.739)\n",
      "Epoch 31 (1.27e+02 sec): \t\tVL:0.438\t\tGINI:0.741 (0.739)\n",
      "Epoch 32 (1.29e+02 sec): \t\tVL:0.438\t\tGINI:0.740 (0.739)\n",
      "Epoch 33 (1.32e+02 sec): \t\tVL:0.438\t\tGINI:0.741 (0.739)\n",
      "Epoch 34 (1.33e+02 sec): \t\tVL:0.438\t\tGINI:0.740 (0.740)\n",
      "Epoch 35 (1.32e+02 sec): \t\tVL:0.438\t\tGINI:0.741 (0.740)\n",
      "Epoch 36 (1.3e+02 sec): \t\tVL:0.437\t\tGINI:0.741 (0.740)\n",
      "Epoch 37 (1.31e+02 sec): \t\tVL:0.438\t\tGINI:0.741 (0.740)\n",
      "Epoch 38 (1.3e+02 sec): \t\tVL:0.438\t\tGINI:0.741 (0.740)\n",
      "Epoch 39 (1.27e+02 sec): \t\tVL:0.438\t\tGINI:0.741 (0.740)\n",
      "Model saved at checkpoint: D:/Jupyter/mltest/Models-13RNN02/model-40.ckpt\n",
      "Epoch 40 (1.28e+02 sec): \t\tVL:0.438\t\tGINI:0.741 (0.740)\n",
      "Epoch 41 (1.27e+02 sec): \t\tVL:0.438\t\tGINI:0.741 (0.740)\n",
      "Epoch 42 (1.27e+02 sec): \t\tVL:0.438\t\tGINI:0.741 (0.740)\n",
      "Epoch 43 (1.28e+02 sec): \t\tVL:0.438\t\tGINI:0.741 (0.740)\n",
      "Epoch 44 (1.28e+02 sec): \t\tVL:0.438\t\tGINI:0.741 (0.741)\n",
      "Epoch 45 (1.28e+02 sec): \t\tVL:0.438\t\tGINI:0.741 (0.740)\n",
      "Epoch 46 (1.27e+02 sec): \t\tVL:0.438\t\tGINI:0.741 (0.741)\n",
      "Epoch 47 (1.28e+02 sec): \t\tVL:0.438\t\tGINI:0.741 (0.741)\n",
      "Epoch 48 (1.28e+02 sec): \t\tVL:0.438\t\tGINI:0.741 (0.741)\n",
      "Epoch 49 (1.27e+02 sec): \t\tVL:0.438\t\tGINI:0.741 (0.741)\n",
      "Model saved at checkpoint: D:/Jupyter/mltest/Models-13RNN02/model-50.ckpt\n",
      "Epoch 50 (1.28e+02 sec): \t\tVL:0.438\t\tGINI:0.741 (0.741)\n",
      "Epoch 51 (1.28e+02 sec): \t\tVL:0.438\t\tGINI:0.740 (0.741)\n",
      "Epoch 52 (1.31e+02 sec): \t\tVL:0.438\t\tGINI:0.741 (0.741)\n",
      "Epoch 53 (1.3e+02 sec): \t\tVL:0.438\t\tGINI:0.741 (0.741)\n",
      "Epoch 54 (1.26e+02 sec): \t\tVL:0.438\t\tGINI:0.741 (0.741)\n",
      "Epoch 55 (1.27e+02 sec): \t\tVL:0.438\t\tGINI:0.740 (0.741)\n",
      "Epoch 56 (1.28e+02 sec): \t\tVL:0.438\t\tGINI:0.740 (0.742)\n",
      "Epoch 57 (1.28e+02 sec): \t\tVL:0.438\t\tGINI:0.740 (0.742)\n",
      "Epoch 58 (1.26e+02 sec): \t\tVL:0.438\t\tGINI:0.740 (0.742)\n",
      "Epoch 59 (1.26e+02 sec): \t\tVL:0.438\t\tGINI:0.740 (0.742)\n",
      "Model saved at checkpoint: D:/Jupyter/mltest/Models-13RNN02/model-60.ckpt\n",
      "Epoch 60 (1.27e+02 sec): \t\tVL:0.438\t\tGINI:0.740 (0.742)\n",
      "Train-step 456/456: 0.424->0.421 in 0.02 sec\r"
     ]
    },
    {
     "ename": "KeyboardInterrupt",
     "evalue": "",
     "output_type": "error",
     "traceback": [
      "\u001b[1;31m---------------------------------------------------------------------------\u001b[0m",
      "\u001b[1;31mKeyboardInterrupt\u001b[0m                         Traceback (most recent call last)",
      "\u001b[1;32m<ipython-input-24-d2292100958c>\u001b[0m in \u001b[0;36m<module>\u001b[1;34m()\u001b[0m\n\u001b[0;32m     30\u001b[0m             \u001b[0mprint\u001b[0m\u001b[1;33m(\u001b[0m\u001b[1;34m'Train-step {3}/{4}: {0:.3f}->{1:.3f} in {2:.2f} sec'\u001b[0m\u001b[1;33m.\u001b[0m\u001b[0mformat\u001b[0m\u001b[1;33m(\u001b[0m\u001b[0ml0\u001b[0m\u001b[1;33m,\u001b[0m \u001b[0ml1\u001b[0m\u001b[1;33m,\u001b[0m \u001b[0mt1\u001b[0m\u001b[1;33m-\u001b[0m\u001b[0mt0\u001b[0m\u001b[1;33m,\u001b[0m \u001b[0mcounter0\u001b[0m\u001b[1;33m,\u001b[0m \u001b[0mnum0\u001b[0m\u001b[1;33m)\u001b[0m\u001b[1;33m,\u001b[0m \u001b[0mend\u001b[0m\u001b[1;33m=\u001b[0m\u001b[1;34m'\\r'\u001b[0m\u001b[1;33m)\u001b[0m\u001b[1;33m\u001b[0m\u001b[0m\n\u001b[0;32m     31\u001b[0m \u001b[1;33m\u001b[0m\u001b[0m\n\u001b[1;32m---> 32\u001b[1;33m         \u001b[1;33m[\u001b[0m\u001b[0mvalid_p\u001b[0m\u001b[1;33m,\u001b[0m\u001b[0mlv\u001b[0m\u001b[1;33m]\u001b[0m \u001b[1;33m=\u001b[0m \u001b[0mtfs\u001b[0m\u001b[1;33m.\u001b[0m\u001b[0mrun\u001b[0m\u001b[1;33m(\u001b[0m\u001b[1;33m[\u001b[0m\u001b[0mtfProbability\u001b[0m\u001b[1;33m,\u001b[0m \u001b[0mtfLoss\u001b[0m\u001b[1;33m]\u001b[0m\u001b[1;33m,\u001b[0m \u001b[0mfeed_dict\u001b[0m\u001b[1;33m=\u001b[0m\u001b[0mvalid_batch\u001b[0m\u001b[1;33m)\u001b[0m\u001b[1;33m\u001b[0m\u001b[0m\n\u001b[0m\u001b[0;32m     33\u001b[0m         \u001b[1;33m[\u001b[0m\u001b[0mtrain_p\u001b[0m\u001b[1;33m,\u001b[0m\u001b[0mlt\u001b[0m\u001b[1;33m]\u001b[0m \u001b[1;33m=\u001b[0m \u001b[0mtfs\u001b[0m\u001b[1;33m.\u001b[0m\u001b[0mrun\u001b[0m\u001b[1;33m(\u001b[0m\u001b[1;33m[\u001b[0m\u001b[0mtfProbability\u001b[0m\u001b[1;33m,\u001b[0m \u001b[0mtfLoss\u001b[0m\u001b[1;33m]\u001b[0m\u001b[1;33m,\u001b[0m \u001b[0mfeed_dict\u001b[0m\u001b[1;33m=\u001b[0m\u001b[1;33m{\u001b[0m\u001b[0mtfi_x\u001b[0m\u001b[1;33m:\u001b[0m\u001b[0mtrainX\u001b[0m\u001b[1;33m,\u001b[0m \u001b[0mtfi_y\u001b[0m\u001b[1;33m:\u001b[0m\u001b[0mtrainY\u001b[0m\u001b[1;33m}\u001b[0m\u001b[1;33m)\u001b[0m\u001b[1;33m\u001b[0m\u001b[0m\n\u001b[0;32m     34\u001b[0m         \u001b[0mgv\u001b[0m \u001b[1;33m=\u001b[0m \u001b[0msklearn\u001b[0m\u001b[1;33m.\u001b[0m\u001b[0mmetrics\u001b[0m\u001b[1;33m.\u001b[0m\u001b[0mroc_auc_score\u001b[0m\u001b[1;33m(\u001b[0m\u001b[0mvalidY\u001b[0m\u001b[1;33m[\u001b[0m\u001b[1;33m:\u001b[0m\u001b[1;33m,\u001b[0m\u001b[1;33m-\u001b[0m\u001b[1;36m1\u001b[0m\u001b[1;33m]\u001b[0m\u001b[1;33m,\u001b[0m \u001b[0mvalid_p\u001b[0m\u001b[1;33m[\u001b[0m\u001b[1;33m:\u001b[0m\u001b[1;33m,\u001b[0m\u001b[1;33m-\u001b[0m\u001b[1;36m1\u001b[0m\u001b[1;33m]\u001b[0m\u001b[1;33m)\u001b[0m \u001b[1;33m*\u001b[0m \u001b[1;36m2\u001b[0m \u001b[1;33m-\u001b[0m\u001b[1;36m1\u001b[0m\u001b[1;33m\u001b[0m\u001b[0m\n",
      "\u001b[1;32mC:\\Anaconda3\\envs\\pytf\\lib\\site-packages\\tensorflow\\python\\client\\session.py\u001b[0m in \u001b[0;36mrun\u001b[1;34m(self, fetches, feed_dict, options, run_metadata)\u001b[0m\n\u001b[0;32m    787\u001b[0m     \u001b[1;32mtry\u001b[0m\u001b[1;33m:\u001b[0m\u001b[1;33m\u001b[0m\u001b[0m\n\u001b[0;32m    788\u001b[0m       result = self._run(None, fetches, feed_dict, options_ptr,\n\u001b[1;32m--> 789\u001b[1;33m                          run_metadata_ptr)\n\u001b[0m\u001b[0;32m    790\u001b[0m       \u001b[1;32mif\u001b[0m \u001b[0mrun_metadata\u001b[0m\u001b[1;33m:\u001b[0m\u001b[1;33m\u001b[0m\u001b[0m\n\u001b[0;32m    791\u001b[0m         \u001b[0mproto_data\u001b[0m \u001b[1;33m=\u001b[0m \u001b[0mtf_session\u001b[0m\u001b[1;33m.\u001b[0m\u001b[0mTF_GetBuffer\u001b[0m\u001b[1;33m(\u001b[0m\u001b[0mrun_metadata_ptr\u001b[0m\u001b[1;33m)\u001b[0m\u001b[1;33m\u001b[0m\u001b[0m\n",
      "\u001b[1;32mC:\\Anaconda3\\envs\\pytf\\lib\\site-packages\\tensorflow\\python\\client\\session.py\u001b[0m in \u001b[0;36m_run\u001b[1;34m(self, handle, fetches, feed_dict, options, run_metadata)\u001b[0m\n\u001b[0;32m    995\u001b[0m     \u001b[1;32mif\u001b[0m \u001b[0mfinal_fetches\u001b[0m \u001b[1;32mor\u001b[0m \u001b[0mfinal_targets\u001b[0m\u001b[1;33m:\u001b[0m\u001b[1;33m\u001b[0m\u001b[0m\n\u001b[0;32m    996\u001b[0m       results = self._do_run(handle, final_targets, final_fetches,\n\u001b[1;32m--> 997\u001b[1;33m                              feed_dict_string, options, run_metadata)\n\u001b[0m\u001b[0;32m    998\u001b[0m     \u001b[1;32melse\u001b[0m\u001b[1;33m:\u001b[0m\u001b[1;33m\u001b[0m\u001b[0m\n\u001b[0;32m    999\u001b[0m       \u001b[0mresults\u001b[0m \u001b[1;33m=\u001b[0m \u001b[1;33m[\u001b[0m\u001b[1;33m]\u001b[0m\u001b[1;33m\u001b[0m\u001b[0m\n",
      "\u001b[1;32mC:\\Anaconda3\\envs\\pytf\\lib\\site-packages\\tensorflow\\python\\client\\session.py\u001b[0m in \u001b[0;36m_do_run\u001b[1;34m(self, handle, target_list, fetch_list, feed_dict, options, run_metadata)\u001b[0m\n\u001b[0;32m   1130\u001b[0m     \u001b[1;32mif\u001b[0m \u001b[0mhandle\u001b[0m \u001b[1;32mis\u001b[0m \u001b[1;32mNone\u001b[0m\u001b[1;33m:\u001b[0m\u001b[1;33m\u001b[0m\u001b[0m\n\u001b[0;32m   1131\u001b[0m       return self._do_call(_run_fn, self._session, feed_dict, fetch_list,\n\u001b[1;32m-> 1132\u001b[1;33m                            target_list, options, run_metadata)\n\u001b[0m\u001b[0;32m   1133\u001b[0m     \u001b[1;32melse\u001b[0m\u001b[1;33m:\u001b[0m\u001b[1;33m\u001b[0m\u001b[0m\n\u001b[0;32m   1134\u001b[0m       return self._do_call(_prun_fn, self._session, handle, feed_dict,\n",
      "\u001b[1;32mC:\\Anaconda3\\envs\\pytf\\lib\\site-packages\\tensorflow\\python\\client\\session.py\u001b[0m in \u001b[0;36m_do_call\u001b[1;34m(self, fn, *args)\u001b[0m\n\u001b[0;32m   1137\u001b[0m   \u001b[1;32mdef\u001b[0m \u001b[0m_do_call\u001b[0m\u001b[1;33m(\u001b[0m\u001b[0mself\u001b[0m\u001b[1;33m,\u001b[0m \u001b[0mfn\u001b[0m\u001b[1;33m,\u001b[0m \u001b[1;33m*\u001b[0m\u001b[0margs\u001b[0m\u001b[1;33m)\u001b[0m\u001b[1;33m:\u001b[0m\u001b[1;33m\u001b[0m\u001b[0m\n\u001b[0;32m   1138\u001b[0m     \u001b[1;32mtry\u001b[0m\u001b[1;33m:\u001b[0m\u001b[1;33m\u001b[0m\u001b[0m\n\u001b[1;32m-> 1139\u001b[1;33m       \u001b[1;32mreturn\u001b[0m \u001b[0mfn\u001b[0m\u001b[1;33m(\u001b[0m\u001b[1;33m*\u001b[0m\u001b[0margs\u001b[0m\u001b[1;33m)\u001b[0m\u001b[1;33m\u001b[0m\u001b[0m\n\u001b[0m\u001b[0;32m   1140\u001b[0m     \u001b[1;32mexcept\u001b[0m \u001b[0merrors\u001b[0m\u001b[1;33m.\u001b[0m\u001b[0mOpError\u001b[0m \u001b[1;32mas\u001b[0m \u001b[0me\u001b[0m\u001b[1;33m:\u001b[0m\u001b[1;33m\u001b[0m\u001b[0m\n\u001b[0;32m   1141\u001b[0m       \u001b[0mmessage\u001b[0m \u001b[1;33m=\u001b[0m \u001b[0mcompat\u001b[0m\u001b[1;33m.\u001b[0m\u001b[0mas_text\u001b[0m\u001b[1;33m(\u001b[0m\u001b[0me\u001b[0m\u001b[1;33m.\u001b[0m\u001b[0mmessage\u001b[0m\u001b[1;33m)\u001b[0m\u001b[1;33m\u001b[0m\u001b[0m\n",
      "\u001b[1;32mC:\\Anaconda3\\envs\\pytf\\lib\\site-packages\\tensorflow\\python\\client\\session.py\u001b[0m in \u001b[0;36m_run_fn\u001b[1;34m(session, feed_dict, fetch_list, target_list, options, run_metadata)\u001b[0m\n\u001b[0;32m   1119\u001b[0m         return tf_session.TF_Run(session, options,\n\u001b[0;32m   1120\u001b[0m                                  \u001b[0mfeed_dict\u001b[0m\u001b[1;33m,\u001b[0m \u001b[0mfetch_list\u001b[0m\u001b[1;33m,\u001b[0m \u001b[0mtarget_list\u001b[0m\u001b[1;33m,\u001b[0m\u001b[1;33m\u001b[0m\u001b[0m\n\u001b[1;32m-> 1121\u001b[1;33m                                  status, run_metadata)\n\u001b[0m\u001b[0;32m   1122\u001b[0m \u001b[1;33m\u001b[0m\u001b[0m\n\u001b[0;32m   1123\u001b[0m     \u001b[1;32mdef\u001b[0m \u001b[0m_prun_fn\u001b[0m\u001b[1;33m(\u001b[0m\u001b[0msession\u001b[0m\u001b[1;33m,\u001b[0m \u001b[0mhandle\u001b[0m\u001b[1;33m,\u001b[0m \u001b[0mfeed_dict\u001b[0m\u001b[1;33m,\u001b[0m \u001b[0mfetch_list\u001b[0m\u001b[1;33m)\u001b[0m\u001b[1;33m:\u001b[0m\u001b[1;33m\u001b[0m\u001b[0m\n",
      "\u001b[1;31mKeyboardInterrupt\u001b[0m: "
     ]
    }
   ],
   "source": [
    "dt_now = datetime.datetime.now().strftime(\"%Y-%m-%d_%H%M%S\")\n",
    "tfsSaver = tf.train.Saver(max_to_keep=2)\n",
    "tffw = tf.summary.FileWriter('D:/Jupyter/Logs/19CHURN04-RNN-{0}'.format(dt_now), tf.get_default_graph())\n",
    "\n",
    "batch_size = 500\n",
    "num_steps  = 1\n",
    "num_epochs = 1000\n",
    "checkpoints = 10 #every %x% epochs save the model\n",
    "\n",
    "fmtstr = 'Epoch {0} ({1:1.3} sec): \\t\\tVL:{2:1.3f}\\t\\tGINI:{3:1.3f} ({4:1.3f})'\n",
    "valid_batch = {tfi_x: validX, tfi_y: validY}\n",
    "with tf.Session() as tfs:\n",
    "    tfs.run(tf.global_variables_initializer())\n",
    "    for i in range(num_epochs):\n",
    "        te0 = time.perf_counter()\n",
    "        counter0 = 0\n",
    "        num0 = trainY.shape[0] // batch_size\n",
    "        if num0 * batch_size < trainY.shape[0]:\n",
    "            num0 += 1\n",
    "        for (mini_x, mini_y) in modutils.shuffleBatches((trainX, trainY), batchSize=batch_size):\n",
    "            train_batch = {tfi_x:mini_x, tfi_y: mini_y}\n",
    "            \n",
    "            l0 = tfLoss.eval(feed_dict=train_batch)\n",
    "            t0 = time.perf_counter()\n",
    "            for j in range(num_steps):\n",
    "                tfTrain.run(feed_dict=train_batch)\n",
    "            t1 = time.perf_counter()\n",
    "            l1 = tfLoss.eval(feed_dict=train_batch)\n",
    "            counter0 += 1\n",
    "            print('Train-step {3}/{4}: {0:.3f}->{1:.3f} in {2:.2f} sec'.format(l0, l1, t1-t0, counter0, num0), end='\\r')\n",
    "    \n",
    "        [valid_p,lv] = tfs.run([tfProbability, tfLoss], feed_dict=valid_batch)\n",
    "        [train_p,lt] = tfs.run([tfProbability, tfLoss], feed_dict={tfi_x:trainX, tfi_y:trainY})\n",
    "        gv = sklearn.metrics.roc_auc_score(validY[:,-1], valid_p[:,-1]) * 2 -1\n",
    "        gt = sklearn.metrics.roc_auc_score(trainY[:,-1], train_p[:,-1]) * 2 -1\n",
    "        te1 = time.perf_counter()\n",
    "        if i%checkpoints == 0 and i > 0:\n",
    "            p = tfsSaver.save(tfs, 'D:/Jupyter/mltest/Models-13RNN02/model-{0:02d}.ckpt'.format(i))\n",
    "            print('Model saved at checkpoint: {0}'.format(p))\n",
    "                             \n",
    "        print(fmtstr.format(i,te1-te0,lv,gv,gt))\n",
    "    #valid_r = tfs.run(tfOutR, feed_dict=valid_batch)"
   ]
  },
  {
   "cell_type": "code",
   "execution_count": null,
   "metadata": {
    "collapsed": true
   },
   "outputs": [],
   "source": []
  }
 ],
 "metadata": {
  "kernelspec": {
   "display_name": "Python [conda env:pytf]",
   "language": "python",
   "name": "conda-env-pytf-py"
  },
  "language_info": {
   "codemirror_mode": {
    "name": "ipython",
    "version": 3
   },
   "file_extension": ".py",
   "mimetype": "text/x-python",
   "name": "python",
   "nbconvert_exporter": "python",
   "pygments_lexer": "ipython3",
   "version": "3.6.2"
  }
 },
 "nbformat": 4,
 "nbformat_minor": 2
}
