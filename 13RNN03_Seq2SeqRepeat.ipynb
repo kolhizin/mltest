{
 "cells": [
  {
   "cell_type": "code",
   "execution_count": 1,
   "metadata": {
    "collapsed": true
   },
   "outputs": [],
   "source": [
    "import tensorflow as tf\n",
    "import numpy as np\n",
    "import datetime, time"
   ]
  },
  {
   "cell_type": "code",
   "execution_count": 2,
   "metadata": {
    "collapsed": true
   },
   "outputs": [],
   "source": [
    "def genObs(length, full_length, dict_size=3):\n",
    "    base = np.random.choice(range(dict_size), size=length)\n",
    "    pad_length = full_length - length\n",
    "    return np.concatenate([1 + base, np.zeros(pad_length)])\n",
    "\n",
    "def getTarget(x):\n",
    "    s = np.argmin(x)\n",
    "    return np.concatenate([np.array(list(reversed(x[:s]))), x[s:]])\n",
    "\n",
    "def genSample(num, length=20):\n",
    "    x = [genObs(np.random.randint(length), full_length=length) for _ in range(num)]\n",
    "    y = [getTarget(y) for y in x]\n",
    "    return np.array(x), np.array(y)\n",
    "\n",
    "def randomBatch(tensorTuple, batchSize=64):\n",
    "    ids = np.random.choice(range(tensorTuple[0].shape[0]), batchSize)\n",
    "    return (x[ids,] for x in tensorTuple)\n",
    "\n",
    "def shuffleBatches(tensorTuple, batchSize=64):\n",
    "    if type(tensorTuple) is list or type(tensorTuple) is tuple: \n",
    "        ids = list(range(tensorTuple[0].shape[0]))\n",
    "        np.random.shuffle(ids)\n",
    "        for i in range(0,len(ids),batchSize):\n",
    "            lst = min(len(ids), i + batchSize)\n",
    "            yield (np.array(x[ids[i:lst],]) for x in tensorTuple)\n",
    "    else:\n",
    "        ids = list(range(tensorTuple.shape[0]))\n",
    "        np.random.shuffle(ids)\n",
    "        for i in range(0,len(ids),batchSize):\n",
    "            lst = min(len(ids), i + batchSize)\n",
    "            yield np.array(tensorTuple[ids[i:lst],])"
   ]
  },
  {
   "cell_type": "code",
   "execution_count": 3,
   "metadata": {},
   "outputs": [
    {
     "data": {
      "text/plain": [
       "(array([[ 0.,  0.,  0.,  0.,  0.,  0.],\n",
       "        [ 3.,  2.,  1.,  1.,  2.,  0.],\n",
       "        [ 3.,  0.,  0.,  0.,  0.,  0.],\n",
       "        [ 3.,  1.,  2.,  0.,  0.,  0.],\n",
       "        [ 3.,  2.,  1.,  3.,  0.,  0.],\n",
       "        [ 2.,  0.,  0.,  0.,  0.,  0.],\n",
       "        [ 1.,  3.,  1.,  3.,  3.,  0.],\n",
       "        [ 1.,  1.,  2.,  3.,  0.,  0.],\n",
       "        [ 3.,  2.,  0.,  0.,  0.,  0.],\n",
       "        [ 1.,  3.,  0.,  0.,  0.,  0.]]),\n",
       " array([[ 0.,  0.,  0.,  0.,  0.,  0.],\n",
       "        [ 2.,  1.,  1.,  2.,  3.,  0.],\n",
       "        [ 3.,  0.,  0.,  0.,  0.,  0.],\n",
       "        [ 2.,  1.,  3.,  0.,  0.,  0.],\n",
       "        [ 3.,  1.,  2.,  3.,  0.,  0.],\n",
       "        [ 2.,  0.,  0.,  0.,  0.,  0.],\n",
       "        [ 3.,  3.,  1.,  3.,  1.,  0.],\n",
       "        [ 3.,  2.,  1.,  1.,  0.,  0.],\n",
       "        [ 2.,  3.,  0.,  0.,  0.,  0.],\n",
       "        [ 3.,  1.,  0.,  0.,  0.,  0.]]))"
      ]
     },
     "execution_count": 3,
     "metadata": {},
     "output_type": "execute_result"
    }
   ],
   "source": [
    "train_x, train_y = genSample(100000, length=6)\n",
    "valid_x, valid_y = genSample(10000, length=6)\n",
    "valid_x[:10], valid_y[:10]"
   ]
  },
  {
   "cell_type": "code",
   "execution_count": null,
   "metadata": {
    "collapsed": true
   },
   "outputs": [],
   "source": [
    "SEQ_LEN = 6\n",
    "DICT_SIZE = 3\n",
    "ENCODER_RNN_SIZE = [15]\n",
    "DECODER_RNN_SIZE = [15]\n",
    "HIDDEN_LAYER = 30\n",
    "\n",
    "EncoderCell = lambda n: tf.nn.rnn_cell.GRUCell(num_units=n, activation=tf.nn.elu)\n",
    "DecoderCell = lambda n: tf.nn.rnn_cell.GRUCell(num_units=n, activation=tf.nn.elu)\n",
    "\n",
    "tf.reset_default_graph()\n",
    "\n",
    "rnnEncoderCell = tf.nn.rnn_cell.MultiRNNCell([EncoderCell(s) for s in ENCODER_RNN_SIZE], state_is_tuple=True)\n",
    "rnnDecoderCell = tf.nn.rnn_cell.MultiRNNCell([DecoderCell(s) for s in DECODER_RNN_SIZE], state_is_tuple=True)\n",
    "\n",
    "tfi_x = tf.placeholder(shape=(None, SEQ_LEN), dtype=tf.int32)\n",
    "tfi_y = tf.placeholder(shape=(None, SEQ_LEN), dtype=tf.int32)\n",
    "\n",
    "tfX = tf.one_hot(tfi_x, DICT_SIZE + 1, dtype=tf.float32)\n",
    "tfY = tf.one_hot(tfi_x, DICT_SIZE + 1, dtype=tf.float32)\n",
    "\n",
    "_, tfEncodedState0 = tf.nn.dynamic_rnn(rnnCell, inputs=tfX, dtype=tf.float32, time_major=False)\n",
    "tfEncodedState = tfEncodedState0[-1] #get latest layer in RNN\n",
    "\n",
    "tfCode0 = tf.layers.dense(tfEncodedState, HIDDEN_LAYER, activation=tf.nn.elu)\n",
    " = tf.layers.dense(tfEncodedState, HIDDEN_LAYER, activation=tf.nn.elu)\n",
    "\n",
    "tfHOut0 = tf.layers.dense(tfH, DICT_SIZE + 1)\n",
    "tfHOut = tfHOut0[:,:-1,:] #remove last forecast\n",
    "\n",
    "tfHLoss0 = tf.nn.softmax_cross_entropy_with_logits(labels=tfY, logits=tfHOut) #should be like batch_size x SEQ_LEN-1\n",
    "tfLoss = tf.reduce_mean(tfHLoss0 * tfM)\n",
    "tfTrain = tf.train.AdamOptimizer(1e-3).minimize(tfLoss)\n",
    "\n",
    "tfPredicted = tf.cast(tf.argmax(tfHOut, axis=2), dtype=tf.int32) * tfi_m[:,1:]\n",
    "tfActual = tfi_x[:,1:] * tfi_m[:,1:]\n",
    "\n",
    "tfAccuracyChar = tf.reduce_mean(tf.cast(tf.equal(tfActual, tfPredicted), dtype=tf.float32))\n",
    "tfAccuracyObs = tf.reduce_mean(tf.reduce_min(tf.cast(tf.equal(tfActual, tfPredicted), dtype=tf.float32), axis=1))\n",
    "\n",
    "tfsLoss = tf.summary.scalar('RMSE', tfLoss)\n",
    "tfsAccuracy = tf.summary.scalar('Accuracy', 1-tfAccuracyObs)\n",
    "tfsAll = tf.summary.merge([tfsLoss, tfsAccuracy])\n",
    "tfsSaver = tf.train.Saver()\n",
    "\n",
    "tffw = tf.summary.FileWriter('D:/Jupyter/Logs/00_A', tf.get_default_graph())\n",
    "print('Graph creation complete')"
   ]
  }
 ],
 "metadata": {
  "kernelspec": {
   "display_name": "Python 3",
   "language": "python",
   "name": "python3"
  },
  "language_info": {
   "codemirror_mode": {
    "name": "ipython",
    "version": 3
   },
   "file_extension": ".py",
   "mimetype": "text/x-python",
   "name": "python",
   "nbconvert_exporter": "python",
   "pygments_lexer": "ipython3",
   "version": "3.6.1"
  }
 },
 "nbformat": 4,
 "nbformat_minor": 2
}
