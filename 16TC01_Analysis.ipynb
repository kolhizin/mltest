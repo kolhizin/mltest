{
 "cells": [
  {
   "cell_type": "code",
   "execution_count": 44,
   "metadata": {
    "collapsed": true
   },
   "outputs": [],
   "source": [
    "import tensorflow as tf\n",
    "import numpy as np\n",
    "import pandas as pd\n",
    "import datetime, time\n",
    "\n",
    "import json\n",
    "import re, pylev\n",
    "from collections import Counter\n",
    "\n",
    "def shuffleBatches(tensorTuple, batchSize=64):\n",
    "    if type(tensorTuple) is list or type(tensorTuple) is tuple: \n",
    "        ids = list(range(tensorTuple[0].shape[0]))\n",
    "        np.random.shuffle(ids)\n",
    "        for i in range(0,len(ids),batchSize):\n",
    "            lst = min(len(ids), i + batchSize)\n",
    "            yield (np.array(x[ids[i:lst],]) for x in tensorTuple)\n",
    "    else:\n",
    "        ids = list(range(tensorTuple.shape[0]))\n",
    "        np.random.shuffle(ids)\n",
    "        for i in range(0,len(ids),batchSize):\n",
    "            lst = min(len(ids), i + batchSize)\n",
    "            yield np.array(tensorTuple[ids[i:lst],])"
   ]
  },
  {
   "cell_type": "code",
   "execution_count": 3,
   "metadata": {},
   "outputs": [],
   "source": [
    "src0 = pd.read_csv('../DataSets/UsedCars/autos_utf8.csv', low_memory=False)"
   ]
  },
  {
   "cell_type": "code",
   "execution_count": 65,
   "metadata": {},
   "outputs": [],
   "source": [
    "rep_pattern = '[\\+\\\\:;,\\[\\]\\(\\)]'\n",
    "del_pattern = '[^a-z0-9_.]'\n",
    "src1 = [re.sub(pattern=del_pattern, string=re.sub(pattern=rep_pattern, string=x.lower(), repl='_'), repl='') for x in list(src0.name) if type(x) is str]\n",
    "src = [[y for y in x.split('_') if y != ''] for x in src1]\n",
    "\n",
    "src_flat = [y for x in src for y in x]\n",
    "src_count = list(dict(Counter(src_flat)).items())"
   ]
  },
  {
   "cell_type": "code",
   "execution_count": 60,
   "metadata": {},
   "outputs": [],
   "source": [
    "src_fullness = [(i, sum([x[1] for x in src_pairs if x[1] > i])/len(src_flat), sum([1 for x in src_pairs if x[1]>i])) for i in range(100)]"
   ]
  },
  {
   "cell_type": "code",
   "execution_count": 62,
   "metadata": {},
   "outputs": [],
   "source": [
    "#fix 5k dictionary size, which corresponds to at least 14 repeats of the word and 4.7% missing\n",
    "#if 10k: at least 4 repeats and 2.7% missing\n",
    "#if 2k: at least 60 repeats and 8.7% missin\n",
    "#src_fullness[:50]"
   ]
  },
  {
   "cell_type": "code",
   "execution_count": 193,
   "metadata": {
    "collapsed": true
   },
   "outputs": [],
   "source": [
    "def word_prob(p1, p2, pow_base):\n",
    "    low_err = abs(len(p1[0])-len(p2[0]))\n",
    "    if np.power(pow_base, low_err) * float(p1[1] / p2[1]) > 1.0:\n",
    "        return 1.0\n",
    "    s1 = set(p1[0])\n",
    "    s2 = set(p2[0])\n",
    "    low_err = min(len(s1.difference(s2)), len(s2.difference(s1)))\n",
    "    if np.power(pow_base, low_err) * float(p1[1] / p2[1]) > 1.0:\n",
    "        return 1.0\n",
    "    num_err = pylev.damerau_levenshtein(p1[0], p2[0])\n",
    "    return np.power(pow_base, num_err) * float(p1[1] / p2[1])\n",
    "\n",
    "def word_subs(p, plist):\n",
    "    bestp = (p[0], p[1], 1)\n",
    "    pow_base = 20.0 / min(10, len(p[0]))\n",
    "    pow_basep = pow_base * p[1]\n",
    "    for (i,p2) in enumerate(plist):\n",
    "        if p2[1] < pow_basep:\n",
    "            break\n",
    "        if p[0] == p2[0]:\n",
    "            continue\n",
    "        prob = word_prob(p, p2, pow_base)\n",
    "        if bestp is None or bestp[2] > prob:\n",
    "            bestp = (p2[0], p2[1], prob)\n",
    "    return bestp"
   ]
  },
  {
   "cell_type": "code",
   "execution_count": 10,
   "metadata": {},
   "outputs": [],
   "source": [
    "r1_freq = 30\n",
    "r1_mapper = {x:x for x,y in src_pairs if y >= r1_freq}\n",
    "r1_mapper.update({x:'<UNK>' for x,y in src_pairs if y < r1_freq})\n",
    "r1_src = [[r1_mapper[y] for y in x] for x in src]\n",
    "r1_flat = [y for x in r1_src for y in x]"
   ]
  },
  {
   "cell_type": "code",
   "execution_count": 205,
   "metadata": {},
   "outputs": [
    {
     "data": {
      "text/plain": [
       "[('calivornia', 1),\n",
       " ('klima...wie', 1),\n",
       " ('neu.5tuerer.schiebedach', 1),\n",
       " ('turbo.automatic', 1),\n",
       " ('citd', 1),\n",
       " ('173681km', 1),\n",
       " ('autogas.lpg', 1),\n",
       " ('eigentlich', 1),\n",
       " ('schade...', 1),\n",
       " ('goal1.6', 1),\n",
       " ('sofortabholer', 1),\n",
       " ('zuschlagenraritaettuev01.01.2018.', 1),\n",
       " ('falltdach.', 1),\n",
       " ('bis.2.2018', 1),\n",
       " ('121982.', 1),\n",
       " ('durchtrostung', 1),\n",
       " ('vis', 1),\n",
       " ('ibizza', 1),\n",
       " ('astra.eine', 1),\n",
       " ('tuev.andre', 1),\n",
       " ('3monate', 1),\n",
       " ('winster', 1),\n",
       " ('1.2vvti', 1),\n",
       " ('01.04.2018', 1),\n",
       " ('wt', 1),\n",
       " ('m.winterraedern', 2),\n",
       " ('10.1995', 1),\n",
       " ('forfour1.5', 1),\n",
       " ('tech.schaden', 1),\n",
       " ('novitectuning', 1),\n",
       " ('1.6s', 1),\n",
       " ('edka', 1),\n",
       " ('ihn.', 1),\n",
       " ('1217.bj.1998.fp', 2),\n",
       " ('590', 2),\n",
       " ('plaket.', 1),\n",
       " ('017695554888', 1),\n",
       " ('el.recaro', 1),\n",
       " ('panorameralcantaraf1voll', 1),\n",
       " ('1hd.amg', 1),\n",
       " ('arbeitsbus', 1),\n",
       " ('115pc', 1),\n",
       " ('tipptopp', 1),\n",
       " ('schneewchild', 1),\n",
       " ('zahnriemmengerissen', 1),\n",
       " ('smartphones', 1),\n",
       " ('laptops', 1),\n",
       " ('multimediasystem', 1),\n",
       " ('vorderteil', 1),\n",
       " ('beachreibung', 1),\n",
       " ('kiwigruen', 1),\n",
       " ('fenster.alufelgen', 1),\n",
       " ('mizubishi', 2),\n",
       " ('210k', 1),\n",
       " ('vollautomat.hardtop', 1),\n",
       " ('festp', 1),\n",
       " ('520dgarantienaviprofkomfortsitzekamera', 1),\n",
       " ('blinker.', 1),\n",
       " ('bilbao', 1),\n",
       " ('3.0tdi150', 1),\n",
       " ('mann..', 1),\n",
       " ('18535', 1),\n",
       " ('moke', 1),\n",
       " ('20.600', 1),\n",
       " ('recarositze', 1),\n",
       " ('hyjundai', 1),\n",
       " ('mache', 1),\n",
       " ('150100', 1),\n",
       " ('softleder', 1),\n",
       " ('tigua', 1),\n",
       " ('902', 1),\n",
       " ('painted', 1),\n",
       " ('dashboard', 1),\n",
       " ('zustandmwst', 1),\n",
       " ('relly', 1),\n",
       " ('ausgleichswelleoelpumpe', 1),\n",
       " ('06.2005', 1),\n",
       " ('320d.autalunavixenonsport', 1),\n",
       " ('mechanikerhaenden', 1),\n",
       " ('vollvoll', 1),\n",
       " ('raritaet.....', 1),\n",
       " ('app.', 1),\n",
       " ('2007.dez', 1),\n",
       " ('limted', 1),\n",
       " ('kennzeichenhu', 1),\n",
       " ('t4malerfahrzeug', 1),\n",
       " ('s.h.', 1),\n",
       " ('138000tkm', 1),\n",
       " ('haendertausch', 1),\n",
       " ('bereiffung', 1),\n",
       " ('e86', 1),\n",
       " ('kofferraumabdekung', 1),\n",
       " ('540i..tv', 1),\n",
       " ('032017..scheckheftgepflegt..sportsitze', 1),\n",
       " ('navixenonalcantarapdc8fachb', 1),\n",
       " ('ambiente.nur', 1),\n",
       " ('15.100km.', 1),\n",
       " ('31363', 1),\n",
       " ('zwischenloesung', 1),\n",
       " ('kmklima2handtuev', 1)]"
      ]
     },
     "execution_count": 205,
     "metadata": {},
     "output_type": "execute_result"
    }
   ],
   "source": [
    "src_count[40000:40100]"
   ]
  },
  {
   "cell_type": "code",
   "execution_count": 204,
   "metadata": {},
   "outputs": [
    {
     "name": "stdout",
     "output_type": "stream",
     "text": [
      "Wall time: 10.2 s\n"
     ]
    }
   ],
   "source": [
    "%%time\n",
    "#should approximately take 10x44 secs = 7.5minutes\n",
    "src_count_s = sorted([x for x in src_count if x[1] >= 10], key=lambda x:x[1], reverse=True)\n",
    "src_best_subs = [word_subs(x, src_count_s) for x in src_count[40000:40100]]\n",
    "#src_best_subs = []\n",
    "#for (i,x) in enumerate(src_count):\n",
    "#    src_best_subs.append(word_subs(x, src_count_s))\n",
    "#    if i % 100 == 0:\n",
    "#        print(i)"
   ]
  }
 ],
 "metadata": {
  "kernelspec": {
   "display_name": "Python 3",
   "language": "python",
   "name": "python3"
  },
  "language_info": {
   "codemirror_mode": {
    "name": "ipython",
    "version": 3
   },
   "file_extension": ".py",
   "mimetype": "text/x-python",
   "name": "python",
   "nbconvert_exporter": "python",
   "pygments_lexer": "ipython3",
   "version": "3.6.1"
  }
 },
 "nbformat": 4,
 "nbformat_minor": 2
}
