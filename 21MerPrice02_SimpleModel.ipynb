{
 "cells": [
  {
   "cell_type": "code",
   "execution_count": 1,
   "metadata": {},
   "outputs": [],
   "source": [
    "import numpy as np\n",
    "import pandas as pd\n",
    "import matplotlib.pyplot as plt\n",
    "import seaborn\n",
    "import datetime, time\n",
    "import sklearn, sklearn.metrics, sklearn.preprocessing, sklearn.linear_model, sklearn.ensemble, sklearn.model_selection\n",
    "\n",
    "import modutils\n",
    "\n",
    "data_dir = '../DataSets/MercariPrice/'\n",
    "src_file = data_dir + 'train.tsv' \n",
    "dst_file = data_dir + 'train_simple.csv'"
   ]
  },
  {
   "cell_type": "code",
   "execution_count": 2,
   "metadata": {},
   "outputs": [],
   "source": [
    "src = pd.read_csv(src_file, '\\t')"
   ]
  },
  {
   "cell_type": "code",
   "execution_count": 3,
   "metadata": {
    "collapsed": true
   },
   "outputs": [],
   "source": [
    "src['cat1'] = src.category_name.map(lambda x: x.split('/')[0].replace('\\'','') if type(x) is str and len(x.split('/')) > 0 else 'NONE')\n",
    "src['cat2'] = src.category_name.map(lambda x: x.split('/')[1].replace('\\'','') if type(x) is str and len(x.split('/')) > 1 else 'NONE')\n",
    "src['cat3'] = src.category_name.map(lambda x: x.split('/')[2].replace('\\'','') if type(x) is str and len(x.split('/')) > 2 else 'NONE')\n",
    "src['cat4'] = src.category_name.map(lambda x: x.split('/')[3].replace('\\'','') if type(x) is str and len(x.split('/')) > 3 else 'NONE')\n",
    "src['cat5'] = src.category_name.map(lambda x: x.split('/')[4].replace('\\'','') if type(x) is str and len(x.split('/')) > 4 else 'NONE')\n",
    "src['cat1g'] = src.cat1\n",
    "src['cat2g'] = src.cat1g + '/' + src.cat2\n",
    "src['cat3g'] = src.cat2g + '/' + src.cat3\n",
    "src['cat4g'] = src.cat3g + '/' + src.cat4\n",
    "src['brand'] = src.brand_name.map(lambda x: x.replace('\\'','') if type(x) is str else 'NONE')\n",
    "\n",
    "src_brands = src.brand.value_counts()\n",
    "src_cat3gs = src.cat3g.value_counts()\n",
    "src_cat4gs = src.cat4g.value_counts()"
   ]
  },
  {
   "cell_type": "code",
   "execution_count": 4,
   "metadata": {},
   "outputs": [
    {
     "name": "stdout",
     "output_type": "stream",
     "text": [
      "Wall time: 800 ms\n"
     ]
    }
   ],
   "source": [
    "%%time\n",
    "brands_hit5k = set(src_brands[(src_brands > 5000)&(src_brands.index != 'NONE')].index)\n",
    "brands_hit1k = set(src_brands[(src_brands > 1000)&(src_brands.index != 'NONE')].index)\n",
    "brands_hit200 = set(src_brands[(src_brands > 200)&(src_brands.index != 'NONE')].index)\n",
    "\n",
    "cat3g_hit100 = set(src_cat3gs[(src_cat3gs > 100)].index)\n",
    "cat3g_hit500 = set(src_cat3gs[(src_cat3gs > 500)].index)\n",
    "cat4g_hit100 = set(src_cat4gs[(src_cat4gs > 100)].index)\n",
    "\n",
    "src['brand_5k'] = src.brand.map(lambda x: x if x in brands_hit5k else 'OTHER')\n",
    "src['brand_1k'] = src.brand.map(lambda x: x if x in brands_hit1k else 'OTHER')\n",
    "src['brand_200'] = src.brand.map(lambda x: x if x in brands_hit200 else 'OTHER')\n",
    "\n",
    "src['cat3g_100'] = src.cat3g.map(lambda x: x if x in cat3g_hit100 else 'OTHER')\n",
    "src['cat3g_500'] = src.cat3g.map(lambda x: x if x in cat3g_hit500 else 'OTHER')\n",
    "src['cat4g_100'] = src.cat4g.map(lambda x: x if x in cat4g_hit100 else 'OTHER')"
   ]
  },
  {
   "cell_type": "code",
   "execution_count": 5,
   "metadata": {},
   "outputs": [
    {
     "data": {
      "text/plain": [
       "210"
      ]
     },
     "execution_count": 5,
     "metadata": {},
     "output_type": "execute_result"
    }
   ],
   "source": [
    "np.sum(src.cat3g.value_counts()>500)"
   ]
  },
  {
   "cell_type": "code",
   "execution_count": 6,
   "metadata": {},
   "outputs": [
    {
     "data": {
      "text/plain": [
       "211"
      ]
     },
     "execution_count": 6,
     "metadata": {},
     "output_type": "execute_result"
    }
   ],
   "source": [
    "len(src.cat3g_500.value_counts())"
   ]
  },
  {
   "cell_type": "code",
   "execution_count": 7,
   "metadata": {},
   "outputs": [
    {
     "name": "stdout",
     "output_type": "stream",
     "text": [
      "Wall time: 16.6 s\n"
     ]
    }
   ],
   "source": [
    "%%time\n",
    "fx_brand = sklearn.preprocessing.LabelBinarizer().fit_transform(src.brand_1k)\n",
    "fx_cat1 = sklearn.preprocessing.LabelBinarizer().fit_transform(src.cat1g)\n",
    "fx_cat2 = sklearn.preprocessing.LabelBinarizer().fit_transform(src.cat2g)\n",
    "fx_cat3 = sklearn.preprocessing.LabelBinarizer().fit_transform(src.cat3g_500)\n",
    "fx_cond = sklearn.preprocessing.LabelBinarizer().fit_transform(src.item_condition_id)\n",
    "fx_ship = src.shipping.values.reshape(-1,1)\n",
    "\n",
    "X = np.hstack([fx_brand, fx_cat1, fx_cat2, fx_cat3, fx_cond, fx_ship])\n",
    "Y = np.log(1 + src.price.values)"
   ]
  },
  {
   "cell_type": "code",
   "execution_count": 8,
   "metadata": {},
   "outputs": [
    {
     "data": {
      "text/plain": [
       "(593376, 425)"
      ]
     },
     "execution_count": 8,
     "metadata": {},
     "output_type": "execute_result"
    }
   ],
   "source": [
    "X.shape"
   ]
  },
  {
   "cell_type": "code",
   "execution_count": 9,
   "metadata": {},
   "outputs": [
    {
     "name": "stdout",
     "output_type": "stream",
     "text": [
      "Wall time: 657 ms\n"
     ]
    }
   ],
   "source": [
    "%%time\n",
    "(Xtrain, Ytrain), (Xvalid, Yvalid), (Xtest, Ytest) = modutils.splitSample((X, Y), pcts = [0.4,0.3,0.3])"
   ]
  },
  {
   "cell_type": "code",
   "execution_count": 10,
   "metadata": {},
   "outputs": [
    {
     "data": {
      "text/plain": [
       "(593376,)"
      ]
     },
     "execution_count": 10,
     "metadata": {},
     "output_type": "execute_result"
    }
   ],
   "source": [
    "Y.shape"
   ]
  },
  {
   "cell_type": "code",
   "execution_count": 11,
   "metadata": {},
   "outputs": [
    {
     "name": "stdout",
     "output_type": "stream",
     "text": [
      "Wall time: 1min 31s\n"
     ]
    }
   ],
   "source": [
    "%%time\n",
    "m_linreg_1k_12g_3g500 = sklearn.linear_model.LassoCV().fit(Xtrain, Ytrain)"
   ]
  },
  {
   "cell_type": "code",
   "execution_count": 12,
   "metadata": {},
   "outputs": [
    {
     "data": {
      "text/plain": [
       "0.32982905285825592"
      ]
     },
     "execution_count": 12,
     "metadata": {},
     "output_type": "execute_result"
    }
   ],
   "source": [
    "sklearn.metrics.r2_score(Yvalid, m_linreg_1k_12g_3g500.predict(Xvalid))"
   ]
  },
  {
   "cell_type": "code",
   "execution_count": 13,
   "metadata": {},
   "outputs": [
    {
     "name": "stdout",
     "output_type": "stream",
     "text": [
      "Wall time: 7min 28s\n"
     ]
    }
   ],
   "source": [
    "%%time\n",
    "m_gradboost = sklearn.ensemble.GradientBoostingRegressor(min_samples_leaf=10).fit(Xtrain, Ytrain)"
   ]
  },
  {
   "cell_type": "code",
   "execution_count": 14,
   "metadata": {},
   "outputs": [
    {
     "data": {
      "text/plain": [
       "0.26125550919661111"
      ]
     },
     "execution_count": 14,
     "metadata": {},
     "output_type": "execute_result"
    }
   ],
   "source": [
    "sklearn.metrics.r2_score(Yvalid, m_gradboost.predict(Xvalid))"
   ]
  },
  {
   "cell_type": "code",
   "execution_count": 15,
   "metadata": {
    "collapsed": true
   },
   "outputs": [],
   "source": [
    "Yf = m_linreg_1k_12g_3g500.predict(X)"
   ]
  },
  {
   "cell_type": "code",
   "execution_count": 16,
   "metadata": {},
   "outputs": [],
   "source": [
    "src['fcst_simple'] = Yf\n",
    "src['fcst_diff_simple'] = np.log(1 + src.price) -src.fcst_simple"
   ]
  },
  {
   "cell_type": "code",
   "execution_count": 17,
   "metadata": {},
   "outputs": [
    {
     "data": {
      "text/html": [
       "<div>\n",
       "<style>\n",
       "    .dataframe thead tr:only-child th {\n",
       "        text-align: right;\n",
       "    }\n",
       "\n",
       "    .dataframe thead th {\n",
       "        text-align: left;\n",
       "    }\n",
       "\n",
       "    .dataframe tbody tr th {\n",
       "        vertical-align: top;\n",
       "    }\n",
       "</style>\n",
       "<table border=\"1\" class=\"dataframe\">\n",
       "  <thead>\n",
       "    <tr style=\"text-align: right;\">\n",
       "      <th></th>\n",
       "      <th>train_id</th>\n",
       "      <th>item_condition_id</th>\n",
       "      <th>price</th>\n",
       "      <th>shipping</th>\n",
       "      <th>fcst_simple</th>\n",
       "      <th>fcst_diff_simple</th>\n",
       "    </tr>\n",
       "  </thead>\n",
       "  <tbody>\n",
       "    <tr>\n",
       "      <th>count</th>\n",
       "      <td>593376.000000</td>\n",
       "      <td>593376.000000</td>\n",
       "      <td>593376.000000</td>\n",
       "      <td>593376.000000</td>\n",
       "      <td>593376.000000</td>\n",
       "      <td>593376.000000</td>\n",
       "    </tr>\n",
       "    <tr>\n",
       "      <th>mean</th>\n",
       "      <td>296687.500000</td>\n",
       "      <td>1.907738</td>\n",
       "      <td>26.689003</td>\n",
       "      <td>0.446294</td>\n",
       "      <td>2.978967</td>\n",
       "      <td>-0.000393</td>\n",
       "    </tr>\n",
       "    <tr>\n",
       "      <th>std</th>\n",
       "      <td>171293.041002</td>\n",
       "      <td>0.902921</td>\n",
       "      <td>38.340061</td>\n",
       "      <td>0.497108</td>\n",
       "      <td>0.417568</td>\n",
       "      <td>0.612034</td>\n",
       "    </tr>\n",
       "    <tr>\n",
       "      <th>min</th>\n",
       "      <td>0.000000</td>\n",
       "      <td>1.000000</td>\n",
       "      <td>0.000000</td>\n",
       "      <td>0.000000</td>\n",
       "      <td>1.592800</td>\n",
       "      <td>-4.782042</td>\n",
       "    </tr>\n",
       "    <tr>\n",
       "      <th>25%</th>\n",
       "      <td>148343.750000</td>\n",
       "      <td>1.000000</td>\n",
       "      <td>10.000000</td>\n",
       "      <td>0.000000</td>\n",
       "      <td>2.707269</td>\n",
       "      <td>-0.405822</td>\n",
       "    </tr>\n",
       "    <tr>\n",
       "      <th>50%</th>\n",
       "      <td>296687.500000</td>\n",
       "      <td>2.000000</td>\n",
       "      <td>17.000000</td>\n",
       "      <td>0.000000</td>\n",
       "      <td>2.916923</td>\n",
       "      <td>-0.055312</td>\n",
       "    </tr>\n",
       "    <tr>\n",
       "      <th>75%</th>\n",
       "      <td>445031.250000</td>\n",
       "      <td>3.000000</td>\n",
       "      <td>29.000000</td>\n",
       "      <td>1.000000</td>\n",
       "      <td>3.192107</td>\n",
       "      <td>0.340884</td>\n",
       "    </tr>\n",
       "    <tr>\n",
       "      <th>max</th>\n",
       "      <td>593375.000000</td>\n",
       "      <td>5.000000</td>\n",
       "      <td>2000.000000</td>\n",
       "      <td>1.000000</td>\n",
       "      <td>5.527510</td>\n",
       "      <td>4.625071</td>\n",
       "    </tr>\n",
       "  </tbody>\n",
       "</table>\n",
       "</div>"
      ],
      "text/plain": [
       "            train_id  item_condition_id          price       shipping  \\\n",
       "count  593376.000000      593376.000000  593376.000000  593376.000000   \n",
       "mean   296687.500000           1.907738      26.689003       0.446294   \n",
       "std    171293.041002           0.902921      38.340061       0.497108   \n",
       "min         0.000000           1.000000       0.000000       0.000000   \n",
       "25%    148343.750000           1.000000      10.000000       0.000000   \n",
       "50%    296687.500000           2.000000      17.000000       0.000000   \n",
       "75%    445031.250000           3.000000      29.000000       1.000000   \n",
       "max    593375.000000           5.000000    2000.000000       1.000000   \n",
       "\n",
       "         fcst_simple  fcst_diff_simple  \n",
       "count  593376.000000     593376.000000  \n",
       "mean        2.978967         -0.000393  \n",
       "std         0.417568          0.612034  \n",
       "min         1.592800         -4.782042  \n",
       "25%         2.707269         -0.405822  \n",
       "50%         2.916923         -0.055312  \n",
       "75%         3.192107          0.340884  \n",
       "max         5.527510          4.625071  "
      ]
     },
     "execution_count": 17,
     "metadata": {},
     "output_type": "execute_result"
    }
   ],
   "source": [
    "src.describe()"
   ]
  },
  {
   "cell_type": "code",
   "execution_count": 18,
   "metadata": {},
   "outputs": [
    {
     "data": {
      "image/png": "[encoded data removed]",
      "text/plain": [
       "<matplotlib.figure.Figure at 0x6ce01f3f98>"
      ]
     },
     "metadata": {},
     "output_type": "display_data"
    }
   ],
   "source": [
    "src.fcst_diff_simple.plot.hist(bins=50)\n",
    "plt.show()"
   ]
  },
  {
   "cell_type": "code",
   "execution_count": 20,
   "metadata": {
    "collapsed": true
   },
   "outputs": [],
   "source": [
    "src.to_csv(dst_file, index=False,  encoding='utf-8')"
   ]
  },
  {
   "cell_type": "code",
   "execution_count": null,
   "metadata": {},
   "outputs": [],
   "source": [
    "len(src)"
   ]
  },
  {
   "cell_type": "code",
   "execution_count": null,
   "metadata": {
    "collapsed": true
   },
   "outputs": [],
   "source": []
  }
 ],
 "metadata": {
  "kernelspec": {
   "display_name": "Python [default]",
   "language": "python",
   "name": "python3"
  },
  "language_info": {
   "codemirror_mode": {
    "name": "ipython",
    "version": 3
   },
   "file_extension": ".py",
   "mimetype": "text/x-python",
   "name": "python",
   "nbconvert_exporter": "python",
   "pygments_lexer": "ipython3",
   "version": "3.6.1"
  }
 },
 "nbformat": 4,
 "nbformat_minor": 2
}
