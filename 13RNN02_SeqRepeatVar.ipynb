{
 "cells": [
  {
   "cell_type": "code",
   "execution_count": 1,
   "metadata": {
    "collapsed": true
   },
   "outputs": [],
   "source": [
    "import tensorflow as tf\n",
    "import numpy as np\n",
    "import datetime, time"
   ]
  },
  {
   "cell_type": "code",
   "execution_count": 60,
   "metadata": {
    "collapsed": true
   },
   "outputs": [],
   "source": [
    "def genObs(data_length, full_length, dict_size=3):\n",
    "    base = np.random.choice(range(dict_size), size=data_length)\n",
    "    pad_length = full_length - 2*data_length - 1\n",
    "    return np.concatenate([1 + base, np.zeros(1), 1 + np.array(list(reversed(base))), np.zeros(pad_length)])\n",
    "\n",
    "def getMeta(x):\n",
    "    mask = np.ones(x.shape)\n",
    "    s = np.argmin(x) + 1\n",
    "    mask[:s] = 0\n",
    "    return mask.astype(np.int32)\n",
    "\n",
    "def genSample(num, full_length=20):\n",
    "    min_dlength = 1\n",
    "    max_dlength = (full_length - 1) // 2 + 1\n",
    "    x = [genObs(np.random.randint(min_dlength, max_dlength), full_length=full_length) for _ in range(num)]\n",
    "    m = [getMeta(y) for y in x]\n",
    "    return np.array(x), np.array(m)\n",
    "\n",
    "def randomBatch(tensorTuple, batchSize=64):\n",
    "    ids = np.random.choice(range(tensorTuple[0].shape[0]), batchSize)\n",
    "    return (x[ids,] for x in tensorTuple)\n",
    "\n",
    "def shuffleBatches(tensorTuple, batchSize=64):\n",
    "    if type(tensorTuple) is list or type(tensorTuple) is tuple: \n",
    "        ids = list(range(tensorTuple[0].shape[0]))\n",
    "        np.random.shuffle(ids)\n",
    "        for i in range(0,len(ids),batchSize):\n",
    "            lst = min(len(ids), i + batchSize)\n",
    "            yield (np.array(x[ids[i:lst],]) for x in tensorTuple)\n",
    "    else:\n",
    "        ids = list(range(tensorTuple.shape[0]))\n",
    "        np.random.shuffle(ids)\n",
    "        for i in range(0,len(ids),batchSize):\n",
    "            lst = min(len(ids), i + batchSize)\n",
    "            yield np.array(tensorTuple[ids[i:lst],])"
   ]
  },
  {
   "cell_type": "code",
   "execution_count": 61,
   "metadata": {},
   "outputs": [
    {
     "data": {
      "text/plain": [
       "array([[ 2.,  3.,  2.,  1.,  3.,  0.,  3.,  1.,  2.,  3.,  2.,  0.,  0.,\n",
       "         0.],\n",
       "       [ 3.,  2.,  3.,  3.,  3.,  1.,  0.,  1.,  3.,  3.,  3.,  2.,  3.,\n",
       "         0.],\n",
       "       [ 3.,  3.,  3.,  0.,  3.,  3.,  3.,  0.,  0.,  0.,  0.,  0.,  0.,\n",
       "         0.],\n",
       "       [ 2.,  0.,  2.,  0.,  0.,  0.,  0.,  0.,  0.,  0.,  0.,  0.,  0.,\n",
       "         0.],\n",
       "       [ 3.,  0.,  3.,  0.,  0.,  0.,  0.,  0.,  0.,  0.,  0.,  0.,  0.,\n",
       "         0.],\n",
       "       [ 2.,  1.,  2.,  1.,  2.,  1.,  0.,  1.,  2.,  1.,  2.,  1.,  2.,\n",
       "         0.],\n",
       "       [ 3.,  0.,  3.,  0.,  0.,  0.,  0.,  0.,  0.,  0.,  0.,  0.,  0.,\n",
       "         0.],\n",
       "       [ 3.,  1.,  1.,  0.,  1.,  1.,  3.,  0.,  0.,  0.,  0.,  0.,  0.,\n",
       "         0.],\n",
       "       [ 2.,  1.,  3.,  1.,  0.,  1.,  3.,  1.,  2.,  0.,  0.,  0.,  0.,\n",
       "         0.],\n",
       "       [ 2.,  2.,  3.,  1.,  2.,  3.,  0.,  3.,  2.,  1.,  3.,  2.,  2.,\n",
       "         0.]])"
      ]
     },
     "execution_count": 61,
     "metadata": {},
     "output_type": "execute_result"
    }
   ],
   "source": [
    "train_x, train_m = genSample(100000, full_length=14)\n",
    "valid_x, valid_m = genSample(10000, full_length=14)\n",
    "valid_x[:10]"
   ]
  },
  {
   "cell_type": "code",
   "execution_count": 62,
   "metadata": {},
   "outputs": [
    {
     "name": "stdout",
     "output_type": "stream",
     "text": [
      "Graph creation complete\n"
     ]
    }
   ],
   "source": [
    "SEQ_LEN = 14\n",
    "DICT_SIZE = 3\n",
    "RNN_SIZE = [15]\n",
    "\n",
    "tf.reset_default_graph()\n",
    "\n",
    "InnerCell = lambda n: tf.nn.rnn_cell.GRUCell(num_units=n, activation=tf.nn.elu)\n",
    "rnnCell = tf.nn.rnn_cell.MultiRNNCell([InnerCell(s) for s in RNN_SIZE], state_is_tuple=True)\n",
    "#rnnCell = tf.nn.rnn_cell.BasicRNNCell(10, activation=tf.nn.elu)\n",
    "\n",
    "\n",
    "tfi_x = tf.placeholder(shape=(None, SEQ_LEN), dtype=tf.int32)\n",
    "tfi_m = tf.placeholder(shape=(None, SEQ_LEN), dtype=tf.int32)\n",
    "\n",
    "tfX = tf.one_hot(tfi_x, DICT_SIZE + 1, dtype=tf.float32)\n",
    "tfM = tf.cast(tfi_m[:,1:], dtype=tf.float32)\n",
    "tfY = tfX[:,1:,:]\n",
    "\n",
    "tfHS, _ = tf.nn.dynamic_rnn(rnnCell, inputs=tfX, dtype=tf.float32, time_major=False)\n",
    "tfH = tfHS#[-1] #get latest layer in RNN\n",
    "\n",
    "tfHOut0 = tf.layers.dense(tfH, DICT_SIZE + 1)\n",
    "tfHOut = tfHOut0[:,:-1,:] #remove last forecast\n",
    "\n",
    "tfHLoss0 = tf.nn.softmax_cross_entropy_with_logits(labels=tfY, logits=tfHOut) #should be like batch_size x SEQ_LEN-1\n",
    "tfLoss = tf.reduce_mean(tfHLoss0 * tfM)\n",
    "tfTrain = tf.train.AdamOptimizer(1e-3).minimize(tfLoss)\n",
    "\n",
    "tfPredicted = tf.cast(tf.argmax(tfHOut, axis=2), dtype=tf.int32) * tfi_m[:,1:]\n",
    "tfActual = tfi_x[:,1:] * tfi_m[:,1:]\n",
    "\n",
    "tfAccuracyChar = tf.reduce_mean(tf.cast(tf.equal(tfActual, tfPredicted), dtype=tf.float32))\n",
    "tfAccuracyObs = tf.reduce_mean(tf.reduce_min(tf.cast(tf.equal(tfActual, tfPredicted), dtype=tf.float32), axis=1))\n",
    "\n",
    "tfsLoss = tf.summary.scalar('RMSE', tfLoss)\n",
    "tfsAccuracy = tf.summary.scalar('Accuracy', 1-tfAccuracyObs)\n",
    "tfsAll = tf.summary.merge([tfsLoss, tfsAccuracy])\n",
    "tfsSaver = tf.train.Saver()\n",
    "\n",
    "tffw = tf.summary.FileWriter('D:/Jupyter/Logs/00_A', tf.get_default_graph())\n",
    "print('Graph creation complete')"
   ]
  },
  {
   "cell_type": "code",
   "execution_count": 64,
   "metadata": {},
   "outputs": [
    {
     "name": "stdout",
     "output_type": "stream",
     "text": [
      "Epoch 0 (34.9 sec): \t\tVL:0.230\t\tAC:0.297 (0.897)\n",
      "Epoch 1 (40.8 sec): \t\tVL:0.144\t\tAC:0.485 (0.942)\n",
      "Epoch 2 (35.0 sec): \t\tVL:0.103\t\tAC:0.600 (0.959)\n",
      "Epoch 3 (35.3 sec): \t\tVL:0.075\t\tAC:0.714 (0.972)\n",
      "Epoch 4 (34.6 sec): \t\tVL:0.057\t\tAC:0.821 (0.983)\n",
      "Model saved at checkpoint: D:/Jupyter/mltest/Models-13RNN02/model-05.ckpt\n",
      "Epoch 5 (36.3 sec): \t\tVL:0.044\t\tAC:0.855 (0.987)\n",
      "Epoch 6 (38.9 sec): \t\tVL:0.031\t\tAC:0.920 (0.993)\n",
      "Epoch 7 (33.3 sec): \t\tVL:0.024\t\tAC:0.941 (0.995)\n",
      "Epoch 8 (31.6 sec): \t\tVL:0.023\t\tAC:0.937 (0.995)\n",
      "Epoch 9 (34.2 sec): \t\tVL:0.015\t\tAC:0.970 (0.998)\n",
      "Model saved at checkpoint: D:/Jupyter/mltest/Models-13RNN02/model-10.ckpt\n",
      "Epoch 10 (34.6 sec): \t\tVL:0.013\t\tAC:0.979 (0.998)\n",
      "Epoch 11 (31.8 sec): \t\tVL:0.011\t\tAC:0.984 (0.999)\n",
      "Epoch 12 (33.0 sec): \t\tVL:0.009\t\tAC:0.986 (0.999)\n",
      "Epoch 13 (39.8 sec): \t\tVL:0.008\t\tAC:0.991 (0.999)\n",
      "Epoch 14 (32.9 sec): \t\tVL:0.008\t\tAC:0.990 (0.999)\n",
      "Model saved at checkpoint: D:/Jupyter/mltest/Models-13RNN02/model-15.ckpt\n",
      "Epoch 15 (31.5 sec): \t\tVL:0.007\t\tAC:0.994 (1.000)\n",
      "Epoch 16 (31.7 sec): \t\tVL:0.007\t\tAC:0.993 (0.999)\n",
      "Epoch 17 (31.6 sec): \t\tVL:0.005\t\tAC:0.998 (1.000)\n",
      "Epoch 18 (31.5 sec): \t\tVL:0.005\t\tAC:0.996 (1.000)\n",
      "Epoch 19 (31.5 sec): \t\tVL:0.085\t\tAC:0.861 (0.987)\n",
      "Model saved at checkpoint: D:/Jupyter/mltest/Models-13RNN02/model-20.ckpt\n",
      "Epoch 20 (31.5 sec): \t\tVL:0.004\t\tAC:0.998 (1.000)\n",
      "Epoch 21 (32.3 sec): \t\tVL:0.004\t\tAC:0.999 (1.000)\n",
      "Epoch 22 (40.5 sec): \t\tVL:0.135\t\tAC:0.674 (0.969)\n",
      "Epoch 23 (31.5 sec): \t\tVL:0.042\t\tAC:0.824 (0.985)\n",
      "Epoch 24 (31.5 sec): \t\tVL:0.025\t\tAC:0.896 (0.991)\n",
      "Model saved at checkpoint: D:/Jupyter/mltest/Models-13RNN02/model-25.ckpt\n",
      "Epoch 25 (31.9 sec): \t\tVL:0.017\t\tAC:0.938 (0.995)\n",
      "Epoch 26 (32.1 sec): \t\tVL:0.013\t\tAC:0.960 (0.997)\n",
      "Epoch 27 (33.5 sec): \t\tVL:0.010\t\tAC:0.972 (0.998)\n",
      "Epoch 28 (33.4 sec): \t\tVL:0.008\t\tAC:0.985 (0.999)\n",
      "Epoch 29 (31.8 sec): \t\tVL:0.006\t\tAC:0.991 (0.999)\n",
      "Model saved at checkpoint: D:/Jupyter/mltest/Models-13RNN02/model-30.ckpt\n",
      "Epoch 30 (31.9 sec): \t\tVL:0.005\t\tAC:0.996 (1.000)\n",
      "Epoch 31 (37.3 sec): \t\tVL:0.004\t\tAC:0.996 (1.000)\n",
      "Epoch 32 (34.7 sec): \t\tVL:0.004\t\tAC:0.998 (1.000)\n",
      "Epoch 33 (33.2 sec): \t\tVL:0.003\t\tAC:0.998 (1.000)\n",
      "Epoch 34 (38.1 sec): \t\tVL:0.003\t\tAC:0.998 (1.000)\n",
      "Model saved at checkpoint: D:/Jupyter/mltest/Models-13RNN02/model-35.ckpt\n",
      "Epoch 35 (35.4 sec): \t\tVL:0.003\t\tAC:0.999 (1.000)\n",
      "Epoch 36 (35.2 sec): \t\tVL:0.002\t\tAC:0.999 (1.000)\n",
      "Epoch 37 (36.8 sec): \t\tVL:0.002\t\tAC:1.000 (1.000)\n",
      "Epoch 38 (35.0 sec): \t\tVL:0.002\t\tAC:0.999 (1.000)\n",
      "Epoch 39 (37.7 sec): \t\tVL:0.002\t\tAC:0.999 (1.000)\n",
      "Model saved at checkpoint: D:/Jupyter/mltest/Models-13RNN02/model-40.ckpt\n",
      "Epoch 40 (39.3 sec): \t\tVL:0.002\t\tAC:1.000 (1.000)\n",
      "Epoch 41 (39.7 sec): \t\tVL:0.001\t\tAC:1.000 (1.000)\n",
      "Epoch 42 (39.3 sec): \t\tVL:0.001\t\tAC:1.000 (1.000)\n",
      "Epoch 43 (40.7 sec): \t\tVL:0.002\t\tAC:1.000 (1.000)\n",
      "Epoch 44 (36.6 sec): \t\tVL:0.001\t\tAC:1.000 (1.000)\n",
      "Model saved at checkpoint: D:/Jupyter/mltest/Models-13RNN02/model-45.ckpt\n",
      "Epoch 45 (39.8 sec): \t\tVL:0.001\t\tAC:1.000 (1.000)\n"
     ]
    },
    {
     "ename": "KeyboardInterrupt",
     "evalue": "",
     "output_type": "error",
     "traceback": [
      "\u001b[1;31m---------------------------------------------------------------------------\u001b[0m",
      "\u001b[1;31mKeyboardInterrupt\u001b[0m                         Traceback (most recent call last)",
      "\u001b[1;32m<ipython-input-64-c0f501ff6d41>\u001b[0m in \u001b[0;36m<module>\u001b[1;34m()\u001b[0m\n\u001b[0;32m     19\u001b[0m             \u001b[1;31m#t0 = time.perf_counter()\u001b[0m\u001b[1;33m\u001b[0m\u001b[1;33m\u001b[0m\u001b[0m\n\u001b[0;32m     20\u001b[0m             \u001b[1;32mfor\u001b[0m \u001b[0mj\u001b[0m \u001b[1;32min\u001b[0m \u001b[0mrange\u001b[0m\u001b[1;33m(\u001b[0m\u001b[0mnum_steps\u001b[0m\u001b[1;33m)\u001b[0m\u001b[1;33m:\u001b[0m\u001b[1;33m\u001b[0m\u001b[0m\n\u001b[1;32m---> 21\u001b[1;33m                 \u001b[0mtfTrain\u001b[0m\u001b[1;33m.\u001b[0m\u001b[0mrun\u001b[0m\u001b[1;33m(\u001b[0m\u001b[0mfeed_dict\u001b[0m\u001b[1;33m=\u001b[0m\u001b[0mtrain_batch\u001b[0m\u001b[1;33m)\u001b[0m\u001b[1;33m\u001b[0m\u001b[0m\n\u001b[0m\u001b[0;32m     22\u001b[0m             \u001b[1;31m#t1 = time.perf_counter()\u001b[0m\u001b[1;33m\u001b[0m\u001b[1;33m\u001b[0m\u001b[0m\n\u001b[0;32m     23\u001b[0m             \u001b[0ml1\u001b[0m \u001b[1;33m=\u001b[0m \u001b[0mtfLoss\u001b[0m\u001b[1;33m.\u001b[0m\u001b[0meval\u001b[0m\u001b[1;33m(\u001b[0m\u001b[0mfeed_dict\u001b[0m\u001b[1;33m=\u001b[0m\u001b[0mtrain_batch\u001b[0m\u001b[1;33m)\u001b[0m\u001b[1;33m\u001b[0m\u001b[0m\n",
      "\u001b[1;32mC:\\Anaconda3\\lib\\site-packages\\tensorflow\\python\\framework\\ops.py\u001b[0m in \u001b[0;36mrun\u001b[1;34m(self, feed_dict, session)\u001b[0m\n\u001b[0;32m   1704\u001b[0m         \u001b[0mnone\u001b[0m\u001b[1;33m,\u001b[0m \u001b[0mthe\u001b[0m \u001b[0mdefault\u001b[0m \u001b[0msession\u001b[0m \u001b[0mwill\u001b[0m \u001b[0mbe\u001b[0m \u001b[0mused\u001b[0m\u001b[1;33m.\u001b[0m\u001b[1;33m\u001b[0m\u001b[0m\n\u001b[0;32m   1705\u001b[0m     \"\"\"\n\u001b[1;32m-> 1706\u001b[1;33m     \u001b[0m_run_using_default_session\u001b[0m\u001b[1;33m(\u001b[0m\u001b[0mself\u001b[0m\u001b[1;33m,\u001b[0m \u001b[0mfeed_dict\u001b[0m\u001b[1;33m,\u001b[0m \u001b[0mself\u001b[0m\u001b[1;33m.\u001b[0m\u001b[0mgraph\u001b[0m\u001b[1;33m,\u001b[0m \u001b[0msession\u001b[0m\u001b[1;33m)\u001b[0m\u001b[1;33m\u001b[0m\u001b[0m\n\u001b[0m\u001b[0;32m   1707\u001b[0m \u001b[1;33m\u001b[0m\u001b[0m\n\u001b[0;32m   1708\u001b[0m \u001b[1;33m\u001b[0m\u001b[0m\n",
      "\u001b[1;32mC:\\Anaconda3\\lib\\site-packages\\tensorflow\\python\\framework\\ops.py\u001b[0m in \u001b[0;36m_run_using_default_session\u001b[1;34m(operation, feed_dict, graph, session)\u001b[0m\n\u001b[0;32m   3961\u001b[0m                        \u001b[1;34m\"the operation's graph is different from the session's \"\u001b[0m\u001b[1;33m\u001b[0m\u001b[0m\n\u001b[0;32m   3962\u001b[0m                        \"graph.\")\n\u001b[1;32m-> 3963\u001b[1;33m   \u001b[0msession\u001b[0m\u001b[1;33m.\u001b[0m\u001b[0mrun\u001b[0m\u001b[1;33m(\u001b[0m\u001b[0moperation\u001b[0m\u001b[1;33m,\u001b[0m \u001b[0mfeed_dict\u001b[0m\u001b[1;33m)\u001b[0m\u001b[1;33m\u001b[0m\u001b[0m\n\u001b[0m\u001b[0;32m   3964\u001b[0m \u001b[1;33m\u001b[0m\u001b[0m\n\u001b[0;32m   3965\u001b[0m \u001b[1;33m\u001b[0m\u001b[0m\n",
      "\u001b[1;32mC:\\Anaconda3\\lib\\site-packages\\tensorflow\\python\\client\\session.py\u001b[0m in \u001b[0;36mrun\u001b[1;34m(self, fetches, feed_dict, options, run_metadata)\u001b[0m\n\u001b[0;32m    787\u001b[0m     \u001b[1;32mtry\u001b[0m\u001b[1;33m:\u001b[0m\u001b[1;33m\u001b[0m\u001b[0m\n\u001b[0;32m    788\u001b[0m       result = self._run(None, fetches, feed_dict, options_ptr,\n\u001b[1;32m--> 789\u001b[1;33m                          run_metadata_ptr)\n\u001b[0m\u001b[0;32m    790\u001b[0m       \u001b[1;32mif\u001b[0m \u001b[0mrun_metadata\u001b[0m\u001b[1;33m:\u001b[0m\u001b[1;33m\u001b[0m\u001b[0m\n\u001b[0;32m    791\u001b[0m         \u001b[0mproto_data\u001b[0m \u001b[1;33m=\u001b[0m \u001b[0mtf_session\u001b[0m\u001b[1;33m.\u001b[0m\u001b[0mTF_GetBuffer\u001b[0m\u001b[1;33m(\u001b[0m\u001b[0mrun_metadata_ptr\u001b[0m\u001b[1;33m)\u001b[0m\u001b[1;33m\u001b[0m\u001b[0m\n",
      "\u001b[1;32mC:\\Anaconda3\\lib\\site-packages\\tensorflow\\python\\client\\session.py\u001b[0m in \u001b[0;36m_run\u001b[1;34m(self, handle, fetches, feed_dict, options, run_metadata)\u001b[0m\n\u001b[0;32m    995\u001b[0m     \u001b[1;32mif\u001b[0m \u001b[0mfinal_fetches\u001b[0m \u001b[1;32mor\u001b[0m \u001b[0mfinal_targets\u001b[0m\u001b[1;33m:\u001b[0m\u001b[1;33m\u001b[0m\u001b[0m\n\u001b[0;32m    996\u001b[0m       results = self._do_run(handle, final_targets, final_fetches,\n\u001b[1;32m--> 997\u001b[1;33m                              feed_dict_string, options, run_metadata)\n\u001b[0m\u001b[0;32m    998\u001b[0m     \u001b[1;32melse\u001b[0m\u001b[1;33m:\u001b[0m\u001b[1;33m\u001b[0m\u001b[0m\n\u001b[0;32m    999\u001b[0m       \u001b[0mresults\u001b[0m \u001b[1;33m=\u001b[0m \u001b[1;33m[\u001b[0m\u001b[1;33m]\u001b[0m\u001b[1;33m\u001b[0m\u001b[0m\n",
      "\u001b[1;32mC:\\Anaconda3\\lib\\site-packages\\tensorflow\\python\\client\\session.py\u001b[0m in \u001b[0;36m_do_run\u001b[1;34m(self, handle, target_list, fetch_list, feed_dict, options, run_metadata)\u001b[0m\n\u001b[0;32m   1130\u001b[0m     \u001b[1;32mif\u001b[0m \u001b[0mhandle\u001b[0m \u001b[1;32mis\u001b[0m \u001b[1;32mNone\u001b[0m\u001b[1;33m:\u001b[0m\u001b[1;33m\u001b[0m\u001b[0m\n\u001b[0;32m   1131\u001b[0m       return self._do_call(_run_fn, self._session, feed_dict, fetch_list,\n\u001b[1;32m-> 1132\u001b[1;33m                            target_list, options, run_metadata)\n\u001b[0m\u001b[0;32m   1133\u001b[0m     \u001b[1;32melse\u001b[0m\u001b[1;33m:\u001b[0m\u001b[1;33m\u001b[0m\u001b[0m\n\u001b[0;32m   1134\u001b[0m       return self._do_call(_prun_fn, self._session, handle, feed_dict,\n",
      "\u001b[1;32mC:\\Anaconda3\\lib\\site-packages\\tensorflow\\python\\client\\session.py\u001b[0m in \u001b[0;36m_do_call\u001b[1;34m(self, fn, *args)\u001b[0m\n\u001b[0;32m   1137\u001b[0m   \u001b[1;32mdef\u001b[0m \u001b[0m_do_call\u001b[0m\u001b[1;33m(\u001b[0m\u001b[0mself\u001b[0m\u001b[1;33m,\u001b[0m \u001b[0mfn\u001b[0m\u001b[1;33m,\u001b[0m \u001b[1;33m*\u001b[0m\u001b[0margs\u001b[0m\u001b[1;33m)\u001b[0m\u001b[1;33m:\u001b[0m\u001b[1;33m\u001b[0m\u001b[0m\n\u001b[0;32m   1138\u001b[0m     \u001b[1;32mtry\u001b[0m\u001b[1;33m:\u001b[0m\u001b[1;33m\u001b[0m\u001b[0m\n\u001b[1;32m-> 1139\u001b[1;33m       \u001b[1;32mreturn\u001b[0m \u001b[0mfn\u001b[0m\u001b[1;33m(\u001b[0m\u001b[1;33m*\u001b[0m\u001b[0margs\u001b[0m\u001b[1;33m)\u001b[0m\u001b[1;33m\u001b[0m\u001b[0m\n\u001b[0m\u001b[0;32m   1140\u001b[0m     \u001b[1;32mexcept\u001b[0m \u001b[0merrors\u001b[0m\u001b[1;33m.\u001b[0m\u001b[0mOpError\u001b[0m \u001b[1;32mas\u001b[0m \u001b[0me\u001b[0m\u001b[1;33m:\u001b[0m\u001b[1;33m\u001b[0m\u001b[0m\n\u001b[0;32m   1141\u001b[0m       \u001b[0mmessage\u001b[0m \u001b[1;33m=\u001b[0m \u001b[0mcompat\u001b[0m\u001b[1;33m.\u001b[0m\u001b[0mas_text\u001b[0m\u001b[1;33m(\u001b[0m\u001b[0me\u001b[0m\u001b[1;33m.\u001b[0m\u001b[0mmessage\u001b[0m\u001b[1;33m)\u001b[0m\u001b[1;33m\u001b[0m\u001b[0m\n",
      "\u001b[1;32mC:\\Anaconda3\\lib\\site-packages\\tensorflow\\python\\client\\session.py\u001b[0m in \u001b[0;36m_run_fn\u001b[1;34m(session, feed_dict, fetch_list, target_list, options, run_metadata)\u001b[0m\n\u001b[0;32m   1119\u001b[0m         return tf_session.TF_Run(session, options,\n\u001b[0;32m   1120\u001b[0m                                  \u001b[0mfeed_dict\u001b[0m\u001b[1;33m,\u001b[0m \u001b[0mfetch_list\u001b[0m\u001b[1;33m,\u001b[0m \u001b[0mtarget_list\u001b[0m\u001b[1;33m,\u001b[0m\u001b[1;33m\u001b[0m\u001b[0m\n\u001b[1;32m-> 1121\u001b[1;33m                                  status, run_metadata)\n\u001b[0m\u001b[0;32m   1122\u001b[0m \u001b[1;33m\u001b[0m\u001b[0m\n\u001b[0;32m   1123\u001b[0m     \u001b[1;32mdef\u001b[0m \u001b[0m_prun_fn\u001b[0m\u001b[1;33m(\u001b[0m\u001b[0msession\u001b[0m\u001b[1;33m,\u001b[0m \u001b[0mhandle\u001b[0m\u001b[1;33m,\u001b[0m \u001b[0mfeed_dict\u001b[0m\u001b[1;33m,\u001b[0m \u001b[0mfetch_list\u001b[0m\u001b[1;33m)\u001b[0m\u001b[1;33m:\u001b[0m\u001b[1;33m\u001b[0m\u001b[0m\n",
      "\u001b[1;31mKeyboardInterrupt\u001b[0m: "
     ]
    }
   ],
   "source": [
    "dt_now = datetime.datetime.now().strftime(\"%Y-%m-%d_%H%M%S\")\n",
    "#tffw = tf.summary.FileWriter('D:/Jupyter/Logs/12RNN07-{0}'.format(dt_now), tf.get_default_graph())\n",
    "\n",
    "batch_size = 1000\n",
    "num_steps  = 10\n",
    "num_epochs = 100\n",
    "checkpoints = 5 #every 5 epochs save the model\n",
    "\n",
    "fmtstr = 'Epoch {0} ({1:1.3} sec): \\t\\tVL:{2:1.3f}\\t\\tAC:{3:1.3f} ({4:1.3f})'\n",
    "valid_batch = {tfi_x: valid_x, tfi_m: valid_m}\n",
    "with tf.Session() as tfs:\n",
    "    tfs.run(tf.global_variables_initializer())\n",
    "    for i in range(num_epochs):\n",
    "        te0 = time.perf_counter()\n",
    "        for (mini_x, mini_m) in shuffleBatches((train_x, train_m), batchSize=batch_size):\n",
    "            train_batch = {tfi_x:mini_x, tfi_m: mini_m}\n",
    "            \n",
    "            #l0 = tfLoss.eval(feed_dict=train_batch)\n",
    "            #t0 = time.perf_counter()\n",
    "            for j in range(num_steps):\n",
    "                tfTrain.run(feed_dict=train_batch)\n",
    "            #t1 = time.perf_counter()\n",
    "            l1 = tfLoss.eval(feed_dict=train_batch)\n",
    "    \n",
    "        te1 = time.perf_counter()\n",
    "        [lv,ac,ac0,summary] = tfs.run([tfLoss, tfAccuracyObs, tfAccuracyChar, tfsAll], feed_dict=valid_batch)\n",
    "            #tffw.add_summary(summary, i)\n",
    "        if i%checkpoints == 0 and i > 0:\n",
    "            p = tfsSaver.save(tfs, 'D:/Jupyter/mltest/Models-13RNN02/model-{0:02d}.ckpt'.format(i))\n",
    "            print('Model saved at checkpoint: {0}'.format(p))\n",
    "                             \n",
    "        print(fmtstr.format(i,te1-te0,lv,ac,ac0))\n",
    "    valid_r = tfs.run(tfOutR, feed_dict=valid_batch)"
   ]
  },
  {
   "cell_type": "code",
   "execution_count": 47,
   "metadata": {},
   "outputs": [
    {
     "data": {
      "text/plain": [
       "(array([ 2.,  0.,  2.,  0.,  0.,  0.,  0.,  0.,  0.,  0.]),\n",
       " array([0, 0, 1, 0, 0, 0, 0, 0, 0, 0]))"
      ]
     },
     "execution_count": 47,
     "metadata": {},
     "output_type": "execute_result"
    }
   ],
   "source": [
    "tmp[1], getMeta(tmp[1])"
   ]
  },
  {
   "cell_type": "code",
   "execution_count": 78,
   "metadata": {},
   "outputs": [
    {
     "name": "stdout",
     "output_type": "stream",
     "text": [
      "Graph creation complete\n",
      "INFO:tensorflow:Restoring parameters from D:/Jupyter/mltest/Models-13RNN02/model-45.ckpt\n",
      "[[3 1 1 1 1 0 0 0 0 0]]\n"
     ]
    }
   ],
   "source": [
    "DICT_SIZE = 3\n",
    "RNN_SIZE = [15]\n",
    "\n",
    "tf.reset_default_graph()\n",
    "\n",
    "InnerCell = lambda n: tf.nn.rnn_cell.GRUCell(num_units=n, activation=tf.nn.elu)\n",
    "rnnCell = tf.nn.rnn_cell.MultiRNNCell([InnerCell(s) for s in RNN_SIZE], state_is_tuple=True)\n",
    "#rnnCell = tf.nn.rnn_cell.BasicRNNCell(10, activation=tf.nn.elu)\n",
    "\n",
    "\n",
    "tfi_x = tf.placeholder(shape=(None, None), dtype=tf.int32)\n",
    "\n",
    "tfX = tf.one_hot(tfi_x, DICT_SIZE + 1, dtype=tf.float32)\n",
    "tfY = tfX[:,1:,:]\n",
    "\n",
    "tfHS, _ = tf.nn.dynamic_rnn(rnnCell, inputs=tfX, dtype=tf.float32, time_major=False)\n",
    "tfH = tfHS#[-1] #get latest layer in RNN\n",
    "\n",
    "tfHOut0 = tf.layers.dense(tfH, DICT_SIZE + 1)\n",
    "tfHOut = tfHOut0[:,:-1,:] #remove last forecast\n",
    "tfPredicted = tf.cast(tf.argmax(tfHOut, axis=2), dtype=tf.int32)\n",
    "tfsSaver = tf.train.Saver()\n",
    "print('Graph creation complete')\n",
    "\n",
    "model_id = 45\n",
    "test_x = np.array([[3,1,1,0,0,0,0,0,0,0,0]])\n",
    "\n",
    "with tf.Session() as tfs:\n",
    "    tfsSaver.restore(tfs, 'D:/Jupyter/mltest/Models-13RNN02/model-{0:02d}.ckpt'.format(model_id))\n",
    "    print(tfPredicted.eval(feed_dict={tfi_x:test_x}))"
   ]
  },
  {
   "cell_type": "code",
   "execution_count": null,
   "metadata": {
    "collapsed": true
   },
   "outputs": [],
   "source": []
  }
 ],
 "metadata": {
  "kernelspec": {
   "display_name": "Python 3",
   "language": "python",
   "name": "python3"
  },
  "language_info": {
   "codemirror_mode": {
    "name": "ipython",
    "version": 3
   },
   "file_extension": ".py",
   "mimetype": "text/x-python",
   "name": "python",
   "nbconvert_exporter": "python",
   "pygments_lexer": "ipython3",
   "version": "3.6.1"
  }
 },
 "nbformat": 4,
 "nbformat_minor": 2
}
