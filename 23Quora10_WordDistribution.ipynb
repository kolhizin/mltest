{
 "cells": [
  {
   "cell_type": "code",
   "execution_count": 83,
   "metadata": {},
   "outputs": [],
   "source": [
    "import numpy as np\n",
    "import pandas as pd\n",
    "import tensorflow as tf\n",
    "import modutils\n",
    "import pickle\n",
    "import time\n",
    "import sklearn, sklearn.metrics, sklearn.decomposition\n",
    "import collections\n",
    "import matplotlib.pyplot as plt\n",
    "\n",
    "w2v_size = 9000\n",
    "w2v_file = '../DataSets/Quora/w2v_res_180119.pickle'"
   ]
  },
  {
   "cell_type": "code",
   "execution_count": 6,
   "metadata": {},
   "outputs": [
    {
     "name": "stdout",
     "output_type": "stream",
     "text": [
      "Wall time: 1.38 s\n"
     ]
    }
   ],
   "source": [
    "%%time\n",
    "with open(w2v_file, 'rb') as f:\n",
    "    (full_dict, full_sentences, full_w2v) = pickle.load(f)"
   ]
  },
  {
   "cell_type": "code",
   "execution_count": 12,
   "metadata": {
    "collapsed": true
   },
   "outputs": [],
   "source": [
    "def word2idx(word):\n",
    "    res = [i for (i, (w, _, _, _)) in enumerate(full_dict) if w==word]\n",
    "    if len(res) == 0:\n",
    "        return -1\n",
    "    return res[0]\n",
    "    \n",
    "def idx2word(idx):\n",
    "    if idx >= len(full_dict):\n",
    "        return '<UNK>'\n",
    "    return full_dict[idx][0]\n",
    "\n",
    "def get_elem_occurances(word_id, slist):\n",
    "    return [(i, j) for (i, x) in enumerate(slist) for (j, y) in enumerate(x) if y==word_id]\n",
    "\n",
    "def get_elems_with_offset(occurances, sentence_list, offset=0):\n",
    "    return [sentence_list[i][j+offset] for (i,j) in occurances if j+offset >= 0 and j+offset < len(sentence_list[i])]\n",
    "\n",
    "def combine_word_counts(wc1, wc2):\n",
    "    wcf = set.union(set(wc1), set(wc2))\n",
    "    return dict([(x, (wc1[x] if x in wc1 else 0) + (wc2[x] if x in wc2 else 0)) for x in wcf])\n",
    "\n",
    "def get_context_distr(word_id, sentence_list, context_window=[(-1, 1), (1, 1)]):\n",
    "    occurs = get_elem_occurances(word_id, sentence_list)\n",
    "    wc = dict()\n",
    "    for (off, prob) in context_window:\n",
    "        wc_off = get_elems_with_offset(occurs, sentence_list, offset=off)\n",
    "        wc_tmp = dict(collections.Counter(wc_off))\n",
    "        wc_tmp = dict([(x, y*prob) for (x, y) in wc_tmp.items()])\n",
    "        wc = combine_word_counts(wc, wc_tmp)\n",
    "    return wc"
   ]
  },
  {
   "cell_type": "code",
   "execution_count": 21,
   "metadata": {},
   "outputs": [
    {
     "name": "stdout",
     "output_type": "stream",
     "text": [
      "Wall time: 866 ms\n"
     ]
    }
   ],
   "source": [
    "%%time\n",
    "tmp = [(i, j) for (i, x) in enumerate(full_sentences) for (j, y) in enumerate(x) if y==76]"
   ]
  },
  {
   "cell_type": "code",
   "execution_count": 34,
   "metadata": {},
   "outputs": [
    {
     "name": "stdout",
     "output_type": "stream",
     "text": [
      "Wall time: 7.19 ms\n"
     ]
    }
   ],
   "source": [
    "%%time\n",
    "tmp2 = get_elems_with_offset(tmp, full_sentences, offset=-1)"
   ]
  },
  {
   "cell_type": "code",
   "execution_count": 48,
   "metadata": {},
   "outputs": [
    {
     "name": "stdout",
     "output_type": "stream",
     "text": [
      "Wall time: 0 ns\n"
     ]
    }
   ],
   "source": [
    "%%time\n",
    "tmp3 = dict(collections.Counter(tmp2))"
   ]
  },
  {
   "cell_type": "code",
   "execution_count": 71,
   "metadata": {},
   "outputs": [
    {
     "data": {
      "text/plain": [
       "(1685, 2716)"
      ]
     },
     "execution_count": 71,
     "metadata": {},
     "output_type": "execute_result"
    }
   ],
   "source": [
    "word2idx('king'), word2idx('queen')"
   ]
  },
  {
   "cell_type": "code",
   "execution_count": 113,
   "metadata": {},
   "outputs": [
    {
     "name": "stdout",
     "output_type": "stream",
     "text": [
      "Wall time: 1.76 s\n"
     ]
    }
   ],
   "source": [
    "%%time\n",
    "d1 = get_context_distr(word2idx('book'), full_sentences)\n",
    "d2 = get_context_distr(word2idx('movie'), full_sentences)"
   ]
  },
  {
   "cell_type": "code",
   "execution_count": 114,
   "metadata": {},
   "outputs": [
    {
     "data": {
      "text/plain": [
       "[(19, 993, 'best'),\n",
       " (14, 618, 'for'),\n",
       " (7, 425, 'to'),\n",
       " (0, 422, '?'),\n",
       " (6, 380, 'a'),\n",
       " (24, 259, 'which'),\n",
       " (1, 195, 'the'),\n",
       " (3, 179, 'is'),\n",
       " (22, 153, 'on'),\n",
       " (10, 143, 'of'),\n",
       " (45, 132, 'good'),\n",
       " (297, 84, 'favorite'),\n",
       " (8, 82, 'in'),\n",
       " (16, 77, 'you'),\n",
       " (2, 68, 'what'),\n",
       " (5, 67, 'i'),\n",
       " (33, 62, 'should'),\n",
       " (27, 61, 'or'),\n",
       " (12, 56, 'and'),\n",
       " (15, 53, ',')]"
      ]
     },
     "execution_count": 114,
     "metadata": {},
     "output_type": "execute_result"
    }
   ],
   "source": [
    "sorted([(i, x, idx2word(i)) for (i, x) in d1.items()], key=lambda x: x[1], reverse=True)[:20]"
   ]
  },
  {
   "cell_type": "code",
   "execution_count": 115,
   "metadata": {},
   "outputs": [
    {
     "data": {
      "text/plain": [
       "[(1, 685, 'the'),\n",
       " (0, 586, '?'),\n",
       " (6, 303, 'a'),\n",
       " (19, 247, 'best'),\n",
       " (10, 219, 'of'),\n",
       " (649, 149, 'bollywood'),\n",
       " (16, 137, 'you'),\n",
       " (8, 132, 'in'),\n",
       " (24, 96, 'which'),\n",
       " (12, 93, 'and'),\n",
       " (363, 90, 'got'),\n",
       " (821, 85, 'hollywood'),\n",
       " (297, 75, 'favorite'),\n",
       " (2, 74, 'what'),\n",
       " (15, 73, ','),\n",
       " (4721, 64, '2002'),\n",
       " (89, 57, 'ever'),\n",
       " (3, 50, 'is'),\n",
       " (30, 50, 'that'),\n",
       " (1760, 45, 'horror')]"
      ]
     },
     "execution_count": 115,
     "metadata": {},
     "output_type": "execute_result"
    }
   ],
   "source": [
    "sorted([(i, x, idx2word(i)) for (i, x) in d2.items()], key=lambda x: x[1], reverse=True)[:20]"
   ]
  },
  {
   "cell_type": "code",
   "execution_count": 90,
   "metadata": {},
   "outputs": [
    {
     "data": {
      "text/plain": [
       "'lion'"
      ]
     },
     "execution_count": 90,
     "metadata": {},
     "output_type": "execute_result"
    }
   ],
   "source": [
    "idx2word(4295)"
   ]
  },
  {
   "cell_type": "code",
   "execution_count": 87,
   "metadata": {
    "collapsed": true
   },
   "outputs": [],
   "source": [
    "reduced_size = 1000\n",
    "reduced_sentences = [[x for x in s if x < reduced_size] for s in full_sentences if min(s) < reduced_size]"
   ]
  },
  {
   "cell_type": "code",
   "execution_count": 23,
   "metadata": {
    "collapsed": true
   },
   "outputs": [],
   "source": [
    "def word_dense_vector(sparse_vector, full_size):\n",
    "    res = np.zeros(full_size)\n",
    "    for (idx, num) in sparse_vector:\n",
    "        res[idx] = num\n",
    "    return res\n",
    "\n",
    "def word_context_matrix(sentence_list, context_window=[(-1, 1), (1, 1)]):\n",
    "    words = sorted(list(set([y for x in sentence_list for y in x])))\n",
    "    rows = []\n",
    "    for (i,w) in enumerate(words):\n",
    "        cur_distr = get_context_distr(w, sentence_list, context_window=context_window)\n",
    "        rows.append(word_dense_vector(cur_distr.items(), len(words)))\n",
    "        print('{}/{}    '.format(i, len(words)), end='\\r')\n",
    "    return np.array(rows)"
   ]
  },
  {
   "cell_type": "code",
   "execution_count": 88,
   "metadata": {},
   "outputs": [
    {
     "name": "stdout",
     "output_type": "stream",
     "text": [
      "999/1000    \r"
     ]
    }
   ],
   "source": [
    "tmp = word_context_matrix(reduced_sentences)"
   ]
  },
  {
   "cell_type": "code",
   "execution_count": 89,
   "metadata": {
    "collapsed": true
   },
   "outputs": [],
   "source": [
    "tmpf = collections.Counter([z for x in reduced_sentences for z in x])"
   ]
  },
  {
   "cell_type": "code",
   "execution_count": 90,
   "metadata": {},
   "outputs": [],
   "source": [
    "tmpfreq = word_dense_vector(list(tmpf.items()), reduced_size)"
   ]
  },
  {
   "cell_type": "code",
   "execution_count": 91,
   "metadata": {},
   "outputs": [
    {
     "data": {
      "text/plain": [
       "array([ 510566.,  225627.,  186557.,  162013.,  132310.,  128457.,\n",
       "        126457.,  123460.,  117958.,   96484.])"
      ]
     },
     "execution_count": 91,
     "metadata": {},
     "output_type": "execute_result"
    }
   ],
   "source": [
    "tmpfreq[:10]"
   ]
  },
  {
   "cell_type": "code",
   "execution_count": 222,
   "metadata": {},
   "outputs": [],
   "source": [
    "tmp1 = tmp / tmpfreq.reshape(-1,1) / tmpfreq.reshape(1,-1) * np.sum(tmpfreq)"
   ]
  },
  {
   "cell_type": "code",
   "execution_count": 223,
   "metadata": {},
   "outputs": [],
   "source": [
    "tmp1[tmp1<1]=1\n",
    "#tmp1[tmp1==0]=1e-10\n",
    "tmp2 = np.log(tmp1)"
   ]
  },
  {
   "cell_type": "code",
   "execution_count": 224,
   "metadata": {},
   "outputs": [
    {
     "data": {
      "text/plain": [
       "array([[ 0.        ,  0.        ,  0.        ,  0.        ,  0.        ,\n",
       "         0.        ,  0.27309027,  0.        ,  0.40993865,  0.        ],\n",
       "       [ 0.        ,  0.        ,  0.        ,  2.10514978,  0.        ,\n",
       "         0.        ,  0.        ,  0.47894971,  1.2720436 ,  0.        ],\n",
       "       [ 0.        ,  0.        ,  0.        ,  2.41695558,  0.        ,\n",
       "         0.        ,  0.        ,  0.        ,  0.        ,  0.60105496],\n",
       "       [ 0.        ,  2.10514978,  2.41695558,  0.        ,  0.48528924,\n",
       "         0.        ,  0.89837548,  0.        ,  0.        ,  0.        ],\n",
       "       [ 0.        ,  0.        ,  0.        ,  0.48528924,  0.        ,\n",
       "         0.        ,  0.        ,  0.        ,  0.        ,  2.88148591],\n",
       "       [ 0.        ,  0.        ,  0.        ,  0.        ,  0.        ,\n",
       "         0.        ,  0.        ,  0.        ,  0.        ,  2.79678164],\n",
       "       [ 0.27309027,  0.        ,  0.        ,  0.89837548,  0.        ,\n",
       "         0.        ,  0.        ,  0.68179616,  1.26892009,  0.        ],\n",
       "       [ 0.        ,  0.47894971,  0.        ,  0.        ,  0.        ,\n",
       "         0.        ,  0.68179616,  0.        ,  0.        ,  0.81457806],\n",
       "       [ 0.40993865,  1.2720436 ,  0.        ,  0.        ,  0.        ,\n",
       "         0.        ,  1.26892009,  0.        ,  0.        ,  0.        ],\n",
       "       [ 0.        ,  0.        ,  0.60105496,  0.        ,  2.88148591,\n",
       "         2.79678164,  0.        ,  0.81457806,  0.        ,  0.        ]])"
      ]
     },
     "execution_count": 224,
     "metadata": {},
     "output_type": "execute_result"
    }
   ],
   "source": [
    "tmp2[:10,:10]"
   ]
  },
  {
   "cell_type": "code",
   "execution_count": 231,
   "metadata": {},
   "outputs": [],
   "source": [
    "pca = sklearn.decomposition.PCA(200).fit(tmp2)"
   ]
  },
  {
   "cell_type": "code",
   "execution_count": 232,
   "metadata": {},
   "outputs": [
    {
     "data": {
      "image/png": "[encoded data removed]",
      "text/plain": [
       "<matplotlib.figure.Figure at 0x2c593376780>"
      ]
     },
     "metadata": {},
     "output_type": "display_data"
    }
   ],
   "source": [
    "plt.plot(pca.explained_variance_ratio_)\n",
    "plt.show()"
   ]
  },
  {
   "cell_type": "code",
   "execution_count": 233,
   "metadata": {},
   "outputs": [
    {
     "data": {
      "image/png": "[encoded data removed]",
      "text/plain": [
       "<matplotlib.figure.Figure at 0x2c59390ec50>"
      ]
     },
     "metadata": {},
     "output_type": "display_data"
    }
   ],
   "source": [
    "plt.plot(np.cumsum(pca.explained_variance_ratio_))\n",
    "plt.show()"
   ]
  },
  {
   "cell_type": "code",
   "execution_count": 112,
   "metadata": {
    "collapsed": true
   },
   "outputs": [],
   "source": []
  },
  {
   "cell_type": "code",
   "execution_count": 230,
   "metadata": {},
   "outputs": [
    {
     "data": {
      "text/plain": [
       "array([[ -7.35813689e+00,  -7.51207542e-01,  -1.31594500e+00,\n",
       "          9.81655633e-02,  -6.27245732e-02,   3.59939179e-02,\n",
       "          8.95767449e-01,   2.73527550e+00,  -1.45757113e-01,\n",
       "          9.38615484e-01,   2.45952802e-01,   1.50664874e+00,\n",
       "         -7.41128232e-01,   5.98462583e-01,  -2.39676826e-02,\n",
       "          8.15568379e-01,  -1.42266540e-01,  -2.08840947e-01,\n",
       "          3.69275735e-01,  -4.17339739e-01,   1.86927376e-01,\n",
       "         -5.02632467e-01,   3.79530643e-02,   4.95011341e-01,\n",
       "          9.92961359e-02,   4.95475604e-01,   1.12882629e+00,\n",
       "         -3.19015660e-01,   2.79724772e-01,  -2.66847117e-01,\n",
       "          5.12859662e-01,  -1.27241974e-01,  -1.73002092e-01,\n",
       "         -2.99921329e-02,   2.64257627e-01,   3.37369237e-02,\n",
       "          2.18022113e-01,  -1.29809069e-01,   1.57208713e-01,\n",
       "          2.36130238e-02,   3.25370703e-01,  -6.74389664e-02,\n",
       "          4.07108143e-01,   1.07807031e-01,  -2.99970791e-01,\n",
       "          3.26863463e-02,   2.75165270e-02,  -8.44994709e-02,\n",
       "         -4.26062869e-01,  -2.15586459e-01,  -5.48053845e-02,\n",
       "         -2.09315917e-01,   4.23677493e-01,   2.76244247e-01,\n",
       "          6.69975183e-02,  -8.04592951e-02,  -2.84283651e-01,\n",
       "         -9.89277231e-02,  -2.65456511e-01,   1.72293319e-01,\n",
       "         -1.59501297e-01,   7.89248308e-02,  -2.96948052e-02,\n",
       "          1.44658543e-02,   2.97781443e-02,   1.39253851e-01,\n",
       "          1.69372325e-02,  -1.06239155e-01,  -2.34910306e-01,\n",
       "         -2.56299004e-01,   9.54139969e-02,   2.62898762e-02,\n",
       "          1.23574867e-01,   4.06774097e-01,   2.03477347e-01,\n",
       "         -5.05243612e-02,  -2.98242541e-01,   4.81057270e-01,\n",
       "         -1.34289782e-01,  -3.08886511e-01,   3.11437762e-01,\n",
       "          4.44818338e-02,  -6.02567154e-02,  -2.90596657e-02,\n",
       "          1.92915375e-01,   3.00474448e-01,   1.49813924e-01,\n",
       "          2.81379293e-01,   9.77303510e-02,  -2.16215627e-01,\n",
       "         -5.01849730e-02,  -2.04254973e-01,   7.87438111e-02,\n",
       "         -4.48015618e-03,  -3.18298337e-02,  -9.89969481e-02,\n",
       "         -1.08260861e-01,  -1.98687817e-01,   3.14887705e-01,\n",
       "         -3.36419341e-02,   7.06566420e-02,   9.34694605e-02,\n",
       "          1.06861801e-02,   7.75403240e-02,   1.65952592e-01,\n",
       "          4.13512732e-01,   4.57936551e-02,   1.04631461e-01,\n",
       "          3.07612407e-02,   1.58136421e-01,   1.02152936e-02,\n",
       "          2.23532156e-01,   1.85204607e-01,  -1.59308899e-01,\n",
       "          2.06263517e-01,  -2.14375672e-02,  -1.09684150e-01,\n",
       "         -1.03039602e-01,  -1.90029492e-02,  -1.22071572e-01,\n",
       "          1.85133224e-02,   5.03326849e-02,   2.39598291e-02,\n",
       "         -2.87329732e-01,  -3.99226572e-01,   9.99990642e-02,\n",
       "          2.83542321e-01,   3.41899945e-02,   1.42308886e-01,\n",
       "          4.06673093e-01,  -1.64466253e-02,   1.37138096e-01,\n",
       "         -3.64860064e-03,   2.62894753e-02,   1.14231879e-01,\n",
       "         -1.31485838e-02,  -1.02707006e-01,  -1.85977194e-01,\n",
       "         -1.38452636e-01,  -1.03273497e-01,  -2.04053029e-01,\n",
       "          5.76475392e-02,   2.34918595e-03,  -2.07140718e-02,\n",
       "          2.04438930e-01,   2.57639289e-02,  -2.05752715e-01,\n",
       "         -2.18112039e-01,  -5.28122943e-02,   6.43547842e-02,\n",
       "          6.06204259e-02,   1.87219135e-01,  -4.76878740e-02,\n",
       "          1.16136529e-02,   1.23808491e-01,  -2.25060994e-02,\n",
       "          1.93647360e-01,   1.32610417e-01,  -9.16346005e-02,\n",
       "         -9.49660722e-02,   5.31858362e-04,   1.07782076e-01,\n",
       "         -4.25778410e-03,  -6.76532228e-02,  -1.04143748e-02,\n",
       "          7.26785021e-02,   1.07612772e-01,  -5.29396508e-02,\n",
       "          2.36318742e-01,  -1.07687033e-02,  -2.11560905e-01,\n",
       "         -1.35484797e-01,   5.43052539e-02,   6.26758057e-02,\n",
       "         -3.59511865e-02,  -1.18150974e-01,  -1.42292740e-01,\n",
       "         -1.27200316e-01,  -2.91655008e-01,  -1.99669160e-02,\n",
       "          8.35067925e-02,   1.69170906e-01,  -4.59118495e-02,\n",
       "         -1.84827443e-02,   2.50262251e-02,   5.01539064e-02,\n",
       "          9.11462634e-02,   3.61590686e-02,  -3.38313916e-02,\n",
       "         -2.88268069e-02,  -7.46194682e-02,  -1.72494375e-01,\n",
       "          8.25109190e-03,  -1.00413980e-01,   1.28217229e-01,\n",
       "         -6.64667701e-02,  -1.62668020e-01,  -2.74756089e-02,\n",
       "         -7.13172051e-02,  -5.95106671e-02,  -5.73553493e-02,\n",
       "          3.54355204e-02,  -9.26298112e-02,   1.18377268e-02,\n",
       "         -1.86598389e-02,   5.46319543e-02,   9.10210901e-02,\n",
       "          8.32023504e-02,  -1.20546089e-01,   1.47072544e-02,\n",
       "          5.02398387e-02,  -2.24276430e-01,   2.24787867e-02,\n",
       "         -1.63436106e-02,  -2.49858137e-02,   1.44272979e-02,\n",
       "         -1.18938683e-01,   6.06795704e-02,   1.51797016e-01,\n",
       "         -3.43341293e-03,  -7.11132807e-02,   5.68002592e-02,\n",
       "          2.53964490e-02,  -6.14011126e-03,   1.45442444e-01,\n",
       "         -1.64866073e-03,   1.99186726e-02,   6.11778379e-02,\n",
       "         -1.37230657e-01,   9.71361551e-02,  -1.29569289e-01,\n",
       "          6.85083059e-03,   3.16049792e-02,  -6.00008966e-03,\n",
       "          3.83318682e-02,  -9.64104722e-02,  -8.74905426e-02,\n",
       "         -2.25092997e-01,  -6.83076923e-02,  -1.25142222e-01,\n",
       "         -4.39629893e-02,   1.80448004e-02,   4.01062625e-02,\n",
       "         -8.86371066e-02,   1.92792893e-01,  -3.34674842e-02,\n",
       "          1.33574130e-01,   2.01016088e-02,  -1.99355576e-02,\n",
       "          2.15583692e-02,   5.37974298e-02,  -1.38580215e-01,\n",
       "          2.52649548e-02,   1.82155688e-01,   1.73041034e-01,\n",
       "         -1.13696612e-01,   1.85071175e-02,  -1.77866316e-01,\n",
       "         -8.18227838e-02,  -2.89920227e-02,  -2.24533868e-02,\n",
       "          2.09442702e-02,  -8.06069895e-02,   4.80828616e-02,\n",
       "          1.71107748e-01,   5.79858422e-02,   1.04469757e-02,\n",
       "          1.01306034e-01,  -7.19440407e-02,   4.54579333e-02,\n",
       "         -1.13843734e-02,   2.68460633e-02,  -9.28391787e-02,\n",
       "         -3.40508502e-02,  -1.16574995e-01,  -1.34815745e-01,\n",
       "          6.94417113e-02,  -2.14148703e-01,   2.09034758e-01,\n",
       "         -2.58061039e-02,  -2.18401237e-01,  -2.19423305e-02,\n",
       "         -5.71491579e-02,  -1.00309648e-01,  -8.95548164e-02,\n",
       "         -7.38900570e-03,  -3.08605038e-02,   5.94851028e-02,\n",
       "         -8.08566484e-02,  -6.00871724e-02,   1.25897064e-01,\n",
       "         -7.93667619e-02,  -3.28202022e-02,   8.67717280e-02,\n",
       "          7.17743432e-02,  -7.73331980e-04,   1.32124869e-01,\n",
       "         -4.43796566e-02,   1.49575014e-01,   7.43382982e-02,\n",
       "          5.16781364e-02,   5.21172251e-02,  -1.84907239e-01,\n",
       "         -9.00877818e-04,   2.86531342e-02,  -4.72064144e-02,\n",
       "         -2.60819914e-02,  -4.90714284e-02,   1.29605022e-03,\n",
       "          6.23333826e-02,   4.90980929e-02,   6.36140401e-02,\n",
       "          1.01660866e-01,   1.71866867e-03,   9.63394987e-02,\n",
       "         -6.33752948e-02,   4.11739188e-02,   1.72661470e-01,\n",
       "          9.36702598e-02,   2.46961885e-01,   2.24443579e-02,\n",
       "         -9.09871861e-02,  -1.34093105e-01,  -3.44425872e-03,\n",
       "          2.97855510e-02,   6.38302161e-03,  -6.05114721e-02,\n",
       "          5.75211888e-02,  -8.38490049e-02,  -2.76729810e-02,\n",
       "          7.27909931e-02,  -1.38358280e-01,   1.42529012e-01,\n",
       "         -1.70544129e-02,   1.00536673e-01,   6.01430986e-02,\n",
       "          1.39018919e-01,   1.41466525e-02,  -7.98205232e-02,\n",
       "          1.07486171e-02,  -1.56825367e-01,  -2.06651424e-02,\n",
       "          2.91136362e-04,  -6.73919548e-02,   1.44281990e-01,\n",
       "         -1.15885578e-01,   7.12365468e-02,   4.03696879e-02,\n",
       "          1.14229647e-01,   9.19014085e-02,   9.83617806e-02,\n",
       "         -2.67076637e-01,   1.67935404e-03,  -1.09596430e-01,\n",
       "          7.17860035e-02,   2.88194402e-02,   3.34740335e-02,\n",
       "          3.86445941e-02,  -2.74534957e-03,   7.41172222e-02,\n",
       "         -7.80794315e-02,  -2.10185444e-02,   1.72431300e-01,\n",
       "         -6.31972292e-02,  -1.30489920e-01,   1.55743129e-02,\n",
       "         -3.23311955e-02,   2.35129167e-01,  -3.77446747e-02,\n",
       "          2.17771039e-02,  -9.50152091e-02,   1.12536925e-02,\n",
       "         -1.19459075e-01,  -1.05342911e-01,  -1.58037383e-01,\n",
       "         -1.39463734e-01,  -9.91050858e-02,  -5.69534314e-02,\n",
       "         -2.10772099e-01,   1.02875628e-01,   1.25439447e-02,\n",
       "          1.15647619e-03,  -1.50586569e-01,  -8.99884086e-02,\n",
       "         -9.01873567e-02,   7.87302716e-02,   3.12553091e-02,\n",
       "         -5.86231194e-02,   1.63996209e-02,  -1.11516768e-02,\n",
       "         -1.06140042e-02,   1.58718549e-02,   8.05036741e-02,\n",
       "          1.05735355e-03,   1.56156975e-02,  -2.20614248e-02,\n",
       "         -7.67453954e-02,  -9.08475028e-02,  -8.59973411e-02,\n",
       "         -1.43902696e-01,   3.73890196e-02,   3.43993991e-02,\n",
       "          5.34855774e-02,   5.34400251e-03,   1.25213084e-02,\n",
       "         -1.40714180e-01,   1.17816620e-01,  -8.97550610e-02,\n",
       "          7.40108618e-02,   2.88180616e-02,  -2.05185427e-02,\n",
       "          2.26384366e-02,   7.79493008e-02,   1.13211491e-01,\n",
       "          3.41533979e-02,   3.55309376e-03,   9.08775721e-02,\n",
       "          3.98387603e-02,  -8.01164995e-02,   2.67375802e-02,\n",
       "         -1.51704335e-01,  -2.86025877e-01,  -7.76249827e-02,\n",
       "         -2.69294547e-02,   1.00408095e-01,  -3.66069488e-02,\n",
       "          5.77033370e-02,   3.80847131e-02,   4.27812187e-02,\n",
       "         -6.43318167e-02,   5.84326169e-02,  -3.62002716e-02,\n",
       "          9.14421502e-02,  -3.74937311e-02,  -1.33334054e-01,\n",
       "         -1.02079511e-01,  -1.37324179e-01,   1.66187997e-02,\n",
       "         -1.03228039e-02,   7.03301255e-02,   4.98224368e-02,\n",
       "         -1.56845077e-03,  -4.48179134e-02,  -6.51460948e-02,\n",
       "          4.17210177e-02,   9.57750251e-02,  -1.14344529e-01,\n",
       "         -5.09695320e-02,  -8.64149101e-02,  -1.94639612e-02,\n",
       "         -1.68769880e-02,  -2.21533392e-02,  -1.83133145e-02,\n",
       "          5.97759315e-02,  -1.06822556e-02,  -3.50267626e-02,\n",
       "          9.92170681e-02,  -8.27193832e-02,  -1.26258608e-03,\n",
       "          6.03284540e-02,  -7.86169389e-02,   8.07285496e-02,\n",
       "          1.22719227e-01,  -9.52190155e-03,   1.00247655e-01,\n",
       "          1.78338854e-01,  -1.24691337e-02,   1.65490417e-01,\n",
       "         -2.52213130e-02,   3.65713894e-02,  -2.52234683e-02,\n",
       "          2.65840473e-02,  -1.87784200e-01,   4.05319671e-02,\n",
       "         -9.21994696e-02,   2.49074945e-02,   1.64094319e-01,\n",
       "         -4.07970291e-02,   2.90463468e-02,   2.34935682e-04,\n",
       "          5.40512870e-02,  -4.14394592e-02,   1.50147749e-03,\n",
       "         -1.64166270e-02,  -1.81760059e-01,   5.73069465e-02,\n",
       "          1.82960456e-02,  -1.23154869e-02,  -1.45999537e-01,\n",
       "         -1.88935777e-01,   7.93688537e-03,   4.01320692e-03,\n",
       "          3.91096818e-03,  -1.70637207e-01,  -1.78104248e-02,\n",
       "          1.06413744e-01,  -7.79672671e-02,   5.23300819e-02,\n",
       "         -3.66426855e-02,  -5.19860084e-02,   1.47119401e-01,\n",
       "          1.80747790e-03,  -6.04208177e-02,   1.94452998e-02,\n",
       "          4.76098040e-02,  -2.41696710e-01,   1.19931717e-01,\n",
       "          3.11038038e-02,   5.18914328e-02,  -7.11198585e-03,\n",
       "         -7.23878940e-02,  -9.01583154e-02,  -1.73922021e-01,\n",
       "          2.94155160e-03,  -1.12277218e-01,  -3.15272520e-02,\n",
       "         -1.01227240e-01,  -1.01403003e-02,  -1.21299441e-01,\n",
       "          6.23552074e-02,   3.23884899e-02,   6.03833158e-02,\n",
       "          1.85863785e-02,  -1.70636165e-02,   1.91218956e-01,\n",
       "          2.51475906e-02,   3.05549319e-02,   1.77791958e-02,\n",
       "         -7.56648332e-02,  -1.07469937e-01,   2.70675332e-02,\n",
       "         -4.35227740e-02,  -7.88892104e-03,   3.75367430e-02,\n",
       "          2.39074516e-01,  -1.11184293e-01,  -5.65577250e-02,\n",
       "         -1.41557648e-01,   1.79421964e-01,   1.00785605e-01,\n",
       "         -4.35900660e-03,   9.00722573e-02,   3.28661310e-02,\n",
       "          4.67152020e-02,  -4.58269768e-02,  -1.47507454e-01,\n",
       "         -3.39956454e-02,  -1.11683248e-01,   1.39733322e-01,\n",
       "          1.06482953e-01,   5.35844875e-02,   1.25354240e-01,\n",
       "          5.92158305e-02,  -3.05941787e-02,   7.61341907e-02,\n",
       "          1.62588146e-02,  -7.88090732e-02,   8.86743437e-03,\n",
       "         -7.64515214e-02,  -1.59764722e-01,  -8.41849704e-02,\n",
       "          2.15507922e-01,  -5.68831034e-03,   5.10976474e-02,\n",
       "          1.12528445e-01,   2.89162042e-02,   3.41497282e-02,\n",
       "          4.70541541e-02,   2.10369466e-02,  -1.74757125e-01,\n",
       "         -7.97490044e-02,   5.62170542e-02,   1.26970470e-01,\n",
       "          7.79075378e-02,  -7.91785026e-02,   1.58882421e-01,\n",
       "          6.56213585e-02,   7.82889190e-02,   1.52203654e-02,\n",
       "          1.22522570e-01,  -1.00706820e-01,  -3.94103320e-02,\n",
       "         -1.19886489e-01,   1.40106721e-01,  -2.00083116e-02,\n",
       "          5.64374875e-02,  -5.29225046e-02,   2.06544388e-02,\n",
       "         -3.78856889e-02,   8.39443203e-02,  -4.69698097e-02,\n",
       "         -1.46113034e-01,   7.99425300e-02,  -1.75719682e-02,\n",
       "          1.37324188e-02,  -9.89841065e-02,  -3.96421508e-02,\n",
       "         -1.68635885e-01,  -5.61945211e-03,  -1.00491206e-01,\n",
       "          2.59266720e-02,   7.27718727e-03,   3.55472165e-02,\n",
       "          8.95161795e-02,  -9.22517769e-02,  -4.59347106e-02,\n",
       "         -4.18000939e-02,  -6.60462221e-03,   1.19977888e-01,\n",
       "          2.69907197e-02,  -9.03370681e-02,  -1.88587222e-02,\n",
       "         -2.24665380e-02,   1.88801304e-02,   2.42089431e-02,\n",
       "         -1.05984696e-01,  -7.55258170e-02,  -2.94447892e-02,\n",
       "          1.94597451e-01,  -2.93302101e-02,   6.86251285e-02,\n",
       "          2.45716589e-02,  -2.42276091e-02,   4.68616545e-02,\n",
       "         -2.50639598e-02,  -2.11474352e-02,   3.25393435e-02,\n",
       "          1.41635507e-01,   1.96532899e-02,  -1.89403704e-02,\n",
       "          1.31218348e-01,  -4.20719731e-03,   2.09449517e-02,\n",
       "         -5.77403675e-02,  -1.39265277e-01,  -3.51993144e-02,\n",
       "         -8.36234804e-02,   8.19442544e-03,   1.20129396e-01,\n",
       "          1.03107226e-01,  -7.07402858e-03,  -1.90134178e-02,\n",
       "         -8.99435549e-02,  -7.11172713e-02,   9.40380487e-02,\n",
       "         -1.43929956e-02,   6.91571049e-02,   3.78672886e-02,\n",
       "         -2.56704673e-02,   9.65659445e-02,   1.04108564e-01,\n",
       "         -3.36645159e-02,  -4.89391502e-02,  -1.59539196e-01,\n",
       "         -2.17185716e-02,   1.59648758e-01,  -1.19052016e-01,\n",
       "         -3.15201469e-02,  -8.46580490e-02,  -5.98319671e-02,\n",
       "         -4.51780856e-03,   5.57349198e-02,  -3.46041331e-02,\n",
       "         -7.30097828e-02,  -1.60424082e-02,  -8.67981438e-02,\n",
       "         -7.31485796e-02,   1.69690778e-02,   2.07779951e-02,\n",
       "         -1.68312880e-02,  -1.19906795e-01,   9.59141073e-02,\n",
       "         -2.70814297e-02,   8.11619770e-02,   8.86132442e-02,\n",
       "          2.90748560e-02,   9.15189116e-03,  -7.27551744e-02,\n",
       "         -1.10025435e-01,  -1.23217905e-01,  -2.64445352e-01,\n",
       "         -5.82212817e-02,   8.99321073e-02,  -3.04746187e-02,\n",
       "          2.18453902e-03,  -1.52908017e-01,   5.55506030e-02,\n",
       "         -2.27752742e-03,  -5.51104631e-02,   2.67239542e-01,\n",
       "          8.74928980e-02,  -4.40222285e-02,  -6.28816873e-02,\n",
       "         -8.59718800e-02,   9.29781105e-02,  -1.11810846e-02,\n",
       "         -2.60891735e-04,  -6.03732849e-02,   1.95479890e-01,\n",
       "          4.79208457e-03,   9.76708318e-02,   1.08585302e-01,\n",
       "         -1.24092583e-01,   2.26369057e-01,  -4.21524890e-02,\n",
       "         -6.12409127e-02,   4.39345360e-03,   5.97548689e-02,\n",
       "         -2.42649041e-02,  -7.65428233e-05,   8.26912512e-02,\n",
       "         -2.05365387e-02,  -1.87641054e-01,   1.64034532e-01,\n",
       "         -1.58891094e-01,   1.90790548e-02,  -1.22108386e-02,\n",
       "          5.23736468e-02,  -1.78157513e-02,   1.66527727e-01,\n",
       "          2.49179859e-02,  -3.37172068e-02,   7.19661127e-02,\n",
       "         -6.90427754e-02,   1.16404678e-02,   1.43801643e-01,\n",
       "         -9.20179122e-03,   2.70057764e-02,  -6.56812333e-02,\n",
       "         -3.24674717e-02,  -6.40986942e-02,  -2.25546792e-02,\n",
       "         -1.65353806e-01,   6.87753328e-04,   1.57798928e-01,\n",
       "         -1.28333010e-02,  -5.96060766e-02,  -2.91052396e-02,\n",
       "          3.83640133e-02,  -3.97831554e-02,  -2.27274201e-02,\n",
       "          7.19281753e-02,  -7.09063836e-02,   5.53592398e-03,\n",
       "          6.38275046e-02,  -4.94154485e-02,  -4.92226884e-02,\n",
       "         -9.21809597e-03,   7.38394312e-02,  -6.96296072e-03,\n",
       "          8.21327323e-02,  -9.86721306e-03,  -1.14768835e-01,\n",
       "         -2.29705125e-02,  -4.21640665e-03,   1.39399317e-01,\n",
       "         -4.80808391e-02,   1.60851800e-01,  -7.10432803e-02,\n",
       "          4.43705087e-02,   2.78453792e-02,   1.66801903e-01,\n",
       "         -6.48068418e-02,   5.68420986e-02,  -1.02008618e-01,\n",
       "         -4.98067990e-02,   3.10726587e-02,  -1.69812077e-02,\n",
       "          3.07282847e-02,  -3.35599537e-02,  -1.17157161e-01,\n",
       "          9.99319801e-02,  -2.50683700e-02,   1.04837135e-01,\n",
       "         -1.50182925e-01,   3.04145406e-02,  -8.90139552e-02,\n",
       "         -4.48135346e-02,  -7.79582463e-02,  -7.02529769e-02,\n",
       "          2.38947443e-01,  -4.89428264e-02,   6.14771479e-02,\n",
       "          9.74883350e-02,  -1.26004001e-01,   5.72947918e-02,\n",
       "          9.14487382e-02,   1.96947433e-02,   6.88181777e-02,\n",
       "          7.26300020e-02,  -8.82184773e-02,   1.14851362e-01,\n",
       "         -1.24545784e-01,   6.73337011e-02,   1.51952679e-01,\n",
       "          2.81155001e-02,   7.68584534e-02,  -1.14332969e-02,\n",
       "          5.03663275e-02,  -3.84114300e-02,  -9.52876338e-02,\n",
       "         -2.85955869e-02,  -1.70462826e-01,   1.85145186e-02,\n",
       "         -2.93778752e-02,   7.62563337e-03,  -7.69291522e-02,\n",
       "         -8.13338941e-02,  -1.83520268e-01,   4.25406772e-03,\n",
       "         -6.59716307e-02,   2.59828770e-02,   2.82836178e-02,\n",
       "         -3.43025307e-02,  -6.13046395e-02,   3.86351648e-02,\n",
       "         -1.64421556e-01,  -5.37390850e-02,  -1.84631963e-01,\n",
       "          3.30490177e-03,  -2.55726996e-03,  -7.82109538e-02,\n",
       "          5.52419067e-02,   6.18059581e-02,   6.50699619e-04,\n",
       "         -7.24956305e-02,   5.89626143e-03,   6.84907903e-02,\n",
       "         -1.49913125e-02,   3.02846910e-02,  -7.55981025e-02,\n",
       "         -9.69449481e-02,  -1.08081758e-01,  -2.85646160e-02,\n",
       "          1.34982919e-02,  -3.59950244e-02,   1.87235589e-02,\n",
       "         -6.93627411e-02,   1.77136081e-01,   4.43973291e-02,\n",
       "         -1.02571788e-01,   2.52530144e-02,   5.90424356e-02,\n",
       "         -3.63265836e-02,   1.19711364e-02,  -6.56851017e-02,\n",
       "          2.86291914e-02,   9.28885746e-03,   3.44661695e-02,\n",
       "         -9.66687778e-02,   1.75259886e-02,   5.12625064e-02,\n",
       "          2.60452037e-02,  -1.43072324e-01,   4.07587296e-02,\n",
       "         -8.80862092e-02,  -4.12544064e-02,   4.83515053e-02,\n",
       "          5.27208066e-02,   1.38367888e-02,   2.92303553e-02,\n",
       "          4.93494081e-04,  -1.01749476e-01,  -3.77305455e-02,\n",
       "         -7.57323657e-02,  -6.83293329e-02,   9.90089528e-02,\n",
       "         -8.40939586e-02,   8.68472329e-03,   1.18258266e-02,\n",
       "         -1.52364463e-02,  -1.69218845e-02,   1.17794259e-01,\n",
       "          8.48825148e-02,   1.16782196e-02,  -2.66255443e-02,\n",
       "          4.49427037e-02,   4.40446962e-02,  -6.63666484e-02,\n",
       "         -2.75819265e-02,   1.69063538e-01,  -2.32056048e-02,\n",
       "         -7.78399620e-02,  -2.00034400e-02,  -6.56522441e-02,\n",
       "         -3.92114935e-02,   6.66026973e-02,  -8.72069882e-02,\n",
       "          1.07813203e-02,  -2.04701988e-02,  -3.87509203e-03,\n",
       "          4.58546612e-02,  -4.96435455e-02,   1.76049641e-03,\n",
       "          4.01333799e-02,   5.47161270e-02,  -1.01053158e-01,\n",
       "         -2.55185658e-01,   4.48239434e-02,  -1.68935543e-01,\n",
       "          2.63520949e-02,  -8.82242231e-03,   1.08582006e-02,\n",
       "         -2.42900047e-02,  -1.01132794e-02,   7.88432517e-02,\n",
       "          6.14083403e-02,  -6.10662971e-02,   4.25410232e-02,\n",
       "         -3.22468418e-02,  -4.48577391e-02,  -4.11041903e-02,\n",
       "         -5.18911475e-02,  -1.10012516e-01,  -4.76882069e-03,\n",
       "          1.67825551e-01,   3.72048313e-02,   1.13534188e-01,\n",
       "          1.70460106e-02,   3.99164202e-02,  -8.14031872e-02,\n",
       "          1.83798829e-01,   3.56566594e-02,  -6.05324723e-02,\n",
       "          4.99948201e-02,  -9.75134432e-02,   9.97425458e-02,\n",
       "         -4.63094806e-02,   4.59029818e-02,  -1.10101782e-02,\n",
       "          1.03587361e-01,  -2.01515943e-02,   9.17302869e-02,\n",
       "         -1.26513397e-03,   3.41151153e-03,  -7.38191589e-02,\n",
       "          1.92808603e-01,   2.34801795e-01,   5.58582423e-03,\n",
       "         -3.34909022e-02,  -3.80302643e-02,  -2.62115306e-03,\n",
       "         -4.48763810e-03,   2.46276763e-02,  -7.63446781e-02,\n",
       "         -1.49852325e-01,  -7.11908084e-02,   2.22461226e-02,\n",
       "         -4.69139277e-02,  -6.70104320e-02,  -2.72804551e-02,\n",
       "          1.01583845e-01,   9.82212725e-02,  -6.33307161e-02,\n",
       "          2.45662480e-02,   2.10774203e-02,  -4.45516547e-03,\n",
       "          4.05864115e-02,  -6.96929420e-02,   2.93300284e-02,\n",
       "         -1.93285660e-02,  -7.79933920e-02,  -5.52442543e-02,\n",
       "          2.62908647e-02,  -2.95247970e-02,   6.21536285e-02,\n",
       "          1.00550446e-02,  -4.05233249e-02,   1.15289629e-01,\n",
       "         -4.58132589e-02,  -1.38031497e-02,   6.33924317e-02,\n",
       "          2.20495176e-01,   5.20114244e-02,  -4.50139211e-02,\n",
       "          1.53413750e-02,   7.26668716e-02,   1.52317697e-02,\n",
       "          3.65414155e-02,   2.12758949e-01,  -1.44292393e-02,\n",
       "          2.59052552e-02,  -1.97862414e-02,  -1.10488896e-02,\n",
       "          3.43165589e-02,  -3.44912780e-02,  -4.56608385e-02,\n",
       "         -1.43391591e-03,   1.53527550e-01,   1.85238605e-01,\n",
       "          1.46272069e-02,   9.40599977e-02,   1.42985881e-02,\n",
       "         -2.96879084e-01,  -1.20824407e-01,   4.69411449e-02,\n",
       "         -1.63824114e-01,  -3.61351491e-02,  -4.89257922e-02,\n",
       "          8.61881910e-03]])"
      ]
     },
     "execution_count": 230,
     "metadata": {},
     "output_type": "execute_result"
    }
   ],
   "source": [
    "t0 = np.zeros(shape=(1000,))\n",
    "t0[100] = 1\n",
    "pca.transform(t0.reshape(1,-1))"
   ]
  },
  {
   "cell_type": "code",
   "execution_count": 282,
   "metadata": {
    "collapsed": true
   },
   "outputs": [],
   "source": [
    "def word2vec(word):\n",
    "    return pca.components_[:,word2idx(word)]\n",
    "\n",
    "def idx2vec(idx):\n",
    "    return pca.components_[:,idx]#pca.transform(t0.reshape(1, -1))"
   ]
  },
  {
   "cell_type": "code",
   "execution_count": 262,
   "metadata": {},
   "outputs": [
    {
     "name": "stdout",
     "output_type": "stream",
     "text": [
      "155 152\n"
     ]
    },
    {
     "data": {
      "text/plain": [
       "0.43080287862203098"
      ]
     },
     "execution_count": 262,
     "metadata": {},
     "output_type": "execute_result"
    }
   ],
   "source": [
    "ix = word2idx('his')\n",
    "iy = word2idx('her')\n",
    "print('{} {}'.format(ix, iy))\n",
    "x = idx2vec(ix).reshape(-1)[0:]\n",
    "y = idx2vec(iy).reshape(-1)[0:]\n",
    "np.dot(x, y) / np.sqrt(np.dot(x, x) * np.dot(y, y))"
   ]
  },
  {
   "cell_type": "code",
   "execution_count": 283,
   "metadata": {},
   "outputs": [
    {
     "ename": "ValueError",
     "evalue": "operands could not be broadcast together with shapes (200,1000) (200,) ",
     "output_type": "error",
     "traceback": [
      "\u001b[1;31m---------------------------------------------------------------------------\u001b[0m",
      "\u001b[1;31mValueError\u001b[0m                                Traceback (most recent call last)",
      "\u001b[1;32m<ipython-input-283-98f0e13b60e7>\u001b[0m in \u001b[0;36m<module>\u001b[1;34m()\u001b[0m\n\u001b[1;32m----> 1\u001b[1;33m \u001b[0mpca\u001b[0m\u001b[1;33m.\u001b[0m\u001b[0mcomponents_\u001b[0m \u001b[1;33m-\u001b[0m \u001b[1;33m(\u001b[0m\u001b[0mword2vec\u001b[0m\u001b[1;33m(\u001b[0m\u001b[1;34m'his'\u001b[0m\u001b[1;33m)\u001b[0m \u001b[1;33m-\u001b[0m \u001b[0mword2vec\u001b[0m\u001b[1;33m(\u001b[0m\u001b[1;34m'he'\u001b[0m\u001b[1;33m)\u001b[0m \u001b[1;33m+\u001b[0m \u001b[0mword2vec\u001b[0m\u001b[1;33m(\u001b[0m\u001b[1;34m'she'\u001b[0m\u001b[1;33m)\u001b[0m\u001b[1;33m)\u001b[0m\u001b[1;33m\u001b[0m\u001b[0m\n\u001b[0m",
      "\u001b[1;31mValueError\u001b[0m: operands could not be broadcast together with shapes (200,1000) (200,) "
     ]
    }
   ],
   "source": [
    "pca.components_ - (word2vec('his') - word2vec('he') + word2vec('she'))"
   ]
  },
  {
   "cell_type": "code",
   "execution_count": 297,
   "metadata": {},
   "outputs": [],
   "source": [
    "z = (word2vec('president')).reshape(-1,1) - pca.components_"
   ]
  },
  {
   "cell_type": "code",
   "execution_count": 298,
   "metadata": {},
   "outputs": [
    {
     "data": {
      "text/plain": [
       "[(178, 0.0),\n",
       " (782, 0.13494447178529889),\n",
       " (209, 0.1482404832738404),\n",
       " (875, 0.15116349056703737),\n",
       " (657, 0.151419787936767),\n",
       " (883, 0.15240499600292087),\n",
       " (867, 0.15242509025213985),\n",
       " (78, 0.15332424543857895),\n",
       " (429, 0.15663504355643104),\n",
       " (835, 0.15763601810628813)]"
      ]
     },
     "execution_count": 298,
     "metadata": {},
     "output_type": "execute_result"
    }
   ],
   "source": [
    "sorted(enumerate(np.diag(np.dot(z.transpose(), z))), key=lambda x: x[1])[:10]"
   ]
  },
  {
   "cell_type": "code",
   "execution_count": 299,
   "metadata": {},
   "outputs": [
    {
     "data": {
      "text/plain": [
       "'chances'"
      ]
     },
     "execution_count": 299,
     "metadata": {},
     "output_type": "execute_result"
    }
   ],
   "source": [
    "idx2word(782)"
   ]
  },
  {
   "cell_type": "code",
   "execution_count": null,
   "metadata": {
    "collapsed": true
   },
   "outputs": [],
   "source": []
  }
 ],
 "metadata": {
  "kernelspec": {
   "display_name": "Python 3",
   "language": "python",
   "name": "python3"
  },
  "language_info": {
   "codemirror_mode": {
    "name": "ipython",
    "version": 3
   },
   "file_extension": ".py",
   "mimetype": "text/x-python",
   "name": "python",
   "nbconvert_exporter": "python",
   "pygments_lexer": "ipython3",
   "version": "3.6.1"
  }
 },
 "nbformat": 4,
 "nbformat_minor": 2
}
