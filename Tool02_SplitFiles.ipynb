{
 "cells": [
  {
   "cell_type": "code",
   "execution_count": 1,
   "metadata": {
    "collapsed": true
   },
   "outputs": [],
   "source": [
    "import numpy as np\n",
    "import datetime, time\n",
    "\n",
    "src_filename = '../Datasets/kkbox/churn/raw/user_logs.csv'\n",
    "dst_template = '../Datasets/kkbox/churn/raw/user_logs/uldt_{0}.csv'\n",
    "\n",
    "dst_years = ['2015','2016','2017']\n",
    "dst_months = ['{0:02}'.format(i+1) for i in range(12)]\n",
    "dst_files = [z for z in [x+y for x in dst_years for y in dst_months] if z <= '201702']"
   ]
  },
  {
   "cell_type": "code",
   "execution_count": 2,
   "metadata": {},
   "outputs": [
    {
     "name": "stdout",
     "output_type": "stream",
     "text": [
      "392/1000 steps complete; 7.94 seconds (I:3.99, S:0.60, T:0.41, O:2.93)))\n",
      "Step 392, read 106543 instead of 1000000 lines\n",
      "393/1000 steps complete; 8.86 seconds (I:8.44, S:0.07, T:0.05, O:0.30)\n",
      "Step 393, read 0 instead of 1000000 lines\n"
     ]
    }
   ],
   "source": [
    "batch_size = 1000000 #1mln\n",
    "num_steps = 1000\n",
    "header = None\n",
    "with open(src_filename,'r') as hf:\n",
    "    header = hf.readline()\n",
    "\n",
    "dst_fs = {x:open(dst_template.format(x),'w') for x in dst_files}\n",
    "for p in dst_fs:\n",
    "    dst_fs[p].writelines(header)\n",
    "    \n",
    "head_length = len(header.split(','))\n",
    "\n",
    "print_fmt = '{0}/{1} steps complete; {2:.2f} seconds (I:{3:.2f}, S:{4:.2f}, T:{5:.2f}, O:{6:.2f})'\n",
    "\n",
    "with open(src_filename,'r') as srcf:\n",
    "    srcf.readline() #skip first\n",
    "    for step in range(num_steps):\n",
    "        t0 = time.perf_counter()\n",
    "        lines = [srcf.readline().split(',') for i in range(batch_size)]\n",
    "        if lines is None or len(lines)<=0:\n",
    "            break\n",
    "        lines = [x for x in lines if len(x)==head_length]\n",
    "        if len(lines) != batch_size:\n",
    "            print('\\nStep {0}, read {1} instead of {2} lines'.format(step, len(lines), batch_size))\n",
    "        if len(lines) == 0:\n",
    "            break\n",
    "        t1 = time.perf_counter()\n",
    "        lines.sort(key=lambda x:x[1])\n",
    "        t2 = time.perf_counter()\n",
    "        sublines = [[0,len(lines)]]\n",
    "        kstr = lines[0][1][:6]\n",
    "        for i in range(1, len(lines)):\n",
    "            if lines[i][1][:6]==kstr:\n",
    "                continue\n",
    "            sublines[-1] = [sublines[-1][0], i]\n",
    "            sublines.append([i, len(lines)])\n",
    "            kstr = lines[i][1][:6]\n",
    "        t3 = time.perf_counter()\n",
    "        for p in sublines:\n",
    "            df = dst_fs[lines[p[0]][1][:6]]\n",
    "            df.writelines([','.join(lines[x]) for x in range(p[0],p[1])])\n",
    "            df.flush()\n",
    "        t4 = time.perf_counter()\n",
    "        \n",
    "        print(print_fmt.format(step+1, num_steps, t4-t0, t1-t0, t2-t1,t3-t2,t4-t3), end='\\r')"
   ]
  },
  {
   "cell_type": "code",
   "execution_count": 3,
   "metadata": {
    "collapsed": true
   },
   "outputs": [],
   "source": [
    "for p in dst_fs:\n",
    "    dst_fs[p].close()"
   ]
  },
  {
   "cell_type": "code",
   "execution_count": null,
   "metadata": {
    "collapsed": true
   },
   "outputs": [],
   "source": []
  }
 ],
 "metadata": {
  "kernelspec": {
   "display_name": "Python [default]",
   "language": "python",
   "name": "python3"
  },
  "language_info": {
   "codemirror_mode": {
    "name": "ipython",
    "version": 3
   },
   "file_extension": ".py",
   "mimetype": "text/x-python",
   "name": "python",
   "nbconvert_exporter": "python",
   "pygments_lexer": "ipython3",
   "version": "3.6.1"
  }
 },
 "nbformat": 4,
 "nbformat_minor": 2
}
