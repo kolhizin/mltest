{
 "cells": [
  {
   "cell_type": "code",
   "execution_count": 27,
   "metadata": {},
   "outputs": [
    {
     "data": {
      "text/plain": [
       "['201501',\n",
       " '201502',\n",
       " '201503',\n",
       " '201504',\n",
       " '201505',\n",
       " '201506',\n",
       " '201507',\n",
       " '201508',\n",
       " '201509',\n",
       " '201510',\n",
       " '201511',\n",
       " '201512',\n",
       " '201601',\n",
       " '201602',\n",
       " '201603',\n",
       " '201604',\n",
       " '201605',\n",
       " '201606',\n",
       " '201607',\n",
       " '201608',\n",
       " '201609',\n",
       " '201610',\n",
       " '201611',\n",
       " '201612',\n",
       " '201701',\n",
       " '201702']"
      ]
     },
     "execution_count": 27,
     "metadata": {},
     "output_type": "execute_result"
    }
   ],
   "source": [
    "import numpy as np\n",
    "import datetime, time\n",
    "\n",
    "src_filename = '../Datasets/kkbox/churn/raw/user_logs.csv'\n",
    "dst_template = '../Datasets/kkbox/churn/raw/user_logs/uldt_{0}.csv'\n",
    "\n",
    "dst_years = ['2015','2016','2017']\n",
    "dst_months = ['{0:02}'.format(i+1) for i in range(12)]\n",
    "dst_files = [z for z in [x+y for x in dst_years for y in dst_months] if z <= '201702']"
   ]
  },
  {
   "cell_type": "code",
   "execution_count": 39,
   "metadata": {},
   "outputs": [
    {
     "name": "stdout",
     "output_type": "stream",
     "text": [
      "39/1000 steps complete; 75.92 seconds (I:36.23, S:6.60, T:4.55, O:28.55)\r"
     ]
    },
    {
     "ename": "IndexError",
     "evalue": "list index out of range",
     "output_type": "error",
     "traceback": [
      "\u001b[1;31m---------------------------------------------------------------------------\u001b[0m",
      "\u001b[1;31mIndexError\u001b[0m                                Traceback (most recent call last)",
      "\u001b[1;32m<ipython-input-39-e7a2991d530c>\u001b[0m in \u001b[0;36m<module>\u001b[1;34m()\u001b[0m\n\u001b[0;32m     18\u001b[0m             \u001b[1;32mbreak\u001b[0m\u001b[1;33m\u001b[0m\u001b[0m\n\u001b[0;32m     19\u001b[0m         \u001b[0mt1\u001b[0m \u001b[1;33m=\u001b[0m \u001b[0mtime\u001b[0m\u001b[1;33m.\u001b[0m\u001b[0mperf_counter\u001b[0m\u001b[1;33m(\u001b[0m\u001b[1;33m)\u001b[0m\u001b[1;33m\u001b[0m\u001b[0m\n\u001b[1;32m---> 20\u001b[1;33m         \u001b[0mlines\u001b[0m\u001b[1;33m.\u001b[0m\u001b[0msort\u001b[0m\u001b[1;33m(\u001b[0m\u001b[0mkey\u001b[0m\u001b[1;33m=\u001b[0m\u001b[1;32mlambda\u001b[0m \u001b[0mx\u001b[0m\u001b[1;33m:\u001b[0m\u001b[0mx\u001b[0m\u001b[1;33m[\u001b[0m\u001b[1;36m1\u001b[0m\u001b[1;33m]\u001b[0m\u001b[1;33m)\u001b[0m\u001b[1;33m\u001b[0m\u001b[0m\n\u001b[0m\u001b[0;32m     21\u001b[0m         \u001b[0mt2\u001b[0m \u001b[1;33m=\u001b[0m \u001b[0mtime\u001b[0m\u001b[1;33m.\u001b[0m\u001b[0mperf_counter\u001b[0m\u001b[1;33m(\u001b[0m\u001b[1;33m)\u001b[0m\u001b[1;33m\u001b[0m\u001b[0m\n\u001b[0;32m     22\u001b[0m         \u001b[0msublines\u001b[0m \u001b[1;33m=\u001b[0m \u001b[1;33m[\u001b[0m\u001b[1;33m[\u001b[0m\u001b[1;36m0\u001b[0m\u001b[1;33m,\u001b[0m\u001b[0mlen\u001b[0m\u001b[1;33m(\u001b[0m\u001b[0mlines\u001b[0m\u001b[1;33m)\u001b[0m\u001b[1;33m]\u001b[0m\u001b[1;33m]\u001b[0m\u001b[1;33m\u001b[0m\u001b[0m\n",
      "\u001b[1;32m<ipython-input-39-e7a2991d530c>\u001b[0m in \u001b[0;36m<lambda>\u001b[1;34m(x)\u001b[0m\n\u001b[0;32m     18\u001b[0m             \u001b[1;32mbreak\u001b[0m\u001b[1;33m\u001b[0m\u001b[0m\n\u001b[0;32m     19\u001b[0m         \u001b[0mt1\u001b[0m \u001b[1;33m=\u001b[0m \u001b[0mtime\u001b[0m\u001b[1;33m.\u001b[0m\u001b[0mperf_counter\u001b[0m\u001b[1;33m(\u001b[0m\u001b[1;33m)\u001b[0m\u001b[1;33m\u001b[0m\u001b[0m\n\u001b[1;32m---> 20\u001b[1;33m         \u001b[0mlines\u001b[0m\u001b[1;33m.\u001b[0m\u001b[0msort\u001b[0m\u001b[1;33m(\u001b[0m\u001b[0mkey\u001b[0m\u001b[1;33m=\u001b[0m\u001b[1;32mlambda\u001b[0m \u001b[0mx\u001b[0m\u001b[1;33m:\u001b[0m\u001b[0mx\u001b[0m\u001b[1;33m[\u001b[0m\u001b[1;36m1\u001b[0m\u001b[1;33m]\u001b[0m\u001b[1;33m)\u001b[0m\u001b[1;33m\u001b[0m\u001b[0m\n\u001b[0m\u001b[0;32m     21\u001b[0m         \u001b[0mt2\u001b[0m \u001b[1;33m=\u001b[0m \u001b[0mtime\u001b[0m\u001b[1;33m.\u001b[0m\u001b[0mperf_counter\u001b[0m\u001b[1;33m(\u001b[0m\u001b[1;33m)\u001b[0m\u001b[1;33m\u001b[0m\u001b[0m\n\u001b[0;32m     22\u001b[0m         \u001b[0msublines\u001b[0m \u001b[1;33m=\u001b[0m \u001b[1;33m[\u001b[0m\u001b[1;33m[\u001b[0m\u001b[1;36m0\u001b[0m\u001b[1;33m,\u001b[0m\u001b[0mlen\u001b[0m\u001b[1;33m(\u001b[0m\u001b[0mlines\u001b[0m\u001b[1;33m)\u001b[0m\u001b[1;33m]\u001b[0m\u001b[1;33m]\u001b[0m\u001b[1;33m\u001b[0m\u001b[0m\n",
      "\u001b[1;31mIndexError\u001b[0m: list index out of range"
     ]
    }
   ],
   "source": [
    "batch_size = 10000000 #1mln\n",
    "num_steps = 1000\n",
    "header = None\n",
    "with open(src_filename,'r') as hf:\n",
    "    header = hf.readline()\n",
    "    \n",
    "dst_fs = {x:open(dst_template.format(x),'w') for x in dst_files}\n",
    "for p in dst_fs:\n",
    "    dst_fs[p].writelines(header)\n",
    "print_fmt = '{0}/{1} steps complete; {2:.2f} seconds (I:{3:.2f}, S:{4:.2f}, T:{5:.2f}, O:{6:.2f})'\n",
    "\n",
    "with open(src_filename,'r') as srcf:\n",
    "    srcf.readline() #skip first\n",
    "    for step in range(num_steps):\n",
    "        t0 = time.perf_counter()\n",
    "        lines = [srcf.readline().split(',') for i in range(batch_size)]\n",
    "        if lines is None or len(lines)<=0:\n",
    "            break\n",
    "        t1 = time.perf_counter()\n",
    "        lines.sort(key=lambda x:x[1])\n",
    "        t2 = time.perf_counter()\n",
    "        sublines = [[0,len(lines)]]\n",
    "        kstr = lines[0][1][:6]\n",
    "        for i in range(1, len(lines)):\n",
    "            if lines[i][1][:6]==kstr:\n",
    "                continue\n",
    "            sublines[-1] = [sublines[-1][0], i]\n",
    "            sublines.append([i, len(lines)])\n",
    "            kstr = lines[i][1][:6]\n",
    "        t3 = time.perf_counter()\n",
    "        for p in sublines:\n",
    "            df = dst_fs[lines[p[0]][1][:6]]\n",
    "            df.writelines([','.join(lines[x]) for x in range(p[0],p[1])])\n",
    "            df.flush()\n",
    "        t4 = time.perf_counter()\n",
    "        \n",
    "        print(print_fmt.format(step+1, num_steps, t4-t0, t1-t0, t2-t1,t3-t2,t4-t3), end='\\r')"
   ]
  }
 ],
 "metadata": {
  "kernelspec": {
   "display_name": "Python [default]",
   "language": "python",
   "name": "python3"
  },
  "language_info": {
   "codemirror_mode": {
    "name": "ipython",
    "version": 3
   },
   "file_extension": ".py",
   "mimetype": "text/x-python",
   "name": "python",
   "nbconvert_exporter": "python",
   "pygments_lexer": "ipython3",
   "version": "3.6.1"
  }
 },
 "nbformat": 4,
 "nbformat_minor": 2
}
