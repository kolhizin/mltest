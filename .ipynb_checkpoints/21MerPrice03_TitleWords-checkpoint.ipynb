{
 "cells": [
  {
   "cell_type": "code",
   "execution_count": 1,
   "metadata": {
    "collapsed": true
   },
   "outputs": [],
   "source": [
    "import numpy as np\n",
    "import tensorflow as tf\n",
    "import pandas as pd\n",
    "import matplotlib.pyplot as plt\n",
    "import seaborn\n",
    "import datetime, time\n",
    "import sklearn, sklearn.metrics, sklearn.preprocessing, sklearn.linear_model, sklearn.ensemble, sklearn.model_selection\n",
    "import nltk, nltk.stem\n",
    "\n",
    "import collections\n",
    "\n",
    "import modutils\n",
    "\n",
    "data_dir = '../DataSets/MercariPrice/'\n",
    "src_file = data_dir + 'train_text.csv' "
   ]
  },
  {
   "cell_type": "code",
   "execution_count": 2,
   "metadata": {},
   "outputs": [
    {
     "name": "stdout",
     "output_type": "stream",
     "text": [
      "Wall time: 10.5 s\n"
     ]
    }
   ],
   "source": [
    "%%time\n",
    "src = pd.read_csv(src_file)"
   ]
  },
  {
   "cell_type": "code",
   "execution_count": 3,
   "metadata": {},
   "outputs": [
    {
     "name": "stdout",
     "output_type": "stream",
     "text": [
      "Wall time: 1min 19s\n"
     ]
    }
   ],
   "source": [
    "%%time\n",
    "stemmer = nltk.stem.SnowballStemmer('english')\n",
    "src['name_proc'] = src.name.map(lambda x: [stemmer.stem(y.lower()) for y in x.split()])"
   ]
  },
  {
   "cell_type": "code",
   "execution_count": 4,
   "metadata": {},
   "outputs": [
    {
     "name": "stdout",
     "output_type": "stream",
     "text": [
      "Wall time: 995 ms\n"
     ]
    }
   ],
   "source": [
    "%%time\n",
    "name_dict = collections.Counter([y for x in src.name_proc for y in x])"
   ]
  },
  {
   "cell_type": "code",
   "execution_count": 6,
   "metadata": {},
   "outputs": [],
   "source": [
    "topNwords = list(sorted(list(name_dict.items()), key=lambda x: x[1], reverse=True))[:1000]"
   ]
  },
  {
   "cell_type": "code",
   "execution_count": 11,
   "metadata": {},
   "outputs": [],
   "source": [
    "src_hit = src[['name', 'fcst_diff_simple']].copy()"
   ]
  },
  {
   "cell_type": "code",
   "execution_count": 12,
   "metadata": {},
   "outputs": [
    {
     "name": "stdout",
     "output_type": "stream",
     "text": [
      "Wall time: 5min 57s00\n"
     ]
    }
   ],
   "source": [
    "%%time\n",
    "i = 0\n",
    "sample = [x for (x,_) in topNwords[:1000]] \n",
    "for x in sample:\n",
    "    src_hit[x] = src.name_proc.map(lambda z: x in z)\n",
    "    i += 1\n",
    "    print('Done {0} out of {1}'.format(i, len(sample)), end='\\r')"
   ]
  },
  {
   "cell_type": "code",
   "execution_count": 17,
   "metadata": {},
   "outputs": [
    {
     "name": "stdout",
     "output_type": "stream",
     "text": [
      "Wall time: 9h 40min 3s\n"
     ]
    }
   ],
   "source": [
    "%%time\n",
    "sortedNpairs = []\n",
    "for (i,(x,xn)) in enumerate(topNwords):\n",
    "    tmp = src_hit[src_hit[x]]\n",
    "    for j in range(i, len(topNwords)):\n",
    "        y = topNwords[j][0]\n",
    "        res = tmp.fcst_diff_simple[tmp[y]].agg(['count','mean'])\n",
    "        if res[0] == 0:\n",
    "            res[1] = 0\n",
    "        sortedNpairs.append(((x,y), res[0], res[1]))\n",
    "    print('Done {0} out of {1}'.format(i+1, len(topNwords)), end='\\r')"
   ]
  },
  {
   "cell_type": "code",
   "execution_count": 22,
   "metadata": {},
   "outputs": [
    {
     "data": {
      "text/plain": [
       "[(('bundl', 'bundl'), 29178.0, 0.33101167723292341),\n",
       " (('lularo', 'lularo'), 25009.0, 0.23650043712832872),\n",
       " (('for', 'for'), 23357.0, 0.21425363778375922),\n",
       " (('bundl', 'for'), 7224.0, 0.47665894150339605),\n",
       " (('set', 'set'), 15027.0, 0.15841957756653116),\n",
       " (('&', '&'), 14659.0, 0.13665723823000916),\n",
       " (('nwt', 'nwt'), 14452.0, 0.12394013422537664),\n",
       " (('lot', 'lot'), 6826.0, 0.25254058778794886),\n",
       " (('size', 'size'), 28757.0, -0.058799418625461168),\n",
       " (('and', 'and'), 18268.0, 0.091980782779687187)]"
      ]
     },
     "execution_count": 22,
     "metadata": {},
     "output_type": "execute_result"
    }
   ],
   "source": [
    "sorted(sortedNpairs, key=lambda x:abs(x[2]*x[1]), reverse=True)[:10]"
   ]
  },
  {
   "cell_type": "code",
   "execution_count": null,
   "metadata": {},
   "outputs": [],
   "source": [
    "tmp_words = pd.DataFrame({'name':[x[0] for x in sorted500words]})\n",
    "for (x,xn,_,_) in top500words:\n",
    "    tmp_words[x] = [z[1] for z in sorted500pairs if z[0][0]==x]"
   ]
  },
  {
   "cell_type": "code",
   "execution_count": null,
   "metadata": {},
   "outputs": [],
   "source": [
    "tmp_words.to_csv('train_title_num_matrix.csv', index=False)"
   ]
  },
  {
   "cell_type": "code",
   "execution_count": 24,
   "metadata": {},
   "outputs": [],
   "source": [
    "features_1lev = [x[0] for x in topNwords]\n",
    "src_train = src[['name', 'price', 'fcst_log_simple', 'fcst_diff_simple']].copy()"
   ]
  },
  {
   "cell_type": "code",
   "execution_count": 25,
   "metadata": {},
   "outputs": [],
   "source": [
    "for f in features_1lev:\n",
    "    src_train['f_{0}'.format(f)] = src_hit[f]*1"
   ]
  },
  {
   "cell_type": "code",
   "execution_count": 34,
   "metadata": {},
   "outputs": [],
   "source": [
    "X = src_train[['f_{0}'.format(f) for f in features_1lev]].values\n",
    "Y = src_train.fcst_diff_simple.values\n",
    "(Xtrain,Ytrain),(Xtest,Ytest) = modutils.splitSample((X, Y), pcts = [0.1,0.9])"
   ]
  },
  {
   "cell_type": "code",
   "execution_count": 35,
   "metadata": {},
   "outputs": [
    {
     "data": {
      "text/plain": [
       "(59384, 1000)"
      ]
     },
     "execution_count": 35,
     "metadata": {},
     "output_type": "execute_result"
    }
   ],
   "source": [
    "Xtrain.shape"
   ]
  },
  {
   "cell_type": "code",
   "execution_count": null,
   "metadata": {},
   "outputs": [],
   "source": [
    "%%time\n",
    "alphas = [1e-2,1e-3,3e-4,1e-4]\n",
    "mod0s = [sklearn.linear_model.Lasso(alpha=a).fit(Xtrain, Ytrain) for a in alphas]"
   ]
  },
  {
   "cell_type": "code",
   "execution_count": null,
   "metadata": {},
   "outputs": [],
   "source": [
    "for i in range(len(alphas)):\n",
    "    Ptrain = mod0s[i].predict(Xtrain)\n",
    "    Ptest = mod0s[i].predict(Xtest)\n",
    "    print('Alpha={0}, coefs={1}, Rsqr={2:.4f} (train), {3:.4f} (test)'.format(alphas[i],\n",
    "                                                  np.sum(np.abs(mod0s[i].coef_)>1e-6),\n",
    "                                                  sklearn.metrics.r2_score(Ytrain, Ptrain),\n",
    "                                                  sklearn.metrics.r2_score(Ytest, Ptest)))"
   ]
  },
  {
   "cell_type": "code",
   "execution_count": 46,
   "metadata": {},
   "outputs": [
    {
     "name": "stdout",
     "output_type": "stream",
     "text": [
      "Wall time: 1min 9s\n"
     ]
    }
   ],
   "source": [
    "%%time\n",
    "mod0gb = sklearn.ensemble.GradientBoostingRegressor(min_samples_leaf=100, n_estimators=30, max_depth=2, subsample=0.5).fit(Xtrain, Ytrain)"
   ]
  },
  {
   "cell_type": "markdown",
   "metadata": {},
   "source": [
    "##### %%time\n",
    "#mod0lr = sklearn.linear_model.LinearRegression().fit(Xtrain, Ytrain)\n",
    "mod0lr = sklearn.linear_model.SGDRegressor(n_iter=100).fit(Xtrain, Ytrain) #"
   ]
  },
  {
   "cell_type": "markdown",
   "metadata": {},
   "source": [
    "### sortedNpairs"
   ]
  },
  {
   "cell_type": "code",
   "execution_count": 55,
   "metadata": {},
   "outputs": [
    {
     "name": "stdout",
     "output_type": "stream",
     "text": [
      "Wall time: 1min 33s\n"
     ]
    }
   ],
   "source": [
    "%%time\n",
    "mod0rf2 = sklearn.ensemble.RandomForestRegressor(min_samples_leaf=100, n_estimators=100, max_depth=2, n_jobs=4).fit(Xtrain, Ytrain)"
   ]
  },
  {
   "cell_type": "code",
   "execution_count": 60,
   "metadata": {},
   "outputs": [
    {
     "name": "stdout",
     "output_type": "stream",
     "text": [
      "Rsqr=0.0331 (train), 0.0311 (test)\n"
     ]
    }
   ],
   "source": [
    "Ptrain = mod0gb.predict(Xtrain)\n",
    "Ptest = mod0gb.predict(Xtest)\n",
    "print('Rsqr={:.4f} (train), {:.4f} (test)'.format(sklearn.metrics.r2_score(Ytrain, Ptrain),\n",
    "                                                  sklearn.metrics.r2_score(Ytest, Ptest))) "
   ]
  },
  {
   "cell_type": "code",
   "execution_count": 65,
   "metadata": {},
   "outputs": [
    {
     "name": "stdout",
     "output_type": "stream",
     "text": [
      "Rsqr=0.1558 (train), 0.1346 (test)\n",
      "Wall time: 9.36 s\n"
     ]
    }
   ],
   "source": [
    "%%time\n",
    "Ptrain = mod0lr.predict(Xtrain)\n",
    "Ptest = mod0lr.predict(Xtest)\n",
    "print('Rsqr={:.4f} (train), {:.4f} (test)'.format(sklearn.metrics.r2_score(Ytrain, Ptrain),\n",
    "                                                  sklearn.metrics.r2_score(Ytest, Ptest))) "
   ]
  },
  {
   "cell_type": "code",
   "execution_count": 56,
   "metadata": {},
   "outputs": [
    {
     "name": "stdout",
     "output_type": "stream",
     "text": [
      "Rsqr=0.0254 (train), 0.0228 (test)\n",
      "Wall time: 6.03 s\n"
     ]
    }
   ],
   "source": [
    "%%time\n",
    "Ptrain = mod0rf2.predict(Xtrain)\n",
    "Ptest = mod0rf2.predict(Xtest)\n",
    "print('Rsqr={:.4f} (train), {:.4f} (test)'.format(sklearn.metrics.r2_score(Ytrain, Ptrain),\n",
    "                                                  sklearn.metrics.r2_score(Ytest, Ptest))) "
   ]
  },
  {
   "cell_type": "code",
   "execution_count": null,
   "metadata": {},
   "outputs": [],
   "source": [
    "mod0 = mod0s[2]\n",
    "np.sum(np.abs(mod0.coef_)>1e-6)"
   ]
  },
  {
   "cell_type": "code",
   "execution_count": null,
   "metadata": {
    "collapsed": true
   },
   "outputs": [],
   "source": [
    "src_train['fcst_lev0'] = mod0.predict(X)"
   ]
  },
  {
   "cell_type": "code",
   "execution_count": null,
   "metadata": {
    "collapsed": true
   },
   "outputs": [],
   "source": [
    "src_train['fcst_diff_lev0'] = src_train.fcst_diff_simple - src_train.fcst_lev0"
   ]
  },
  {
   "cell_type": "code",
   "execution_count": null,
   "metadata": {},
   "outputs": [],
   "source": [
    "src_train[['fcst_diff_simple', 'fcst_diff_lev0']].describe()"
   ]
  },
  {
   "cell_type": "code",
   "execution_count": null,
   "metadata": {},
   "outputs": [],
   "source": [
    "src_hit['fcst_diff_lev0'] = src_train.fcst_diff_lev0"
   ]
  },
  {
   "cell_type": "code",
   "execution_count": null,
   "metadata": {},
   "outputs": [],
   "source": [
    "%%time\n",
    "sorted500pairs_lev1 = []\n",
    "for (x,xn,_,_) in sorted500words:\n",
    "    tmp = src_hit[src_hit[x]]\n",
    "    for (y,_,_,_) in sorted500words:\n",
    "        res = tmp.fcst_diff_lev0[tmp[y]].agg(['count','mean'])\n",
    "        sorted500pairs_lev1.append(((x,y),res[0], 0 if res[0] < 1 else res[1]))"
   ]
  },
  {
   "cell_type": "code",
   "execution_count": null,
   "metadata": {},
   "outputs": [],
   "source": [
    "tmp = sorted(sorted500pairs_lev1, key=lambda q: abs(q[2]*q[1]))"
   ]
  },
  {
   "cell_type": "code",
   "execution_count": null,
   "metadata": {},
   "outputs": [],
   "source": [
    "tmp[-10:]"
   ]
  },
  {
   "cell_type": "code",
   "execution_count": null,
   "metadata": {},
   "outputs": [],
   "source": [
    "sorted(tmp, key=lambda x: x[3], reverse=True)[:20]"
   ]
  },
  {
   "cell_type": "code",
   "execution_count": null,
   "metadata": {},
   "outputs": [],
   "source": [
    "tmp2= np.array([x[3] for x in tmp])"
   ]
  },
  {
   "cell_type": "code",
   "execution_count": null,
   "metadata": {},
   "outputs": [],
   "source": []
  },
  {
   "cell_type": "code",
   "execution_count": null,
   "metadata": {},
   "outputs": [],
   "source": [
    "tmp2"
   ]
  },
  {
   "cell_type": "code",
   "execution_count": null,
   "metadata": {
    "collapsed": true
   },
   "outputs": [],
   "source": []
  }
 ],
 "metadata": {
  "kernelspec": {
   "display_name": "Python 3",
   "language": "python",
   "name": "python3"
  },
  "language_info": {
   "codemirror_mode": {
    "name": "ipython",
    "version": 3
   },
   "file_extension": ".py",
   "mimetype": "text/x-python",
   "name": "python",
   "nbconvert_exporter": "python",
   "pygments_lexer": "ipython3",
   "version": "3.6.1"
  }
 },
 "nbformat": 4,
 "nbformat_minor": 2
}
