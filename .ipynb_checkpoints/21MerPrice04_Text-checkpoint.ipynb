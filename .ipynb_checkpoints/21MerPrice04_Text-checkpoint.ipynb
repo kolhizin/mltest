{
 "cells": [
  {
   "cell_type": "code",
   "execution_count": 2,
   "metadata": {
    "collapsed": true
   },
   "outputs": [],
   "source": [
    "import numpy as np\n",
    "import tensorflow as tf\n",
    "import pandas as pd\n",
    "import matplotlib.pyplot as plt\n",
    "import seaborn\n",
    "import datetime, time\n",
    "import sklearn, sklearn.metrics, sklearn.preprocessing, sklearn.linear_model, sklearn.ensemble, sklearn.model_selection\n",
    "import nltk, nltk.stem\n",
    "\n",
    "import collections\n",
    "\n",
    "import modutils\n",
    "\n",
    "data_dir = '../DataSets/MercariPrice/'\n",
    "src_file = data_dir + 'train_descr.csv' "
   ]
  },
  {
   "cell_type": "code",
   "execution_count": 3,
   "metadata": {},
   "outputs": [
    {
     "name": "stdout",
     "output_type": "stream",
     "text": [
      "Wall time: 11.5 s\n"
     ]
    }
   ],
   "source": [
    "%%time\n",
    "src = pd.read_csv(src_file)"
   ]
  },
  {
   "cell_type": "code",
   "execution_count": 6,
   "metadata": {},
   "outputs": [
    {
     "name": "stdout",
     "output_type": "stream",
     "text": [
      "Wall time: 7min 16s\n"
     ]
    }
   ],
   "source": [
    "%%time\n",
    "stemmer = nltk.stem.SnowballStemmer('english')\n",
    "src['desc_proc'] = src.item_description.astype(str).map(lambda x: [stemmer.stem(y.lower()) for y in x.split()])"
   ]
  },
  {
   "cell_type": "code",
   "execution_count": 7,
   "metadata": {},
   "outputs": [
    {
     "name": "stdout",
     "output_type": "stream",
     "text": [
      "Wall time: 5.31 s\n"
     ]
    }
   ],
   "source": [
    "%%time\n",
    "word_dict = collections.Counter([y for x in src.desc_proc for y in x])"
   ]
  },
  {
   "cell_type": "code",
   "execution_count": 11,
   "metadata": {
    "collapsed": true
   },
   "outputs": [],
   "source": [
    "topNwords = list(sorted(list(word_dict.items()), key=lambda x: x[1], reverse=True))[:5000]"
   ]
  },
  {
   "cell_type": "code",
   "execution_count": 48,
   "metadata": {},
   "outputs": [
    {
     "name": "stdout",
     "output_type": "stream",
     "text": [
      "Wall time: 22min 43s\n"
     ]
    }
   ],
   "source": [
    "%%time\n",
    "statNwords = [(z[0],z[1],src.fcst_diff_simple_title[src.desc_proc.map(lambda x: z[0] in x)].mean()) for z in topNwords[:3000]]"
   ]
  },
  {
   "cell_type": "code",
   "execution_count": 61,
   "metadata": {},
   "outputs": [
    {
     "data": {
      "text/plain": [
       "[('and', 335033, 0.05489990894644519),\n",
       " ('with', 184186, 0.0745253258917362),\n",
       " ('the', 257899, 0.058027898980609276),\n",
       " ('is', 171445, 0.06547394627780477),\n",
       " ('[rm]', 67359, 0.11567734462076179),\n",
       " ('come', 36934, 0.16874849254040858),\n",
       " ('box', 28979, 0.1957859616398564),\n",
       " ('in', 197843, 0.05200127118095112),\n",
       " ('authent', 19290, 0.23191819144599798),\n",
       " ('this', 73915, 0.09356927373182564),\n",
       " ('retail', 17831, 0.24097762516559773),\n",
       " ('for', 216856, 0.044229469182181985),\n",
       " ('a', 225413, 0.04129443857156459),\n",
       " ('price', 55737, 0.10480586366270804),\n",
       " ('origin', 20330, 0.2014654136612771),\n",
       " ('it', 104307, 0.06548539588665608),\n",
       " ('of', 138893, 0.05387000149099796),\n",
       " ('all', 59250, 0.0922740199481857),\n",
       " ('new', 155227, 0.04621009971834236),\n",
       " ('to', 189148, 0.0393070659969297),\n",
       " ('i', 112202, 0.0542667904698251),\n",
       " ('yet', 33835, -0.11353422434578114),\n",
       " ('descript', 35504, -0.10843006140843912),\n",
       " ('100%', 18054, 0.16886237480604868),\n",
       " ('are', 81105, 0.05941598183353662),\n",
       " ('sell', 15244, 0.17185119487322065),\n",
       " ('includ', 27076, 0.11641610554707384),\n",
       " ('brand', 101735, 0.04403256974709771),\n",
       " ('-', 62052, 0.06057088594200294),\n",
       " ('onli', 41408, 0.07764048477003684),\n",
       " ('dust', 3015, 0.4390728314770619),\n",
       " ('box.', 8200, 0.2196774056757738),\n",
       " ('sold', 6982, 0.24288724362541034),\n",
       " ('will', 65548, 0.05438138870912845),\n",
       " ('beauti', 19116, 0.11897960081555337),\n",
       " ('gold', 16088, 0.1246418783057352),\n",
       " ('firm', 22009, 0.10099434524116202),\n",
       " ('paid', 4508, 0.2900277835961768),\n",
       " (',', 27365, 0.08630331394195705),\n",
       " ('set', 19183, 0.10921186123460347),\n",
       " ('not', 55915, 0.05347961830259025),\n",
       " ('leather', 9571, 0.17158824281173535),\n",
       " ('plus', 12781, 0.13791702755264096),\n",
       " ('have', 56795, 0.04924841644918956),\n",
       " ('case', 19754, 0.09948382157362161),\n",
       " ('x', 17352, 0.10542257405980376),\n",
       " ('as', 44186, 0.056378060563426154),\n",
       " ('[rm].', 7106, 0.1904054668305161),\n",
       " ('full', 13695, 0.12108862019105249),\n",
       " ('tag', 31284, 0.06945688682979086),\n",
       " ('at', 25567, 0.07881301751937309),\n",
       " ('that', 35455, 0.06154719533582109),\n",
       " ('on', 106718, 0.029472524758463226),\n",
       " ('was', 12331, 0.12328717243815093),\n",
       " ('edit', 4853, 0.2293394238103366),\n",
       " ('bag', 15519, 0.10424300162715337),\n",
       " ('from', 54425, 0.045042384401397774),\n",
       " ('hard', 8310, 0.15626750514170987),\n",
       " ('top', 21849, 0.08155936173500021),\n",
       " ('excel', 18332, 0.09104011513223481),\n",
       " ('so', 33212, 0.06111374588865578),\n",
       " ('charger', 5289, 0.20475111279739291),\n",
       " ('you', 92825, 0.03026345822237815),\n",
       " ('gorgeous', 5141, 0.20561343128059625),\n",
       " ('rare', 3794, 0.2516386642255226),\n",
       " ('has', 43641, 0.04815078273856317),\n",
       " ('scratch', 6646, 0.16827104336357),\n",
       " ('limit', 4966, 0.20096105176917542),\n",
       " ('perfect', 30448, 0.05912377452301787),\n",
       " ('bought', 12751, 0.10539332543860563),\n",
       " ('these', 28530, 0.06146015775612877),\n",
       " ('an', 20077, 0.07679806280153359),\n",
       " ('also', 16221, 0.08799505591638328),\n",
       " ('+', 7899, 0.13986752471442493),\n",
       " ('box,', 2643, 0.2892341836841705),\n",
       " ('bundl', 47630, -0.041917221407362794),\n",
       " ('everyth', 5847, 0.16853030552719292),\n",
       " ('2', 44118, 0.04358373318616619),\n",
       " ('tax', 1930, 0.34956126945174837),\n",
       " ('save', 17961, -0.07824624403484291),\n",
       " ('sterl', 3542, 0.22986571124204055),\n",
       " ('6', 19262, 0.07346496160915562),\n",
       " ('4', 20176, 0.07059198260721754),\n",
       " ('pleas', 41561, 0.043311750821141366),\n",
       " ('&', 49310, 0.03858801154261596),\n",
       " ('purchas', 19589, 0.06984072768831243),\n",
       " ('.', 15116, 0.08255826203868322),\n",
       " ('black', 50425, 0.03693270660872289),\n",
       " ('like', 43725, 0.04048586108849975),\n",
       " ('be', 49082, 0.037480550433281),\n",
       " ('offer', 13258, 0.0894602120674624),\n",
       " ('receipt', 897, 0.5323493209538575),\n",
       " ('find', 5529, 0.1580824649408872),\n",
       " ('nwt', 10554, 0.10231143312061419),\n",
       " ('prioriti', 1686, 0.3451714171248828),\n",
       " ('7', 13684, 0.08545966582247667),\n",
       " ('zip', 7105, 0.13212090735154083),\n",
       " ('over', 9025, 0.11187887748344143),\n",
       " ('piec', 9659, 0.10634176501725505),\n",
       " ('can', 39097, 0.041867877700583714)]"
      ]
     },
     "execution_count": 61,
     "metadata": {},
     "output_type": "execute_result"
    }
   ],
   "source": [
    "sorted(statNwords, key=lambda x: x[1]*np.power(abs(x[2]), 1.5), reverse=True)[:100]"
   ]
  },
  {
   "cell_type": "code",
   "execution_count": null,
   "metadata": {
    "collapsed": true
   },
   "outputs": [],
   "source": []
  }
 ],
 "metadata": {
  "kernelspec": {
   "display_name": "Python 3",
   "language": "python",
   "name": "python3"
  },
  "language_info": {
   "codemirror_mode": {
    "name": "ipython",
    "version": 3
   },
   "file_extension": ".py",
   "mimetype": "text/x-python",
   "name": "python",
   "nbconvert_exporter": "python",
   "pygments_lexer": "ipython3",
   "version": "3.6.1"
  }
 },
 "nbformat": 4,
 "nbformat_minor": 2
}
