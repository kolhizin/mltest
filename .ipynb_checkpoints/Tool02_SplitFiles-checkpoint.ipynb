{
 "cells": [
  {
   "cell_type": "code",
   "execution_count": 1,
   "metadata": {},
   "outputs": [],
   "source": [
    "import numpy as np\n",
    "import datetime, time\n",
    "\n",
    "src_filename = '../Datasets/Churn/user_logs.csv'\n",
    "dst_template = '../Datasets/Churn/user_logs/uldt_{0}.csv'\n",
    "\n",
    "dst_years = ['2015','2016','2017']\n",
    "dst_months = ['{0:02}'.format(i+1) for i in range(12)]\n",
    "dst_files = [z for z in [x+y for x in dst_years for y in dst_months] if z <= '201702']"
   ]
  },
  {
   "cell_type": "code",
   "execution_count": 5,
   "metadata": {},
   "outputs": [
    {
     "name": "stdout",
     "output_type": "stream",
     "text": [
      "392/1000 steps complete; 9.92 seconds (I:6.09, S:0.70, T:0.52, O:2.61))44)\n",
      "Step 392, read 106543 instead of 1000000 lines\n",
      "393/1000 steps complete; 7.40 seconds (I:6.95, S:0.08, T:0.06, O:0.30)\n",
      "Step 393, read 0 instead of 1000000 lines\n"
     ]
    },
    {
     "ename": "IndexError",
     "evalue": "list index out of range",
     "output_type": "error",
     "traceback": [
      "\u001b[1;31m---------------------------------------------------------------------------\u001b[0m",
      "\u001b[1;31mIndexError\u001b[0m                                Traceback (most recent call last)",
      "\u001b[1;32m<ipython-input-5-28f4b56d3850>\u001b[0m in \u001b[0;36m<module>\u001b[1;34m()\u001b[0m\n\u001b[0;32m     27\u001b[0m         \u001b[0mt2\u001b[0m \u001b[1;33m=\u001b[0m \u001b[0mtime\u001b[0m\u001b[1;33m.\u001b[0m\u001b[0mperf_counter\u001b[0m\u001b[1;33m(\u001b[0m\u001b[1;33m)\u001b[0m\u001b[1;33m\u001b[0m\u001b[0m\n\u001b[0;32m     28\u001b[0m         \u001b[0msublines\u001b[0m \u001b[1;33m=\u001b[0m \u001b[1;33m[\u001b[0m\u001b[1;33m[\u001b[0m\u001b[1;36m0\u001b[0m\u001b[1;33m,\u001b[0m\u001b[0mlen\u001b[0m\u001b[1;33m(\u001b[0m\u001b[0mlines\u001b[0m\u001b[1;33m)\u001b[0m\u001b[1;33m]\u001b[0m\u001b[1;33m]\u001b[0m\u001b[1;33m\u001b[0m\u001b[0m\n\u001b[1;32m---> 29\u001b[1;33m         \u001b[0mkstr\u001b[0m \u001b[1;33m=\u001b[0m \u001b[0mlines\u001b[0m\u001b[1;33m[\u001b[0m\u001b[1;36m0\u001b[0m\u001b[1;33m]\u001b[0m\u001b[1;33m[\u001b[0m\u001b[1;36m1\u001b[0m\u001b[1;33m]\u001b[0m\u001b[1;33m[\u001b[0m\u001b[1;33m:\u001b[0m\u001b[1;36m6\u001b[0m\u001b[1;33m]\u001b[0m\u001b[1;33m\u001b[0m\u001b[0m\n\u001b[0m\u001b[0;32m     30\u001b[0m         \u001b[1;32mfor\u001b[0m \u001b[0mi\u001b[0m \u001b[1;32min\u001b[0m \u001b[0mrange\u001b[0m\u001b[1;33m(\u001b[0m\u001b[1;36m1\u001b[0m\u001b[1;33m,\u001b[0m \u001b[0mlen\u001b[0m\u001b[1;33m(\u001b[0m\u001b[0mlines\u001b[0m\u001b[1;33m)\u001b[0m\u001b[1;33m)\u001b[0m\u001b[1;33m:\u001b[0m\u001b[1;33m\u001b[0m\u001b[0m\n\u001b[0;32m     31\u001b[0m             \u001b[1;32mif\u001b[0m \u001b[0mlines\u001b[0m\u001b[1;33m[\u001b[0m\u001b[0mi\u001b[0m\u001b[1;33m]\u001b[0m\u001b[1;33m[\u001b[0m\u001b[1;36m1\u001b[0m\u001b[1;33m]\u001b[0m\u001b[1;33m[\u001b[0m\u001b[1;33m:\u001b[0m\u001b[1;36m6\u001b[0m\u001b[1;33m]\u001b[0m\u001b[1;33m==\u001b[0m\u001b[0mkstr\u001b[0m\u001b[1;33m:\u001b[0m\u001b[1;33m\u001b[0m\u001b[0m\n",
      "\u001b[1;31mIndexError\u001b[0m: list index out of range"
     ]
    }
   ],
   "source": [
    "batch_size = 1000000 #1mln\n",
    "num_steps = 1000\n",
    "header = None\n",
    "with open(src_filename,'r') as hf:\n",
    "    header = hf.readline()\n",
    "\n",
    "dst_fs = {x:open(dst_template.format(x),'w') for x in dst_files}\n",
    "for p in dst_fs:\n",
    "    dst_fs[p].writelines(header)\n",
    "    \n",
    "head_length = len(header.split(','))\n",
    "\n",
    "print_fmt = '{0}/{1} steps complete; {2:.2f} seconds (I:{3:.2f}, S:{4:.2f}, T:{5:.2f}, O:{6:.2f})'\n",
    "\n",
    "with open(src_filename,'r') as srcf:\n",
    "    srcf.readline() #skip first\n",
    "    for step in range(num_steps):\n",
    "        t0 = time.perf_counter()\n",
    "        lines = [srcf.readline().split(',') for i in range(batch_size)]\n",
    "        if lines is None or len(lines)<=0:\n",
    "            break\n",
    "        lines = [x for x in lines if len(x)==head_length]\n",
    "        if len(lines) != batch_size:\n",
    "            print('\\nStep {0}, read {1} instead of {2} lines'.format(step, len(lines), batch_size))\n",
    "        t1 = time.perf_counter()\n",
    "        lines.sort(key=lambda x:x[1])\n",
    "        t2 = time.perf_counter()\n",
    "        sublines = [[0,len(lines)]]\n",
    "        kstr = lines[0][1][:6]\n",
    "        for i in range(1, len(lines)):\n",
    "            if lines[i][1][:6]==kstr:\n",
    "                continue\n",
    "            sublines[-1] = [sublines[-1][0], i]\n",
    "            sublines.append([i, len(lines)])\n",
    "            kstr = lines[i][1][:6]\n",
    "        t3 = time.perf_counter()\n",
    "        for p in sublines:\n",
    "            df = dst_fs[lines[p[0]][1][:6]]\n",
    "            df.writelines([','.join(lines[x]) for x in range(p[0],p[1])])\n",
    "            df.flush()\n",
    "        t4 = time.perf_counter()\n",
    "        \n",
    "        print(print_fmt.format(step+1, num_steps, t4-t0, t1-t0, t2-t1,t3-t2,t4-t3), end='\\r')"
   ]
  },
  {
   "cell_type": "code",
   "execution_count": 6,
   "metadata": {
    "collapsed": true
   },
   "outputs": [],
   "source": [
    "for p in dst_fs:\n",
    "    dst_fs[p].close()"
   ]
  },
  {
   "cell_type": "code",
   "execution_count": 14,
   "metadata": {
    "scrolled": true
   },
   "outputs": [
    {
     "name": "stdout",
     "output_type": "stream",
     "text": [
      "F/ily4Lx5yoWpGg+EQjsK150=,20160714,4,0,0,0,236,82,52867.8790\n",
      "\n"
     ]
    }
   ],
   "source": [
    "batch_size = 1000000 #1mln\n",
    "num_steps = 1\n",
    "header = None\n",
    "with open(src_filename,'r') as hf:\n",
    "    header = hf.readline()\n",
    "    \n",
    "head_length = len(header.split(','))\n",
    "\n",
    "with open(src_filename,'r') as srcf:\n",
    "    srcf.seek(3090000000)\n",
    "    tmp = srcf.readline() #skip first\n",
    "    print(tmp)\n",
    "    #for step in range(num_steps):\n",
    "    #    t0 = time.perf_counter()\n",
    "    #    lines = [srcf.readline().split(',') for i in range(batch_size)]\n",
    "    #    if lines is None or len(lines)<=0:\n",
    "    #        break\n",
    "    #    lines = [x for x in lines if len(x)==head_length]\n",
    "    #    if len(lines) != batch_size:\n",
    "    #        print('\\nStep {0}, read {1} instead of {2} lines'.format(step, len(lines), batch_size))\n",
    "    #    t1 = time.perf_counter()\n"
   ]
  },
  {
   "cell_type": "code",
   "execution_count": null,
   "metadata": {
    "collapsed": true
   },
   "outputs": [],
   "source": [
    "src_size = 30514081415 \n",
    "dst_size = 30906189634"
   ]
  }
 ],
 "metadata": {
  "kernelspec": {
   "display_name": "Python 3",
   "language": "python",
   "name": "python3"
  },
  "language_info": {
   "codemirror_mode": {
    "name": "ipython",
    "version": 3
   },
   "file_extension": ".py",
   "mimetype": "text/x-python",
   "name": "python",
   "nbconvert_exporter": "python",
   "pygments_lexer": "ipython3",
   "version": "3.6.1"
  }
 },
 "nbformat": 4,
 "nbformat_minor": 2
}
