{
 "cells": [
  {
   "cell_type": "code",
   "execution_count": 1,
   "metadata": {
    "collapsed": true
   },
   "outputs": [],
   "source": [
    "import tensorflow as tf\n",
    "import numpy as np\n",
    "import datetime, time"
   ]
  },
  {
   "cell_type": "code",
   "execution_count": 69,
   "metadata": {
    "collapsed": true
   },
   "outputs": [],
   "source": [
    "def genObs(length):\n",
    "    return np.random.choice(range(3), size=length)\n",
    "\n",
    "def genTarget(x):\n",
    "    y0 = ''.join([str(z) for z in x])\n",
    "    pairs = [str(y)+str(z) for y in list(set(x)) for z in list(set(x))]\n",
    "    z = 0\n",
    "    for p in pairs:\n",
    "        z = max(z, y0.count(p))\n",
    "    return z\n",
    "\n",
    "def genSample(num, length=20):\n",
    "    x = [genObs(length=length) for _ in range(num)]\n",
    "    y = [genTarget(t) for t in x]\n",
    "    return np.array(x), np.array(y)\n",
    "\n",
    "def randomBatch(tensorTuple, batchSize=64):\n",
    "    ids = np.random.choice(range(tensorTuple[0].shape[0]), batchSize)\n",
    "    return (x[ids,] for x in tensorTuple)\n",
    "\n",
    "def shuffleBatches(tensorTuple, batchSize=64):\n",
    "    if type(tensorTuple) is list or type(tensorTuple) is tuple: \n",
    "        ids = list(range(tensorTuple[0].shape[0]))\n",
    "        np.random.shuffle(ids)\n",
    "        for i in range(0,len(ids),batchSize):\n",
    "            lst = min(len(ids), i + batchSize)\n",
    "            yield (np.array(x[ids[i:lst],]) for x in tensorTuple)\n",
    "    else:\n",
    "        ids = list(range(tensorTuple.shape[0]))\n",
    "        np.random.shuffle(ids)\n",
    "        for i in range(0,len(ids),batchSize):\n",
    "            lst = min(len(ids), i + batchSize)\n",
    "            yield np.array(tensorTuple[ids[i:lst],])"
   ]
  },
  {
   "cell_type": "code",
   "execution_count": 75,
   "metadata": {},
   "outputs": [
    {
     "data": {
      "text/plain": [
       "(array([[2, 2, 2, 0, 2, 0, 2, 2, 0, 2, 2, 0, 0, 1, 1, 1, 0, 1, 2, 0],\n",
       "        [0, 1, 0, 2, 2, 1, 0, 2, 0, 0, 1, 0, 2, 1, 0, 0, 1, 1, 1, 2],\n",
       "        [2, 2, 2, 2, 2, 0, 2, 2, 0, 2, 1, 2, 0, 0, 1, 2, 1, 0, 0, 0],\n",
       "        [1, 0, 2, 0, 1, 0, 0, 1, 1, 2, 1, 2, 2, 1, 1, 1, 2, 1, 2, 2],\n",
       "        [2, 0, 0, 2, 2, 0, 1, 0, 1, 1, 1, 0, 0, 1, 2, 2, 0, 1, 2, 0],\n",
       "        [0, 1, 2, 1, 0, 2, 2, 1, 1, 0, 0, 0, 0, 1, 0, 1, 2, 0, 1, 0],\n",
       "        [1, 2, 1, 2, 0, 0, 0, 1, 2, 2, 1, 1, 0, 0, 2, 2, 0, 1, 2, 0],\n",
       "        [0, 2, 1, 1, 1, 0, 2, 0, 1, 0, 0, 2, 2, 1, 0, 0, 1, 0, 0, 0],\n",
       "        [2, 0, 2, 2, 2, 0, 2, 2, 2, 1, 1, 2, 2, 0, 1, 1, 2, 1, 2, 0],\n",
       "        [0, 1, 1, 1, 2, 1, 2, 1, 0, 1, 1, 0, 1, 0, 2, 1, 1, 0, 1, 2]]),\n",
       " array([5, 4, 3, 4, 4, 4, 4, 4, 4, 4]))"
      ]
     },
     "execution_count": 75,
     "metadata": {},
     "output_type": "execute_result"
    }
   ],
   "source": [
    "train_x, train_y = genSample(100000)\n",
    "valid_x, valid_y = genSample(10000)\n",
    "valid_x[:10], valid_y[:10]"
   ]
  },
  {
   "cell_type": "code",
   "execution_count": 87,
   "metadata": {},
   "outputs": [
    {
     "name": "stdout",
     "output_type": "stream",
     "text": [
      "Graph creation complete\n"
     ]
    }
   ],
   "source": [
    "SEQ_LEN = 20\n",
    "DICT_SIZE = 3\n",
    "RNN_SIZE = [20]\n",
    "\n",
    "InnerCell = lambda n: tf.nn.rnn_cell.GRUCell(num_units=n, activation=tf.nn.elu)\n",
    "\n",
    "tf.reset_default_graph()\n",
    "\n",
    "tfi_x = tf.placeholder(shape=(None, SEQ_LEN), dtype=tf.int64)\n",
    "tfi_y = tf.placeholder(shape=(None), dtype=tf.int64)\n",
    "\n",
    "tfX = tf.one_hot(tfi_x, DICT_SIZE, dtype=tf.float32)\n",
    "tfY = tf.cast(tfi_y,dtype=tf.float32)\n",
    "\n",
    "\n",
    "rnnCell = tf.nn.rnn_cell.MultiRNNCell([InnerCell(s) for s in RNN_SIZE])\n",
    "\n",
    "_, tfO = tf.nn.dynamic_rnn(rnnCell, inputs=tfX, dtype=tf.float32)\n",
    "\n",
    "tfOut0 = tf.layers.dense(tfO[-1], 1)\n",
    "tfOut = tf.reshape(tfOut0, shape=(tf.shape(tfX)[0],))\n",
    "\n",
    "tfLoss = tf.sqrt(tf.reduce_mean(tf.square(tfY - tfOut)))\n",
    "tfTrain = tf.train.AdamOptimizer(1e-3).minimize(tfLoss)\n",
    "\n",
    "#tfOutP = tf.nn.softmax(tfOut)\n",
    "tfOutR = tf.cast(tf.round(tfOut),dtype=tf.int64)\n",
    "\n",
    "tfAccuracy = tf.reduce_mean(tf.cast(tf.equal(tfi_y, tfOutR), dtype=tf.float32))\n",
    "\n",
    "tfsLoss = tf.summary.scalar('RMSE', tfLoss)\n",
    "tfsAccuracy = tf.summary.scalar('Accuracy', 1-tfAccuracy)\n",
    "tfsAll = tf.summary.merge([tfsLoss, tfsAccuracy])\n",
    "tfsSaver = tf.train.Saver()\n",
    "\n",
    "tffw = tf.summary.FileWriter('D:/Jupyter/Logs/00_A', tf.get_default_graph())\n",
    "print('Graph creation complete')"
   ]
  },
  {
   "cell_type": "code",
   "execution_count": 88,
   "metadata": {},
   "outputs": [
    {
     "name": "stdout",
     "output_type": "stream",
     "text": [
      "Epoch 0 (34.3 sec): \t\tVL:0.775\t\tAC:0.465\n",
      "Epoch 1 (32.7 sec): \t\tVL:0.660\t\tAC:0.535\n",
      "Epoch 2 (33.0 sec): \t\tVL:0.605\t\tAC:0.577\n",
      "Epoch 3 (36.0 sec): \t\tVL:0.583\t\tAC:0.594\n",
      "Epoch 4 (32.6 sec): \t\tVL:0.555\t\tAC:0.624\n",
      "Epoch 5 (33.1 sec): \t\tVL:0.518\t\tAC:0.674\n",
      "Epoch 6 (33.7 sec): \t\tVL:0.488\t\tAC:0.714\n",
      "Epoch 7 (32.6 sec): \t\tVL:0.474\t\tAC:0.732\n",
      "Epoch 8 (33.0 sec): \t\tVL:0.453\t\tAC:0.762\n",
      "Epoch 9 (34.1 sec): \t\tVL:0.431\t\tAC:0.779\n",
      "Epoch 10 (33.3 sec): \t\tVL:0.408\t\tAC:0.799\n",
      "Epoch 11 (33.8 sec): \t\tVL:0.399\t\tAC:0.811\n",
      "Epoch 12 (33.7 sec): \t\tVL:0.389\t\tAC:0.830\n",
      "Epoch 13 (33.1 sec): \t\tVL:0.374\t\tAC:0.842\n",
      "Epoch 14 (33.4 sec): \t\tVL:0.366\t\tAC:0.852\n",
      "Epoch 15 (33.7 sec): \t\tVL:0.357\t\tAC:0.858\n",
      "Epoch 16 (33.8 sec): \t\tVL:0.353\t\tAC:0.863\n",
      "Epoch 17 (33.2 sec): \t\tVL:0.344\t\tAC:0.870\n",
      "Epoch 18 (34.1 sec): \t\tVL:0.337\t\tAC:0.877\n",
      "Epoch 19 (3.81e+04 sec): \t\tVL:0.328\t\tAC:0.886\n",
      "Epoch 20 (6.24e+02 sec): \t\tVL:0.319\t\tAC:0.895\n",
      "Epoch 21 (38.3 sec): \t\tVL:0.308\t\tAC:0.903\n",
      "Epoch 22 (37.5 sec): \t\tVL:0.300\t\tAC:0.912\n",
      "Epoch 23 (37.0 sec): \t\tVL:0.294\t\tAC:0.916\n",
      "Epoch 24 (35.9 sec): \t\tVL:0.288\t\tAC:0.924\n",
      "Epoch 25 (35.8 sec): \t\tVL:0.280\t\tAC:0.933\n",
      "Epoch 26 (35.5 sec): \t\tVL:0.277\t\tAC:0.930\n",
      "Epoch 27 (35.7 sec): \t\tVL:0.273\t\tAC:0.938\n",
      "Epoch 28 (35.8 sec): \t\tVL:0.267\t\tAC:0.944\n",
      "Epoch 29 (35.7 sec): \t\tVL:0.264\t\tAC:0.946\n",
      "Epoch 30 (35.6 sec): \t\tVL:0.263\t\tAC:0.946\n",
      "Epoch 31 (34.9 sec): \t\tVL:0.258\t\tAC:0.953\n",
      "Epoch 32 (35.4 sec): \t\tVL:0.255\t\tAC:0.954\n",
      "Epoch 33 (35.7 sec): \t\tVL:0.253\t\tAC:0.957\n",
      "Epoch 34 (35.8 sec): \t\tVL:0.247\t\tAC:0.960\n",
      "Epoch 35 (35.6 sec): \t\tVL:0.245\t\tAC:0.965\n",
      "Epoch 36 (35.5 sec): \t\tVL:0.248\t\tAC:0.958\n",
      "Epoch 37 (35.8 sec): \t\tVL:0.247\t\tAC:0.962\n",
      "Epoch 38 (35.7 sec): \t\tVL:0.240\t\tAC:0.966\n",
      "Epoch 39 (35.7 sec): \t\tVL:0.237\t\tAC:0.966\n",
      "Epoch 40 (35.4 sec): \t\tVL:0.240\t\tAC:0.970\n",
      "Epoch 41 (36.0 sec): \t\tVL:0.237\t\tAC:0.967\n",
      "Epoch 42 (36.7 sec): \t\tVL:0.234\t\tAC:0.971\n",
      "Epoch 43 (36.4 sec): \t\tVL:0.237\t\tAC:0.966\n",
      "Epoch 44 (36.6 sec): \t\tVL:0.232\t\tAC:0.972\n",
      "Epoch 45 (36.3 sec): \t\tVL:0.231\t\tAC:0.974\n",
      "Epoch 46 (36.1 sec): \t\tVL:0.230\t\tAC:0.971\n",
      "Epoch 47 (36.4 sec): \t\tVL:0.230\t\tAC:0.973\n",
      "Epoch 48 (36.1 sec): \t\tVL:0.230\t\tAC:0.973\n",
      "Epoch 49 (36.2 sec): \t\tVL:0.225\t\tAC:0.975\n",
      "Epoch 50 (36.1 sec): \t\tVL:0.225\t\tAC:0.975\n",
      "Epoch 51 (35.9 sec): \t\tVL:0.224\t\tAC:0.977\n",
      "Epoch 52 (36.4 sec): \t\tVL:0.222\t\tAC:0.979\n",
      "Epoch 53 (37.8 sec): \t\tVL:0.222\t\tAC:0.976\n"
     ]
    },
    {
     "ename": "KeyboardInterrupt",
     "evalue": "",
     "output_type": "error",
     "traceback": [
      "\u001b[1;31m---------------------------------------------------------------------------\u001b[0m",
      "\u001b[1;31mKeyboardInterrupt\u001b[0m                         Traceback (most recent call last)",
      "\u001b[1;32m<ipython-input-88-89ca33d7b8ac>\u001b[0m in \u001b[0;36m<module>\u001b[1;34m()\u001b[0m\n\u001b[0;32m     19\u001b[0m             \u001b[1;31m#t0 = time.perf_counter()\u001b[0m\u001b[1;33m\u001b[0m\u001b[1;33m\u001b[0m\u001b[0m\n\u001b[0;32m     20\u001b[0m             \u001b[1;32mfor\u001b[0m \u001b[0mj\u001b[0m \u001b[1;32min\u001b[0m \u001b[0mrange\u001b[0m\u001b[1;33m(\u001b[0m\u001b[0mnum_steps\u001b[0m\u001b[1;33m)\u001b[0m\u001b[1;33m:\u001b[0m\u001b[1;33m\u001b[0m\u001b[0m\n\u001b[1;32m---> 21\u001b[1;33m                 \u001b[0mtfTrain\u001b[0m\u001b[1;33m.\u001b[0m\u001b[0mrun\u001b[0m\u001b[1;33m(\u001b[0m\u001b[0mfeed_dict\u001b[0m\u001b[1;33m=\u001b[0m\u001b[0mtrain_batch\u001b[0m\u001b[1;33m)\u001b[0m\u001b[1;33m\u001b[0m\u001b[0m\n\u001b[0m\u001b[0;32m     22\u001b[0m             \u001b[1;31m#t1 = time.perf_counter()\u001b[0m\u001b[1;33m\u001b[0m\u001b[1;33m\u001b[0m\u001b[0m\n\u001b[0;32m     23\u001b[0m             \u001b[1;31m#l1 = tfLoss.eval(feed_dict=train_batch)\u001b[0m\u001b[1;33m\u001b[0m\u001b[1;33m\u001b[0m\u001b[0m\n",
      "\u001b[1;32mC:\\Anaconda3\\lib\\site-packages\\tensorflow\\python\\framework\\ops.py\u001b[0m in \u001b[0;36mrun\u001b[1;34m(self, feed_dict, session)\u001b[0m\n\u001b[0;32m   1704\u001b[0m         \u001b[0mnone\u001b[0m\u001b[1;33m,\u001b[0m \u001b[0mthe\u001b[0m \u001b[0mdefault\u001b[0m \u001b[0msession\u001b[0m \u001b[0mwill\u001b[0m \u001b[0mbe\u001b[0m \u001b[0mused\u001b[0m\u001b[1;33m.\u001b[0m\u001b[1;33m\u001b[0m\u001b[0m\n\u001b[0;32m   1705\u001b[0m     \"\"\"\n\u001b[1;32m-> 1706\u001b[1;33m     \u001b[0m_run_using_default_session\u001b[0m\u001b[1;33m(\u001b[0m\u001b[0mself\u001b[0m\u001b[1;33m,\u001b[0m \u001b[0mfeed_dict\u001b[0m\u001b[1;33m,\u001b[0m \u001b[0mself\u001b[0m\u001b[1;33m.\u001b[0m\u001b[0mgraph\u001b[0m\u001b[1;33m,\u001b[0m \u001b[0msession\u001b[0m\u001b[1;33m)\u001b[0m\u001b[1;33m\u001b[0m\u001b[0m\n\u001b[0m\u001b[0;32m   1707\u001b[0m \u001b[1;33m\u001b[0m\u001b[0m\n\u001b[0;32m   1708\u001b[0m \u001b[1;33m\u001b[0m\u001b[0m\n",
      "\u001b[1;32mC:\\Anaconda3\\lib\\site-packages\\tensorflow\\python\\framework\\ops.py\u001b[0m in \u001b[0;36m_run_using_default_session\u001b[1;34m(operation, feed_dict, graph, session)\u001b[0m\n\u001b[0;32m   3961\u001b[0m                        \u001b[1;34m\"the operation's graph is different from the session's \"\u001b[0m\u001b[1;33m\u001b[0m\u001b[0m\n\u001b[0;32m   3962\u001b[0m                        \"graph.\")\n\u001b[1;32m-> 3963\u001b[1;33m   \u001b[0msession\u001b[0m\u001b[1;33m.\u001b[0m\u001b[0mrun\u001b[0m\u001b[1;33m(\u001b[0m\u001b[0moperation\u001b[0m\u001b[1;33m,\u001b[0m \u001b[0mfeed_dict\u001b[0m\u001b[1;33m)\u001b[0m\u001b[1;33m\u001b[0m\u001b[0m\n\u001b[0m\u001b[0;32m   3964\u001b[0m \u001b[1;33m\u001b[0m\u001b[0m\n\u001b[0;32m   3965\u001b[0m \u001b[1;33m\u001b[0m\u001b[0m\n",
      "\u001b[1;32mC:\\Anaconda3\\lib\\site-packages\\tensorflow\\python\\client\\session.py\u001b[0m in \u001b[0;36mrun\u001b[1;34m(self, fetches, feed_dict, options, run_metadata)\u001b[0m\n\u001b[0;32m    787\u001b[0m     \u001b[1;32mtry\u001b[0m\u001b[1;33m:\u001b[0m\u001b[1;33m\u001b[0m\u001b[0m\n\u001b[0;32m    788\u001b[0m       result = self._run(None, fetches, feed_dict, options_ptr,\n\u001b[1;32m--> 789\u001b[1;33m                          run_metadata_ptr)\n\u001b[0m\u001b[0;32m    790\u001b[0m       \u001b[1;32mif\u001b[0m \u001b[0mrun_metadata\u001b[0m\u001b[1;33m:\u001b[0m\u001b[1;33m\u001b[0m\u001b[0m\n\u001b[0;32m    791\u001b[0m         \u001b[0mproto_data\u001b[0m \u001b[1;33m=\u001b[0m \u001b[0mtf_session\u001b[0m\u001b[1;33m.\u001b[0m\u001b[0mTF_GetBuffer\u001b[0m\u001b[1;33m(\u001b[0m\u001b[0mrun_metadata_ptr\u001b[0m\u001b[1;33m)\u001b[0m\u001b[1;33m\u001b[0m\u001b[0m\n",
      "\u001b[1;32mC:\\Anaconda3\\lib\\site-packages\\tensorflow\\python\\client\\session.py\u001b[0m in \u001b[0;36m_run\u001b[1;34m(self, handle, fetches, feed_dict, options, run_metadata)\u001b[0m\n\u001b[0;32m    995\u001b[0m     \u001b[1;32mif\u001b[0m \u001b[0mfinal_fetches\u001b[0m \u001b[1;32mor\u001b[0m \u001b[0mfinal_targets\u001b[0m\u001b[1;33m:\u001b[0m\u001b[1;33m\u001b[0m\u001b[0m\n\u001b[0;32m    996\u001b[0m       results = self._do_run(handle, final_targets, final_fetches,\n\u001b[1;32m--> 997\u001b[1;33m                              feed_dict_string, options, run_metadata)\n\u001b[0m\u001b[0;32m    998\u001b[0m     \u001b[1;32melse\u001b[0m\u001b[1;33m:\u001b[0m\u001b[1;33m\u001b[0m\u001b[0m\n\u001b[0;32m    999\u001b[0m       \u001b[0mresults\u001b[0m \u001b[1;33m=\u001b[0m \u001b[1;33m[\u001b[0m\u001b[1;33m]\u001b[0m\u001b[1;33m\u001b[0m\u001b[0m\n",
      "\u001b[1;32mC:\\Anaconda3\\lib\\site-packages\\tensorflow\\python\\client\\session.py\u001b[0m in \u001b[0;36m_do_run\u001b[1;34m(self, handle, target_list, fetch_list, feed_dict, options, run_metadata)\u001b[0m\n\u001b[0;32m   1130\u001b[0m     \u001b[1;32mif\u001b[0m \u001b[0mhandle\u001b[0m \u001b[1;32mis\u001b[0m \u001b[1;32mNone\u001b[0m\u001b[1;33m:\u001b[0m\u001b[1;33m\u001b[0m\u001b[0m\n\u001b[0;32m   1131\u001b[0m       return self._do_call(_run_fn, self._session, feed_dict, fetch_list,\n\u001b[1;32m-> 1132\u001b[1;33m                            target_list, options, run_metadata)\n\u001b[0m\u001b[0;32m   1133\u001b[0m     \u001b[1;32melse\u001b[0m\u001b[1;33m:\u001b[0m\u001b[1;33m\u001b[0m\u001b[0m\n\u001b[0;32m   1134\u001b[0m       return self._do_call(_prun_fn, self._session, handle, feed_dict,\n",
      "\u001b[1;32mC:\\Anaconda3\\lib\\site-packages\\tensorflow\\python\\client\\session.py\u001b[0m in \u001b[0;36m_do_call\u001b[1;34m(self, fn, *args)\u001b[0m\n\u001b[0;32m   1137\u001b[0m   \u001b[1;32mdef\u001b[0m \u001b[0m_do_call\u001b[0m\u001b[1;33m(\u001b[0m\u001b[0mself\u001b[0m\u001b[1;33m,\u001b[0m \u001b[0mfn\u001b[0m\u001b[1;33m,\u001b[0m \u001b[1;33m*\u001b[0m\u001b[0margs\u001b[0m\u001b[1;33m)\u001b[0m\u001b[1;33m:\u001b[0m\u001b[1;33m\u001b[0m\u001b[0m\n\u001b[0;32m   1138\u001b[0m     \u001b[1;32mtry\u001b[0m\u001b[1;33m:\u001b[0m\u001b[1;33m\u001b[0m\u001b[0m\n\u001b[1;32m-> 1139\u001b[1;33m       \u001b[1;32mreturn\u001b[0m \u001b[0mfn\u001b[0m\u001b[1;33m(\u001b[0m\u001b[1;33m*\u001b[0m\u001b[0margs\u001b[0m\u001b[1;33m)\u001b[0m\u001b[1;33m\u001b[0m\u001b[0m\n\u001b[0m\u001b[0;32m   1140\u001b[0m     \u001b[1;32mexcept\u001b[0m \u001b[0merrors\u001b[0m\u001b[1;33m.\u001b[0m\u001b[0mOpError\u001b[0m \u001b[1;32mas\u001b[0m \u001b[0me\u001b[0m\u001b[1;33m:\u001b[0m\u001b[1;33m\u001b[0m\u001b[0m\n\u001b[0;32m   1141\u001b[0m       \u001b[0mmessage\u001b[0m \u001b[1;33m=\u001b[0m \u001b[0mcompat\u001b[0m\u001b[1;33m.\u001b[0m\u001b[0mas_text\u001b[0m\u001b[1;33m(\u001b[0m\u001b[0me\u001b[0m\u001b[1;33m.\u001b[0m\u001b[0mmessage\u001b[0m\u001b[1;33m)\u001b[0m\u001b[1;33m\u001b[0m\u001b[0m\n",
      "\u001b[1;32mC:\\Anaconda3\\lib\\site-packages\\tensorflow\\python\\client\\session.py\u001b[0m in \u001b[0;36m_run_fn\u001b[1;34m(session, feed_dict, fetch_list, target_list, options, run_metadata)\u001b[0m\n\u001b[0;32m   1119\u001b[0m         return tf_session.TF_Run(session, options,\n\u001b[0;32m   1120\u001b[0m                                  \u001b[0mfeed_dict\u001b[0m\u001b[1;33m,\u001b[0m \u001b[0mfetch_list\u001b[0m\u001b[1;33m,\u001b[0m \u001b[0mtarget_list\u001b[0m\u001b[1;33m,\u001b[0m\u001b[1;33m\u001b[0m\u001b[0m\n\u001b[1;32m-> 1121\u001b[1;33m                                  status, run_metadata)\n\u001b[0m\u001b[0;32m   1122\u001b[0m \u001b[1;33m\u001b[0m\u001b[0m\n\u001b[0;32m   1123\u001b[0m     \u001b[1;32mdef\u001b[0m \u001b[0m_prun_fn\u001b[0m\u001b[1;33m(\u001b[0m\u001b[0msession\u001b[0m\u001b[1;33m,\u001b[0m \u001b[0mhandle\u001b[0m\u001b[1;33m,\u001b[0m \u001b[0mfeed_dict\u001b[0m\u001b[1;33m,\u001b[0m \u001b[0mfetch_list\u001b[0m\u001b[1;33m)\u001b[0m\u001b[1;33m:\u001b[0m\u001b[1;33m\u001b[0m\u001b[0m\n",
      "\u001b[1;31mKeyboardInterrupt\u001b[0m: "
     ]
    }
   ],
   "source": [
    "dt_now = datetime.datetime.now().strftime(\"%Y-%m-%d_%H%M%S\")\n",
    "#tffw = tf.summary.FileWriter('D:/Jupyter/Logs/12RNN07-{0}'.format(dt_now), tf.get_default_graph())\n",
    "\n",
    "batch_size = 1000\n",
    "num_steps  = 10\n",
    "num_epochs = 100\n",
    "checkpoints = 500\n",
    "\n",
    "fmtstr = 'Epoch {0} ({1:1.3} sec): \\t\\tVL:{2:1.3f}\\t\\tAC:{3:1.3f}'\n",
    "valid_batch = {tfi_x: valid_x, tfi_y: valid_y}\n",
    "with tf.Session() as tfs:\n",
    "    tfs.run(tf.global_variables_initializer())\n",
    "    for i in range(num_epochs):\n",
    "        te0 = time.perf_counter()\n",
    "        for (mini_x, mini_y) in shuffleBatches((train_x, train_y), batchSize=batch_size):\n",
    "            train_batch = {tfi_x:mini_x, tfi_y:mini_y}\n",
    "            \n",
    "            #l0 = tfLoss.eval(feed_dict=train_batch)\n",
    "            #t0 = time.perf_counter()\n",
    "            for j in range(num_steps):\n",
    "                tfTrain.run(feed_dict=train_batch)\n",
    "            #t1 = time.perf_counter()\n",
    "            #l1 = tfLoss.eval(feed_dict=train_batch)\n",
    "    \n",
    "        te1 = time.perf_counter()\n",
    "        [lv,ac,summary] = tfs.run([tfLoss, tfAccuracy, tfsAll], feed_dict=valid_batch)\n",
    "            #tffw.add_summary(summary, i)\n",
    "            #if i%checkpoints == 0 and i > 0:\n",
    "            #    p = tfsSaver.save(tfs, 'D:/Jupyter/mltest/Models-12RNN07/model-{0:04d}.ckpt'.format(i))\n",
    "            #    print('Model saved at checkpoint: {0}'.format(p))\n",
    "                             \n",
    "        print(fmtstr.format(i,te1-te0,lv,ac))\n",
    "    valid_r = tfs.run(tfOutR, feed_dict=valid_batch)"
   ]
  },
  {
   "cell_type": "code",
   "execution_count": null,
   "metadata": {
    "collapsed": true
   },
   "outputs": [],
   "source": [
    "#10 gru, 15 epoch: 0.464, 0.748\n",
    "#20 gru, 10 epoch: 0.431, 0.779\n",
    "#        15 epoch: 0.366, 0.852\n",
    "#        50 epoch: 0.225, 0.975"
   ]
  }
 ],
 "metadata": {
  "kernelspec": {
   "display_name": "Python 3",
   "language": "python",
   "name": "python3"
  },
  "language_info": {
   "codemirror_mode": {
    "name": "ipython",
    "version": 3
   },
   "file_extension": ".py",
   "mimetype": "text/x-python",
   "name": "python",
   "nbconvert_exporter": "python",
   "pygments_lexer": "ipython3",
   "version": "3.6.1"
  }
 },
 "nbformat": 4,
 "nbformat_minor": 2
}
