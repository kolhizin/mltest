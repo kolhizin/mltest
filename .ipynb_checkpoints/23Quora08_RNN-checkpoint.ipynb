{
 "cells": [
  {
   "cell_type": "code",
   "execution_count": 1,
   "metadata": {
    "collapsed": true
   },
   "outputs": [],
   "source": [
    "import numpy as np\n",
    "import pandas as pd\n",
    "import tensorflow as tf\n",
    "import modutils\n",
    "import pickle\n",
    "import time\n",
    "import sklearn, sklearn.metrics\n",
    "\n",
    "w2v_size = 9000\n",
    "w2v_file = '../DataSets/Quora/w2v_res_180119.pickle'\n",
    "train_file = '../DataSets/Quora/train.csv'"
   ]
  },
  {
   "cell_type": "code",
   "execution_count": 2,
   "metadata": {},
   "outputs": [
    {
     "name": "stdout",
     "output_type": "stream",
     "text": [
      "242506\n",
      "Wall time: 3.75 s\n"
     ]
    }
   ],
   "source": [
    "%%time\n",
    "with open(w2v_file, 'rb') as f:\n",
    "    (full_dict, full_sentences, full_w2v) = pickle.load(f)\n",
    "    \n",
    "full_seqs = list(zip(full_sentences[:(len(full_sentences)//2)], full_sentences[(len(full_sentences)//2):]))\n",
    "    \n",
    "full_data = pd.read_csv(train_file)\n",
    "print(len(full_data))"
   ]
  },
  {
   "cell_type": "code",
   "execution_count": 3,
   "metadata": {
    "collapsed": true
   },
   "outputs": [],
   "source": [
    "def create_seq_raw(sentence, w2v_dict, length):\n",
    "    res = [w2v_dict[x] for x in sentence if x + 1 < len(w2v_dict)]\n",
    "    return np.array(res[:length] + [np.zeros_like(w2v_dict[0])] * max(0, length - len(res)))\n",
    "\n",
    "def create_seq(sentence, dict_size, length):\n",
    "    res = [x + 1 for x in sentence if x + 1 < dict_size]\n",
    "    return np.array(res[:length] + [0] * max(0, length - len(res)))"
   ]
  },
  {
   "cell_type": "code",
   "execution_count": 4,
   "metadata": {
    "collapsed": true
   },
   "outputs": [],
   "source": [
    "lens = np.array([len([z for z in x if z < len(full_w2v)]) for x in full_sentences])"
   ]
  },
  {
   "cell_type": "code",
   "execution_count": 5,
   "metadata": {},
   "outputs": [
    {
     "data": {
      "text/plain": [
       "array([ 10.,  14.,  19.,  24.,  33.])"
      ]
     },
     "execution_count": 5,
     "metadata": {},
     "output_type": "execute_result"
    }
   ],
   "source": [
    "np.percentile(lens, [50, 75, 90, 95, 99])"
   ]
  },
  {
   "cell_type": "code",
   "execution_count": 12,
   "metadata": {
    "collapsed": true
   },
   "outputs": [],
   "source": [
    "p_SeqLen = 25"
   ]
  },
  {
   "cell_type": "code",
   "execution_count": 13,
   "metadata": {},
   "outputs": [
    {
     "name": "stdout",
     "output_type": "stream",
     "text": [
      "Wall time: 3.57 s\n"
     ]
    }
   ],
   "source": [
    "%%time\n",
    "data_x1 = np.array([create_seq(x[0], len(full_w2v), p_SeqLen) for x in full_seqs])\n",
    "data_x2 = np.array([create_seq(x[1], len(full_w2v), p_SeqLen) for x in full_seqs])\n",
    "\n",
    "real_embedinng = np.vstack([np.zeros_like(full_w2v[0]), full_w2v])"
   ]
  },
  {
   "cell_type": "code",
   "execution_count": 14,
   "metadata": {
    "collapsed": true
   },
   "outputs": [],
   "source": [
    "data_y = full_data.is_duplicate.values"
   ]
  },
  {
   "cell_type": "code",
   "execution_count": 15,
   "metadata": {
    "collapsed": true
   },
   "outputs": [],
   "source": [
    "(train_x1, train_x2, train_y), (valid_x1, valid_x2, valid_y) = modutils.splitSample((data_x1, data_x2, data_y), pcts=[0.7,0.3])"
   ]
  },
  {
   "cell_type": "code",
   "execution_count": 24,
   "metadata": {},
   "outputs": [
    {
     "name": "stdout",
     "output_type": "stream",
     "text": [
      "Graph creation complete.\n"
     ]
    }
   ],
   "source": [
    "#p_RNN_SIZE = [full_w2v.shape[1]]\n",
    "p_RNN_SIZE = [60]\n",
    "p_HID_SIZE = [20]\n",
    "\n",
    "EncoderCell = lambda n: tf.nn.rnn_cell.DropoutWrapper(tf.nn.rnn_cell.GRUCell(num_units=n, activation=tf.nn.elu),\n",
    "                                                      output_keep_prob=0.5)\n",
    "    \n",
    "tf.reset_default_graph()\n",
    "\n",
    "with tf.name_scope('Input'):\n",
    "    tf_embedding = tf.constant(real_embedinng)\n",
    "    tf_in_x1 = tf.placeholder(tf.int32, shape=(None, p_SeqLen))\n",
    "    tf_in_x2 = tf.placeholder(tf.int32, shape=(None, p_SeqLen))\n",
    "    tf_in_x1r = tf.nn.embedding_lookup(tf_embedding, tf_in_x1)\n",
    "    tf_in_x2r = tf.nn.embedding_lookup(tf_embedding, tf_in_x2)\n",
    "    tf_in_y = tf.placeholder(tf.int32, shape=(None))\n",
    "    \n",
    "    tf_full_x = tf.concat([tf_in_x1r, tf_in_x2r], axis=0)\n",
    "\n",
    "with tf.name_scope('RNN'):\n",
    "    rnnEncoderCell = tf.nn.rnn_cell.MultiRNNCell([EncoderCell(s) for s in p_RNN_SIZE], state_is_tuple=True)\n",
    "    \n",
    "    _, tf_FinState0 = tf.nn.dynamic_rnn(rnnEncoderCell, inputs=tf_full_x, dtype=tf.float32, time_major=False)\n",
    "    tf_FinState = tf_FinState0[-1] #get latest layer in RNN\n",
    "\n",
    "with tf.name_scope('FC'):\n",
    "    tf_FinState1, tf_FinState2 = tf.split(tf_FinState, 2)\n",
    "    tf_FinStateC = tf.concat([0.5*(tf_FinState1+tf_FinState2),\n",
    "                              tf_FinState1*tf_FinState2,\n",
    "                              tf.squared_difference(tf_FinState1, tf_FinState2)], axis=1)\n",
    "    tf_hid_input = tf_FinStateC\n",
    "    for sz in p_HID_SIZE:\n",
    "        tf_hid_input = tf.layers.dense(tf.layers.dropout(tf_hid_input), sz, activation=tf.nn.elu)\n",
    "    tf_logit = tf.layers.dense(tf_hid_input, 2)\n",
    "    \n",
    "with tf.name_scope('Output'):\n",
    "    tf_loss = tf.reduce_mean(tf.nn.sparse_softmax_cross_entropy_with_logits(labels=tf_in_y, logits=tf_logit))\n",
    "    tf_train = tf.train.AdamOptimizer(1e-2).minimize(tf_loss)\n",
    "\n",
    "    tf_prob = tf.nn.softmax(tf_logit)\n",
    "    \n",
    "tffw = tf.summary.FileWriter('D:/Jupyter/Logs/00_A', tf.get_default_graph())\n",
    "    \n",
    "print('Graph creation complete.')"
   ]
  },
  {
   "cell_type": "code",
   "execution_count": 29,
   "metadata": {},
   "outputs": [
    {
     "name": "stdout",
     "output_type": "stream",
     "text": [
      "0.503 -> 0.492\t1.49 sec\n",
      "Model saved at checkpoint: ../Models/23Quora08RNN_v1/model-00.ckpt\n",
      "Epoch 0: 0.697 -> 0.524 in 248.01 sec, gini=0.592, accur=0.732\n",
      "0.467 -> 0.458\t1.56 sec\n",
      "Model saved at checkpoint: ../Models/23Quora08RNN_v1/model-01.ckpt\n",
      "Epoch 1: 0.524 -> 0.476 in 253.23 sec, gini=0.675, accur=0.766\n",
      "0.443 -> 0.429\t1.55 sec\n",
      "Model saved at checkpoint: ../Models/23Quora08RNN_v1/model-02.ckpt\n",
      "Epoch 2: 0.476 -> 0.447 in 256.84 sec, gini=0.719, accur=0.784\n",
      "0.420 -> 0.411\t1.54 sec\n",
      "Model saved at checkpoint: ../Models/23Quora08RNN_v1/model-03.ckpt\n",
      "Epoch 3: 0.447 -> 0.434 in 260.19 sec, gini=0.737, accur=0.792\n",
      "0.409 -> 0.398\t1.45 sec\n",
      "Model saved at checkpoint: ../Models/23Quora08RNN_v1/model-04.ckpt\n",
      "Epoch 4: 0.434 -> 0.422 in 255.21 sec, gini=0.754, accur=0.798\n",
      "0.408 -> 0.392\t1.56 sec\n",
      "Model saved at checkpoint: ../Models/23Quora08RNN_v1/model-05.ckpt\n",
      "Epoch 5: 0.422 -> 0.416 in 254.15 sec, gini=0.762, accur=0.804\n",
      "0.353 -> 0.336\t1.48 sec\n",
      "Model saved at checkpoint: ../Models/23Quora08RNN_v1/model-06.ckpt\n",
      "Epoch 6: 0.416 -> 0.410 in 247.02 sec, gini=0.772, accur=0.806\n",
      "0.370 -> 0.360\t1.48 sec\n",
      "Model saved at checkpoint: ../Models/23Quora08RNN_v1/model-07.ckpt\n",
      "Epoch 7: 0.410 -> 0.414 in 248.00 sec, gini=0.766, accur=0.805\n",
      "0.364 -> 0.350\t2.37 sec\r"
     ]
    },
    {
     "ename": "KeyboardInterrupt",
     "evalue": "",
     "output_type": "error",
     "traceback": [
      "\u001b[1;31m---------------------------------------------------------------------------\u001b[0m",
      "\u001b[1;31mKeyboardInterrupt\u001b[0m                         Traceback (most recent call last)",
      "\u001b[1;32m<ipython-input-29-1c9f77e16de3>\u001b[0m in \u001b[0;36m<module>\u001b[1;34m()\u001b[0m\n\u001b[0;32m     16\u001b[0m             \u001b[0mtl0\u001b[0m \u001b[1;33m=\u001b[0m \u001b[0mtf_loss\u001b[0m\u001b[1;33m.\u001b[0m\u001b[0meval\u001b[0m\u001b[1;33m(\u001b[0m\u001b[0mfeed_dict\u001b[0m\u001b[1;33m=\u001b[0m\u001b[0mtrain_dict\u001b[0m\u001b[1;33m)\u001b[0m\u001b[1;33m\u001b[0m\u001b[0m\n\u001b[0;32m     17\u001b[0m             \u001b[1;32mfor\u001b[0m \u001b[0mi\u001b[0m \u001b[1;32min\u001b[0m \u001b[0mrange\u001b[0m\u001b[1;33m(\u001b[0m\u001b[0mnum_steps\u001b[0m\u001b[1;33m)\u001b[0m\u001b[1;33m:\u001b[0m\u001b[1;33m\u001b[0m\u001b[0m\n\u001b[1;32m---> 18\u001b[1;33m                 \u001b[0mtf_train\u001b[0m\u001b[1;33m.\u001b[0m\u001b[0mrun\u001b[0m\u001b[1;33m(\u001b[0m\u001b[0mfeed_dict\u001b[0m\u001b[1;33m=\u001b[0m\u001b[0mtrain_dict\u001b[0m\u001b[1;33m)\u001b[0m\u001b[1;33m\u001b[0m\u001b[0m\n\u001b[0m\u001b[0;32m     19\u001b[0m             \u001b[0mtl1\u001b[0m \u001b[1;33m=\u001b[0m \u001b[0mtf_loss\u001b[0m\u001b[1;33m.\u001b[0m\u001b[0meval\u001b[0m\u001b[1;33m(\u001b[0m\u001b[0mfeed_dict\u001b[0m\u001b[1;33m=\u001b[0m\u001b[0mtrain_dict\u001b[0m\u001b[1;33m)\u001b[0m\u001b[1;33m\u001b[0m\u001b[0m\n\u001b[0;32m     20\u001b[0m             \u001b[0mtt1\u001b[0m \u001b[1;33m=\u001b[0m \u001b[0mtime\u001b[0m\u001b[1;33m.\u001b[0m\u001b[0mperf_counter\u001b[0m\u001b[1;33m(\u001b[0m\u001b[1;33m)\u001b[0m\u001b[1;33m\u001b[0m\u001b[0m\n",
      "\u001b[1;32mC:\\Anaconda3\\envs\\pytf\\lib\\site-packages\\tensorflow\\python\\framework\\ops.py\u001b[0m in \u001b[0;36mrun\u001b[1;34m(self, feed_dict, session)\u001b[0m\n\u001b[0;32m   1704\u001b[0m         \u001b[0mnone\u001b[0m\u001b[1;33m,\u001b[0m \u001b[0mthe\u001b[0m \u001b[0mdefault\u001b[0m \u001b[0msession\u001b[0m \u001b[0mwill\u001b[0m \u001b[0mbe\u001b[0m \u001b[0mused\u001b[0m\u001b[1;33m.\u001b[0m\u001b[1;33m\u001b[0m\u001b[0m\n\u001b[0;32m   1705\u001b[0m     \"\"\"\n\u001b[1;32m-> 1706\u001b[1;33m     \u001b[0m_run_using_default_session\u001b[0m\u001b[1;33m(\u001b[0m\u001b[0mself\u001b[0m\u001b[1;33m,\u001b[0m \u001b[0mfeed_dict\u001b[0m\u001b[1;33m,\u001b[0m \u001b[0mself\u001b[0m\u001b[1;33m.\u001b[0m\u001b[0mgraph\u001b[0m\u001b[1;33m,\u001b[0m \u001b[0msession\u001b[0m\u001b[1;33m)\u001b[0m\u001b[1;33m\u001b[0m\u001b[0m\n\u001b[0m\u001b[0;32m   1707\u001b[0m \u001b[1;33m\u001b[0m\u001b[0m\n\u001b[0;32m   1708\u001b[0m \u001b[1;33m\u001b[0m\u001b[0m\n",
      "\u001b[1;32mC:\\Anaconda3\\envs\\pytf\\lib\\site-packages\\tensorflow\\python\\framework\\ops.py\u001b[0m in \u001b[0;36m_run_using_default_session\u001b[1;34m(operation, feed_dict, graph, session)\u001b[0m\n\u001b[0;32m   3961\u001b[0m                        \u001b[1;34m\"the operation's graph is different from the session's \"\u001b[0m\u001b[1;33m\u001b[0m\u001b[0m\n\u001b[0;32m   3962\u001b[0m                        \"graph.\")\n\u001b[1;32m-> 3963\u001b[1;33m   \u001b[0msession\u001b[0m\u001b[1;33m.\u001b[0m\u001b[0mrun\u001b[0m\u001b[1;33m(\u001b[0m\u001b[0moperation\u001b[0m\u001b[1;33m,\u001b[0m \u001b[0mfeed_dict\u001b[0m\u001b[1;33m)\u001b[0m\u001b[1;33m\u001b[0m\u001b[0m\n\u001b[0m\u001b[0;32m   3964\u001b[0m \u001b[1;33m\u001b[0m\u001b[0m\n\u001b[0;32m   3965\u001b[0m \u001b[1;33m\u001b[0m\u001b[0m\n",
      "\u001b[1;32mC:\\Anaconda3\\envs\\pytf\\lib\\site-packages\\tensorflow\\python\\client\\session.py\u001b[0m in \u001b[0;36mrun\u001b[1;34m(self, fetches, feed_dict, options, run_metadata)\u001b[0m\n\u001b[0;32m    787\u001b[0m     \u001b[1;32mtry\u001b[0m\u001b[1;33m:\u001b[0m\u001b[1;33m\u001b[0m\u001b[0m\n\u001b[0;32m    788\u001b[0m       result = self._run(None, fetches, feed_dict, options_ptr,\n\u001b[1;32m--> 789\u001b[1;33m                          run_metadata_ptr)\n\u001b[0m\u001b[0;32m    790\u001b[0m       \u001b[1;32mif\u001b[0m \u001b[0mrun_metadata\u001b[0m\u001b[1;33m:\u001b[0m\u001b[1;33m\u001b[0m\u001b[0m\n\u001b[0;32m    791\u001b[0m         \u001b[0mproto_data\u001b[0m \u001b[1;33m=\u001b[0m \u001b[0mtf_session\u001b[0m\u001b[1;33m.\u001b[0m\u001b[0mTF_GetBuffer\u001b[0m\u001b[1;33m(\u001b[0m\u001b[0mrun_metadata_ptr\u001b[0m\u001b[1;33m)\u001b[0m\u001b[1;33m\u001b[0m\u001b[0m\n",
      "\u001b[1;32mC:\\Anaconda3\\envs\\pytf\\lib\\site-packages\\tensorflow\\python\\client\\session.py\u001b[0m in \u001b[0;36m_run\u001b[1;34m(self, handle, fetches, feed_dict, options, run_metadata)\u001b[0m\n\u001b[0;32m    995\u001b[0m     \u001b[1;32mif\u001b[0m \u001b[0mfinal_fetches\u001b[0m \u001b[1;32mor\u001b[0m \u001b[0mfinal_targets\u001b[0m\u001b[1;33m:\u001b[0m\u001b[1;33m\u001b[0m\u001b[0m\n\u001b[0;32m    996\u001b[0m       results = self._do_run(handle, final_targets, final_fetches,\n\u001b[1;32m--> 997\u001b[1;33m                              feed_dict_string, options, run_metadata)\n\u001b[0m\u001b[0;32m    998\u001b[0m     \u001b[1;32melse\u001b[0m\u001b[1;33m:\u001b[0m\u001b[1;33m\u001b[0m\u001b[0m\n\u001b[0;32m    999\u001b[0m       \u001b[0mresults\u001b[0m \u001b[1;33m=\u001b[0m \u001b[1;33m[\u001b[0m\u001b[1;33m]\u001b[0m\u001b[1;33m\u001b[0m\u001b[0m\n",
      "\u001b[1;32mC:\\Anaconda3\\envs\\pytf\\lib\\site-packages\\tensorflow\\python\\client\\session.py\u001b[0m in \u001b[0;36m_do_run\u001b[1;34m(self, handle, target_list, fetch_list, feed_dict, options, run_metadata)\u001b[0m\n\u001b[0;32m   1130\u001b[0m     \u001b[1;32mif\u001b[0m \u001b[0mhandle\u001b[0m \u001b[1;32mis\u001b[0m \u001b[1;32mNone\u001b[0m\u001b[1;33m:\u001b[0m\u001b[1;33m\u001b[0m\u001b[0m\n\u001b[0;32m   1131\u001b[0m       return self._do_call(_run_fn, self._session, feed_dict, fetch_list,\n\u001b[1;32m-> 1132\u001b[1;33m                            target_list, options, run_metadata)\n\u001b[0m\u001b[0;32m   1133\u001b[0m     \u001b[1;32melse\u001b[0m\u001b[1;33m:\u001b[0m\u001b[1;33m\u001b[0m\u001b[0m\n\u001b[0;32m   1134\u001b[0m       return self._do_call(_prun_fn, self._session, handle, feed_dict,\n",
      "\u001b[1;32mC:\\Anaconda3\\envs\\pytf\\lib\\site-packages\\tensorflow\\python\\client\\session.py\u001b[0m in \u001b[0;36m_do_call\u001b[1;34m(self, fn, *args)\u001b[0m\n\u001b[0;32m   1137\u001b[0m   \u001b[1;32mdef\u001b[0m \u001b[0m_do_call\u001b[0m\u001b[1;33m(\u001b[0m\u001b[0mself\u001b[0m\u001b[1;33m,\u001b[0m \u001b[0mfn\u001b[0m\u001b[1;33m,\u001b[0m \u001b[1;33m*\u001b[0m\u001b[0margs\u001b[0m\u001b[1;33m)\u001b[0m\u001b[1;33m:\u001b[0m\u001b[1;33m\u001b[0m\u001b[0m\n\u001b[0;32m   1138\u001b[0m     \u001b[1;32mtry\u001b[0m\u001b[1;33m:\u001b[0m\u001b[1;33m\u001b[0m\u001b[0m\n\u001b[1;32m-> 1139\u001b[1;33m       \u001b[1;32mreturn\u001b[0m \u001b[0mfn\u001b[0m\u001b[1;33m(\u001b[0m\u001b[1;33m*\u001b[0m\u001b[0margs\u001b[0m\u001b[1;33m)\u001b[0m\u001b[1;33m\u001b[0m\u001b[0m\n\u001b[0m\u001b[0;32m   1140\u001b[0m     \u001b[1;32mexcept\u001b[0m \u001b[0merrors\u001b[0m\u001b[1;33m.\u001b[0m\u001b[0mOpError\u001b[0m \u001b[1;32mas\u001b[0m \u001b[0me\u001b[0m\u001b[1;33m:\u001b[0m\u001b[1;33m\u001b[0m\u001b[0m\n\u001b[0;32m   1141\u001b[0m       \u001b[0mmessage\u001b[0m \u001b[1;33m=\u001b[0m \u001b[0mcompat\u001b[0m\u001b[1;33m.\u001b[0m\u001b[0mas_text\u001b[0m\u001b[1;33m(\u001b[0m\u001b[0me\u001b[0m\u001b[1;33m.\u001b[0m\u001b[0mmessage\u001b[0m\u001b[1;33m)\u001b[0m\u001b[1;33m\u001b[0m\u001b[0m\n",
      "\u001b[1;32mC:\\Anaconda3\\envs\\pytf\\lib\\site-packages\\tensorflow\\python\\client\\session.py\u001b[0m in \u001b[0;36m_run_fn\u001b[1;34m(session, feed_dict, fetch_list, target_list, options, run_metadata)\u001b[0m\n\u001b[0;32m   1119\u001b[0m         return tf_session.TF_Run(session, options,\n\u001b[0;32m   1120\u001b[0m                                  \u001b[0mfeed_dict\u001b[0m\u001b[1;33m,\u001b[0m \u001b[0mfetch_list\u001b[0m\u001b[1;33m,\u001b[0m \u001b[0mtarget_list\u001b[0m\u001b[1;33m,\u001b[0m\u001b[1;33m\u001b[0m\u001b[0m\n\u001b[1;32m-> 1121\u001b[1;33m                                  status, run_metadata)\n\u001b[0m\u001b[0;32m   1122\u001b[0m \u001b[1;33m\u001b[0m\u001b[0m\n\u001b[0;32m   1123\u001b[0m     \u001b[1;32mdef\u001b[0m \u001b[0m_prun_fn\u001b[0m\u001b[1;33m(\u001b[0m\u001b[0msession\u001b[0m\u001b[1;33m,\u001b[0m \u001b[0mhandle\u001b[0m\u001b[1;33m,\u001b[0m \u001b[0mfeed_dict\u001b[0m\u001b[1;33m,\u001b[0m \u001b[0mfetch_list\u001b[0m\u001b[1;33m)\u001b[0m\u001b[1;33m:\u001b[0m\u001b[1;33m\u001b[0m\u001b[0m\n",
      "\u001b[1;31mKeyboardInterrupt\u001b[0m: "
     ]
    }
   ],
   "source": [
    "num_epochs = 50\n",
    "num_steps  = 2\n",
    "batch_size = 2048\n",
    "valid_dict = {tf_in_x1: valid_x1, tf_in_x2: valid_x2, tf_in_y: valid_y}\n",
    "\n",
    "tfsSaver = tf.train.Saver(max_to_keep=5)\n",
    "\n",
    "with tf.Session() as tfs:\n",
    "    tfs.run(tf.global_variables_initializer())\n",
    "    for n in range(num_epochs):\n",
    "        t0 = time.perf_counter()\n",
    "        l0 = tf_loss.eval(feed_dict=valid_dict)\n",
    "        for tX1, tX2, tY in modutils.shuffleBatches((train_x1, train_x2, train_y), batchSize=batch_size):\n",
    "            train_dict = {tf_in_x1: tX1, tf_in_x2: tX2, tf_in_y: tY}\n",
    "            tt0 = time.perf_counter()\n",
    "            tl0 = tf_loss.eval(feed_dict=train_dict)\n",
    "            for i in range(num_steps):\n",
    "                tf_train.run(feed_dict=train_dict)\n",
    "            tl1 = tf_loss.eval(feed_dict=train_dict)\n",
    "            tt1 = time.perf_counter()\n",
    "            print('{0:.3f} -> {1:.3f}\\t{2:.2f} sec'.format(tl0, tl1, tt1-tt0), end='\\r')\n",
    "\n",
    "        valid_p = tf_prob.eval(feed_dict=valid_dict)\n",
    "        gini = sklearn.metrics.roc_auc_score(valid_y, valid_p[:,1])*2-1\n",
    "        accur = sklearn.metrics.accuracy_score(valid_y, 1*(valid_p[:,1]>0.5))\n",
    "        l1 = tf_loss.eval(feed_dict=valid_dict)\n",
    "        t1 = time.perf_counter()\n",
    "        \n",
    "        p = tfsSaver.save(tfs, '../Models/23Quora08RNN_v1/model-{:02d}.ckpt'.format(n))\n",
    "        print('\\nModel saved at checkpoint: {0}'.format(p))        \n",
    "        print('Epoch {0}: {1:.3f} -> {2:.3f} in {3:.2f} sec, gini={4:.3f}, accur={5:.3f}'.format(n, l0, l1, t1-t0, gini, accur))\n",
    "print('\\nDone')"
   ]
  },
  {
   "cell_type": "code",
   "execution_count": null,
   "metadata": {
    "collapsed": true
   },
   "outputs": [],
   "source": [
    "#p_SeqLen = 15\n",
    "#p_RNN_SIZE = [10]\n",
    "#p_HID_SIZE = 10\n",
    "#on epoch 10 - gini 70, on epoch 28 gini 73.5\n",
    "\n",
    "#p_SeqLen = 15\n",
    "#p_RNN_SIZE = [20]\n",
    "#p_HID_SIZE = 20\n",
    "#on epoch 10 - gini 73, on epoch 28 gini 75\n",
    "\n",
    "#p_SeqLen = 20\n",
    "#p_RNN_SIZE = [20]\n",
    "#p_HID_SIZE = 20\n",
    "#on epoch 10 - gini 75, on epoch 28 gini 76\n",
    "\n",
    "#p_SeqLen = 20\n",
    "#p_RNN_SIZE = [60] with 0.5 dropout\n",
    "#p_HID_SIZE = 60\n",
    "#on epoch 10 - gini 78, on epoch 28 gini ??\n",
    "\n",
    "#p_SeqLen = 20\n",
    "#p_RNN_SIZE = [50, 50] with 0.5 dropout\n",
    "#p_HID_SIZE = 50\n",
    "#on epoch 10 - gini 76, on epoch 28 gini ??\n",
    "\n",
    "#p_SeqLen = 25\n",
    "#p_RNN_SIZE = [200] with 0.25 dropout\n",
    "#p_HID_SIZE = [100, 20] with 0.5 dropout\n",
    "#on epoch 8 - gini 78, on epoch 9 gini 0\n",
    "\n",
    "#p_SeqLen = 25\n",
    "#p_RNN_SIZE = [40] with 0.5 dropout\n",
    "#p_HID_SIZE = [60, 20] with 0.5 dropout\n",
    "#on epoch 10 - gini 77.7, on epoch 28 gini 0\n",
    "\n",
    "#p_SeqLen = 25\n",
    "#p_RNN_SIZE = [60] with 0.5 dropout\n",
    "#p_HID_SIZE = [20] with 0.5 dropout\n",
    "#on epoch 10 - gini 77.7, on epoch 28 gini 0"
   ]
  },
  {
   "cell_type": "code",
   "execution_count": 10,
   "metadata": {},
   "outputs": [
    {
     "data": {
      "text/plain": [
       "array([ 2.,  5.,  0.,  0.,  0.,  0.,  0.,  0.,  0.,  0.])"
      ]
     },
     "execution_count": 10,
     "metadata": {},
     "output_type": "execute_result"
    }
   ],
   "source": [
    "create_seq([1, 4], 1000, 10)"
   ]
  },
  {
   "cell_type": "code",
   "execution_count": null,
   "metadata": {
    "collapsed": true
   },
   "outputs": [],
   "source": []
  }
 ],
 "metadata": {
  "kernelspec": {
   "display_name": "Python [conda env:pytf]",
   "language": "python",
   "name": "conda-env-pytf-py"
  },
  "language_info": {
   "codemirror_mode": {
    "name": "ipython",
    "version": 3
   },
   "file_extension": ".py",
   "mimetype": "text/x-python",
   "name": "python",
   "nbconvert_exporter": "python",
   "pygments_lexer": "ipython3",
   "version": "3.6.2"
  }
 },
 "nbformat": 4,
 "nbformat_minor": 2
}
