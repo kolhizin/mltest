{
 "cells": [
  {
   "cell_type": "code",
   "execution_count": 1,
   "metadata": {
    "collapsed": true
   },
   "outputs": [],
   "source": [
    "import tensorflow as tf\n",
    "import numpy as np\n",
    "import datetime\n",
    "import time\n",
    "\n",
    "import sklearn.metrics"
   ]
  },
  {
   "cell_type": "code",
   "execution_count": 43,
   "metadata": {
    "collapsed": true
   },
   "outputs": [],
   "source": [
    "def genObs(length):\n",
    "    return np.random.choice(range(2), size=length)\n",
    "\n",
    "def genTarget(x):\n",
    "    return np.sum(x)\n",
    "\n",
    "def genSample(num, length=10):\n",
    "    x = [genObs(length=length) for _ in range(num)]\n",
    "    y = [genTarget(t) for t in x]\n",
    "    return np.array(x), np.array(y)\n",
    "\n",
    "def randomBatch(tensorTuple, batchSize=64):\n",
    "    ids = np.random.choice(range(tensorTuple[0].shape[0]), batchSize)\n",
    "    return (x[ids,] for x in tensorTuple)"
   ]
  },
  {
   "cell_type": "code",
   "execution_count": 44,
   "metadata": {},
   "outputs": [
    {
     "data": {
      "text/plain": [
       "(array([[0, 0, 1, 1, 0, 0, 0, 0, 0, 1],\n",
       "        [1, 1, 0, 0, 0, 1, 1, 0, 1, 0],\n",
       "        [0, 1, 1, 0, 0, 0, 1, 0, 1, 1],\n",
       "        [0, 1, 0, 0, 0, 0, 1, 0, 0, 1],\n",
       "        [1, 0, 1, 1, 1, 1, 1, 1, 0, 1],\n",
       "        [1, 1, 1, 0, 0, 1, 0, 0, 1, 0],\n",
       "        [1, 1, 1, 1, 1, 0, 1, 0, 0, 0],\n",
       "        [0, 0, 1, 0, 1, 1, 1, 0, 0, 1],\n",
       "        [0, 0, 0, 0, 1, 1, 0, 0, 0, 1],\n",
       "        [0, 1, 1, 1, 1, 1, 1, 0, 0, 0]]),\n",
       " array([3, 5, 5, 3, 8, 5, 6, 5, 3, 6]))"
      ]
     },
     "execution_count": 44,
     "metadata": {},
     "output_type": "execute_result"
    }
   ],
   "source": [
    "train_x, train_y = genSample(10000)\n",
    "valid_x, valid_y = genSample(1000)\n",
    "valid_x[:10], valid_y[:10]"
   ]
  },
  {
   "cell_type": "code",
   "execution_count": 59,
   "metadata": {},
   "outputs": [
    {
     "name": "stdout",
     "output_type": "stream",
     "text": [
      "Graph creation complete\n"
     ]
    }
   ],
   "source": [
    "SEQ_LEN = 10\n",
    "RNN_SIZE = [3]\n",
    "\n",
    "InnerCell = lambda n: tf.nn.rnn_cell.BasicRNNCell(num_units=n, activation=tf.nn.relu)\n",
    "#InnerCell = lambda n: tf.nn.rnn_cell.LSTMCell(num_units=n, activation=tf.nn.relu, use_peepholes=True)\n",
    "\n",
    "tf.reset_default_graph()\n",
    "\n",
    "tfi_x = tf.placeholder(shape=(None, SEQ_LEN), dtype=tf.float32)\n",
    "tfi_y = tf.placeholder(shape=(None), dtype=tf.int64)\n",
    "\n",
    "tfX = tf.reshape(tfi_x, shape=(tf.shape(tfi_x)[0], tf.shape(tfi_x)[1], 1))\n",
    "tfYC = tf.reshape(tfi_y, shape=(tf.shape(tfi_y)[0], 1))\n",
    "tfY = tf.one_hot(tfi_y, SEQ_LEN + 1, dtype=tf.float32)\n",
    "tfY1 = tf.one_hot(tfi_y, 2, dtype=tf.float32)\n",
    "\n",
    "\n",
    "rnnCell = tf.nn.rnn_cell.MultiRNNCell([InnerCell(s) for s in RNN_SIZE])\n",
    "#rnnCell = tf.nn.rnn_cell.GRUCell(RNN_SIZE[0])\n",
    "\n",
    "_, tfO = tf.nn.dynamic_rnn(rnnCell, inputs=tfX, dtype=tf.float32)\n",
    "\n",
    "tfOut = tf.layers.dense(tfO[-1], 1)\n",
    "#tfOut = tf.layers.dense(tfi_x, 1)\n",
    "\n",
    "#tfLoss = tf.reduce_mean(tf.nn.softmax_cross_entropy_with_logits(labels=tfY1, logits=tfOut))\n",
    "#tfLoss = tf.reduce_mean(tf.nn.l2_loss(tf.cast(tfi_y, dtype=tf.float32) - tfOut))\n",
    "#tfLoss = tf.reduce_mean(tf.abs(tf.cast(tfi_y, dtype=tf.float32) - tfOut))\n",
    "tfLoss = tf.reduce_mean(tf.pow(tf.cast(tfYC, dtype=tf.float32) - tfOut, 2))\n",
    "tfTrain = tf.train.AdamOptimizer(1e-2).minimize(tfLoss)\n",
    "\n",
    "#tfOutP = tf.nn.softmax(tfOut)\n",
    "tfOutR = tf.cast(tf.round(tfOut),dtype=tf.int64)\n",
    "\n",
    "tfAccuracy = tf.reduce_mean(tf.cast(tf.equal(tfYC, tf.cast(tf.round(tfOut),dtype=tf.int64)), dtype=tf.float32))\n",
    "tffw = tf.summary.FileWriter('D:/Jupyter/Logs/00_A', tf.get_default_graph())\n",
    "print('Graph creation complete')"
   ]
  },
  {
   "cell_type": "code",
   "execution_count": 61,
   "metadata": {},
   "outputs": [
    {
     "name": "stdout",
     "output_type": "stream",
     "text": [
      "Epoch 0 (0.138 sec): loss changed from 26.4 to 1.34\t\tVL:1.138\t\tAC:0.381\n",
      "Epoch 1 (0.12 sec): loss changed from 1.48 to 0.751\t\tVL:0.829\t\tAC:0.385\n",
      "Epoch 2 (0.132 sec): loss changed from 0.768 to 0.316\t\tVL:0.532\t\tAC:0.623\n",
      "Epoch 3 (0.121 sec): loss changed from 0.324 to 0.0825\t\tVL:0.272\t\tAC:0.958\n",
      "Epoch 4 (0.13 sec): loss changed from 0.0803 to 0.0324\t\tVL:0.179\t\tAC:1.000\n",
      "Epoch 5 (0.12 sec): loss changed from 0.0321 to 0.0189\t\tVL:0.137\t\tAC:1.000\n",
      "Epoch 6 (0.132 sec): loss changed from 0.0189 to 0.0126\t\tVL:0.114\t\tAC:1.000\n",
      "Epoch 7 (0.123 sec): loss changed from 0.0129 to 0.00885\t\tVL:0.095\t\tAC:1.000\n",
      "Epoch 8 (0.14 sec): loss changed from 0.00897 to 0.00626\t\tVL:0.079\t\tAC:1.000\n",
      "Epoch 9 (0.12 sec): loss changed from 0.00623 to 0.0043\t\tVL:0.066\t\tAC:1.000\n",
      "Epoch 10 (0.132 sec): loss changed from 0.00436 to 0.00295\t\tVL:0.054\t\tAC:1.000\n",
      "Epoch 11 (0.121 sec): loss changed from 0.00316 to 0.00209\t\tVL:0.044\t\tAC:1.000\n",
      "Epoch 12 (0.129 sec): loss changed from 0.00194 to 0.0013\t\tVL:0.036\t\tAC:1.000\n",
      "Epoch 13 (0.12 sec): loss changed from 0.00134 to 0.000913\t\tVL:0.029\t\tAC:1.000\n",
      "Epoch 14 (0.134 sec): loss changed from 0.000842 to 0.000584\t\tVL:0.024\t\tAC:1.000\n",
      "Epoch 15 (0.169 sec): loss changed from 0.000647 to 0.000485\t\tVL:0.020\t\tAC:1.000\n",
      "Epoch 16 (0.164 sec): loss changed from 0.000475 to 0.000371\t\tVL:0.018\t\tAC:1.000\n",
      "Epoch 17 (0.155 sec): loss changed from 0.000361 to 0.000297\t\tVL:0.016\t\tAC:1.000\n",
      "Epoch 18 (0.164 sec): loss changed from 0.000298 to 0.000253\t\tVL:0.015\t\tAC:1.000\n",
      "Epoch 19 (0.158 sec): loss changed from 0.000254 to 0.00023\t\tVL:0.014\t\tAC:1.000\n"
     ]
    }
   ],
   "source": [
    "batch_size = 1000\n",
    "num_steps  = 50\n",
    "num_epochs = 20\n",
    "\n",
    "valid_batch = {tfi_x: valid_x, tfi_y: valid_y}\n",
    "with tf.Session() as tfs:\n",
    "    tfs.run(tf.global_variables_initializer())\n",
    "    for i in range(num_epochs):\n",
    "        mini_x, mini_y = randomBatch((train_x, train_y), batchSize=batch_size)\n",
    "        train_batch = {tfi_x:mini_x, tfi_y:mini_y}\n",
    "        l0 = tfLoss.eval(feed_dict=train_batch)\n",
    "        t0 = time.perf_counter()\n",
    "        for j in range(num_steps):\n",
    "            tfTrain.run(feed_dict=train_batch)\n",
    "        t1 = time.perf_counter()\n",
    "        l1 = tfLoss.eval(feed_dict=train_batch)\n",
    "        lv = np.sqrt(tfLoss.eval(feed_dict=valid_batch))\n",
    "        ac = tfAccuracy.eval(feed_dict=valid_batch)\n",
    "        \n",
    "        print('Epoch {0} ({1:1.3} sec): loss changed from {2:1.3} to {3:1.3}\\t\\tVL:{4:1.3f}\\t\\tAC:{5:1.3f}'.format(i,t1-t0,l0,l1,lv,ac))\n",
    "    valid_r = tfs.run(tfOutR, feed_dict=valid_batch)"
   ]
  },
  {
   "cell_type": "code",
   "execution_count": 42,
   "metadata": {},
   "outputs": [
    {
     "data": {
      "text/plain": [
       "(array([ 9,  9,  9,  9, 13,  9, 12,  8,  9,  9, 11, 10, 10, 10,  8]),\n",
       " array([[10],\n",
       "        [10],\n",
       "        [10],\n",
       "        [10],\n",
       "        [10],\n",
       "        [10],\n",
       "        [10],\n",
       "        [10],\n",
       "        [10],\n",
       "        [10],\n",
       "        [10],\n",
       "        [10],\n",
       "        [10],\n",
       "        [10],\n",
       "        [10]], dtype=int64))"
      ]
     },
     "execution_count": 42,
     "metadata": {},
     "output_type": "execute_result"
    }
   ],
   "source": [
    "valid_y[:15],valid_r[:15]"
   ]
  },
  {
   "cell_type": "code",
   "execution_count": null,
   "metadata": {
    "collapsed": true
   },
   "outputs": [],
   "source": []
  }
 ],
 "metadata": {
  "kernelspec": {
   "display_name": "Python 3",
   "language": "python",
   "name": "python3"
  },
  "language_info": {
   "codemirror_mode": {
    "name": "ipython",
    "version": 3
   },
   "file_extension": ".py",
   "mimetype": "text/x-python",
   "name": "python",
   "nbconvert_exporter": "python",
   "pygments_lexer": "ipython3",
   "version": "3.6.1"
  }
 },
 "nbformat": 4,
 "nbformat_minor": 2
}
