{
 "cells": [
  {
   "cell_type": "code",
   "execution_count": 1,
   "metadata": {},
   "outputs": [],
   "source": [
    "%matplotlib inline\n",
    "import matplotlib.pyplot as plt\n",
    "import tensorflow as tf\n",
    "import numpy as np\n",
    "import pandas as pd\n",
    "import datetime, time\n",
    "\n",
    "import modutils"
   ]
  },
  {
   "cell_type": "code",
   "execution_count": 2,
   "metadata": {
    "collapsed": true
   },
   "outputs": [],
   "source": [
    "def load_smnist_sample(fname):\n",
    "    tmp0 = pd.read_csv(fname)\n",
    "    if 'label' in tmp0:\n",
    "        trgt = np.array(tmp0.label)\n",
    "        full_mapping = list(enumerate(set(trgt)))\n",
    "        fullmap2onehot = {j:i for (i,j) in full_mapping}\n",
    "        trgt = np.array([fullmap2onehot[x] for x in trgt])\n",
    "    else:\n",
    "        trgt = None\n",
    "        full_mapping = None\n",
    "    srcf1d = np.array(tmp0[['pixel{0}'.format(j+1) for j in range(28*28)]]) / 255.0\n",
    "    srcf2d = srcf1d.reshape(srcf1d.shape[0], 28, 28)\n",
    "    return (srcf1d, srcf2d, trgt, full_mapping)"
   ]
  },
  {
   "cell_type": "code",
   "execution_count": 3,
   "metadata": {},
   "outputs": [],
   "source": [
    "(dev_x1, dev_x2, dev_y, _) = load_smnist_sample('../DataSets/SignLanguage/sign_mnist_train.csv')\n",
    "(train_x1, train_x2, train_y),(valid_x1, valid_x2, valid_y) = modutils.splitSample((dev_x1, dev_x2, dev_y), (0.7, 0.3))"
   ]
  },
  {
   "cell_type": "code",
   "execution_count": 4,
   "metadata": {},
   "outputs": [],
   "source": [
    "#simple logistic regression (73% accuracy after 100 epoch and 2 sec per epoch)\n",
    "tf.reset_default_graph()\n",
    "\n",
    "with tf.name_scope('Input'):\n",
    "    tf_x = tf.placeholder(shape=(None, 28*28), dtype=tf.float32, name='x')\n",
    "    tf_y = tf.placeholder(shape=(None,), dtype=tf.int32, name='y')\n",
    "    tf_y1hot = tf.one_hot(tf_y, 24, name='y1hot')\n",
    "    \n",
    "tf_lgt = tf.layers.dense(tf_x, 24)\n",
    "tf_prob = tf.nn.softmax(tf_lgt, name='prob')\n",
    "tf_pred = tf.reshape(tf.nn.top_k(tf_prob, name='pred')[1], (tf.shape(tf_prob)[0],))\n",
    "tf_accuracy = tf.reduce_mean(tf.cast(tf.equal(tf_pred, tf_y), tf.float32))\n",
    "\n",
    "tf_loss = tf.reduce_max(tf.nn.softmax_cross_entropy_with_logits(labels=tf_y1hot, logits=tf_lgt))\n",
    "tf_train = tf.train.AdamOptimizer(1e-3).minimize(tf_loss)\n",
    "\n",
    "tffw = tf.summary.FileWriter('D:/Jupyter/Logs/00_A', tf.get_default_graph())"
   ]
  },
  {
   "cell_type": "code",
   "execution_count": 9,
   "metadata": {
    "collapsed": true
   },
   "outputs": [],
   "source": [
    "#simple feed-forward nn with 100 units in 1 hidden layer (73% accuracy after 100 epoch and 4 sec per epoch))\n",
    "tf.reset_default_graph()\n",
    "\n",
    "with tf.name_scope('Input'):\n",
    "    tf_x = tf.placeholder(shape=(None, 28*28), dtype=tf.float32, name='x')\n",
    "    tf_y = tf.placeholder(shape=(None,), dtype=tf.int32, name='y')\n",
    "    tf_y1hot = tf.one_hot(tf_y, 24, name='y1hot')\n",
    "    \n",
    "tf_hid = tf.layers.dense(tf_x, 100, activation=tf.nn.elu)\n",
    "tf_lgt = tf.layers.dense(tf_hid, 24)\n",
    "tf_prob = tf.nn.softmax(tf_lgt, name='prob')\n",
    "tf_pred = tf.reshape(tf.nn.top_k(tf_prob, name='pred')[1], (tf.shape(tf_prob)[0],))\n",
    "tf_accuracy = tf.reduce_mean(tf.cast(tf.equal(tf_pred, tf_y), tf.float32))\n",
    "\n",
    "tf_loss = tf.reduce_max(tf.nn.softmax_cross_entropy_with_logits(labels=tf_y1hot, logits=tf_lgt))\n",
    "tf_train = tf.train.AdamOptimizer(1e-3).minimize(tf_loss)\n",
    "\n",
    "tffw = tf.summary.FileWriter('D:/Jupyter/Logs/00_A', tf.get_default_graph())"
   ]
  },
  {
   "cell_type": "code",
   "execution_count": 21,
   "metadata": {},
   "outputs": [],
   "source": [
    "#simple cnn (99.9% accuracy after 34 epochs and 66 sec per epoch and still improving!!!))\n",
    "tf.reset_default_graph()\n",
    "\n",
    "with tf.name_scope('Input'):\n",
    "    tf_x = tf.placeholder(shape=(None, 28, 28), dtype=tf.float32, name='x')\n",
    "    tf_y = tf.placeholder(shape=(None,), dtype=tf.int32, name='y')\n",
    "    tf_x0 = tf.reshape(tf_x, shape=(tf.shape(tf_x)[0], 28, 28, 1))\n",
    "    tf_y1hot = tf.one_hot(tf_y, 24, name='y1hot')\n",
    "    \n",
    "tf_cp1 = tf.layers.max_pooling2d(tf.layers.conv2d(tf_x0, filters=10, kernel_size=3, padding='same'), pool_size=2, strides=2)\n",
    "tf_cp2 = tf.layers.max_pooling2d(tf.layers.conv2d(tf_cp1, filters=5, kernel_size=3, padding='same'), pool_size=2, strides=2)\n",
    "tf_cout = tf.reshape(tf_cp2, shape=(tf.shape(tf_x)[0], 7*7*5))\n",
    "tf_lgt = tf.layers.dense(tf_cout, 24)\n",
    "tf_prob = tf.nn.softmax(tf_lgt, name='prob')\n",
    "tf_pred = tf.reshape(tf.nn.top_k(tf_prob, name='pred')[1], (tf.shape(tf_prob)[0],))\n",
    "tf_accuracy = tf.reduce_mean(tf.cast(tf.equal(tf_pred, tf_y), tf.float32))\n",
    "\n",
    "tf_loss = tf.reduce_max(tf.nn.softmax_cross_entropy_with_logits(labels=tf_y1hot, logits=tf_lgt))\n",
    "tf_train = tf.train.AdamOptimizer(1e-3).minimize(tf_loss)\n",
    "\n",
    "tffw = tf.summary.FileWriter('D:/Jupyter/Logs/00_A', tf.get_default_graph())"
   ]
  },
  {
   "cell_type": "code",
   "execution_count": 23,
   "metadata": {},
   "outputs": [
    {
     "name": "stdout",
     "output_type": "stream",
     "text": [
      "Epoch 0 (69.2 sec): \t\tVL:3.237\t\tAC:0.117\n",
      "Epoch 1 (69.3 sec): \t\tVL:3.195\t\tAC:0.193\n",
      "Epoch 2 (69.3 sec): \t\tVL:3.187\t\tAC:0.299\n",
      "Epoch 3 (67.6 sec): \t\tVL:3.164\t\tAC:0.353\n",
      "Epoch 4 (67.6 sec): \t\tVL:3.139\t\tAC:0.482\n",
      "Epoch 5 (67.7 sec): \t\tVL:3.152\t\tAC:0.462\n",
      "Epoch 6 (67.8 sec): \t\tVL:2.995\t\tAC:0.588\n",
      "Epoch 7 (67.7 sec): \t\tVL:3.010\t\tAC:0.621\n",
      "Epoch 8 (67.4 sec): \t\tVL:2.720\t\tAC:0.647\n",
      "Epoch 9 (67.9 sec): \t\tVL:2.691\t\tAC:0.727\n",
      "Epoch 10 (65.4 sec): \t\tVL:2.570\t\tAC:0.758\n",
      "Epoch 11 (66.0 sec): \t\tVL:2.231\t\tAC:0.794\n",
      "Epoch 12 (65.3 sec): \t\tVL:2.264\t\tAC:0.832\n",
      "Epoch 13 (65.3 sec): \t\tVL:2.169\t\tAC:0.833\n",
      "Epoch 14 (65.4 sec): \t\tVL:2.271\t\tAC:0.838\n",
      "Epoch 15 (65.4 sec): \t\tVL:2.041\t\tAC:0.874\n",
      "Epoch 16 (65.4 sec): \t\tVL:1.808\t\tAC:0.912\n",
      "Epoch 17 (66.1 sec): \t\tVL:2.085\t\tAC:0.911\n",
      "Epoch 18 (65.7 sec): \t\tVL:1.828\t\tAC:0.927\n",
      "Epoch 19 (65.4 sec): \t\tVL:2.514\t\tAC:0.945\n",
      "Epoch 20 (65.6 sec): \t\tVL:1.752\t\tAC:0.969\n",
      "Epoch 21 (65.5 sec): \t\tVL:1.904\t\tAC:0.964\n",
      "Epoch 22 (65.3 sec): \t\tVL:2.173\t\tAC:0.974\n",
      "Epoch 23 (65.6 sec): \t\tVL:1.705\t\tAC:0.979\n",
      "Epoch 24 (65.3 sec): \t\tVL:1.610\t\tAC:0.993\n",
      "Epoch 25 (67.3 sec): \t\tVL:1.338\t\tAC:0.997\n",
      "Epoch 26 (65.4 sec): \t\tVL:1.412\t\tAC:0.993\n",
      "Epoch 27 (65.5 sec): \t\tVL:1.489\t\tAC:0.996\n",
      "Epoch 28 (65.4 sec): \t\tVL:1.713\t\tAC:0.998\n",
      "Epoch 29 (65.3 sec): \t\tVL:1.384\t\tAC:0.996\n",
      "Epoch 30 (65.6 sec): \t\tVL:1.408\t\tAC:0.998\n",
      "Epoch 31 (65.5 sec): \t\tVL:1.168\t\tAC:0.999\n",
      "Epoch 32 (65.5 sec): \t\tVL:1.186\t\tAC:0.997\n",
      "Epoch 33 (65.3 sec): \t\tVL:1.066\t\tAC:0.999\n"
     ]
    },
    {
     "ename": "KeyboardInterrupt",
     "evalue": "",
     "output_type": "error",
     "traceback": [
      "\u001b[1;31m---------------------------------------------------------------------------\u001b[0m",
      "\u001b[1;31mKeyboardInterrupt\u001b[0m                         Traceback (most recent call last)",
      "\u001b[1;32m<ipython-input-23-170dd5a4f800>\u001b[0m in \u001b[0;36m<module>\u001b[1;34m()\u001b[0m\n\u001b[0;32m     20\u001b[0m             \u001b[1;31m#t0 = time.perf_counter()\u001b[0m\u001b[1;33m\u001b[0m\u001b[1;33m\u001b[0m\u001b[0m\n\u001b[0;32m     21\u001b[0m             \u001b[1;32mfor\u001b[0m \u001b[0mj\u001b[0m \u001b[1;32min\u001b[0m \u001b[0mrange\u001b[0m\u001b[1;33m(\u001b[0m\u001b[0mnum_steps\u001b[0m\u001b[1;33m)\u001b[0m\u001b[1;33m:\u001b[0m\u001b[1;33m\u001b[0m\u001b[0m\n\u001b[1;32m---> 22\u001b[1;33m                 \u001b[0mtf_train\u001b[0m\u001b[1;33m.\u001b[0m\u001b[0mrun\u001b[0m\u001b[1;33m(\u001b[0m\u001b[0mfeed_dict\u001b[0m\u001b[1;33m=\u001b[0m\u001b[0mtrain_batch\u001b[0m\u001b[1;33m)\u001b[0m\u001b[1;33m\u001b[0m\u001b[0m\n\u001b[0m\u001b[0;32m     23\u001b[0m             \u001b[1;31m#t1 = time.perf_counter()\u001b[0m\u001b[1;33m\u001b[0m\u001b[1;33m\u001b[0m\u001b[0m\n\u001b[0;32m     24\u001b[0m             \u001b[1;31m#l1 = tfLoss.eval(feed_dict=train_batch)\u001b[0m\u001b[1;33m\u001b[0m\u001b[1;33m\u001b[0m\u001b[0m\n",
      "\u001b[1;32mC:\\Anaconda3\\lib\\site-packages\\tensorflow\\python\\framework\\ops.py\u001b[0m in \u001b[0;36mrun\u001b[1;34m(self, feed_dict, session)\u001b[0m\n\u001b[0;32m   1704\u001b[0m         \u001b[0mnone\u001b[0m\u001b[1;33m,\u001b[0m \u001b[0mthe\u001b[0m \u001b[0mdefault\u001b[0m \u001b[0msession\u001b[0m \u001b[0mwill\u001b[0m \u001b[0mbe\u001b[0m \u001b[0mused\u001b[0m\u001b[1;33m.\u001b[0m\u001b[1;33m\u001b[0m\u001b[0m\n\u001b[0;32m   1705\u001b[0m     \"\"\"\n\u001b[1;32m-> 1706\u001b[1;33m     \u001b[0m_run_using_default_session\u001b[0m\u001b[1;33m(\u001b[0m\u001b[0mself\u001b[0m\u001b[1;33m,\u001b[0m \u001b[0mfeed_dict\u001b[0m\u001b[1;33m,\u001b[0m \u001b[0mself\u001b[0m\u001b[1;33m.\u001b[0m\u001b[0mgraph\u001b[0m\u001b[1;33m,\u001b[0m \u001b[0msession\u001b[0m\u001b[1;33m)\u001b[0m\u001b[1;33m\u001b[0m\u001b[0m\n\u001b[0m\u001b[0;32m   1707\u001b[0m \u001b[1;33m\u001b[0m\u001b[0m\n\u001b[0;32m   1708\u001b[0m \u001b[1;33m\u001b[0m\u001b[0m\n",
      "\u001b[1;32mC:\\Anaconda3\\lib\\site-packages\\tensorflow\\python\\framework\\ops.py\u001b[0m in \u001b[0;36m_run_using_default_session\u001b[1;34m(operation, feed_dict, graph, session)\u001b[0m\n\u001b[0;32m   3961\u001b[0m                        \u001b[1;34m\"the operation's graph is different from the session's \"\u001b[0m\u001b[1;33m\u001b[0m\u001b[0m\n\u001b[0;32m   3962\u001b[0m                        \"graph.\")\n\u001b[1;32m-> 3963\u001b[1;33m   \u001b[0msession\u001b[0m\u001b[1;33m.\u001b[0m\u001b[0mrun\u001b[0m\u001b[1;33m(\u001b[0m\u001b[0moperation\u001b[0m\u001b[1;33m,\u001b[0m \u001b[0mfeed_dict\u001b[0m\u001b[1;33m)\u001b[0m\u001b[1;33m\u001b[0m\u001b[0m\n\u001b[0m\u001b[0;32m   3964\u001b[0m \u001b[1;33m\u001b[0m\u001b[0m\n\u001b[0;32m   3965\u001b[0m \u001b[1;33m\u001b[0m\u001b[0m\n",
      "\u001b[1;32mC:\\Anaconda3\\lib\\site-packages\\tensorflow\\python\\client\\session.py\u001b[0m in \u001b[0;36mrun\u001b[1;34m(self, fetches, feed_dict, options, run_metadata)\u001b[0m\n\u001b[0;32m    787\u001b[0m     \u001b[1;32mtry\u001b[0m\u001b[1;33m:\u001b[0m\u001b[1;33m\u001b[0m\u001b[0m\n\u001b[0;32m    788\u001b[0m       result = self._run(None, fetches, feed_dict, options_ptr,\n\u001b[1;32m--> 789\u001b[1;33m                          run_metadata_ptr)\n\u001b[0m\u001b[0;32m    790\u001b[0m       \u001b[1;32mif\u001b[0m \u001b[0mrun_metadata\u001b[0m\u001b[1;33m:\u001b[0m\u001b[1;33m\u001b[0m\u001b[0m\n\u001b[0;32m    791\u001b[0m         \u001b[0mproto_data\u001b[0m \u001b[1;33m=\u001b[0m \u001b[0mtf_session\u001b[0m\u001b[1;33m.\u001b[0m\u001b[0mTF_GetBuffer\u001b[0m\u001b[1;33m(\u001b[0m\u001b[0mrun_metadata_ptr\u001b[0m\u001b[1;33m)\u001b[0m\u001b[1;33m\u001b[0m\u001b[0m\n",
      "\u001b[1;32mC:\\Anaconda3\\lib\\site-packages\\tensorflow\\python\\client\\session.py\u001b[0m in \u001b[0;36m_run\u001b[1;34m(self, handle, fetches, feed_dict, options, run_metadata)\u001b[0m\n\u001b[0;32m    995\u001b[0m     \u001b[1;32mif\u001b[0m \u001b[0mfinal_fetches\u001b[0m \u001b[1;32mor\u001b[0m \u001b[0mfinal_targets\u001b[0m\u001b[1;33m:\u001b[0m\u001b[1;33m\u001b[0m\u001b[0m\n\u001b[0;32m    996\u001b[0m       results = self._do_run(handle, final_targets, final_fetches,\n\u001b[1;32m--> 997\u001b[1;33m                              feed_dict_string, options, run_metadata)\n\u001b[0m\u001b[0;32m    998\u001b[0m     \u001b[1;32melse\u001b[0m\u001b[1;33m:\u001b[0m\u001b[1;33m\u001b[0m\u001b[0m\n\u001b[0;32m    999\u001b[0m       \u001b[0mresults\u001b[0m \u001b[1;33m=\u001b[0m \u001b[1;33m[\u001b[0m\u001b[1;33m]\u001b[0m\u001b[1;33m\u001b[0m\u001b[0m\n",
      "\u001b[1;32mC:\\Anaconda3\\lib\\site-packages\\tensorflow\\python\\client\\session.py\u001b[0m in \u001b[0;36m_do_run\u001b[1;34m(self, handle, target_list, fetch_list, feed_dict, options, run_metadata)\u001b[0m\n\u001b[0;32m   1130\u001b[0m     \u001b[1;32mif\u001b[0m \u001b[0mhandle\u001b[0m \u001b[1;32mis\u001b[0m \u001b[1;32mNone\u001b[0m\u001b[1;33m:\u001b[0m\u001b[1;33m\u001b[0m\u001b[0m\n\u001b[0;32m   1131\u001b[0m       return self._do_call(_run_fn, self._session, feed_dict, fetch_list,\n\u001b[1;32m-> 1132\u001b[1;33m                            target_list, options, run_metadata)\n\u001b[0m\u001b[0;32m   1133\u001b[0m     \u001b[1;32melse\u001b[0m\u001b[1;33m:\u001b[0m\u001b[1;33m\u001b[0m\u001b[0m\n\u001b[0;32m   1134\u001b[0m       return self._do_call(_prun_fn, self._session, handle, feed_dict,\n",
      "\u001b[1;32mC:\\Anaconda3\\lib\\site-packages\\tensorflow\\python\\client\\session.py\u001b[0m in \u001b[0;36m_do_call\u001b[1;34m(self, fn, *args)\u001b[0m\n\u001b[0;32m   1137\u001b[0m   \u001b[1;32mdef\u001b[0m \u001b[0m_do_call\u001b[0m\u001b[1;33m(\u001b[0m\u001b[0mself\u001b[0m\u001b[1;33m,\u001b[0m \u001b[0mfn\u001b[0m\u001b[1;33m,\u001b[0m \u001b[1;33m*\u001b[0m\u001b[0margs\u001b[0m\u001b[1;33m)\u001b[0m\u001b[1;33m:\u001b[0m\u001b[1;33m\u001b[0m\u001b[0m\n\u001b[0;32m   1138\u001b[0m     \u001b[1;32mtry\u001b[0m\u001b[1;33m:\u001b[0m\u001b[1;33m\u001b[0m\u001b[0m\n\u001b[1;32m-> 1139\u001b[1;33m       \u001b[1;32mreturn\u001b[0m \u001b[0mfn\u001b[0m\u001b[1;33m(\u001b[0m\u001b[1;33m*\u001b[0m\u001b[0margs\u001b[0m\u001b[1;33m)\u001b[0m\u001b[1;33m\u001b[0m\u001b[0m\n\u001b[0m\u001b[0;32m   1140\u001b[0m     \u001b[1;32mexcept\u001b[0m \u001b[0merrors\u001b[0m\u001b[1;33m.\u001b[0m\u001b[0mOpError\u001b[0m \u001b[1;32mas\u001b[0m \u001b[0me\u001b[0m\u001b[1;33m:\u001b[0m\u001b[1;33m\u001b[0m\u001b[0m\n\u001b[0;32m   1141\u001b[0m       \u001b[0mmessage\u001b[0m \u001b[1;33m=\u001b[0m \u001b[0mcompat\u001b[0m\u001b[1;33m.\u001b[0m\u001b[0mas_text\u001b[0m\u001b[1;33m(\u001b[0m\u001b[0me\u001b[0m\u001b[1;33m.\u001b[0m\u001b[0mmessage\u001b[0m\u001b[1;33m)\u001b[0m\u001b[1;33m\u001b[0m\u001b[0m\n",
      "\u001b[1;32mC:\\Anaconda3\\lib\\site-packages\\tensorflow\\python\\client\\session.py\u001b[0m in \u001b[0;36m_run_fn\u001b[1;34m(session, feed_dict, fetch_list, target_list, options, run_metadata)\u001b[0m\n\u001b[0;32m   1119\u001b[0m         return tf_session.TF_Run(session, options,\n\u001b[0;32m   1120\u001b[0m                                  \u001b[0mfeed_dict\u001b[0m\u001b[1;33m,\u001b[0m \u001b[0mfetch_list\u001b[0m\u001b[1;33m,\u001b[0m \u001b[0mtarget_list\u001b[0m\u001b[1;33m,\u001b[0m\u001b[1;33m\u001b[0m\u001b[0m\n\u001b[1;32m-> 1121\u001b[1;33m                                  status, run_metadata)\n\u001b[0m\u001b[0;32m   1122\u001b[0m \u001b[1;33m\u001b[0m\u001b[0m\n\u001b[0;32m   1123\u001b[0m     \u001b[1;32mdef\u001b[0m \u001b[0m_prun_fn\u001b[0m\u001b[1;33m(\u001b[0m\u001b[0msession\u001b[0m\u001b[1;33m,\u001b[0m \u001b[0mhandle\u001b[0m\u001b[1;33m,\u001b[0m \u001b[0mfeed_dict\u001b[0m\u001b[1;33m,\u001b[0m \u001b[0mfetch_list\u001b[0m\u001b[1;33m)\u001b[0m\u001b[1;33m:\u001b[0m\u001b[1;33m\u001b[0m\u001b[0m\n",
      "\u001b[1;31mKeyboardInterrupt\u001b[0m: "
     ]
    }
   ],
   "source": [
    "dt_now = datetime.datetime.now().strftime(\"%Y-%m-%d_%H%M%S\")\n",
    "#tffw = tf.summary.FileWriter('D:/Jupyter/Logs/12RNN07-{0}'.format(dt_now), tf.get_default_graph())\n",
    "\n",
    "batch_size = 1000\n",
    "num_steps  = 10\n",
    "num_epochs = 100\n",
    "checkpoints = 500\n",
    "\n",
    "fmtstr = 'Epoch {0} ({1:1.3} sec): \\t\\tVL:{2:1.3f}\\t\\tAC:{3:1.3f}'\n",
    "valid_batch = {tf_x: valid_x2, tf_y: valid_y}\n",
    "train_tuple = (train_x2, train_y)\n",
    "with tf.Session() as tfs:\n",
    "    tfs.run(tf.global_variables_initializer())\n",
    "    for i in range(num_epochs):\n",
    "        te0 = time.perf_counter()\n",
    "        for (mini_x, mini_y) in modutils.shuffleBatches(train_tuple, batchSize=batch_size):\n",
    "            train_batch = {tf_x:mini_x, tf_y:mini_y}\n",
    "            \n",
    "            #l0 = tfLoss.eval(feed_dict=train_batch)\n",
    "            #t0 = time.perf_counter()\n",
    "            for j in range(num_steps):\n",
    "                tf_train.run(feed_dict=train_batch)\n",
    "            #t1 = time.perf_counter()\n",
    "            #l1 = tfLoss.eval(feed_dict=train_batch)\n",
    "    \n",
    "        te1 = time.perf_counter()\n",
    "        [lv,ac] = tfs.run([tf_loss, tf_accuracy], feed_dict=valid_batch)\n",
    "            #tffw.add_summary(summary, i)\n",
    "            #if i%checkpoints == 0 and i > 0:\n",
    "            #    p = tfsSaver.save(tfs, 'D:/Jupyter/mltest/Models-12RNN07/model-{0:04d}.ckpt'.format(i))\n",
    "            #    print('Model saved at checkpoint: {0}'.format(p))\n",
    "                             \n",
    "        print(fmtstr.format(i,te1-te0,lv,ac))"
   ]
  },
  {
   "cell_type": "code",
   "execution_count": null,
   "metadata": {},
   "outputs": [],
   "source": [
    "z = np.random.uniform(size=10)"
   ]
  },
  {
   "cell_type": "code",
   "execution_count": null,
   "metadata": {},
   "outputs": [],
   "source": [
    "tmp = np.cumsum([1,2,3])"
   ]
  },
  {
   "cell_type": "code",
   "execution_count": null,
   "metadata": {},
   "outputs": [],
   "source": []
  },
  {
   "cell_type": "code",
   "execution_count": null,
   "metadata": {},
   "outputs": [],
   "source": [
    "train_y.shape, valid_y.shape"
   ]
  },
  {
   "cell_type": "code",
   "execution_count": null,
   "metadata": {},
   "outputs": [],
   "source": [
    "z[(z > 0.3) & (z < 0.7),]"
   ]
  },
  {
   "cell_type": "code",
   "execution_count": null,
   "metadata": {
    "collapsed": true
   },
   "outputs": [],
   "source": [
    "z = np.random.uniform(size=dev_x1.shape[0])"
   ]
  },
  {
   "cell_type": "code",
   "execution_count": null,
   "metadata": {},
   "outputs": [],
   "source": [
    "z.shape"
   ]
  },
  {
   "cell_type": "code",
   "execution_count": null,
   "metadata": {
    "collapsed": true
   },
   "outputs": [],
   "source": [
    "(q1, q2) = (dev_y[(z >= a) & (z < b),] for (a,b) in [(-0.1, 0.7),(0.7, 1.1)])"
   ]
  },
  {
   "cell_type": "code",
   "execution_count": null,
   "metadata": {},
   "outputs": [],
   "source": [
    "q2.shape"
   ]
  },
  {
   "cell_type": "code",
   "execution_count": null,
   "metadata": {
    "collapsed": true
   },
   "outputs": [],
   "source": []
  },
  {
   "cell_type": "code",
   "execution_count": null,
   "metadata": {
    "collapsed": true
   },
   "outputs": [],
   "source": []
  }
 ],
 "metadata": {
  "kernelspec": {
   "display_name": "Python 3",
   "language": "python",
   "name": "python3"
  },
  "language_info": {
   "codemirror_mode": {
    "name": "ipython",
    "version": 3
   },
   "file_extension": ".py",
   "mimetype": "text/x-python",
   "name": "python",
   "nbconvert_exporter": "python",
   "pygments_lexer": "ipython3",
   "version": "3.6.1"
  }
 },
 "nbformat": 4,
 "nbformat_minor": 2
}
