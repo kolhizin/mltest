{
 "cells": [
  {
   "cell_type": "code",
   "execution_count": 1,
   "metadata": {
    "collapsed": true
   },
   "outputs": [],
   "source": [
    "import numpy as np\n",
    "import pandas as pd\n",
    "import matplotlib.pyplot as plt\n",
    "import datetime, time\n",
    "import sklearn, sklearn.metrics, sklearn.linear_model, sklearn.ensemble, sklearn.preprocessing\n",
    "\n",
    "import modutils\n",
    "\n",
    "data_dir = '../DataSets/Churn/'"
   ]
  },
  {
   "cell_type": "code",
   "execution_count": 2,
   "metadata": {
    "collapsed": true
   },
   "outputs": [],
   "source": [
    "src = pd.read_csv(data_dir + 'tmp_tran_last.csv')"
   ]
  },
  {
   "cell_type": "code",
   "execution_count": 3,
   "metadata": {},
   "outputs": [
    {
     "data": {
      "text/html": [
       "<div>\n",
       "<style>\n",
       "    .dataframe thead tr:only-child th {\n",
       "        text-align: right;\n",
       "    }\n",
       "\n",
       "    .dataframe thead th {\n",
       "        text-align: left;\n",
       "    }\n",
       "\n",
       "    .dataframe tbody tr th {\n",
       "        vertical-align: top;\n",
       "    }\n",
       "</style>\n",
       "<table border=\"1\" class=\"dataframe\">\n",
       "  <thead>\n",
       "    <tr style=\"text-align: right;\">\n",
       "      <th></th>\n",
       "      <th>msno</th>\n",
       "      <th>payment_method_id</th>\n",
       "      <th>payment_plan_days</th>\n",
       "      <th>plan_list_price</th>\n",
       "      <th>actual_amount_paid</th>\n",
       "      <th>is_auto_renew</th>\n",
       "      <th>transaction_date</th>\n",
       "      <th>membership_expire_date</th>\n",
       "      <th>is_cancel</th>\n",
       "      <th>is_churn</th>\n",
       "      <th>is_first</th>\n",
       "      <th>is_last</th>\n",
       "    </tr>\n",
       "  </thead>\n",
       "  <tbody>\n",
       "    <tr>\n",
       "      <th>0</th>\n",
       "      <td>+++hVY1rZox/33YtvDgmKA2Frg/2qhkz12B9ylCvh8o=</td>\n",
       "      <td>41</td>\n",
       "      <td>30</td>\n",
       "      <td>99</td>\n",
       "      <td>99</td>\n",
       "      <td>1</td>\n",
       "      <td>20170215</td>\n",
       "      <td>20170315</td>\n",
       "      <td>0</td>\n",
       "      <td>0</td>\n",
       "      <td>0</td>\n",
       "      <td>1</td>\n",
       "    </tr>\n",
       "    <tr>\n",
       "      <th>1</th>\n",
       "      <td>+++l/EXNMLTijfLBa8p2TUVVVp2aFGSuUI/h7mLmthw=</td>\n",
       "      <td>39</td>\n",
       "      <td>30</td>\n",
       "      <td>149</td>\n",
       "      <td>149</td>\n",
       "      <td>1</td>\n",
       "      <td>20170131</td>\n",
       "      <td>20170319</td>\n",
       "      <td>0</td>\n",
       "      <td>0</td>\n",
       "      <td>0</td>\n",
       "      <td>1</td>\n",
       "    </tr>\n",
       "    <tr>\n",
       "      <th>2</th>\n",
       "      <td>+++snpr7pmobhLKUgSHTv/mpkqgBT0tQJ0zQj6qKrqc=</td>\n",
       "      <td>41</td>\n",
       "      <td>30</td>\n",
       "      <td>149</td>\n",
       "      <td>149</td>\n",
       "      <td>1</td>\n",
       "      <td>20170226</td>\n",
       "      <td>20170326</td>\n",
       "      <td>0</td>\n",
       "      <td>0</td>\n",
       "      <td>0</td>\n",
       "      <td>1</td>\n",
       "    </tr>\n",
       "    <tr>\n",
       "      <th>3</th>\n",
       "      <td>++/9R3sX37CjxbY/AaGvbwr3QkwElKBCtSvVzhCBDOk=</td>\n",
       "      <td>41</td>\n",
       "      <td>30</td>\n",
       "      <td>149</td>\n",
       "      <td>149</td>\n",
       "      <td>1</td>\n",
       "      <td>20170215</td>\n",
       "      <td>20170315</td>\n",
       "      <td>0</td>\n",
       "      <td>0</td>\n",
       "      <td>0</td>\n",
       "      <td>1</td>\n",
       "    </tr>\n",
       "    <tr>\n",
       "      <th>4</th>\n",
       "      <td>++/UDNo9DLrxT8QVGiDi1OnWfczAdEwThaVyD0fXO50=</td>\n",
       "      <td>39</td>\n",
       "      <td>30</td>\n",
       "      <td>149</td>\n",
       "      <td>149</td>\n",
       "      <td>1</td>\n",
       "      <td>20170131</td>\n",
       "      <td>20170323</td>\n",
       "      <td>0</td>\n",
       "      <td>0</td>\n",
       "      <td>0</td>\n",
       "      <td>1</td>\n",
       "    </tr>\n",
       "    <tr>\n",
       "      <th>5</th>\n",
       "      <td>++/ZHqwUNa7U21Qz+zqteiXlZapxey86l6eEorrak/g=</td>\n",
       "      <td>14</td>\n",
       "      <td>30</td>\n",
       "      <td>149</td>\n",
       "      <td>149</td>\n",
       "      <td>1</td>\n",
       "      <td>20170131</td>\n",
       "      <td>20170304</td>\n",
       "      <td>0</td>\n",
       "      <td>0</td>\n",
       "      <td>0</td>\n",
       "      <td>1</td>\n",
       "    </tr>\n",
       "    <tr>\n",
       "      <th>6</th>\n",
       "      <td>++0/NopttBsaAn6qHZA2AWWrDg7Me7UOMs1vsyo4tSI=</td>\n",
       "      <td>41</td>\n",
       "      <td>30</td>\n",
       "      <td>149</td>\n",
       "      <td>149</td>\n",
       "      <td>1</td>\n",
       "      <td>20170220</td>\n",
       "      <td>20170320</td>\n",
       "      <td>0</td>\n",
       "      <td>0</td>\n",
       "      <td>0</td>\n",
       "      <td>1</td>\n",
       "    </tr>\n",
       "    <tr>\n",
       "      <th>7</th>\n",
       "      <td>++0BJXY8tpirgIhJR14LDM1pnaRosjD1mdO1mIKxlJA=</td>\n",
       "      <td>38</td>\n",
       "      <td>30</td>\n",
       "      <td>149</td>\n",
       "      <td>149</td>\n",
       "      <td>0</td>\n",
       "      <td>20170224</td>\n",
       "      <td>20170326</td>\n",
       "      <td>0</td>\n",
       "      <td>0</td>\n",
       "      <td>0</td>\n",
       "      <td>1</td>\n",
       "    </tr>\n",
       "    <tr>\n",
       "      <th>8</th>\n",
       "      <td>++0EzISdtKY48Z0GY62jer/LFQwrNIAbADdtU5xStGY=</td>\n",
       "      <td>38</td>\n",
       "      <td>120</td>\n",
       "      <td>477</td>\n",
       "      <td>477</td>\n",
       "      <td>0</td>\n",
       "      <td>20161024</td>\n",
       "      <td>20170221</td>\n",
       "      <td>0</td>\n",
       "      <td>0</td>\n",
       "      <td>0</td>\n",
       "      <td>1</td>\n",
       "    </tr>\n",
       "    <tr>\n",
       "      <th>9</th>\n",
       "      <td>++0wqjjQge1mBBe5r4ciHGKwtF/m322zkra7CK8I+Mw=</td>\n",
       "      <td>41</td>\n",
       "      <td>30</td>\n",
       "      <td>99</td>\n",
       "      <td>99</td>\n",
       "      <td>1</td>\n",
       "      <td>20170206</td>\n",
       "      <td>20170306</td>\n",
       "      <td>0</td>\n",
       "      <td>0</td>\n",
       "      <td>0</td>\n",
       "      <td>1</td>\n",
       "    </tr>\n",
       "  </tbody>\n",
       "</table>\n",
       "</div>"
      ],
      "text/plain": [
       "                                           msno  payment_method_id  \\\n",
       "0  +++hVY1rZox/33YtvDgmKA2Frg/2qhkz12B9ylCvh8o=                 41   \n",
       "1  +++l/EXNMLTijfLBa8p2TUVVVp2aFGSuUI/h7mLmthw=                 39   \n",
       "2  +++snpr7pmobhLKUgSHTv/mpkqgBT0tQJ0zQj6qKrqc=                 41   \n",
       "3  ++/9R3sX37CjxbY/AaGvbwr3QkwElKBCtSvVzhCBDOk=                 41   \n",
       "4  ++/UDNo9DLrxT8QVGiDi1OnWfczAdEwThaVyD0fXO50=                 39   \n",
       "5  ++/ZHqwUNa7U21Qz+zqteiXlZapxey86l6eEorrak/g=                 14   \n",
       "6  ++0/NopttBsaAn6qHZA2AWWrDg7Me7UOMs1vsyo4tSI=                 41   \n",
       "7  ++0BJXY8tpirgIhJR14LDM1pnaRosjD1mdO1mIKxlJA=                 38   \n",
       "8  ++0EzISdtKY48Z0GY62jer/LFQwrNIAbADdtU5xStGY=                 38   \n",
       "9  ++0wqjjQge1mBBe5r4ciHGKwtF/m322zkra7CK8I+Mw=                 41   \n",
       "\n",
       "   payment_plan_days  plan_list_price  actual_amount_paid  is_auto_renew  \\\n",
       "0                 30               99                  99              1   \n",
       "1                 30              149                 149              1   \n",
       "2                 30              149                 149              1   \n",
       "3                 30              149                 149              1   \n",
       "4                 30              149                 149              1   \n",
       "5                 30              149                 149              1   \n",
       "6                 30              149                 149              1   \n",
       "7                 30              149                 149              0   \n",
       "8                120              477                 477              0   \n",
       "9                 30               99                  99              1   \n",
       "\n",
       "   transaction_date  membership_expire_date  is_cancel  is_churn  is_first  \\\n",
       "0          20170215                20170315          0         0         0   \n",
       "1          20170131                20170319          0         0         0   \n",
       "2          20170226                20170326          0         0         0   \n",
       "3          20170215                20170315          0         0         0   \n",
       "4          20170131                20170323          0         0         0   \n",
       "5          20170131                20170304          0         0         0   \n",
       "6          20170220                20170320          0         0         0   \n",
       "7          20170224                20170326          0         0         0   \n",
       "8          20161024                20170221          0         0         0   \n",
       "9          20170206                20170306          0         0         0   \n",
       "\n",
       "   is_last  \n",
       "0        1  \n",
       "1        1  \n",
       "2        1  \n",
       "3        1  \n",
       "4        1  \n",
       "5        1  \n",
       "6        1  \n",
       "7        1  \n",
       "8        1  \n",
       "9        1  "
      ]
     },
     "execution_count": 3,
     "metadata": {},
     "output_type": "execute_result"
    }
   ],
   "source": [
    "src[:10]"
   ]
  },
  {
   "cell_type": "code",
   "execution_count": 4,
   "metadata": {
    "collapsed": true
   },
   "outputs": [],
   "source": [
    "metrics = {'msno':'count','is_churn':'mean','is_auto_renew':'mean','is_cancel':'mean','is_first':'mean'}"
   ]
  },
  {
   "cell_type": "code",
   "execution_count": 5,
   "metadata": {},
   "outputs": [
    {
     "data": {
      "text/html": [
       "<div>\n",
       "<style>\n",
       "    .dataframe thead tr:only-child th {\n",
       "        text-align: right;\n",
       "    }\n",
       "\n",
       "    .dataframe thead th {\n",
       "        text-align: left;\n",
       "    }\n",
       "\n",
       "    .dataframe tbody tr th {\n",
       "        vertical-align: top;\n",
       "    }\n",
       "</style>\n",
       "<table border=\"1\" class=\"dataframe\">\n",
       "  <thead>\n",
       "    <tr style=\"text-align: right;\">\n",
       "      <th></th>\n",
       "      <th>msno</th>\n",
       "      <th>is_churn</th>\n",
       "      <th>is_auto_renew</th>\n",
       "      <th>is_cancel</th>\n",
       "      <th>is_first</th>\n",
       "    </tr>\n",
       "    <tr>\n",
       "      <th>is_auto_renew</th>\n",
       "      <th></th>\n",
       "      <th></th>\n",
       "      <th></th>\n",
       "      <th></th>\n",
       "      <th></th>\n",
       "    </tr>\n",
       "  </thead>\n",
       "  <tbody>\n",
       "    <tr>\n",
       "      <th>1</th>\n",
       "      <td>882746</td>\n",
       "      <td>0.031087</td>\n",
       "      <td>1</td>\n",
       "      <td>0.035821</td>\n",
       "      <td>0.001797</td>\n",
       "    </tr>\n",
       "    <tr>\n",
       "      <th>0</th>\n",
       "      <td>110185</td>\n",
       "      <td>0.326986</td>\n",
       "      <td>0</td>\n",
       "      <td>0.000000</td>\n",
       "      <td>0.107283</td>\n",
       "    </tr>\n",
       "  </tbody>\n",
       "</table>\n",
       "</div>"
      ],
      "text/plain": [
       "                 msno  is_churn  is_auto_renew  is_cancel  is_first\n",
       "is_auto_renew                                                      \n",
       "1              882746  0.031087              1   0.035821  0.001797\n",
       "0              110185  0.326986              0   0.000000  0.107283"
      ]
     },
     "execution_count": 5,
     "metadata": {},
     "output_type": "execute_result"
    }
   ],
   "source": [
    "src.groupby('is_auto_renew').agg(metrics).sort_values('msno', ascending=False)"
   ]
  },
  {
   "cell_type": "code",
   "execution_count": 6,
   "metadata": {},
   "outputs": [
    {
     "data": {
      "text/html": [
       "<div>\n",
       "<style>\n",
       "    .dataframe thead tr:only-child th {\n",
       "        text-align: right;\n",
       "    }\n",
       "\n",
       "    .dataframe thead th {\n",
       "        text-align: left;\n",
       "    }\n",
       "\n",
       "    .dataframe tbody tr th {\n",
       "        vertical-align: top;\n",
       "    }\n",
       "</style>\n",
       "<table border=\"1\" class=\"dataframe\">\n",
       "  <thead>\n",
       "    <tr style=\"text-align: right;\">\n",
       "      <th></th>\n",
       "      <th>msno</th>\n",
       "      <th>is_churn</th>\n",
       "      <th>is_auto_renew</th>\n",
       "      <th>is_cancel</th>\n",
       "      <th>is_first</th>\n",
       "    </tr>\n",
       "    <tr>\n",
       "      <th>is_cancel</th>\n",
       "      <th></th>\n",
       "      <th></th>\n",
       "      <th></th>\n",
       "      <th></th>\n",
       "      <th></th>\n",
       "    </tr>\n",
       "  </thead>\n",
       "  <tbody>\n",
       "    <tr>\n",
       "      <th>0</th>\n",
       "      <td>961310</td>\n",
       "      <td>0.040563</td>\n",
       "      <td>0.88538</td>\n",
       "      <td>0</td>\n",
       "      <td>0.013927</td>\n",
       "    </tr>\n",
       "    <tr>\n",
       "      <th>1</th>\n",
       "      <td>31621</td>\n",
       "      <td>0.774074</td>\n",
       "      <td>1.00000</td>\n",
       "      <td>1</td>\n",
       "      <td>0.000601</td>\n",
       "    </tr>\n",
       "  </tbody>\n",
       "</table>\n",
       "</div>"
      ],
      "text/plain": [
       "             msno  is_churn  is_auto_renew  is_cancel  is_first\n",
       "is_cancel                                                      \n",
       "0          961310  0.040563        0.88538          0  0.013927\n",
       "1           31621  0.774074        1.00000          1  0.000601"
      ]
     },
     "execution_count": 6,
     "metadata": {},
     "output_type": "execute_result"
    }
   ],
   "source": [
    "src.groupby('is_cancel').agg(metrics).sort_values('msno', ascending=False)"
   ]
  },
  {
   "cell_type": "code",
   "execution_count": 7,
   "metadata": {},
   "outputs": [
    {
     "data": {
      "text/html": [
       "<div>\n",
       "<style>\n",
       "    .dataframe thead tr:only-child th {\n",
       "        text-align: right;\n",
       "    }\n",
       "\n",
       "    .dataframe thead th {\n",
       "        text-align: left;\n",
       "    }\n",
       "\n",
       "    .dataframe tbody tr th {\n",
       "        vertical-align: top;\n",
       "    }\n",
       "</style>\n",
       "<table border=\"1\" class=\"dataframe\">\n",
       "  <thead>\n",
       "    <tr style=\"text-align: right;\">\n",
       "      <th></th>\n",
       "      <th></th>\n",
       "      <th>msno</th>\n",
       "      <th>is_churn</th>\n",
       "      <th>is_auto_renew</th>\n",
       "      <th>is_cancel</th>\n",
       "      <th>is_first</th>\n",
       "    </tr>\n",
       "    <tr>\n",
       "      <th>is_auto_renew</th>\n",
       "      <th>is_cancel</th>\n",
       "      <th></th>\n",
       "      <th></th>\n",
       "      <th></th>\n",
       "      <th></th>\n",
       "      <th></th>\n",
       "    </tr>\n",
       "  </thead>\n",
       "  <tbody>\n",
       "    <tr>\n",
       "      <th>1</th>\n",
       "      <th>0</th>\n",
       "      <td>851125</td>\n",
       "      <td>0.003484</td>\n",
       "      <td>1</td>\n",
       "      <td>0</td>\n",
       "      <td>0.001841</td>\n",
       "    </tr>\n",
       "    <tr>\n",
       "      <th>0</th>\n",
       "      <th>0</th>\n",
       "      <td>110185</td>\n",
       "      <td>0.326986</td>\n",
       "      <td>0</td>\n",
       "      <td>0</td>\n",
       "      <td>0.107283</td>\n",
       "    </tr>\n",
       "    <tr>\n",
       "      <th>1</th>\n",
       "      <th>1</th>\n",
       "      <td>31621</td>\n",
       "      <td>0.774074</td>\n",
       "      <td>1</td>\n",
       "      <td>1</td>\n",
       "      <td>0.000601</td>\n",
       "    </tr>\n",
       "  </tbody>\n",
       "</table>\n",
       "</div>"
      ],
      "text/plain": [
       "                           msno  is_churn  is_auto_renew  is_cancel  is_first\n",
       "is_auto_renew is_cancel                                                      \n",
       "1             0          851125  0.003484              1          0  0.001841\n",
       "0             0          110185  0.326986              0          0  0.107283\n",
       "1             1           31621  0.774074              1          1  0.000601"
      ]
     },
     "execution_count": 7,
     "metadata": {},
     "output_type": "execute_result"
    }
   ],
   "source": [
    "src.groupby(['is_auto_renew','is_cancel']).agg(metrics).sort_values('msno', ascending=False)"
   ]
  },
  {
   "cell_type": "code",
   "execution_count": 8,
   "metadata": {},
   "outputs": [
    {
     "data": {
      "text/html": [
       "<div>\n",
       "<style>\n",
       "    .dataframe thead tr:only-child th {\n",
       "        text-align: right;\n",
       "    }\n",
       "\n",
       "    .dataframe thead th {\n",
       "        text-align: left;\n",
       "    }\n",
       "\n",
       "    .dataframe tbody tr th {\n",
       "        vertical-align: top;\n",
       "    }\n",
       "</style>\n",
       "<table border=\"1\" class=\"dataframe\">\n",
       "  <thead>\n",
       "    <tr style=\"text-align: right;\">\n",
       "      <th></th>\n",
       "      <th></th>\n",
       "      <th></th>\n",
       "      <th>msno</th>\n",
       "      <th>is_churn</th>\n",
       "      <th>is_auto_renew</th>\n",
       "      <th>is_cancel</th>\n",
       "      <th>is_first</th>\n",
       "    </tr>\n",
       "    <tr>\n",
       "      <th>is_first</th>\n",
       "      <th>is_auto_renew</th>\n",
       "      <th>is_cancel</th>\n",
       "      <th></th>\n",
       "      <th></th>\n",
       "      <th></th>\n",
       "      <th></th>\n",
       "      <th></th>\n",
       "    </tr>\n",
       "  </thead>\n",
       "  <tbody>\n",
       "    <tr>\n",
       "      <th rowspan=\"3\" valign=\"top\">0</th>\n",
       "      <th>1</th>\n",
       "      <th>0</th>\n",
       "      <td>849558</td>\n",
       "      <td>0.002925</td>\n",
       "      <td>1</td>\n",
       "      <td>0</td>\n",
       "      <td>0</td>\n",
       "    </tr>\n",
       "    <tr>\n",
       "      <th>0</th>\n",
       "      <th>0</th>\n",
       "      <td>98364</td>\n",
       "      <td>0.283579</td>\n",
       "      <td>0</td>\n",
       "      <td>0</td>\n",
       "      <td>0</td>\n",
       "    </tr>\n",
       "    <tr>\n",
       "      <th>1</th>\n",
       "      <th>1</th>\n",
       "      <td>31602</td>\n",
       "      <td>0.773970</td>\n",
       "      <td>1</td>\n",
       "      <td>1</td>\n",
       "      <td>0</td>\n",
       "    </tr>\n",
       "    <tr>\n",
       "      <th rowspan=\"3\" valign=\"top\">1</th>\n",
       "      <th>0</th>\n",
       "      <th>0</th>\n",
       "      <td>11821</td>\n",
       "      <td>0.688182</td>\n",
       "      <td>0</td>\n",
       "      <td>0</td>\n",
       "      <td>1</td>\n",
       "    </tr>\n",
       "    <tr>\n",
       "      <th rowspan=\"2\" valign=\"top\">1</th>\n",
       "      <th>0</th>\n",
       "      <td>1567</td>\n",
       "      <td>0.306318</td>\n",
       "      <td>1</td>\n",
       "      <td>0</td>\n",
       "      <td>1</td>\n",
       "    </tr>\n",
       "    <tr>\n",
       "      <th>1</th>\n",
       "      <td>19</td>\n",
       "      <td>0.947368</td>\n",
       "      <td>1</td>\n",
       "      <td>1</td>\n",
       "      <td>1</td>\n",
       "    </tr>\n",
       "  </tbody>\n",
       "</table>\n",
       "</div>"
      ],
      "text/plain": [
       "                                    msno  is_churn  is_auto_renew  is_cancel  \\\n",
       "is_first is_auto_renew is_cancel                                               \n",
       "0        1             0          849558  0.002925              1          0   \n",
       "         0             0           98364  0.283579              0          0   \n",
       "         1             1           31602  0.773970              1          1   \n",
       "1        0             0           11821  0.688182              0          0   \n",
       "         1             0            1567  0.306318              1          0   \n",
       "                       1              19  0.947368              1          1   \n",
       "\n",
       "                                  is_first  \n",
       "is_first is_auto_renew is_cancel            \n",
       "0        1             0                 0  \n",
       "         0             0                 0  \n",
       "         1             1                 0  \n",
       "1        0             0                 1  \n",
       "         1             0                 1  \n",
       "                       1                 1  "
      ]
     },
     "execution_count": 8,
     "metadata": {},
     "output_type": "execute_result"
    }
   ],
   "source": [
    "src.groupby(['is_first','is_auto_renew','is_cancel']).agg(metrics).sort_values('msno', ascending=False)"
   ]
  },
  {
   "cell_type": "code",
   "execution_count": 11,
   "metadata": {},
   "outputs": [
    {
     "name": "stdout",
     "output_type": "stream",
     "text": [
      "Gini = 0.907, Accuracy = 0.958, Log-Loss-Class = 1.450\n"
     ]
    }
   ],
   "source": [
    "src['combined_3features'] = src.is_first.astype(str)+src.is_auto_renew.astype(str)+src.is_cancel.astype(str)\n",
    "(f3_gini, f3_acc, f3_lloss, f3_illoss) = modutils.calcBinClassMetrics_Discrete(src.combined_3features.values.reshape(-1,1), src.is_churn)\n",
    "print('Gini = {0:.3f}, Accuracy = {1:.3f}, Log-Loss-Class = {2:.3f}'.format(f3_gini, f3_acc, f3_illoss))"
   ]
  },
  {
   "cell_type": "code",
   "execution_count": 13,
   "metadata": {
    "collapsed": true
   },
   "outputs": [],
   "source": [
    "#majority is recurring customer with auto-renewal and who won't cancel\n",
    "src_maj = src[(src.is_first==0)&(src.is_auto_renew==1)&(src.is_cancel==0)].copy()\n",
    "src_man = src[(src.is_first==0)&(src.is_auto_renew==0)&(src.is_cancel==0)].copy()"
   ]
  },
  {
   "cell_type": "markdown",
   "metadata": {},
   "source": [
    "## Majority analysis"
   ]
  },
  {
   "cell_type": "code",
   "execution_count": null,
   "metadata": {},
   "outputs": [],
   "source": [
    "src_maj.describe()\n",
    "#payment plan days is "
   ]
  },
  {
   "cell_type": "code",
   "execution_count": null,
   "metadata": {},
   "outputs": [],
   "source": [
    "src_maj.groupby('payment_method_id').agg({'msno':'count','is_churn':'mean'}).sort_values('msno', ascending=False)"
   ]
  },
  {
   "cell_type": "code",
   "execution_count": null,
   "metadata": {},
   "outputs": [],
   "source": [
    "src_maj.groupby('plan_list_price').agg({'msno':'count','is_churn':'mean'}).sort_values('msno', ascending=False)"
   ]
  },
  {
   "cell_type": "code",
   "execution_count": null,
   "metadata": {},
   "outputs": [],
   "source": [
    "src_maj[src_maj.plan_list_price==99].describe()"
   ]
  },
  {
   "cell_type": "markdown",
   "metadata": {},
   "source": [
    "## Manual payment, no cancel analysis (2nd largest group)"
   ]
  },
  {
   "cell_type": "code",
   "execution_count": null,
   "metadata": {},
   "outputs": [],
   "source": [
    "src_man.describe()"
   ]
  },
  {
   "cell_type": "code",
   "execution_count": null,
   "metadata": {},
   "outputs": [],
   "source": [
    "src_man.groupby('payment_method_id').agg({'msno':'count','is_churn':'mean'}).sort_values('msno', ascending=False)"
   ]
  },
  {
   "cell_type": "code",
   "execution_count": null,
   "metadata": {},
   "outputs": [],
   "source": [
    "src_man.groupby('payment_plan_days').agg({'msno':'count','is_churn':'mean'}).sort_values('msno', ascending=False)"
   ]
  },
  {
   "cell_type": "code",
   "execution_count": null,
   "metadata": {},
   "outputs": [],
   "source": [
    "src_man.groupby('plan_list_price').agg({'msno':'count','is_churn':'mean'}).sort_values('msno', ascending=False)"
   ]
  },
  {
   "cell_type": "code",
   "execution_count": null,
   "metadata": {},
   "outputs": [],
   "source": [
    "src_man[src_man.payment_plan_days==30].groupby('payment_method_id').agg({'msno':'count','is_churn':'mean'}).sort_values('msno', ascending=False)"
   ]
  },
  {
   "cell_type": "code",
   "execution_count": null,
   "metadata": {},
   "outputs": [],
   "source": [
    "src_man[src_man.payment_plan_days==30].groupby('plan_list_price').agg({'msno':'count','is_churn':'mean'}).sort_values('msno', ascending=False)"
   ]
  },
  {
   "cell_type": "code",
   "execution_count": null,
   "metadata": {},
   "outputs": [],
   "source": [
    "src_man[src_man.payment_plan_days==30].groupby('actual_amount_paid').agg({'msno':'count','is_churn':'mean'}).sort_values('msno', ascending=False)"
   ]
  },
  {
   "cell_type": "code",
   "execution_count": 14,
   "metadata": {},
   "outputs": [],
   "source": [
    "conv_to_date = lambda x: datetime.date(x // 10000, (x // 100) % 100, x % 100)\n",
    "\n",
    "src_man['dt_exp'] = src_man.membership_expire_date.map(conv_to_date)\n",
    "src_man['dt_tran'] = src_man.transaction_date.map(conv_to_date)\n",
    "src_man['dt_diff'] = (src_man.dt_exp - src_man.dt_tran).map(lambda x: x.days)\n",
    "src_man['dt_tran_wd'] = src_man.dt_tran.map(lambda x: x.weekday())\n",
    "src_man['dt_exp_wd'] = src_man.dt_exp.map(lambda x: x.weekday())\n",
    "src_man['dt_tran_diff'] = (src_man.dt_tran.max() - src_man.dt_tran).map(lambda x: x.days)\n",
    "src_man['dt_exp_diff'] = (src_man.dt_exp.max() - src_man.dt_exp).map(lambda x: x.days)"
   ]
  },
  {
   "cell_type": "code",
   "execution_count": null,
   "metadata": {},
   "outputs": [],
   "source": [
    "src_man[:10]"
   ]
  },
  {
   "cell_type": "code",
   "execution_count": null,
   "metadata": {},
   "outputs": [],
   "source": [
    "src_man[src_man.payment_plan_days==30].groupby('dt_tran_diff').agg({'msno':'count','is_churn':'mean'})"
   ]
  },
  {
   "cell_type": "code",
   "execution_count": null,
   "metadata": {},
   "outputs": [],
   "source": [
    "src_man[src_man.payment_plan_days==30].groupby('dt_exp_wd').agg({'msno':'count','is_churn':'mean'})"
   ]
  },
  {
   "cell_type": "code",
   "execution_count": null,
   "metadata": {},
   "outputs": [],
   "source": [
    "src_man[src_man.payment_plan_days==30].groupby('memexp_ym').agg({'msno':'count','is_churn':'mean'})"
   ]
  },
  {
   "cell_type": "code",
   "execution_count": null,
   "metadata": {},
   "outputs": [],
   "source": [
    "src_man[(src_man.payment_plan_days==30)&(src_man.memexp_ym>=201702)].groupby(['memexp_ym','memexp_md']).agg({'msno':'count','is_churn':'mean'})"
   ]
  },
  {
   "cell_type": "code",
   "execution_count": 21,
   "metadata": {},
   "outputs": [],
   "source": [
    "Xt0 = src_man[src_man.payment_plan_days==30].dt_exp_diff.values.reshape(-1,1)\n",
    "Xt = np.hstack([Xt0, np.log(1+Xt0), 1*(Xt0<5), 1*(Xt0<15), 1*(Xt0<25), 1*(Xt0<30), 1*(Xt0<60)])\n",
    "Yt = src_man[src_man.payment_plan_days==30].is_churn.values\n",
    "m_lr0 = sklearn.linear_model.LogisticRegression().fit(Xt0, Yt)\n",
    "m_lr = sklearn.linear_model.LogisticRegression().fit(Xt, Yt)\n",
    "m_gb = sklearn.ensemble.GradientBoostingClassifier().fit(Xt, Yt)"
   ]
  },
  {
   "cell_type": "code",
   "execution_count": 25,
   "metadata": {},
   "outputs": [
    {
     "name": "stdout",
     "output_type": "stream",
     "text": [
      "Quality: Gini = 0.000, Accuracy = 0.763, i-LogLoss = 8.174\n"
     ]
    }
   ],
   "source": [
    "(dt_gini, dt_acc, _, dt_illoss) = modutils.calcBinClassMetrics_Discrete(src_man[src_man.payment_plan_days==30].payment_plan_days.values.reshape(-1,1),\n",
    "                                                                            src_man[src_man.payment_plan_days==30].is_churn.values)\n",
    "\n",
    "print('Quality: Gini = {0:.3f}, Accuracy = {1:.3f}, i-LogLoss = {2:.3f}'.format(dt_gini, dt_acc, dt_illoss))"
   ]
  },
  {
   "cell_type": "code",
   "execution_count": 26,
   "metadata": {},
   "outputs": [
    {
     "name": "stdout",
     "output_type": "stream",
     "text": [
      "Quality: Gini = 0.634, Accuracy = 0.830, i-LogLoss = 5.877\n"
     ]
    }
   ],
   "source": [
    "(dt_gini, dt_acc, _, dt_illoss) = modutils.calcBinClassMetrics_Discrete(src_man[src_man.payment_plan_days==30].dt_exp_diff.values.reshape(-1,1),\n",
    "                                                                            src_man[src_man.payment_plan_days==30].is_churn.values)\n",
    "\n",
    "print('Quality: Gini = {0:.3f}, Accuracy = {1:.3f}, i-LogLoss = {2:.3f}'.format(dt_gini, dt_acc, dt_illoss))"
   ]
  },
  {
   "cell_type": "code",
   "execution_count": 22,
   "metadata": {},
   "outputs": [
    {
     "name": "stdout",
     "output_type": "stream",
     "text": [
      "Quality: Gini = 0.624, Accuracy = 0.824\n"
     ]
    }
   ],
   "source": [
    "(dt_gini, dt_acc, _, _) = modutils.calcBinClassMetrics_Continuous(src_man[src_man.payment_plan_days==30].dt_exp_diff.values.reshape(-1,1),\n",
    "                                                                            src_man[src_man.payment_plan_days==30].is_churn.values)\n",
    "\n",
    "print('Quality: Gini = {0:.3f}, Accuracy = {1:.3f}'.format(dt_gini, dt_acc))"
   ]
  },
  {
   "cell_type": "code",
   "execution_count": null,
   "metadata": {
    "collapsed": true
   },
   "outputs": [],
   "source": []
  }
 ],
 "metadata": {
  "kernelspec": {
   "display_name": "Python 3",
   "language": "python",
   "name": "python3"
  },
  "language_info": {
   "codemirror_mode": {
    "name": "ipython",
    "version": 3
   },
   "file_extension": ".py",
   "mimetype": "text/x-python",
   "name": "python",
   "nbconvert_exporter": "python",
   "pygments_lexer": "ipython3",
   "version": "3.6.1"
  }
 },
 "nbformat": 4,
 "nbformat_minor": 2
}
