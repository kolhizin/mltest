{
 "cells": [
  {
   "cell_type": "code",
   "execution_count": 1,
   "metadata": {
    "collapsed": true
   },
   "outputs": [],
   "source": [
    "import tensorflow as tf\n",
    "import numpy as np\n",
    "import datetime\n",
    "import time\n",
    "\n",
    "import sklearn.metrics"
   ]
  },
  {
   "cell_type": "code",
   "execution_count": 16,
   "metadata": {
    "collapsed": true
   },
   "outputs": [],
   "source": [
    "def genObs(length=20):\n",
    "    return np.random.choice(range(2), size=length)\n",
    "\n",
    "def genTarget(x):\n",
    "    return np.sum(x)\n",
    "\n",
    "def genSample(num, length=20):\n",
    "    x = [genObs(length=length) for _ in range(num)]\n",
    "    y = [genTarget(t) for t in x]\n",
    "    return np.array(x), np.array(y)\n",
    "\n",
    "def randomBatch(tensorTuple, batchSize=64):\n",
    "    ids = np.random.choice(range(tensorTuple[0].shape[0]), batchSize)\n",
    "    return (x[ids,] for x in tensorTuple)"
   ]
  },
  {
   "cell_type": "code",
   "execution_count": 7,
   "metadata": {},
   "outputs": [],
   "source": [
    "train_x, train_y = genSample(10000)\n",
    "valid_x, valid_y = genSample(1000)"
   ]
  },
  {
   "cell_type": "code",
   "execution_count": 93,
   "metadata": {},
   "outputs": [
    {
     "ename": "TypeError",
     "evalue": "tuple indices must be integers or slices, not tuple",
     "output_type": "error",
     "traceback": [
      "\u001b[1;31m---------------------------------------------------------------------------\u001b[0m",
      "\u001b[1;31mTypeError\u001b[0m                                 Traceback (most recent call last)",
      "\u001b[1;32m<ipython-input-93-32148a3faaa0>\u001b[0m in \u001b[0;36m<module>\u001b[1;34m()\u001b[0m\n\u001b[0;32m     13\u001b[0m \u001b[0mtfH\u001b[0m\u001b[1;33m,\u001b[0m \u001b[0mtfO\u001b[0m \u001b[1;33m=\u001b[0m \u001b[0mtf\u001b[0m\u001b[1;33m.\u001b[0m\u001b[0mnn\u001b[0m\u001b[1;33m.\u001b[0m\u001b[0mdynamic_rnn\u001b[0m\u001b[1;33m(\u001b[0m\u001b[0mrnnCell\u001b[0m\u001b[1;33m,\u001b[0m \u001b[0minputs\u001b[0m\u001b[1;33m=\u001b[0m\u001b[0mtfX\u001b[0m\u001b[1;33m,\u001b[0m \u001b[0mdtype\u001b[0m\u001b[1;33m=\u001b[0m\u001b[0mtf\u001b[0m\u001b[1;33m.\u001b[0m\u001b[0mfloat32\u001b[0m\u001b[1;33m)\u001b[0m\u001b[1;33m\u001b[0m\u001b[0m\n\u001b[0;32m     14\u001b[0m \u001b[1;33m\u001b[0m\u001b[0m\n\u001b[1;32m---> 15\u001b[1;33m \u001b[0mtfOut\u001b[0m \u001b[1;33m=\u001b[0m \u001b[0mtf\u001b[0m\u001b[1;33m.\u001b[0m\u001b[0mlayers\u001b[0m\u001b[1;33m.\u001b[0m\u001b[0mdense\u001b[0m\u001b[1;33m(\u001b[0m\u001b[0mtfO\u001b[0m\u001b[1;33m[\u001b[0m\u001b[1;33m:\u001b[0m\u001b[1;33m:\u001b[0m\u001b[1;36m2\u001b[0m\u001b[1;33m,\u001b[0m\u001b[1;33m]\u001b[0m\u001b[1;33m,\u001b[0m \u001b[0mSEQ_LEN\u001b[0m \u001b[1;33m+\u001b[0m \u001b[1;36m1\u001b[0m\u001b[1;33m,\u001b[0m \u001b[0mactivation\u001b[0m\u001b[1;33m=\u001b[0m\u001b[0mtf\u001b[0m\u001b[1;33m.\u001b[0m\u001b[0mnn\u001b[0m\u001b[1;33m.\u001b[0m\u001b[0mrelu\u001b[0m\u001b[1;33m)\u001b[0m\u001b[1;33m\u001b[0m\u001b[0m\n\u001b[0m\u001b[0;32m     16\u001b[0m \u001b[1;33m\u001b[0m\u001b[0m\n\u001b[0;32m     17\u001b[0m \u001b[0mtfLoss\u001b[0m \u001b[1;33m=\u001b[0m \u001b[0mtf\u001b[0m\u001b[1;33m.\u001b[0m\u001b[0mreduce_mean\u001b[0m\u001b[1;33m(\u001b[0m\u001b[0mtf\u001b[0m\u001b[1;33m.\u001b[0m\u001b[0mnn\u001b[0m\u001b[1;33m.\u001b[0m\u001b[0msoftmax_cross_entropy_with_logits\u001b[0m\u001b[1;33m(\u001b[0m\u001b[0mlabels\u001b[0m\u001b[1;33m=\u001b[0m\u001b[0mtfY\u001b[0m\u001b[1;33m,\u001b[0m \u001b[0mlogits\u001b[0m\u001b[1;33m=\u001b[0m\u001b[0mtfOut\u001b[0m\u001b[1;33m)\u001b[0m\u001b[1;33m)\u001b[0m\u001b[1;33m\u001b[0m\u001b[0m\n",
      "\u001b[1;31mTypeError\u001b[0m: tuple indices must be integers or slices, not tuple"
     ]
    }
   ],
   "source": [
    "SEQ_LEN = 20\n",
    "RNN_SIZE = 50\n",
    "\n",
    "tf.reset_default_graph()\n",
    "\n",
    "tfi_x = tf.placeholder(shape=(None, SEQ_LEN), dtype=tf.float32)\n",
    "tfi_y = tf.placeholder(shape=(None), dtype=tf.int64)\n",
    "\n",
    "tfX = tf.reshape(tfi_x, shape=(tf.shape(tfi_x)[0], tf.shape(tfi_x)[1], 1))\n",
    "tfY = tf.one_hot(tfi_y, SEQ_LEN + 1, dtype=tf.float32)\n",
    "\n",
    "rnnCell = tf.nn.rnn_cell.LSTMCell(num_units=RNN_SIZE, activation=tf.nn.tanh)\n",
    "tfH, tfO = tf.nn.dynamic_rnn(rnnCell, inputs=tfX, dtype=tf.float32)\n",
    "\n",
    "tfOut = tf.layers.dense(tfO[::2], SEQ_LEN + 1, activation=tf.nn.relu)\n",
    "\n",
    "tfLoss = tf.reduce_mean(tf.nn.softmax_cross_entropy_with_logits(labels=tfY, logits=tfOut))\n",
    "tfTrain = tf.train.AdamOptimizer(1e-3).minimize(tfLoss)\n",
    "\n",
    "tfOutP = tf.nn.softmax(tfOut)\n",
    "tfOutR = tf.argmax(tfOutP, axis=1)\n",
    "\n",
    "tfAccuracy = tf.reduce_mean(tf.cast(tf.equal(tfi_y, tfOutR), dtype=tf.float32))\n",
    "print('Graph creation complete')"
   ]
  },
  {
   "cell_type": "code",
   "execution_count": 90,
   "metadata": {},
   "outputs": [
    {
     "name": "stdout",
     "output_type": "stream",
     "text": [
      "Epoch 0 (0.79 sec): loss changed from 3.06 to 3.03\t\tVL:3.03\t\tAC:0.06\n",
      "Epoch 1 (0.789 sec): loss changed from 3.02 to 3.0\t\tVL:3.0\t\tAC:0.147\n",
      "Epoch 2 (0.889 sec): loss changed from 3.0 to 2.96\t\tVL:2.97\t\tAC:0.143\n",
      "Epoch 3 (0.777 sec): loss changed from 2.96 to 2.91\t\tVL:2.93\t\tAC:0.143\n",
      "Epoch 4 (0.781 sec): loss changed from 2.92 to 2.91\t\tVL:2.93\t\tAC:0.143\n",
      "Epoch 5 (0.803 sec): loss changed from 2.88 to 2.87\t\tVL:2.92\t\tAC:0.143\n",
      "Epoch 6 (0.773 sec): loss changed from 2.92 to 2.92\t\tVL:2.92\t\tAC:0.143\n",
      "Epoch 7 (0.769 sec): loss changed from 2.91 to 2.9\t\tVL:2.91\t\tAC:0.143\n",
      "Epoch 8 (0.784 sec): loss changed from 2.9 to 2.89\t\tVL:2.9\t\tAC:0.148\n",
      "Epoch 9 (0.773 sec): loss changed from 2.89 to 2.88\t\tVL:2.89\t\tAC:0.151\n",
      "Epoch 10 (0.934 sec): loss changed from 2.88 to 2.86\t\tVL:2.88\t\tAC:0.155\n",
      "Epoch 11 (0.983 sec): loss changed from 2.89 to 2.86\t\tVL:2.85\t\tAC:0.143\n",
      "Epoch 12 (0.863 sec): loss changed from 2.82 to 2.79\t\tVL:2.81\t\tAC:0.188\n",
      "Epoch 13 (0.799 sec): loss changed from 2.82 to 2.79\t\tVL:2.78\t\tAC:0.229\n",
      "Epoch 14 (0.821 sec): loss changed from 2.75 to 2.7\t\tVL:2.75\t\tAC:0.244\n",
      "Epoch 15 (0.782 sec): loss changed from 2.75 to 2.7\t\tVL:2.73\t\tAC:0.217\n",
      "Epoch 16 (0.779 sec): loss changed from 2.64 to 2.59\t\tVL:2.69\t\tAC:0.218\n",
      "Epoch 17 (0.799 sec): loss changed from 2.7 to 2.65\t\tVL:2.64\t\tAC:0.263\n",
      "Epoch 18 (0.766 sec): loss changed from 2.64 to 2.6\t\tVL:2.58\t\tAC:0.245\n",
      "Epoch 19 (0.772 sec): loss changed from 2.56 to 2.5\t\tVL:2.54\t\tAC:0.261\n",
      "Epoch 20 (0.767 sec): loss changed from 2.53 to 2.48\t\tVL:2.51\t\tAC:0.28\n",
      "Epoch 21 (0.785 sec): loss changed from 2.5 to 2.41\t\tVL:2.44\t\tAC:0.289\n",
      "Epoch 22 (0.78 sec): loss changed from 2.31 to 2.25\t\tVL:2.41\t\tAC:0.289\n",
      "Epoch 23 (0.783 sec): loss changed from 2.26 to 2.22\t\tVL:2.37\t\tAC:0.303\n",
      "Epoch 24 (0.788 sec): loss changed from 2.41 to 2.37\t\tVL:2.37\t\tAC:0.307\n",
      "Epoch 25 (0.777 sec): loss changed from 2.32 to 2.28\t\tVL:2.34\t\tAC:0.311\n",
      "Epoch 26 (0.78 sec): loss changed from 2.24 to 2.19\t\tVL:2.31\t\tAC:0.317\n",
      "Epoch 27 (0.771 sec): loss changed from 2.29 to 2.25\t\tVL:2.28\t\tAC:0.332\n",
      "Epoch 28 (0.774 sec): loss changed from 2.27 to 2.25\t\tVL:2.26\t\tAC:0.333\n",
      "Epoch 29 (0.795 sec): loss changed from 2.33 to 2.3\t\tVL:2.25\t\tAC:0.354\n",
      "Epoch 30 (0.77 sec): loss changed from 2.2 to 2.17\t\tVL:2.21\t\tAC:0.373\n",
      "Epoch 31 (0.796 sec): loss changed from 2.23 to 2.22\t\tVL:2.23\t\tAC:0.324\n",
      "Epoch 32 (0.882 sec): loss changed from 2.14 to 2.08\t\tVL:2.19\t\tAC:0.347\n",
      "Epoch 33 (0.973 sec): loss changed from 2.06 to 2.04\t\tVL:2.18\t\tAC:0.374\n",
      "Epoch 34 (0.837 sec): loss changed from 2.11 to 2.28\t\tVL:2.32\t\tAC:0.309\n",
      "Epoch 35 (0.826 sec): loss changed from 2.27 to 2.09\t\tVL:2.17\t\tAC:0.374\n",
      "Epoch 36 (0.776 sec): loss changed from 2.18 to 2.15\t\tVL:2.14\t\tAC:0.375\n",
      "Epoch 37 (0.787 sec): loss changed from 2.16 to 2.12\t\tVL:2.12\t\tAC:0.402\n",
      "Epoch 38 (0.773 sec): loss changed from 2.08 to 2.09\t\tVL:2.12\t\tAC:0.346\n",
      "Epoch 39 (0.764 sec): loss changed from 2.07 to 2.07\t\tVL:2.12\t\tAC:0.357\n",
      "Epoch 40 (0.786 sec): loss changed from 2.07 to 2.04\t\tVL:2.13\t\tAC:0.368\n",
      "Epoch 41 (0.794 sec): loss changed from 2.06 to 2.04\t\tVL:2.09\t\tAC:0.362\n",
      "Epoch 42 (0.776 sec): loss changed from 2.05 to 1.98\t\tVL:2.04\t\tAC:0.39\n",
      "Epoch 43 (0.788 sec): loss changed from 1.99 to 2.04\t\tVL:2.07\t\tAC:0.402\n",
      "Epoch 44 (0.773 sec): loss changed from 2.07 to 2.09\t\tVL:2.11\t\tAC:0.379\n",
      "Epoch 45 (0.793 sec): loss changed from 2.03 to 1.98\t\tVL:2.03\t\tAC:0.387\n",
      "Epoch 46 (0.769 sec): loss changed from 2.02 to 1.98\t\tVL:2.0\t\tAC:0.397\n",
      "Epoch 47 (0.791 sec): loss changed from 2.06 to 2.05\t\tVL:2.0\t\tAC:0.403\n",
      "Epoch 48 (0.795 sec): loss changed from 1.98 to 1.97\t\tVL:1.99\t\tAC:0.4\n",
      "Epoch 49 (0.817 sec): loss changed from 1.86 to 2.16\t\tVL:2.32\t\tAC:0.338\n",
      "Epoch 50 (0.783 sec): loss changed from 2.31 to 2.06\t\tVL:2.03\t\tAC:0.39\n",
      "Epoch 51 (0.78 sec): loss changed from 2.03 to 1.96\t\tVL:1.97\t\tAC:0.413\n",
      "Epoch 52 (0.788 sec): loss changed from 1.96 to 1.94\t\tVL:1.96\t\tAC:0.412\n",
      "Epoch 53 (0.792 sec): loss changed from 1.91 to 1.93\t\tVL:2.0\t\tAC:0.38\n",
      "Epoch 54 (0.816 sec): loss changed from 2.0 to 1.93\t\tVL:1.93\t\tAC:0.412\n",
      "Epoch 55 (0.973 sec): loss changed from 1.95 to 2.02\t\tVL:2.0\t\tAC:0.397\n",
      "Epoch 56 (1.11 sec): loss changed from 1.92 to 1.88\t\tVL:1.97\t\tAC:0.39\n",
      "Epoch 57 (1.04 sec): loss changed from 1.9 to 1.84\t\tVL:1.92\t\tAC:0.414\n",
      "Epoch 58 (0.798 sec): loss changed from 1.92 to 1.91\t\tVL:1.92\t\tAC:0.422\n",
      "Epoch 59 (0.772 sec): loss changed from 1.83 to 2.24\t\tVL:2.29\t\tAC:0.293\n",
      "Epoch 60 (0.775 sec): loss changed from 2.28 to 2.07\t\tVL:2.13\t\tAC:0.38\n",
      "Epoch 61 (0.777 sec): loss changed from 2.15 to 2.04\t\tVL:2.02\t\tAC:0.398\n",
      "Epoch 62 (0.766 sec): loss changed from 1.99 to 1.9\t\tVL:1.94\t\tAC:0.411\n",
      "Epoch 63 (0.778 sec): loss changed from 1.98 to 1.95\t\tVL:1.91\t\tAC:0.43\n",
      "Epoch 64 (0.797 sec): loss changed from 1.9 to 1.87\t\tVL:1.89\t\tAC:0.421\n",
      "Epoch 65 (0.792 sec): loss changed from 1.81 to 1.8\t\tVL:1.88\t\tAC:0.421\n",
      "Epoch 66 (0.871 sec): loss changed from 1.89 to 1.86\t\tVL:1.88\t\tAC:0.423\n"
     ]
    },
    {
     "ename": "KeyboardInterrupt",
     "evalue": "",
     "output_type": "error",
     "traceback": [
      "\u001b[1;31m---------------------------------------------------------------------------\u001b[0m",
      "\u001b[1;31mKeyboardInterrupt\u001b[0m                         Traceback (most recent call last)",
      "\u001b[1;32m<ipython-input-90-6f98e94df069>\u001b[0m in \u001b[0;36m<module>\u001b[1;34m()\u001b[0m\n\u001b[0;32m     12\u001b[0m         \u001b[0mt0\u001b[0m \u001b[1;33m=\u001b[0m \u001b[0mtime\u001b[0m\u001b[1;33m.\u001b[0m\u001b[0mperf_counter\u001b[0m\u001b[1;33m(\u001b[0m\u001b[1;33m)\u001b[0m\u001b[1;33m\u001b[0m\u001b[0m\n\u001b[0;32m     13\u001b[0m         \u001b[1;32mfor\u001b[0m \u001b[0mj\u001b[0m \u001b[1;32min\u001b[0m \u001b[0mrange\u001b[0m\u001b[1;33m(\u001b[0m\u001b[0mnum_steps\u001b[0m\u001b[1;33m)\u001b[0m\u001b[1;33m:\u001b[0m\u001b[1;33m\u001b[0m\u001b[0m\n\u001b[1;32m---> 14\u001b[1;33m             \u001b[0mtfTrain\u001b[0m\u001b[1;33m.\u001b[0m\u001b[0mrun\u001b[0m\u001b[1;33m(\u001b[0m\u001b[0mfeed_dict\u001b[0m\u001b[1;33m=\u001b[0m\u001b[0mtrain_batch\u001b[0m\u001b[1;33m)\u001b[0m\u001b[1;33m\u001b[0m\u001b[0m\n\u001b[0m\u001b[0;32m     15\u001b[0m         \u001b[0mt1\u001b[0m \u001b[1;33m=\u001b[0m \u001b[0mtime\u001b[0m\u001b[1;33m.\u001b[0m\u001b[0mperf_counter\u001b[0m\u001b[1;33m(\u001b[0m\u001b[1;33m)\u001b[0m\u001b[1;33m\u001b[0m\u001b[0m\n\u001b[0;32m     16\u001b[0m         \u001b[0ml1\u001b[0m \u001b[1;33m=\u001b[0m \u001b[0mtfLoss\u001b[0m\u001b[1;33m.\u001b[0m\u001b[0meval\u001b[0m\u001b[1;33m(\u001b[0m\u001b[0mfeed_dict\u001b[0m\u001b[1;33m=\u001b[0m\u001b[0mtrain_batch\u001b[0m\u001b[1;33m)\u001b[0m\u001b[1;33m\u001b[0m\u001b[0m\n",
      "\u001b[1;32mC:\\Anaconda3\\lib\\site-packages\\tensorflow\\python\\framework\\ops.py\u001b[0m in \u001b[0;36mrun\u001b[1;34m(self, feed_dict, session)\u001b[0m\n\u001b[0;32m   1704\u001b[0m         \u001b[0mnone\u001b[0m\u001b[1;33m,\u001b[0m \u001b[0mthe\u001b[0m \u001b[0mdefault\u001b[0m \u001b[0msession\u001b[0m \u001b[0mwill\u001b[0m \u001b[0mbe\u001b[0m \u001b[0mused\u001b[0m\u001b[1;33m.\u001b[0m\u001b[1;33m\u001b[0m\u001b[0m\n\u001b[0;32m   1705\u001b[0m     \"\"\"\n\u001b[1;32m-> 1706\u001b[1;33m     \u001b[0m_run_using_default_session\u001b[0m\u001b[1;33m(\u001b[0m\u001b[0mself\u001b[0m\u001b[1;33m,\u001b[0m \u001b[0mfeed_dict\u001b[0m\u001b[1;33m,\u001b[0m \u001b[0mself\u001b[0m\u001b[1;33m.\u001b[0m\u001b[0mgraph\u001b[0m\u001b[1;33m,\u001b[0m \u001b[0msession\u001b[0m\u001b[1;33m)\u001b[0m\u001b[1;33m\u001b[0m\u001b[0m\n\u001b[0m\u001b[0;32m   1707\u001b[0m \u001b[1;33m\u001b[0m\u001b[0m\n\u001b[0;32m   1708\u001b[0m \u001b[1;33m\u001b[0m\u001b[0m\n",
      "\u001b[1;32mC:\\Anaconda3\\lib\\site-packages\\tensorflow\\python\\framework\\ops.py\u001b[0m in \u001b[0;36m_run_using_default_session\u001b[1;34m(operation, feed_dict, graph, session)\u001b[0m\n\u001b[0;32m   3961\u001b[0m                        \u001b[1;34m\"the operation's graph is different from the session's \"\u001b[0m\u001b[1;33m\u001b[0m\u001b[0m\n\u001b[0;32m   3962\u001b[0m                        \"graph.\")\n\u001b[1;32m-> 3963\u001b[1;33m   \u001b[0msession\u001b[0m\u001b[1;33m.\u001b[0m\u001b[0mrun\u001b[0m\u001b[1;33m(\u001b[0m\u001b[0moperation\u001b[0m\u001b[1;33m,\u001b[0m \u001b[0mfeed_dict\u001b[0m\u001b[1;33m)\u001b[0m\u001b[1;33m\u001b[0m\u001b[0m\n\u001b[0m\u001b[0;32m   3964\u001b[0m \u001b[1;33m\u001b[0m\u001b[0m\n\u001b[0;32m   3965\u001b[0m \u001b[1;33m\u001b[0m\u001b[0m\n",
      "\u001b[1;32mC:\\Anaconda3\\lib\\site-packages\\tensorflow\\python\\client\\session.py\u001b[0m in \u001b[0;36mrun\u001b[1;34m(self, fetches, feed_dict, options, run_metadata)\u001b[0m\n\u001b[0;32m    787\u001b[0m     \u001b[1;32mtry\u001b[0m\u001b[1;33m:\u001b[0m\u001b[1;33m\u001b[0m\u001b[0m\n\u001b[0;32m    788\u001b[0m       result = self._run(None, fetches, feed_dict, options_ptr,\n\u001b[1;32m--> 789\u001b[1;33m                          run_metadata_ptr)\n\u001b[0m\u001b[0;32m    790\u001b[0m       \u001b[1;32mif\u001b[0m \u001b[0mrun_metadata\u001b[0m\u001b[1;33m:\u001b[0m\u001b[1;33m\u001b[0m\u001b[0m\n\u001b[0;32m    791\u001b[0m         \u001b[0mproto_data\u001b[0m \u001b[1;33m=\u001b[0m \u001b[0mtf_session\u001b[0m\u001b[1;33m.\u001b[0m\u001b[0mTF_GetBuffer\u001b[0m\u001b[1;33m(\u001b[0m\u001b[0mrun_metadata_ptr\u001b[0m\u001b[1;33m)\u001b[0m\u001b[1;33m\u001b[0m\u001b[0m\n",
      "\u001b[1;32mC:\\Anaconda3\\lib\\site-packages\\tensorflow\\python\\client\\session.py\u001b[0m in \u001b[0;36m_run\u001b[1;34m(self, handle, fetches, feed_dict, options, run_metadata)\u001b[0m\n\u001b[0;32m    995\u001b[0m     \u001b[1;32mif\u001b[0m \u001b[0mfinal_fetches\u001b[0m \u001b[1;32mor\u001b[0m \u001b[0mfinal_targets\u001b[0m\u001b[1;33m:\u001b[0m\u001b[1;33m\u001b[0m\u001b[0m\n\u001b[0;32m    996\u001b[0m       results = self._do_run(handle, final_targets, final_fetches,\n\u001b[1;32m--> 997\u001b[1;33m                              feed_dict_string, options, run_metadata)\n\u001b[0m\u001b[0;32m    998\u001b[0m     \u001b[1;32melse\u001b[0m\u001b[1;33m:\u001b[0m\u001b[1;33m\u001b[0m\u001b[0m\n\u001b[0;32m    999\u001b[0m       \u001b[0mresults\u001b[0m \u001b[1;33m=\u001b[0m \u001b[1;33m[\u001b[0m\u001b[1;33m]\u001b[0m\u001b[1;33m\u001b[0m\u001b[0m\n",
      "\u001b[1;32mC:\\Anaconda3\\lib\\site-packages\\tensorflow\\python\\client\\session.py\u001b[0m in \u001b[0;36m_do_run\u001b[1;34m(self, handle, target_list, fetch_list, feed_dict, options, run_metadata)\u001b[0m\n\u001b[0;32m   1130\u001b[0m     \u001b[1;32mif\u001b[0m \u001b[0mhandle\u001b[0m \u001b[1;32mis\u001b[0m \u001b[1;32mNone\u001b[0m\u001b[1;33m:\u001b[0m\u001b[1;33m\u001b[0m\u001b[0m\n\u001b[0;32m   1131\u001b[0m       return self._do_call(_run_fn, self._session, feed_dict, fetch_list,\n\u001b[1;32m-> 1132\u001b[1;33m                            target_list, options, run_metadata)\n\u001b[0m\u001b[0;32m   1133\u001b[0m     \u001b[1;32melse\u001b[0m\u001b[1;33m:\u001b[0m\u001b[1;33m\u001b[0m\u001b[0m\n\u001b[0;32m   1134\u001b[0m       return self._do_call(_prun_fn, self._session, handle, feed_dict,\n",
      "\u001b[1;32mC:\\Anaconda3\\lib\\site-packages\\tensorflow\\python\\client\\session.py\u001b[0m in \u001b[0;36m_do_call\u001b[1;34m(self, fn, *args)\u001b[0m\n\u001b[0;32m   1137\u001b[0m   \u001b[1;32mdef\u001b[0m \u001b[0m_do_call\u001b[0m\u001b[1;33m(\u001b[0m\u001b[0mself\u001b[0m\u001b[1;33m,\u001b[0m \u001b[0mfn\u001b[0m\u001b[1;33m,\u001b[0m \u001b[1;33m*\u001b[0m\u001b[0margs\u001b[0m\u001b[1;33m)\u001b[0m\u001b[1;33m:\u001b[0m\u001b[1;33m\u001b[0m\u001b[0m\n\u001b[0;32m   1138\u001b[0m     \u001b[1;32mtry\u001b[0m\u001b[1;33m:\u001b[0m\u001b[1;33m\u001b[0m\u001b[0m\n\u001b[1;32m-> 1139\u001b[1;33m       \u001b[1;32mreturn\u001b[0m \u001b[0mfn\u001b[0m\u001b[1;33m(\u001b[0m\u001b[1;33m*\u001b[0m\u001b[0margs\u001b[0m\u001b[1;33m)\u001b[0m\u001b[1;33m\u001b[0m\u001b[0m\n\u001b[0m\u001b[0;32m   1140\u001b[0m     \u001b[1;32mexcept\u001b[0m \u001b[0merrors\u001b[0m\u001b[1;33m.\u001b[0m\u001b[0mOpError\u001b[0m \u001b[1;32mas\u001b[0m \u001b[0me\u001b[0m\u001b[1;33m:\u001b[0m\u001b[1;33m\u001b[0m\u001b[0m\n\u001b[0;32m   1141\u001b[0m       \u001b[0mmessage\u001b[0m \u001b[1;33m=\u001b[0m \u001b[0mcompat\u001b[0m\u001b[1;33m.\u001b[0m\u001b[0mas_text\u001b[0m\u001b[1;33m(\u001b[0m\u001b[0me\u001b[0m\u001b[1;33m.\u001b[0m\u001b[0mmessage\u001b[0m\u001b[1;33m)\u001b[0m\u001b[1;33m\u001b[0m\u001b[0m\n",
      "\u001b[1;32mC:\\Anaconda3\\lib\\site-packages\\tensorflow\\python\\client\\session.py\u001b[0m in \u001b[0;36m_run_fn\u001b[1;34m(session, feed_dict, fetch_list, target_list, options, run_metadata)\u001b[0m\n\u001b[0;32m   1119\u001b[0m         return tf_session.TF_Run(session, options,\n\u001b[0;32m   1120\u001b[0m                                  \u001b[0mfeed_dict\u001b[0m\u001b[1;33m,\u001b[0m \u001b[0mfetch_list\u001b[0m\u001b[1;33m,\u001b[0m \u001b[0mtarget_list\u001b[0m\u001b[1;33m,\u001b[0m\u001b[1;33m\u001b[0m\u001b[0m\n\u001b[1;32m-> 1121\u001b[1;33m                                  status, run_metadata)\n\u001b[0m\u001b[0;32m   1122\u001b[0m \u001b[1;33m\u001b[0m\u001b[0m\n\u001b[0;32m   1123\u001b[0m     \u001b[1;32mdef\u001b[0m \u001b[0m_prun_fn\u001b[0m\u001b[1;33m(\u001b[0m\u001b[0msession\u001b[0m\u001b[1;33m,\u001b[0m \u001b[0mhandle\u001b[0m\u001b[1;33m,\u001b[0m \u001b[0mfeed_dict\u001b[0m\u001b[1;33m,\u001b[0m \u001b[0mfetch_list\u001b[0m\u001b[1;33m)\u001b[0m\u001b[1;33m:\u001b[0m\u001b[1;33m\u001b[0m\u001b[0m\n",
      "\u001b[1;31mKeyboardInterrupt\u001b[0m: "
     ]
    }
   ],
   "source": [
    "batch_size = 1000\n",
    "num_steps  = 10\n",
    "num_epochs = 100\n",
    "\n",
    "valid_batch = {tfi_x: valid_x, tfi_y: valid_y}\n",
    "with tf.Session() as tfs:\n",
    "    tfs.run(tf.global_variables_initializer())\n",
    "    for i in range(num_epochs):\n",
    "        mini_x, mini_y = randomBatch((train_x, train_y), batchSize=batch_size)\n",
    "        train_batch = {tfi_x:mini_x, tfi_y:mini_y}\n",
    "        l0 = tfLoss.eval(feed_dict=train_batch)\n",
    "        t0 = time.perf_counter()\n",
    "        for j in range(num_steps):\n",
    "            tfTrain.run(feed_dict=train_batch)\n",
    "        t1 = time.perf_counter()\n",
    "        l1 = tfLoss.eval(feed_dict=train_batch)\n",
    "        lv = tfLoss.eval(feed_dict=valid_batch)\n",
    "        ac = tfAccuracy.eval(feed_dict=valid_batch)\n",
    "        \n",
    "        print('Epoch {0} ({1:1.3} sec): loss changed from {2:1.3} to {3:1.3}\\t\\tVL:{4:1.3}\\t\\tAC:{5:1.3}'.format(i,t1-t0,l0,l1,lv,ac))\n",
    "    valid_p, valid_r = tfs.run([tfOutP, tfOutR], feed_dict=valid_batch)"
   ]
  },
  {
   "cell_type": "code",
   "execution_count": 86,
   "metadata": {},
   "outputs": [
    {
     "data": {
      "text/plain": [
       "(array([13,  7, 11,  8, 11,  9, 10,  9, 11, 10]),\n",
       " array([13,  7, 11,  8, 10,  9, 10,  9, 11, 10], dtype=int64))"
      ]
     },
     "execution_count": 86,
     "metadata": {},
     "output_type": "execute_result"
    }
   ],
   "source": [
    "valid_y[:10], valid_r[:10]"
   ]
  },
  {
   "cell_type": "code",
   "execution_count": null,
   "metadata": {
    "collapsed": true
   },
   "outputs": [],
   "source": []
  }
 ],
 "metadata": {
  "kernelspec": {
   "display_name": "Python 3",
   "language": "python",
   "name": "python3"
  },
  "language_info": {
   "codemirror_mode": {
    "name": "ipython",
    "version": 3
   },
   "file_extension": ".py",
   "mimetype": "text/x-python",
   "name": "python",
   "nbconvert_exporter": "python",
   "pygments_lexer": "ipython3",
   "version": "3.6.1"
  }
 },
 "nbformat": 4,
 "nbformat_minor": 2
}
