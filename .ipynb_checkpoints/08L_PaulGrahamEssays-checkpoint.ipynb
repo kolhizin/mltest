{
 "cells": [
  {
   "cell_type": "code",
   "execution_count": 3,
   "metadata": {
    "collapsed": true
   },
   "outputs": [],
   "source": [
    "import urllib.request\n",
    "import re"
   ]
  },
  {
   "cell_type": "code",
   "execution_count": 2,
   "metadata": {
    "collapsed": true
   },
   "outputs": [],
   "source": [
    "with urllib.request.urlopen('http://www.paulgraham.com/articles.html') as response:\n",
    "    essays = response.read()"
   ]
  },
  {
   "cell_type": "code",
   "execution_count": 78,
   "metadata": {
    "collapsed": true
   },
   "outputs": [],
   "source": [
    "rex = re.compile('<a\\s*href=\"([^\"]*)\"')\n",
    "rex_body_start = re.compile('<body')\n",
    "rex_body_end = re.compile('</body>')\n",
    "rex_br = re.compile('<br>')\n",
    "rex_tag = re.compile('<[^>]*>')\n",
    "rex_multispace = re.compile('[ ][ ]+')"
   ]
  },
  {
   "cell_type": "code",
   "execution_count": 9,
   "metadata": {},
   "outputs": [],
   "source": [
    "urls = rex.findall(str(essays))"
   ]
  },
  {
   "cell_type": "code",
   "execution_count": 106,
   "metadata": {},
   "outputs": [],
   "source": [
    "def process_url(url):\n",
    "    try:\n",
    "        with urllib.request.urlopen(url) as response:\n",
    "            src = str(response.read())\n",
    "    except:\n",
    "        return None\n",
    "    \n",
    "    if src is None:\n",
    "        return src\n",
    "    bs = rex_body_start.search(src)\n",
    "    be = rex_body_end.search(src)\n",
    "    res = rex_multispace.sub(' ', rex_tag.sub(' ', rex_br.sub('\\n',src[bs.start():be.end()])))\n",
    "    return res.replace(\"\\\\'\", \"'\").replace(\"\\\\n\",'\\n').strip()\n",
    "\n",
    "def save_article(x, name):\n",
    "    with open(name, 'w') as f:\n",
    "        f.write(x)"
   ]
  },
  {
   "cell_type": "code",
   "execution_count": 89,
   "metadata": {},
   "outputs": [],
   "source": [
    "articles = [process_url('http://www.paulgraham.com/' + x) for x in urls]"
   ]
  },
  {
   "cell_type": "code",
   "execution_count": 114,
   "metadata": {},
   "outputs": [],
   "source": [
    "for i in range(len(articles)):\n",
    "    if articles[i] is not None and len(articles[i]) > 999:\n",
    "        save_article(articles[i], 'D:/Jupyter/Datasets/PaulGraham/{0:03d}.txt'.format(i))"
   ]
  },
  {
   "cell_type": "code",
   "execution_count": null,
   "metadata": {
    "collapsed": true
   },
   "outputs": [],
   "source": []
  }
 ],
 "metadata": {
  "kernelspec": {
   "display_name": "Python [default]",
   "language": "python",
   "name": "python3"
  },
  "language_info": {
   "codemirror_mode": {
    "name": "ipython",
    "version": 3
   },
   "file_extension": ".py",
   "mimetype": "text/x-python",
   "name": "python",
   "nbconvert_exporter": "python",
   "pygments_lexer": "ipython3",
   "version": "3.6.1"
  }
 },
 "nbformat": 4,
 "nbformat_minor": 2
}
