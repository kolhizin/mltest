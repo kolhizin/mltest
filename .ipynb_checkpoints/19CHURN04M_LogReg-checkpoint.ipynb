{
 "cells": [
  {
   "cell_type": "code",
   "execution_count": 1,
   "metadata": {
    "collapsed": true
   },
   "outputs": [],
   "source": [
    "import numpy as np\n",
    "import tensorflow as tf\n",
    "import pandas as pd\n",
    "import matplotlib.pyplot as plt\n",
    "import datetime, time\n",
    "import sklearn, sklearn.linear_model, sklearn.ensemble\n",
    "\n",
    "import modutils\n",
    "\n",
    "data_dir = '../DataSets/Churn/'\n",
    "logm_fmt = data_dir + 'user_logs/uldtm_{0}.csv'\n",
    "used_log = '201701'"
   ]
  },
  {
   "cell_type": "code",
   "execution_count": 94,
   "metadata": {
    "collapsed": true
   },
   "outputs": [],
   "source": [
    "src0 = pd.read_csv(logm_fmt.format(used_log))"
   ]
  },
  {
   "cell_type": "code",
   "execution_count": 58,
   "metadata": {},
   "outputs": [],
   "source": [
    "features = ['used', 'ln_tot', 'ln_sec', 'pct_low', 'pct_high', 'pct_100', 'pct_unq', 'avg_sec_n']\n",
    "target = 'nxt_used'\n",
    "devX = src0[~np.isnan(src0[target])][features].values\n",
    "devY = src0[~np.isnan(src0[target])][target].values\n",
    "\n",
    "(trainX, trainY),(validX, validY) = modutils.splitSample((devX, devY),pcts=[0.7,0.3])\n",
    "\n",
    "def eval_model(m, tX, tY):\n",
    "    tP = m.predict_proba(tX)[:,1]\n",
    "    tL = np.log(tP / (1-tP))\n",
    "    return sklearn.metrics.roc_auc_score(tY, tL)*2-1\n",
    "\n",
    "def set_prefixes(prefix):\n",
    "    return {'used_sum':prefix+'_used','used_mean':prefix+'_avg_used', 'f_lgt_mean':prefix+'_lgt_mean', 'f_lgt_min':prefix+'_lgt_min', 'f_lgt_max':prefix+'_lgt_max'}"
   ]
  },
  {
   "cell_type": "code",
   "execution_count": 15,
   "metadata": {},
   "outputs": [
    {
     "name": "stdout",
     "output_type": "stream",
     "text": [
      "Wall time: 719 ms\n"
     ]
    }
   ],
   "source": [
    "%%time\n",
    "m_logreg = sklearn.linear_model.LogisticRegression().fit(trainX, trainY)"
   ]
  },
  {
   "cell_type": "code",
   "execution_count": 17,
   "metadata": {},
   "outputs": [
    {
     "name": "stdout",
     "output_type": "stream",
     "text": [
      "LogReg: train - 0.586, valid - 0.587\n"
     ]
    }
   ],
   "source": [
    "gini_t = eval_model(m_logreg, trainX, trainY)\n",
    "gini_v = eval_model(m_logreg, validX, validY)\n",
    "print('LogReg: train - {0:.3f}, valid - {1:.3f}'.format(gini_t, gini_v))"
   ]
  },
  {
   "cell_type": "code",
   "execution_count": 18,
   "metadata": {},
   "outputs": [
    {
     "name": "stdout",
     "output_type": "stream",
     "text": [
      "Wall time: 36.2 s\n"
     ]
    }
   ],
   "source": [
    "%%time\n",
    "m_gb01 = sklearn.ensemble.GradientBoostingClassifier().fit(trainX, trainY)"
   ]
  },
  {
   "cell_type": "code",
   "execution_count": 19,
   "metadata": {},
   "outputs": [
    {
     "name": "stdout",
     "output_type": "stream",
     "text": [
      "GradBoost (default): train - 0.591, valid - 0.591\n"
     ]
    }
   ],
   "source": [
    "gini_t = eval_model(m_gb01, trainX, trainY)\n",
    "gini_v = eval_model(m_gb01, validX, validY)\n",
    "print('GradBoost (default): train - {0:.3f}, valid - {1:.3f}'.format(gini_t, gini_v))"
   ]
  },
  {
   "cell_type": "code",
   "execution_count": 20,
   "metadata": {},
   "outputs": [
    {
     "name": "stdout",
     "output_type": "stream",
     "text": [
      "Wall time: 1min 7s\n"
     ]
    }
   ],
   "source": [
    "%%time\n",
    "m_gb02 = sklearn.ensemble.GradientBoostingClassifier(max_depth=5).fit(trainX, trainY)"
   ]
  },
  {
   "cell_type": "code",
   "execution_count": 21,
   "metadata": {},
   "outputs": [
    {
     "name": "stdout",
     "output_type": "stream",
     "text": [
      "GradBoost (depth=5): train - 0.595, valid - 0.590\n"
     ]
    }
   ],
   "source": [
    "gini_t = eval_model(m_gb02, trainX, trainY)\n",
    "gini_v = eval_model(m_gb02, validX, validY)\n",
    "print('GradBoost (depth=5): train - {0:.3f}, valid - {1:.3f}'.format(gini_t, gini_v))"
   ]
  },
  {
   "cell_type": "code",
   "execution_count": 22,
   "metadata": {},
   "outputs": [
    {
     "data": {
      "text/plain": [
       "array([ 0.        ,  0.0528529 ,  0.30351616,  0.06045091,  0.08258534,\n",
       "        0.2086368 ,  0.07210676,  0.21985112])"
      ]
     },
     "execution_count": 22,
     "metadata": {},
     "output_type": "execute_result"
    }
   ],
   "source": [
    "m_gb01.feature_importances_"
   ]
  },
  {
   "cell_type": "code",
   "execution_count": 23,
   "metadata": {},
   "outputs": [
    {
     "data": {
      "text/plain": [
       "array([  7.20952763e-07,   6.70972353e-02,   3.10718574e-01,\n",
       "         4.99309199e-02,   6.21331482e-02,   1.97939096e-01,\n",
       "         7.53295736e-02,   2.36850731e-01])"
      ]
     },
     "execution_count": 23,
     "metadata": {},
     "output_type": "execute_result"
    }
   ],
   "source": [
    "m_gb02.feature_importances_"
   ]
  },
  {
   "cell_type": "code",
   "execution_count": 95,
   "metadata": {
    "collapsed": true
   },
   "outputs": [],
   "source": [
    "src_p = m_logreg.predict_proba(src0[features])[:,1]\n",
    "src0['f_lgt'] = np.log(src_p/(1-src_p))"
   ]
  },
  {
   "cell_type": "code",
   "execution_count": 96,
   "metadata": {},
   "outputs": [],
   "source": [
    "srcg05 = src0[(src0.date>20170125)&(src0.date<=20170130)].groupby('uid').agg({'used':['sum','mean'], 'f_lgt':['mean','min', 'max']})\n",
    "srcg05.columns = ['_'.join(x) for x in srcg05.columns.ravel()]\n",
    "srcg05 = srcg05.rename(columns=set_prefixes('g05'))\n",
    "\n",
    "srcg15 = src0[(src0.date>20170115)&(src0.date<=20170125)].groupby('uid').agg({'used':['sum','mean'], 'f_lgt':['mean','min', 'max']})\n",
    "srcg15.columns = ['_'.join(x) for x in srcg15.columns.ravel()]\n",
    "srcg15 = srcg15.rename(columns=set_prefixes('g15'))\n",
    "\n",
    "srcg30 = src0[(src0.date<=20170115)].groupby('uid').agg({'used':['sum','mean'], 'f_lgt':['mean','min', 'max']})\n",
    "srcg30.columns = ['_'.join(x) for x in srcg30.columns.ravel()]\n",
    "srcg30 = srcg30.rename(columns=set_prefixes('g30'))\n",
    "\n",
    "srcgt = src0[src0.date==20170131][['uid','used']]"
   ]
  },
  {
   "cell_type": "code",
   "execution_count": 97,
   "metadata": {},
   "outputs": [
    {
     "data": {
      "text/plain": [
       "(1136003, 1136003, 1136003, 1136003)"
      ]
     },
     "execution_count": 97,
     "metadata": {},
     "output_type": "execute_result"
    }
   ],
   "source": [
    "len(srcg05), len(srcg15), len(srcg30), len(srcgt)"
   ]
  },
  {
   "cell_type": "code",
   "execution_count": 122,
   "metadata": {},
   "outputs": [],
   "source": [
    "srcg05['uid'] = srcg05.index\n",
    "srcg15['uid'] = srcg15.index\n",
    "srcg30['uid'] = srcg30.index"
   ]
  },
  {
   "cell_type": "code",
   "execution_count": 123,
   "metadata": {},
   "outputs": [],
   "source": [
    "s1 = pd.merge(srcgt, srcg05, how='inner', on='uid')\n",
    "s2 = pd.merge(s1, srcg15, how='inner', on='uid')\n",
    "srcgg = pd.merge(s2, srcg30, how='inner', on='uid')"
   ]
  },
  {
   "cell_type": "code",
   "execution_count": 126,
   "metadata": {},
   "outputs": [],
   "source": [
    "gfeatures1 = ['_used','_avg_used','_lgt_mean','_lgt_min','_lgt_max']\n",
    "gfeatures2 = ['g05', 'g15', 'g30']\n",
    "gfeatures = [x+y for x in gfeatures2 for y in gfeatures1]\n",
    "gtarget = 'used'\n",
    "\n",
    "gdevX = srcgg[gfeatures].values\n",
    "gdevY = srcgg[gtarget].values\n",
    "\n",
    "(gtrainX, gtrainY),(gvalidX, gvalidY) = modutils.splitSample((gdevX, gdevY),pcts=[0.7,0.3])"
   ]
  },
  {
   "cell_type": "code",
   "execution_count": 127,
   "metadata": {},
   "outputs": [
    {
     "name": "stdout",
     "output_type": "stream",
     "text": [
      "Wall time: 7.16 s\n"
     ]
    }
   ],
   "source": [
    "%%time\n",
    "gm_logreg = sklearn.linear_model.LogisticRegression().fit(gtrainX, gtrainY)"
   ]
  },
  {
   "cell_type": "code",
   "execution_count": 128,
   "metadata": {},
   "outputs": [
    {
     "name": "stdout",
     "output_type": "stream",
     "text": [
      "LogReg: train - 0.695, valid - 0.695\n"
     ]
    }
   ],
   "source": [
    "gini_t = eval_model(gm_logreg, gtrainX, gtrainY)\n",
    "gini_v = eval_model(gm_logreg, gvalidX, gvalidY)\n",
    "print('LogReg: train - {0:.3f}, valid - {1:.3f}'.format(gini_t, gini_v))"
   ]
  },
  {
   "cell_type": "code",
   "execution_count": 129,
   "metadata": {},
   "outputs": [
    {
     "name": "stdout",
     "output_type": "stream",
     "text": [
      "Wall time: 4min 19s\n"
     ]
    }
   ],
   "source": [
    "%%time\n",
    "gm_gb01 = sklearn.ensemble.GradientBoostingClassifier().fit(gtrainX, gtrainY)"
   ]
  },
  {
   "cell_type": "code",
   "execution_count": 130,
   "metadata": {},
   "outputs": [
    {
     "name": "stdout",
     "output_type": "stream",
     "text": [
      "GradBoost: train - 0.719, valid - 0.719\n"
     ]
    }
   ],
   "source": [
    "gini_t = eval_model(gm_gb01, gtrainX, gtrainY)\n",
    "gini_v = eval_model(gm_gb01, gvalidX, gvalidY)\n",
    "print('GradBoost: train - {0:.3f}, valid - {1:.3f}'.format(gini_t, gini_v))"
   ]
  }
 ],
 "metadata": {
  "kernelspec": {
   "display_name": "Python 3",
   "language": "python",
   "name": "python3"
  },
  "language_info": {
   "codemirror_mode": {
    "name": "ipython",
    "version": 3
   },
   "file_extension": ".py",
   "mimetype": "text/x-python",
   "name": "python",
   "nbconvert_exporter": "python",
   "pygments_lexer": "ipython3",
   "version": "3.6.1"
  }
 },
 "nbformat": 4,
 "nbformat_minor": 2
}
