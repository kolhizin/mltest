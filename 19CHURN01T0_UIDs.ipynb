{
 "cells": [
  {
   "cell_type": "code",
   "execution_count": 1,
   "metadata": {
    "collapsed": true
   },
   "outputs": [],
   "source": [
    "import numpy as np\n",
    "import pandas as pd\n",
    "import matplotlib.pyplot as plt\n",
    "import datetime, time\n",
    "\n",
    "import modutils\n",
    "\n",
    "#data_dir = '../DataSets/Churn/'\n",
    "src_dir = '../DataSets/kkbox/churn/raw/'\n",
    "dst_dir = '../DataSets/kkbox/churn/proc/'\n",
    "\n",
    "dst_file = 'uid_msno.csv'\n",
    "\n",
    "msno_files = ['members_v3.csv', 'sample_submission_zero.csv', 'sample_submission_v2.csv', 'train.csv', 'train_v2.csv']"
   ]
  },
  {
   "cell_type": "code",
   "execution_count": 11,
   "metadata": {},
   "outputs": [],
   "source": [
    "sr = np.hstack([pd.read_csv(src_dir+x, usecols=['msno']).msno.values for x in msno_files])"
   ]
  },
  {
   "cell_type": "code",
   "execution_count": 21,
   "metadata": {},
   "outputs": [],
   "source": [
    "sdf = pd.DataFrame(list(set(sr)),columns=['msno']).sort_values('msno').reset_index(drop=True)\n",
    "sdf['uid'] = sdf.index"
   ]
  },
  {
   "cell_type": "code",
   "execution_count": null,
   "metadata": {},
   "outputs": [],
   "source": [
    "sdf.to_csv(dst_dir+dst_file, index=False)"
   ]
  },
  {
   "cell_type": "code",
   "execution_count": null,
   "metadata": {
    "collapsed": true
   },
   "outputs": [],
   "source": []
  }
 ],
 "metadata": {
  "kernelspec": {
   "display_name": "Python [default]",
   "language": "python",
   "name": "python3"
  },
  "language_info": {
   "codemirror_mode": {
    "name": "ipython",
    "version": 3
   },
   "file_extension": ".py",
   "mimetype": "text/x-python",
   "name": "python",
   "nbconvert_exporter": "python",
   "pygments_lexer": "ipython3",
   "version": "3.6.1"
  }
 },
 "nbformat": 4,
 "nbformat_minor": 2
}
