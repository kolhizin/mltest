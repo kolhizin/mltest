{
 "cells": [
  {
   "cell_type": "code",
   "execution_count": 1,
   "metadata": {},
   "outputs": [
    {
     "name": "stdout",
     "output_type": "stream",
     "text": [
      "3.6.1 |Anaconda 4.4.0 (64-bit)| (default, May 11 2017, 13:25:24) [MSC v.1900 64 bit (AMD64)]\n"
     ]
    }
   ],
   "source": [
    "import sys\n",
    "print(sys.version)"
   ]
  },
  {
   "cell_type": "raw",
   "metadata": {},
   "source": [
    "installed packages:\n",
    "- osmapi\n",
    "- shapely, fiona, pyproj (wheel from lfd.uci.edu)\n",
    "- geopandas (also installs descartes)\n",
    "- osmium"
   ]
  },
  {
   "cell_type": "code",
   "execution_count": 3,
   "metadata": {
    "collapsed": true
   },
   "outputs": [],
   "source": [
    "import osmium"
   ]
  },
  {
   "cell_type": "code",
   "execution_count": 43,
   "metadata": {
    "collapsed": true
   },
   "outputs": [],
   "source": [
    "class FileStatsHandler(osmium.SimpleHandler):\n",
    "    def __init__(self):\n",
    "        super(FileStatsHandler, self).__init__()\n",
    "        self.nodes = 0\n",
    "        self.ways = 0\n",
    "        self.rels = 0\n",
    "        \n",
    "    def node(self, n):\n",
    "        if self.nodes < 100 and 'public_transport' in n.tags:\n",
    "            self.nodes += 1\n",
    "            print(n)\n",
    "        \n",
    "    def way(self, w):\n",
    "        if self.ways < 100 and 'public_transport' in w.tags:\n",
    "            self.ways += 1\n",
    "            print(w)\n",
    "        \n",
    "    def relation(self, r):\n",
    "        self.rels += 1"
   ]
  },
  {
   "cell_type": "code",
   "execution_count": 44,
   "metadata": {
    "collapsed": true
   },
   "outputs": [],
   "source": [
    "h = FileStatsHandler()"
   ]
  },
  {
   "cell_type": "code",
   "execution_count": 45,
   "metadata": {},
   "outputs": [
    {
     "name": "stdout",
     "output_type": "stream",
     "text": [
      "n59956423: location=37.407050/55.721779 tags={bus=yes,name=Спорткомплекс „Сетунь“,public_tr...}\n",
      "n60656485: location=37.542858/55.904693 tags={bus=yes,name=Платформа Марк,public_transport=...}\n",
      "n60662577: location=37.638308/55.824073 tags={alt_name:en=Vystavochny Tsentr,layer=1,monora...}\n",
      "n60662591: location=37.608890/55.821913 tags={alt_name:en=Teletsentr,layer=1,monorail=yes,n...}\n",
      "n60665302: location=37.766638/55.829379 tags={name=Детский санаторий,public_transport=platform}\n",
      "n60672864: location=37.661599/55.729780 tags={name=Динамовская улица,public_transport=stop_...}\n",
      "n60672869: location=37.664132/55.723628 tags={name=Железнодорожный переезд,public_transport...}\n",
      "n60672874: location=37.673896/55.720915 tags={name=Шинный завод,public_transport=stop_posit...}\n",
      "n60725048: location=37.670724/55.844073 tags={name=Северянин,public_transport=stop_position...}\n",
      "n60792114: location=37.605424/55.656057 tags={name=Болотниковская улица,public_transport=st...}\n",
      "n60906314: location=37.807393/55.752898 tags={name=Зелёный проспект, 65,public_transport=st...}\n",
      "n61088516: location=37.651409/55.776296 tags={alt_name=Москва-Каланчёвская,esr:user=191617,...}\n",
      "n61689457: location=37.702625/55.733654 tags={name=Калитники,public_transport=stop_position...}\n",
      "n64610825: location=37.392277/55.901914 tags={bus=yes,name=Новокуркинское шоссе, д. 35,publ...}\n",
      "n66174859: location=37.698443/55.799492 tags={bus=yes,name=Русаковская набережная,public_tr...}\n",
      "n80255881: location=37.444474/55.722376 tags={bus=yes,name=улица Вересаева,public_transport...}\n",
      "n80263855: location=37.470822/55.765568 tags={bus=yes,name=Ул. Нижние Мнёвники - Байк-центр...}\n",
      "n85722315: location=37.490383/55.672205 tags={bus=yes,name=МГИМО,public_transport=stop_posi...}\n",
      "n87702759: location=37.451282/55.683738 tags={alt_name=Очаково,name=Очаково I,public_transp...}\n",
      "n87702782: location=37.480232/55.704030 tags={esr:user=180218,name=Матвеевская,official_nam...}\n",
      "n87702813: location=37.511957/55.728502 tags={esr:user=197907,name=Москва-Сортировочная,nam...}\n",
      "n87761966: location=37.424640/55.694214 tags={highway=bus_stop,name=Рябиновая улица, 51,old...}\n",
      "n103801267: location=37.774089/55.730811 tags={name=Плющево,name:en=Plyushchevo,public_trans...}\n",
      "n141132842: location=37.982271/55.649899 tags={name=Красково,name:en=Kraskovo,public_transpo...}\n",
      "n143427820: location=37.573129/55.865829 tags={name=Дегунино,public_transport=stop_position,...}\n",
      "n146580712: location=37.589196/55.795594 tags={alt_name=Москва-Бутырская,esr:user=196004,loc...}\n",
      "n146618102: location=37.590654/55.794862 tags={name=Савёловская,public_transport=stop_positi...}\n",
      "n148264048: location=37.623885/55.704489 tags={name=ЗИЛ,public_transport=stop_position,train...}\n",
      "n148264066: location=37.643522/55.717781 tags={esr:user=193504,name=Москва-Товарная,official...}\n",
      "n148264083: location=37.640758/55.729378 tags={esr:user=193519,loc_name=Павелецкий вокзал,na...}\n",
      "n156046754: location=37.652491/55.869397 tags={bus=yes,name=Чукотский проезд,public_transpor...}\n",
      "n179550643: location=37.840099/55.766097 tags={bus=yes,public_transport=stop_position,share_...}\n",
      "n179956327: location=37.830110/55.749660 tags={bus=yes,name=ПТУ №89,public_transport=stop_po...}\n",
      "n203573042: location=37.562297/55.510401 tags={name=Щербинка,public_transport=stop_position,...}\n",
      "n220239168: location=37.717109/55.724109 tags={light_rail=yes,name=Новохохловская,public_tra...}\n",
      "n230988275: location=37.574410/55.846551 tags={name=Окружная,public_transport=stop_position,...}\n",
      "n231014000: location=37.576079/55.819184 tags={name=Тимирязевская,name:be=Ціміразеўская,name...}\n",
      "n239621751: location=37.420643/55.746207 tags={bus=yes,name=Ул. Крылатские холмы,public_tran...}\n",
      "n239836747: location=37.684946/55.815722 tags={bus=yes,name=Ростокинский проезд,public_trans...}\n",
      "n239982515: location=37.597052/55.743032 tags={bus=yes,name=Дом учёных,public_transport=stop...}\n",
      "n242546357: location=37.657947/55.758081 tags={name=Курская,public_transport=stop_position,s...}\n",
      "n243843943: location=37.627022/55.821857 tags={layer=1,monorail=yes,name=Улица Академика Кор...}\n",
      "n243894862: location=37.646199/55.827191 tags={name=ВДНХ (северный вход),public_transport=st...}\n",
      "n243896132: location=37.665247/55.842943 tags={name=Станция Ростокино,public_transport=stop_...}\n",
      "n244036218: location=37.446009/55.730702 tags={name=Кунцевская,public_transport=stop_positio...}\n",
      "n247474226: location=37.722470/55.782657 tags={bus=yes,name=Метро «Семёновская»,public_trans...}\n",
      "n248639722: location=37.403694/55.850476 tags={bus=yes,name=Братцево,public_transport=stop_p...}\n",
      "n248640375: location=37.419583/55.848929 tags={bus=yes,name=Бульвар Яна Райниса, 31,public_t...}\n",
      "n248734937: location=37.957405/55.791665 tags={bus=yes,name=ВСХИЗО,public_transport=stop_pos...}\n",
      "n248734951: location=37.959769/55.780865 tags={bus=yes,name=Зверосовхоз,public_transport=sto...}\n",
      "n248734965: location=37.961213/55.771289 tags={bus=yes,name=Соколовка,public_transport=stop_...}\n",
      "n248734991: location=37.964335/55.758540 tags={bus=yes,name=Гидрометтехникум,public_transpor...}\n",
      "n248763164: location=37.425252/55.858433 tags={bus=yes,name=Улица Героев Панфиловцев, д. 21,...}\n",
      "n248763168: location=37.430865/55.858071 tags={bus=yes,name=Планерная улица,public_transport...}\n",
      "n249671425: location=37.398903/55.833130 tags={name=Трикотажная,public_transport=stop_positi...}\n",
      "n249908144: location=37.963205/55.789975 tags={bus=yes,name=Онкологическая больница,public_t...}\n",
      "n249909032: location=37.972329/55.789841 tags={bus=yes,name=ВТУ,public_transport=stop_positi...}\n",
      "n249909033: location=37.971908/55.789744 tags={bus=yes,name=ВТУ,public_transport=stop_positi...}\n",
      "n250043704: location=37.969242/55.796018 tags={bus=yes,name=Южный квартал,public_transport=s...}\n",
      "n250043822: location=37.984645/55.797984 tags={bus=yes,public_transport=stop_position,share_...}\n",
      "n250536400: location=37.954786/55.752172 tags={name=Кучино,public_transport=stop_position,tr...}\n",
      "n250557163: location=37.442779/55.866614 tags={bus=yes,name=Алёшкино,public_transport=stop_p...}\n",
      "n250557831: location=37.410758/55.855837 tags={name=Улица Вилиса Лациса,public_transport=sto...}\n",
      "n250559401: location=37.395729/55.807971 tags={name=Мякининский проезд,public_transport=stop...}\n",
      "n250559604: location=37.391290/55.801519 tags={name=Таллинская улица,public_transport=stop_p...}\n",
      "n250559783: location=37.418439/55.807910 tags={highway=bus_stop,name=Аллея \"Дорога Жизни\",pu...}\n",
      "n250560452: location=37.454412/55.805686 tags={description=посадка,name=Детская поликлиника,...}\n",
      "n250722843: location=37.715881/55.751505 tags={alt_name=Станция метро «Авиамоторная»,descrip...}\n",
      "n250954968: location=37.462206/55.809463 tags={bus=yes,name=Станция метро \"Щукинская\",public...}\n",
      "n251300658: location=37.485782/55.789035 tags={bus=yes,name=Улица Берзарина,public_transport...}\n",
      "n252348505: location=37.655710/55.627870 tags={bus=yes,name=Бакинская улица,public_transport...}\n",
      "n252899807: location=37.664659/55.731781 tags={bench=yes,bin=yes,bus=yes,highway=bus_stop,na...}\n",
      "n252906073: location=37.663511/55.726699 tags={name=Арбатецкая улица,public_transport=stop_p...}\n",
      "n252934401: location=37.633321/55.755518 tags={name=Китай-город,public_transport=stop_positi...}\n",
      "n253063603: location=37.668212/55.722006 tags={name=Объединение ЦНИИТМАШ,public_transport=st...}\n",
      "n253088131: location=37.704076/55.786024 tags={bus=yes,name=Площадь Журавлёва,public_transpo...}\n",
      "n253179637: location=37.291037/55.788571 tags={name=Санаторий \"Архангельское\",public_transpo...}\n",
      "n253258085: location=37.414327/55.755682 tags={bus=yes,name=Управа Района Крылатское,public_...}\n",
      "n253287215: location=37.657225/55.620324 tags={bus=yes,name=Больница имени Буянова,public_tr...}\n",
      "n253322172: location=37.263025/55.737536 tags={name=Барвиха,public_transport=stop_position,r...}\n",
      "n253322835: location=37.212924/55.729464 tags={name=Усово,public_transport=stop_position,rai...}\n",
      "n253323288: location=37.238836/55.733245 tags={name=Ильинское,public_transport=stop_position...}\n",
      "n253324063: location=37.294662/55.739001 tags={name=Раздоры,public_transport=stop_position,r...}\n",
      "n253438544: location=37.303169/55.814727 tags={name=Красногорская,name:en=Krasnogorskaya,nam...}\n",
      "n253438572: location=37.220031/55.832023 tags={name=Аникеевка,name:en=Anikeevka,name:ru=Аник...}\n",
      "n253438596: location=37.155382/55.855072 tags={name=Малиновка,public_transport=stop_position...}\n",
      "n253438606: location=37.125604/55.866690 tags={name=Дедовск,name:en=Dedovsk,name:ru=Дедовск,...}\n",
      "n253439059: location=37.354126/55.656207 tags={name=Переделкино,public_transport=stop_positi...}\n",
      "n253663205: location=37.947005/55.797168 tags={bus=yes,public_transport=stop_position,share_...}\n",
      "n253666189: location=37.954008/55.823779 tags={bus=yes,name=Поликлиника №4,public_transport=...}\n",
      "n253666196: location=37.952777/55.829735 tags={bus=yes,highway=crossing,name=Котельная,publi...}\n",
      "n253731992: location=37.385613/55.890548 tags={bus=yes,name=7-й микрорайон Куркина,public_tr...}\n",
      "n253745256: location=37.534128/55.739937 tags={name=Кутузовская,network=МЦК,operator=ГУП «Мо...}\n",
      "n253817017: location=37.946011/55.836668 tags={bus=yes,name=Пехра-Покровское,public_transpor...}\n",
      "n253818912: location=37.975984/55.811752 tags={bus=yes,name=Лесопарк,public_transport=stop_p...}\n",
      "n253822178: location=37.972375/55.834050 tags={bus=yes,name=ДК «Солнышко»,public_transport=s...}\n",
      "n253845954: location=37.897090/55.759717 tags={name=Никольское,public_transport=stop_positio...}\n",
      "n254393857: location=37.656572/55.735781 tags={bench=yes,highway=bus_stop,name=Улица Гвоздев...}\n",
      "n254393882: location=37.660870/55.729877 tags={bench=yes,bus=yes,highway=bus_stop,name=Динам...}\n",
      "n254393913: location=37.662644/55.727034 tags={bench=yes,bus=yes,highway=bus_stop,name=Арбат...}\n",
      "w24888099: nodes=[270428550,270428551,270428552,2022894068,2704...] tags={public_transport=dispatcher}\n",
      "w27800679: nodes=[305238801,305238805,305238810,305238814,30523...] tags={name=Улица Академика Курчатова — Центр крови,...}\n",
      "w32285787: nodes=[362914348,362914349,362914350,362914351,36291...] tags={addr:housenumber=105А,addr:street=Зелёный про...}\n"
     ]
    },
    {
     "name": "stdout",
     "output_type": "stream",
     "text": [
      "w33544029: nodes=[382902923,382902924,297263061,668718141,38290...] tags={building=yes,building:levels=1,public_transpo...}\n",
      "w33544053: nodes=[382903014,663656413,244027283,382903015,38290...] tags={building=yes,building:levels=1,public_transpo...}\n",
      "w33848232: nodes=[387781448,1468782460,1468782572,1468782513,14...] tags={area=yes,lit=yes,public_transport=platform,ra...}\n",
      "w34426508: nodes=[395534337,395534341,395534344,416317145,39553...] tags={area=yes,layer=1,name=на Москву,public_transp...}\n",
      "w34426542: nodes=[395537699,395537692,395537693,2871253004,3955...] tags={area=yes,layer=1,name=от Москвы,public_transp...}\n",
      "w35670561: nodes=[911555757,1626507862,911555758,911555759,9115...] tags={area=yes,paved:date=2005,public_transport=pla...}\n",
      "w35670568: nodes=[911572146,911555764,1626507866,911555765,9115...] tags={area=yes,paved:date=2005,public_transport=pla...}\n",
      "w37645201: nodes=[441301793,3656351863,441301795,441301796,4413...] tags={building=yes,public_transport=station,wikidat...}\n",
      "w37665043: nodes=[441557078,4645060985,441557080,441557081,4645...] tags={area=yes,layer=1,public_transport=platform,ra...}\n",
      "w37665044: nodes=[441557090,4645060968,441557092,441557094,4645...] tags={area=yes,layer=1,public_transport=platform,ra...}\n",
      "w37804663: nodes=[443419133,1028951266,1028951265,443419132,475...] tags={area=yes,public_transport=platform,railway=pl...}\n",
      "w37912707: nodes=[445004134,445004135] tags={layer=1,public_transport=platform,railway=pla...}\n",
      "w37912709: nodes=[445004136,445004137] tags={layer=1,public_transport=platform,railway=pla...}\n",
      "w39550564: nodes=[473887084,1460499847,1460499869,1460499873,14...] tags={area=yes,public_transport=platform,railway=pl...}\n",
      "w39550565: nodes=[1460499886,1460499867,1460499842,473887094,47...] tags={area=yes,public_transport=platform,railway=pl...}\n",
      "w39550567: nodes=[473887124,3691041316,473887138,473887146,1460...] tags={area=yes,public_transport=platform,railway=pl...}\n",
      "w39550570: nodes=[473887152,4386309477,1460406369,1460406371,36...] tags={area=yes,public_transport=platform,railway=pl...}\n",
      "w39551270: nodes=[473887034,473887041,473887047,473887053,14604...] tags={area=yes,public_transport=platform,railway=pl...}\n",
      "w39558817: nodes=[474073423,921669600,921669528,921669563,47407...] tags={area=yes,lit=yes,paved:date=2003,public_trans...}\n",
      "w39558818: nodes=[474073427,474073447,474073451,830993300,47407...] tags={area=yes,lit=yes,paved:date=2003,public_trans...}\n",
      "w39558822: nodes=[474073471,4242240770,4242240757,4242240705,42...] tags={area=yes,bench=yes,bin=yes,lit=yes,name=Мален...}\n",
      "w39558823: nodes=[474073493,921559206,921559203,4242240774,4242...] tags={area=yes,bench=yes,bin=yes,lit=yes,name=Мален...}\n",
      "w39578458: nodes=[474383310,1187076251,474383311,294024249,5181...] tags={building=yes,building:levels=3,public_transpo...}\n",
      "w39748427: nodes=[476504431,476504432,476504433,476504434,47650...] tags={building=yes,building:levels=1,name=Автостанц...}\n",
      "w40604743: nodes=[493080393,1106707964,493080394,1106708027,493...] tags={building=yes,name=Рижская,public_transport=st...}\n",
      "w40721819: nodes=[494748104,1006053494,639279222,494748107,9796...] tags={area=yes,description=от Москвы,public_transpo...}\n",
      "w40721822: nodes=[316697760,935769703,494748111,935769663,93576...] tags={area=yes,public_transport=platform,railway=pl...}\n",
      "w40721824: nodes=[316697762,935769602,935769673,935769612,49474...] tags={area=yes,public_transport=platform,railway=pl...}\n",
      "w41863631: nodes=[517674288,517674290,517674291,517674292,48259...] tags={addr:housenumber=70,addr:street=Перовская ули...}\n",
      "w41877107: nodes=[518021409,518021413,518021417,518021419,51802...] tags={addr:housenumber=8/22А,addr:street=улица Стал...}\n",
      "w41901583: nodes=[518628767,1312239511,1312238976,1312238545,51...] tags={public_transport=dispatcher}\n",
      "w41984343: nodes=[520458364,520458368,520458371,520458373,52045...] tags={addr:city=Москва,addr:housenumber=19Б,addr:st...}\n",
      "w43542790: nodes=[1233149631,2639002644,1233149632,1288896172,5...] tags={area=yes,layer=1,public_transport=platform,ra...}\n",
      "w44188429: nodes=[561272750,831114565,561272756,561272762,56127...] tags={area=yes,fee=yes,public_transport=platform,ra...}\n",
      "w44188430: nodes=[845341370,845341363,561272752,561272751,49510...] tags={area=yes,fee=yes,public_transport=platform,ra...}\n",
      "w44188433: nodes=[561272759,3997180338,561272764,4199405828,561...] tags={building=train_station,public_transport=station}\n",
      "w45249844: nodes=[574519611,1135403707,1135403737,574519599,419...] tags={area=yes,public_transport=platform,railway=pl...}\n",
      "w45768557: nodes=[582859544,582859545,582859546,582859547,58285...] tags={area=yes,layer=-2,public_transport=platform,r...}\n",
      "w46398210: nodes=[592661438,592661442,592661450,592661449,59266...] tags={area=yes,layer=-2,public_transport=platform,r...}\n",
      "w47218714: nodes=[3129151941,3129151939,3129151937,3129151934,4...] tags={building=public,public_transport=station,subw...}\n",
      "w49921921: nodes=[634433830,634433834,634433842,1300925772,6344...] tags={building=yes,building:levels=2,public_transpo...}\n",
      "w50319469: nodes=[639279223,968154454,968154448,968154435,96815...] tags={area=yes,description=на Курское направление,p...}\n",
      "w51285736: nodes=[654315197,654315203] tags={alt_name=Станция метро «Преображенская площад...}\n",
      "w51498352: nodes=[658291461,658291437,658291466,658291463,29692...] tags={building=yes,building:levels=2,name=Южный вес...}\n",
      "w52072156: nodes=[2012667646,663704711,663704715,663704716,2012...] tags={addr:city=Москва,addr:housenumber=вл4А,addr:s...}\n",
      "w52133957: nodes=[664305383,664305385,664305391,664305393,66430...] tags={addr:housenumber=47,addr:street=улица Рудневк...}\n",
      "w52301963: nodes=[1199539592,1199539595,1199539596,1199539594,1...] tags={area=yes,fee=yes,layer=-2,public_transport=pl...}\n",
      "w52673348: nodes=[668718138,1198759790,1198759792,668718144,119...] tags={area=yes,layer=-1,public_transport=platform,r...}\n",
      "w54449967: nodes=[1232995877,1232995882,685982297,685982355,123...] tags={area=yes,public_transport=platform,railway=pl...}\n",
      "w54699685: nodes=[688768746,688768758,688768754,688768750,68876...] tags={addr:city=Москва,addr:country=RU,addr:housenu...}\n",
      "w54851091: nodes=[690548941,690548944,1117088914,1117088927,111...] tags={area=yes,public_transport=platform,railway=pl...}\n",
      "w54851092: nodes=[690548946,690548943,1117088934,1117088938,690...] tags={area=yes,public_transport=platform,railway=pl...}\n",
      "w54851170: nodes=[690549646,1135397494,4196004516,4418836388,41...] tags={area=yes,public_transport=platform,railway=pl...}\n",
      "w54851171: nodes=[1132206692,1239263218,1132206604,1109383223,6...] tags={area=yes,public_transport=platform,railway=pl...}\n",
      "w54851175: nodes=[690549694,1913687819,690549695,1913692699,690...] tags={area=yes,public_transport=platform,railway=pl...}\n",
      "w54851176: nodes=[1913687821,1107663020,4181523215,4181523212,4...] tags={area=yes,public_transport=platform,railway=pl...}\n",
      "w54851179: nodes=[690549703,2476404384,4659823528,4659823511,46...] tags={area=yes,layer=1,public_transport=platform,ra...}\n",
      "w54851188: nodes=[690549770,4559531022,4894162628,4894162629,48...] tags={area=yes,public_transport=platform,railway=pl...}\n",
      "w55697258: nodes=[699905070,699905075,699904892,3850771167,6999...] tags={area=yes,layer=-2,public_transport=platform,r...}\n",
      "w56043807: nodes=[703466730,2171203303,703466733,703466735,7034...] tags={area=yes,area:highway=service,barrier=fence,p...}\n",
      "w61423599: nodes=[766879595,766886707,766879558,766883272,76687...] tags={area=yes,description=на Москву,lit=yes,name=С...}\n",
      "w61423600: nodes=[766879581,766879568,766879559,766879556,76688...] tags={area=yes,description=от Москвы,lit=yes,name=С...}\n",
      "w61756408: nodes=[769430237,769430429,769430306,969143905,18014...] tags={area=yes,lit=yes,name=Северянин,paved:date=20...}\n",
      "w61851387: nodes=[770741164,770741140,1998359364,1998359368,199...] tags={area=yes,lit=yes,name=Валентиновка,operator=Ц...}\n",
      "w61851392: nodes=[770741135,770741163,1998359374,1998359380,770...] tags={area=yes,lit=yes,name=Валентиновка,operator=Ц...}\n",
      "w62212790: nodes=[775995705,775996063,775996046,775996068,77599...] tags={area=yes,name=Панки,paved:date=2005,public_tr...}\n",
      "w62212800: nodes=[775995994,775995975,1260575357,1260575222,775...] tags={area=yes,name=Панки,paved:date=2005,public_tr...}\n",
      "w62212807: nodes=[775995902,775995886,775996081,3369368359,7759...] tags={area=yes,paved:date=2005,public_transport=pla...}\n",
      "w62212811: nodes=[775996042,262634072,775995952,775995709,77599...] tags={area=yes,paved:date=2005,public_transport=pla...}\n",
      "w66611101: nodes=[805901058,979614092,979614091,1677617973,9796...] tags={area=yes,description=на Москву,public_transpo...}\n",
      "w73817704: nodes=[1312239318,1312238563,1312238875,873652211,13...] tags={public_transport=dispatcher}\n",
      "w75117571: nodes=[886630844,886630766,886630652,886630815,88663...] tags={addr:housenumber=10,addr:street=Беловежская у...}\n",
      "w75765893: nodes=[894440289,894440139,894440054,894440281] tags={paved:date=2008,public_transport=platform,rai...}\n",
      "w75765898: nodes=[910353243,940107960,940107921,910353247,37203...] tags={area=yes,layer=1,paved:date=2005,public_trans...}\n",
      "w76235154: nodes=[899334411,1233076234,1233076247,1233076240,12...] tags={area=yes,public_transport=platform,railway=pl...}\n",
      "w76703782: nodes=[903818590,903818592,903818595,1779302133,9038...] tags={area=yes,description=от Москвы, на Москву (кр...}\n",
      "w76707069: nodes=[1624059471,903953709,903953706,4427944341,442...] tags={amenity=bus_station,name=Станция Реутово (сев...}\n",
      "w77030578: nodes=[907030839,907030841,908493068,908492933,19514...] tags={area=yes,public_transport=platform,railway=pl...}\n",
      "w77030580: nodes=[908493075,908493078,907030842,2404830465,9084...] tags={area=yes,public_transport=platform,railway=pl...}\n",
      "w77449812: nodes=[911552392,911552393,911552394,911552395,91155...] tags={area=yes,disused=yes,paved:date=2005,public_t...}\n",
      "w77450024: nodes=[911555713,900135767,900135765,900135770,90013...] tags={area=yes,paved:date=2005,public_transport=pla...}\n",
      "w77450033: nodes=[911555746,911555747,911555748,911555749,90013...] tags={area=yes,paved:date=2005,public_transport=pla...}\n",
      "w77451185: nodes=[911571926,911571928,911571931,911571934,91157...] tags={area=yes,paved:date=2005,public_transport=pla...}\n",
      "w77451187: nodes=[911571978,911571980,911571982,911571985,91157...] tags={area=yes,paved:date=2005,public_transport=pla...}\n",
      "w77501842: nodes=[912143364,912143371,912143372,912143373,91214...] tags={area=yes,public_transport=platform,railway=pl...}\n",
      "w78332044: nodes=[919613898,919613938,919613920,919613931,91961...] tags={area=yes,description=на Фрязино; на Москву (ф...}\n",
      "w78345537: nodes=[919725804,919725823,919700586,1994264316,9197...] tags={area=yes,lit=yes,name=Болшево,operator=Центра...}\n",
      "w78741232: nodes=[922949369,2805534153,2605146858,922949375,922...] tags={area=yes,covered=yes,public_transport=platfor...}\n",
      "w78741238: nodes=[922949413,922949415,2605146830,922949419,9229...] tags={area=yes,covered=yes,public_transport=platfor...}\n",
      "w78741248: nodes=[922949443,922949444,922949447,922949448,92294...] tags={area=yes,covered=yes,public_transport=platfor...}\n",
      "w78741254: nodes=[922949460,922949462,922949471,922949472,92294...] tags={area=yes,covered=yes,public_transport=platfor...}\n",
      "w78741266: nodes=[922949513,922949515,2605146871,922949520,9229...] tags={area=yes,covered=yes,public_transport=platfor...}\n",
      "w78741271: nodes=[922949555,922949557,2605146878,2605146888,260...] tags={area=yes,covered=yes,public_transport=platfor...}\n",
      "w78741282: nodes=[922949605,922949614,922949619,922949620,92294...] tags={area=yes,covered=yes,paved:date=2005,public_t...}\n",
      "w78741289: nodes=[922949660,922949661,922949664,922949667,92294...] tags={area=yes,covered=yes,public_transport=platfor...}\n",
      "w78741299: nodes=[922949709,2605146853,922949711,922949712,9229...] tags={area=yes,covered=yes,public_transport=platfor...}\n",
      "w80864436: nodes=[942715076,1136183989,1136184063,1136183963,11...] tags={area=yes,public_transport=platform,railway=pl...}\n",
      "Wall time: 14.6 s\n"
     ]
    }
   ],
   "source": [
    "%%time\n",
    "h.apply_file('C:/Users/KolhiziN/Downloads/map.xml')"
   ]
  },
  {
   "cell_type": "code",
   "execution_count": 9,
   "metadata": {},
   "outputs": [
    {
     "data": {
      "text/plain": [
       "4307782"
      ]
     },
     "execution_count": 9,
     "metadata": {},
     "output_type": "execute_result"
    }
   ],
   "source": [
    "h.nodes"
   ]
  },
  {
   "cell_type": "code",
   "execution_count": 27,
   "metadata": {},
   "outputs": [
    {
     "data": {
      "text/plain": [
       "48744"
      ]
     },
     "execution_count": 27,
     "metadata": {},
     "output_type": "execute_result"
    }
   ],
   "source": [
    "h.rels"
   ]
  },
  {
   "cell_type": "code",
   "execution_count": 28,
   "metadata": {},
   "outputs": [
    {
     "data": {
      "text/plain": [
       "787756"
      ]
     },
     "execution_count": 28,
     "metadata": {},
     "output_type": "execute_result"
    }
   ],
   "source": [
    "h.ways"
   ]
  },
  {
   "cell_type": "code",
   "execution_count": null,
   "metadata": {
    "collapsed": true
   },
   "outputs": [],
   "source": []
  }
 ],
 "metadata": {
  "kernelspec": {
   "display_name": "Python 3",
   "language": "python",
   "name": "python3"
  },
  "language_info": {
   "codemirror_mode": {
    "name": "ipython",
    "version": 3
   },
   "file_extension": ".py",
   "mimetype": "text/x-python",
   "name": "python",
   "nbconvert_exporter": "python",
   "pygments_lexer": "ipython3",
   "version": "3.6.1"
  }
 },
 "nbformat": 4,
 "nbformat_minor": 2
}
