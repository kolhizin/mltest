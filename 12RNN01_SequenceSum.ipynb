{
 "cells": [
  {
   "cell_type": "code",
   "execution_count": 1,
   "metadata": {
    "collapsed": true
   },
   "outputs": [],
   "source": [
    "import tensorflow as tf\n",
    "import numpy as np\n",
    "import datetime\n",
    "import time\n",
    "\n",
    "import sklearn.metrics"
   ]
  },
  {
   "cell_type": "code",
   "execution_count": 16,
   "metadata": {
    "collapsed": true
   },
   "outputs": [],
   "source": [
    "def genObs(length=20):\n",
    "    return np.random.choice(range(2), size=length)\n",
    "\n",
    "def genTarget(x):\n",
    "    return np.sum(x)\n",
    "\n",
    "def genSample(num, length=20):\n",
    "    x = [genObs(length=length) for _ in range(num)]\n",
    "    y = [genTarget(t) for t in x]\n",
    "    return np.array(x), np.array(y)\n",
    "\n",
    "def randomBatch(tensorTuple, batchSize=64):\n",
    "    ids = np.random.choice(range(tensorTuple[0].shape[0]), batchSize)\n",
    "    return (x[ids,] for x in tensorTuple)"
   ]
  },
  {
   "cell_type": "code",
   "execution_count": 7,
   "metadata": {},
   "outputs": [],
   "source": [
    "train_x, train_y = genSample(10000)\n",
    "valid_x, valid_y = genSample(1000)"
   ]
  },
  {
   "cell_type": "code",
   "execution_count": 124,
   "metadata": {},
   "outputs": [
    {
     "name": "stdout",
     "output_type": "stream",
     "text": [
      "Graph creation complete\n"
     ]
    }
   ],
   "source": [
    "SEQ_LEN = 20\n",
    "RNN_SIZE = 5\n",
    "\n",
    "tf.reset_default_graph()\n",
    "\n",
    "tfi_x = tf.placeholder(shape=(None, SEQ_LEN), dtype=tf.float32)\n",
    "tfi_y = tf.placeholder(shape=(None), dtype=tf.int64)\n",
    "\n",
    "tfX = tf.reshape(tfi_x, shape=(tf.shape(tfi_x)[0], tf.shape(tfi_x)[1], 1))\n",
    "tfY = tf.one_hot(tfi_y, SEQ_LEN + 1, dtype=tf.float32)\n",
    "\n",
    "#rnnCell = tf.nn.rnn_cell.LSTMCell(num_units=RNN_SIZE, activation=tf.nn.tanh, state_is_tuple=False)\n",
    "rnnCell = tf.nn.rnn_cell.MultiRNNCell([tf.nn.rnn_cell.GRUCell(num_units=RNN_SIZE, activation=tf.nn.tanh) for _ in range(3)])\n",
    "\n",
    "tfH, tfO = tf.nn.dynamic_rnn(rnnCell, inputs=tfX, dtype=tf.float32)\n",
    "\n",
    "tfOut = tf.layers.dense(tfO[2], SEQ_LEN + 1, activation=tf.nn.relu)\n",
    "\n",
    "tfLoss = tf.reduce_mean(tf.nn.softmax_cross_entropy_with_logits(labels=tfY, logits=tfOut))\n",
    "tfTrain = tf.train.AdamOptimizer(1e-3).minimize(tfLoss)\n",
    "\n",
    "tfOutP = tf.nn.softmax(tfOut)\n",
    "tfOutR = tf.argmax(tfOutP, axis=1)\n",
    "\n",
    "tfAccuracy = tf.reduce_mean(tf.cast(tf.equal(tfi_y, tfOutR), dtype=tf.float32))\n",
    "print('Graph creation complete')"
   ]
  },
  {
   "cell_type": "code",
   "execution_count": 125,
   "metadata": {},
   "outputs": [
    {
     "name": "stdout",
     "output_type": "stream",
     "text": [
      "Epoch 0 (0.647 sec): loss changed from 3.07 to 3.04\t\tVL:3.04\t\tAC:0.12\n",
      "Epoch 1 (0.473 sec): loss changed from 3.04 to 3.03\t\tVL:3.03\t\tAC:0.12\n",
      "Epoch 2 (0.495 sec): loss changed from 3.03 to 3.01\t\tVL:3.01\t\tAC:0.12\n",
      "Epoch 3 (0.474 sec): loss changed from 3.01 to 2.99\t\tVL:2.99\t\tAC:0.12\n",
      "Epoch 4 (0.59 sec): loss changed from 2.99 to 2.96\t\tVL:2.96\t\tAC:0.12\n",
      "Epoch 5 (0.486 sec): loss changed from 2.98 to 2.97\t\tVL:2.95\t\tAC:0.048\n",
      "Epoch 6 (0.482 sec): loss changed from 2.94 to 2.93\t\tVL:2.95\t\tAC:0.123\n",
      "Epoch 7 (0.556 sec): loss changed from 2.94 to 2.94\t\tVL:2.95\t\tAC:0.123\n",
      "Epoch 8 (0.534 sec): loss changed from 2.95 to 2.95\t\tVL:2.95\t\tAC:0.12\n",
      "Epoch 9 (0.465 sec): loss changed from 2.96 to 2.96\t\tVL:2.95\t\tAC:0.081\n",
      "Epoch 10 (0.47 sec): loss changed from 2.95 to 2.95\t\tVL:2.95\t\tAC:0.123\n",
      "Epoch 11 (0.604 sec): loss changed from 2.94 to 2.93\t\tVL:2.95\t\tAC:0.123\n",
      "Epoch 12 (0.484 sec): loss changed from 2.96 to 2.95\t\tVL:2.95\t\tAC:0.12\n",
      "Epoch 13 (0.6 sec): loss changed from 2.93 to 2.93\t\tVL:2.95\t\tAC:0.12\n",
      "Epoch 14 (0.471 sec): loss changed from 2.91 to 2.9\t\tVL:2.94\t\tAC:0.12\n",
      "Epoch 15 (0.479 sec): loss changed from 2.93 to 2.93\t\tVL:2.94\t\tAC:0.12\n",
      "Epoch 16 (0.546 sec): loss changed from 2.93 to 2.92\t\tVL:2.92\t\tAC:0.193\n",
      "Epoch 17 (0.539 sec): loss changed from 2.91 to 2.89\t\tVL:2.9\t\tAC:0.219\n",
      "Epoch 18 (0.482 sec): loss changed from 2.91 to 2.87\t\tVL:2.87\t\tAC:0.24\n",
      "Epoch 19 (0.482 sec): loss changed from 2.85 to 2.8\t\tVL:2.83\t\tAC:0.239\n",
      "Epoch 20 (0.611 sec): loss changed from 2.83 to 2.8\t\tVL:2.8\t\tAC:0.24\n",
      "Epoch 21 (0.493 sec): loss changed from 2.78 to 2.75\t\tVL:2.78\t\tAC:0.241\n",
      "Epoch 22 (0.48 sec): loss changed from 2.73 to 2.68\t\tVL:2.74\t\tAC:0.245\n",
      "Epoch 23 (0.498 sec): loss changed from 2.73 to 2.69\t\tVL:2.71\t\tAC:0.245\n",
      "Epoch 24 (0.494 sec): loss changed from 2.68 to 2.66\t\tVL:2.68\t\tAC:0.243\n",
      "Epoch 25 (0.475 sec): loss changed from 2.64 to 2.62\t\tVL:2.66\t\tAC:0.244\n",
      "Epoch 26 (0.481 sec): loss changed from 2.63 to 2.61\t\tVL:2.65\t\tAC:0.244\n",
      "Epoch 27 (0.673 sec): loss changed from 2.61 to 2.59\t\tVL:2.63\t\tAC:0.245\n",
      "Epoch 28 (0.636 sec): loss changed from 2.6 to 2.57\t\tVL:2.61\t\tAC:0.246\n",
      "Epoch 29 (0.605 sec): loss changed from 2.61 to 2.58\t\tVL:2.58\t\tAC:0.254\n",
      "Epoch 30 (0.533 sec): loss changed from 2.58 to 2.56\t\tVL:2.56\t\tAC:0.262\n",
      "Epoch 31 (0.479 sec): loss changed from 2.52 to 2.49\t\tVL:2.54\t\tAC:0.277\n",
      "Epoch 32 (0.475 sec): loss changed from 2.56 to 2.54\t\tVL:2.53\t\tAC:0.283\n",
      "Epoch 33 (0.511 sec): loss changed from 2.48 to 2.45\t\tVL:2.5\t\tAC:0.293\n",
      "Epoch 34 (0.551 sec): loss changed from 2.47 to 2.44\t\tVL:2.48\t\tAC:0.311\n",
      "Epoch 35 (0.474 sec): loss changed from 2.49 to 2.47\t\tVL:2.46\t\tAC:0.301\n",
      "Epoch 36 (0.47 sec): loss changed from 2.48 to 2.45\t\tVL:2.43\t\tAC:0.322\n",
      "Epoch 37 (0.47 sec): loss changed from 2.4 to 2.37\t\tVL:2.41\t\tAC:0.329\n",
      "Epoch 38 (0.472 sec): loss changed from 2.44 to 2.41\t\tVL:2.39\t\tAC:0.336\n",
      "Epoch 39 (0.474 sec): loss changed from 2.42 to 2.4\t\tVL:2.37\t\tAC:0.339\n",
      "Epoch 40 (0.491 sec): loss changed from 2.27 to 2.24\t\tVL:2.35\t\tAC:0.341\n",
      "Epoch 41 (0.469 sec): loss changed from 2.32 to 2.31\t\tVL:2.34\t\tAC:0.341\n",
      "Epoch 42 (0.664 sec): loss changed from 2.28 to 2.27\t\tVL:2.33\t\tAC:0.341\n",
      "Epoch 43 (0.481 sec): loss changed from 2.35 to 2.33\t\tVL:2.32\t\tAC:0.341\n",
      "Epoch 44 (0.477 sec): loss changed from 2.26 to 2.24\t\tVL:2.31\t\tAC:0.341\n",
      "Epoch 45 (0.49 sec): loss changed from 2.27 to 2.25\t\tVL:2.3\t\tAC:0.341\n",
      "Epoch 46 (0.625 sec): loss changed from 2.23 to 2.21\t\tVL:2.3\t\tAC:0.341\n",
      "Epoch 47 (0.477 sec): loss changed from 2.33 to 2.32\t\tVL:2.29\t\tAC:0.341\n",
      "Epoch 48 (0.48 sec): loss changed from 2.27 to 2.26\t\tVL:2.28\t\tAC:0.341\n",
      "Epoch 49 (0.632 sec): loss changed from 2.29 to 2.28\t\tVL:2.28\t\tAC:0.341\n",
      "Epoch 50 (0.484 sec): loss changed from 2.19 to 2.19\t\tVL:2.27\t\tAC:0.341\n",
      "Epoch 51 (0.476 sec): loss changed from 2.19 to 2.18\t\tVL:2.27\t\tAC:0.341\n",
      "Epoch 52 (0.474 sec): loss changed from 2.15 to 2.14\t\tVL:2.26\t\tAC:0.341\n",
      "Epoch 53 (0.475 sec): loss changed from 2.26 to 2.26\t\tVL:2.26\t\tAC:0.341\n",
      "Epoch 54 (0.59 sec): loss changed from 2.21 to 2.2\t\tVL:2.25\t\tAC:0.341\n",
      "Epoch 55 (0.513 sec): loss changed from 2.25 to 2.24\t\tVL:2.25\t\tAC:0.341\n",
      "Epoch 56 (0.475 sec): loss changed from 2.15 to 2.14\t\tVL:2.24\t\tAC:0.341\n",
      "Epoch 57 (0.471 sec): loss changed from 2.22 to 2.21\t\tVL:2.23\t\tAC:0.341\n",
      "Epoch 58 (0.477 sec): loss changed from 2.25 to 2.24\t\tVL:2.23\t\tAC:0.341\n",
      "Epoch 59 (0.494 sec): loss changed from 2.18 to 2.17\t\tVL:2.22\t\tAC:0.341\n",
      "Epoch 60 (0.476 sec): loss changed from 2.13 to 2.12\t\tVL:2.22\t\tAC:0.341\n",
      "Epoch 61 (0.477 sec): loss changed from 2.2 to 2.19\t\tVL:2.21\t\tAC:0.341\n",
      "Epoch 62 (0.479 sec): loss changed from 2.13 to 2.12\t\tVL:2.21\t\tAC:0.341\n",
      "Epoch 63 (0.532 sec): loss changed from 2.14 to 2.13\t\tVL:2.2\t\tAC:0.341\n",
      "Epoch 64 (0.622 sec): loss changed from 2.15 to 2.14\t\tVL:2.19\t\tAC:0.341\n",
      "Epoch 65 (0.635 sec): loss changed from 2.13 to 2.12\t\tVL:2.19\t\tAC:0.341\n",
      "Epoch 66 (0.615 sec): loss changed from 2.11 to 2.1\t\tVL:2.18\t\tAC:0.341\n",
      "Epoch 67 (0.487 sec): loss changed from 2.17 to 2.16\t\tVL:2.17\t\tAC:0.341\n",
      "Epoch 68 (0.622 sec): loss changed from 2.13 to 2.12\t\tVL:2.16\t\tAC:0.341\n",
      "Epoch 69 (0.48 sec): loss changed from 2.16 to 2.15\t\tVL:2.15\t\tAC:0.341\n",
      "Epoch 70 (0.637 sec): loss changed from 2.12 to 2.11\t\tVL:2.15\t\tAC:0.341\n",
      "Epoch 71 (0.496 sec): loss changed from 2.2 to 2.19\t\tVL:2.14\t\tAC:0.341\n",
      "Epoch 72 (0.567 sec): loss changed from 2.14 to 2.13\t\tVL:2.13\t\tAC:0.341\n",
      "Epoch 73 (0.524 sec): loss changed from 2.11 to 2.1\t\tVL:2.12\t\tAC:0.341\n",
      "Epoch 74 (0.598 sec): loss changed from 2.06 to 2.04\t\tVL:2.11\t\tAC:0.341\n",
      "Epoch 75 (0.487 sec): loss changed from 2.18 to 2.16\t\tVL:2.1\t\tAC:0.341\n",
      "Epoch 76 (0.48 sec): loss changed from 2.13 to 2.11\t\tVL:2.09\t\tAC:0.34\n",
      "Epoch 77 (0.648 sec): loss changed from 1.94 to 1.93\t\tVL:2.08\t\tAC:0.341\n",
      "Epoch 78 (0.491 sec): loss changed from 2.1 to 2.08\t\tVL:2.07\t\tAC:0.36\n",
      "Epoch 79 (0.486 sec): loss changed from 1.98 to 1.97\t\tVL:2.06\t\tAC:0.349\n",
      "Epoch 80 (0.481 sec): loss changed from 2.0 to 1.99\t\tVL:2.05\t\tAC:0.341\n",
      "Epoch 81 (0.609 sec): loss changed from 2.03 to 2.02\t\tVL:2.04\t\tAC:0.377\n",
      "Epoch 82 (0.486 sec): loss changed from 2.05 to 2.03\t\tVL:2.04\t\tAC:0.37\n",
      "Epoch 83 (0.479 sec): loss changed from 2.0 to 1.99\t\tVL:2.03\t\tAC:0.35\n",
      "Epoch 84 (0.476 sec): loss changed from 1.96 to 1.95\t\tVL:2.02\t\tAC:0.365\n",
      "Epoch 85 (0.599 sec): loss changed from 1.9 to 1.89\t\tVL:2.01\t\tAC:0.343\n",
      "Epoch 86 (0.482 sec): loss changed from 1.95 to 1.94\t\tVL:2.01\t\tAC:0.349\n",
      "Epoch 87 (0.494 sec): loss changed from 1.97 to 1.96\t\tVL:2.0\t\tAC:0.342\n",
      "Epoch 88 (0.569 sec): loss changed from 1.98 to 1.96\t\tVL:1.99\t\tAC:0.372\n",
      "Epoch 89 (0.509 sec): loss changed from 2.07 to 2.06\t\tVL:1.98\t\tAC:0.378\n",
      "Epoch 90 (0.483 sec): loss changed from 1.94 to 1.93\t\tVL:1.98\t\tAC:0.375\n",
      "Epoch 91 (0.473 sec): loss changed from 1.97 to 1.96\t\tVL:1.97\t\tAC:0.381\n",
      "Epoch 92 (0.479 sec): loss changed from 1.9 to 1.89\t\tVL:1.96\t\tAC:0.389\n",
      "Epoch 93 (0.608 sec): loss changed from 1.83 to 1.82\t\tVL:1.96\t\tAC:0.382\n",
      "Epoch 94 (0.466 sec): loss changed from 1.84 to 1.84\t\tVL:1.95\t\tAC:0.383\n",
      "Epoch 95 (0.476 sec): loss changed from 1.94 to 1.93\t\tVL:1.95\t\tAC:0.406\n",
      "Epoch 96 (0.537 sec): loss changed from 1.92 to 1.91\t\tVL:1.94\t\tAC:0.398\n",
      "Epoch 97 (0.54 sec): loss changed from 1.95 to 1.95\t\tVL:1.94\t\tAC:0.397\n",
      "Epoch 98 (0.572 sec): loss changed from 1.93 to 1.92\t\tVL:1.94\t\tAC:0.41\n",
      "Epoch 99 (0.607 sec): loss changed from 1.89 to 1.88\t\tVL:1.93\t\tAC:0.406\n",
      "Epoch 100 (0.629 sec): loss changed from 1.92 to 1.92\t\tVL:1.93\t\tAC:0.412\n",
      "Epoch 101 (0.528 sec): loss changed from 1.86 to 1.85\t\tVL:1.92\t\tAC:0.393\n",
      "Epoch 102 (0.596 sec): loss changed from 1.88 to 1.87\t\tVL:1.92\t\tAC:0.4\n",
      "Epoch 103 (0.482 sec): loss changed from 1.89 to 1.88\t\tVL:1.92\t\tAC:0.399\n",
      "Epoch 104 (0.481 sec): loss changed from 1.87 to 1.86\t\tVL:1.91\t\tAC:0.41\n",
      "Epoch 105 (0.474 sec): loss changed from 1.81 to 1.81\t\tVL:1.9\t\tAC:0.409\n",
      "Epoch 106 (0.493 sec): loss changed from 1.87 to 1.86\t\tVL:1.9\t\tAC:0.416\n",
      "Epoch 107 (0.483 sec): loss changed from 1.87 to 1.87\t\tVL:1.9\t\tAC:0.416\n",
      "Epoch 108 (0.487 sec): loss changed from 1.83 to 1.83\t\tVL:1.89\t\tAC:0.416\n",
      "Epoch 109 (0.483 sec): loss changed from 1.84 to 1.84\t\tVL:1.89\t\tAC:0.416\n",
      "Epoch 110 (0.531 sec): loss changed from 1.83 to 1.82\t\tVL:1.89\t\tAC:0.414\n",
      "Epoch 111 (0.483 sec): loss changed from 1.83 to 1.82\t\tVL:1.88\t\tAC:0.416\n",
      "Epoch 112 (0.631 sec): loss changed from 1.86 to 1.85\t\tVL:1.88\t\tAC:0.416\n",
      "Epoch 113 (0.501 sec): loss changed from 1.84 to 1.84\t\tVL:1.88\t\tAC:0.416\n",
      "Epoch 114 (0.53 sec): loss changed from 1.82 to 1.81\t\tVL:1.87\t\tAC:0.416\n"
     ]
    },
    {
     "name": "stdout",
     "output_type": "stream",
     "text": [
      "Epoch 115 (0.527 sec): loss changed from 1.83 to 1.83\t\tVL:1.87\t\tAC:0.416\n",
      "Epoch 116 (0.554 sec): loss changed from 1.83 to 1.83\t\tVL:1.87\t\tAC:0.416\n",
      "Epoch 117 (0.516 sec): loss changed from 1.86 to 1.85\t\tVL:1.86\t\tAC:0.416\n",
      "Epoch 118 (0.519 sec): loss changed from 1.79 to 1.78\t\tVL:1.86\t\tAC:0.416\n",
      "Epoch 119 (0.48 sec): loss changed from 1.84 to 1.84\t\tVL:1.86\t\tAC:0.416\n",
      "Epoch 120 (0.492 sec): loss changed from 1.78 to 1.77\t\tVL:1.86\t\tAC:0.416\n",
      "Epoch 121 (0.537 sec): loss changed from 1.82 to 1.81\t\tVL:1.85\t\tAC:0.416\n",
      "Epoch 122 (0.475 sec): loss changed from 1.82 to 1.82\t\tVL:1.85\t\tAC:0.416\n",
      "Epoch 123 (0.642 sec): loss changed from 1.85 to 1.85\t\tVL:1.85\t\tAC:0.416\n",
      "Epoch 124 (0.507 sec): loss changed from 1.84 to 1.83\t\tVL:1.85\t\tAC:0.415\n",
      "Epoch 125 (0.493 sec): loss changed from 1.81 to 1.81\t\tVL:1.84\t\tAC:0.415\n",
      "Epoch 126 (0.475 sec): loss changed from 1.75 to 1.74\t\tVL:1.84\t\tAC:0.416\n",
      "Epoch 127 (0.514 sec): loss changed from 1.81 to 1.8\t\tVL:1.84\t\tAC:0.415\n",
      "Epoch 128 (0.549 sec): loss changed from 1.78 to 1.77\t\tVL:1.84\t\tAC:0.416\n",
      "Epoch 129 (0.554 sec): loss changed from 1.82 to 1.81\t\tVL:1.84\t\tAC:0.416\n",
      "Epoch 130 (0.478 sec): loss changed from 1.75 to 1.74\t\tVL:1.83\t\tAC:0.416\n",
      "Epoch 131 (0.475 sec): loss changed from 1.76 to 1.75\t\tVL:1.83\t\tAC:0.416\n",
      "Epoch 132 (0.478 sec): loss changed from 1.77 to 1.77\t\tVL:1.83\t\tAC:0.415\n",
      "Epoch 133 (0.525 sec): loss changed from 1.78 to 1.78\t\tVL:1.83\t\tAC:0.415\n",
      "Epoch 134 (0.816 sec): loss changed from 1.81 to 1.81\t\tVL:1.82\t\tAC:0.416\n",
      "Epoch 135 (0.637 sec): loss changed from 1.75 to 1.74\t\tVL:1.82\t\tAC:0.416\n",
      "Epoch 136 (0.589 sec): loss changed from 1.77 to 1.76\t\tVL:1.82\t\tAC:0.416\n",
      "Epoch 137 (0.514 sec): loss changed from 1.81 to 1.81\t\tVL:1.81\t\tAC:0.416\n"
     ]
    },
    {
     "ename": "KeyboardInterrupt",
     "evalue": "",
     "output_type": "error",
     "traceback": [
      "\u001b[1;31m---------------------------------------------------------------------------\u001b[0m",
      "\u001b[1;31mKeyboardInterrupt\u001b[0m                         Traceback (most recent call last)",
      "\u001b[1;32m<ipython-input-125-f95879bc4091>\u001b[0m in \u001b[0;36m<module>\u001b[1;34m()\u001b[0m\n\u001b[0;32m     12\u001b[0m         \u001b[0mt0\u001b[0m \u001b[1;33m=\u001b[0m \u001b[0mtime\u001b[0m\u001b[1;33m.\u001b[0m\u001b[0mperf_counter\u001b[0m\u001b[1;33m(\u001b[0m\u001b[1;33m)\u001b[0m\u001b[1;33m\u001b[0m\u001b[0m\n\u001b[0;32m     13\u001b[0m         \u001b[1;32mfor\u001b[0m \u001b[0mj\u001b[0m \u001b[1;32min\u001b[0m \u001b[0mrange\u001b[0m\u001b[1;33m(\u001b[0m\u001b[0mnum_steps\u001b[0m\u001b[1;33m)\u001b[0m\u001b[1;33m:\u001b[0m\u001b[1;33m\u001b[0m\u001b[0m\n\u001b[1;32m---> 14\u001b[1;33m             \u001b[0mtfTrain\u001b[0m\u001b[1;33m.\u001b[0m\u001b[0mrun\u001b[0m\u001b[1;33m(\u001b[0m\u001b[0mfeed_dict\u001b[0m\u001b[1;33m=\u001b[0m\u001b[0mtrain_batch\u001b[0m\u001b[1;33m)\u001b[0m\u001b[1;33m\u001b[0m\u001b[0m\n\u001b[0m\u001b[0;32m     15\u001b[0m         \u001b[0mt1\u001b[0m \u001b[1;33m=\u001b[0m \u001b[0mtime\u001b[0m\u001b[1;33m.\u001b[0m\u001b[0mperf_counter\u001b[0m\u001b[1;33m(\u001b[0m\u001b[1;33m)\u001b[0m\u001b[1;33m\u001b[0m\u001b[0m\n\u001b[0;32m     16\u001b[0m         \u001b[0ml1\u001b[0m \u001b[1;33m=\u001b[0m \u001b[0mtfLoss\u001b[0m\u001b[1;33m.\u001b[0m\u001b[0meval\u001b[0m\u001b[1;33m(\u001b[0m\u001b[0mfeed_dict\u001b[0m\u001b[1;33m=\u001b[0m\u001b[0mtrain_batch\u001b[0m\u001b[1;33m)\u001b[0m\u001b[1;33m\u001b[0m\u001b[0m\n",
      "\u001b[1;32mC:\\Anaconda3\\lib\\site-packages\\tensorflow\\python\\framework\\ops.py\u001b[0m in \u001b[0;36mrun\u001b[1;34m(self, feed_dict, session)\u001b[0m\n\u001b[0;32m   1704\u001b[0m         \u001b[0mnone\u001b[0m\u001b[1;33m,\u001b[0m \u001b[0mthe\u001b[0m \u001b[0mdefault\u001b[0m \u001b[0msession\u001b[0m \u001b[0mwill\u001b[0m \u001b[0mbe\u001b[0m \u001b[0mused\u001b[0m\u001b[1;33m.\u001b[0m\u001b[1;33m\u001b[0m\u001b[0m\n\u001b[0;32m   1705\u001b[0m     \"\"\"\n\u001b[1;32m-> 1706\u001b[1;33m     \u001b[0m_run_using_default_session\u001b[0m\u001b[1;33m(\u001b[0m\u001b[0mself\u001b[0m\u001b[1;33m,\u001b[0m \u001b[0mfeed_dict\u001b[0m\u001b[1;33m,\u001b[0m \u001b[0mself\u001b[0m\u001b[1;33m.\u001b[0m\u001b[0mgraph\u001b[0m\u001b[1;33m,\u001b[0m \u001b[0msession\u001b[0m\u001b[1;33m)\u001b[0m\u001b[1;33m\u001b[0m\u001b[0m\n\u001b[0m\u001b[0;32m   1707\u001b[0m \u001b[1;33m\u001b[0m\u001b[0m\n\u001b[0;32m   1708\u001b[0m \u001b[1;33m\u001b[0m\u001b[0m\n",
      "\u001b[1;32mC:\\Anaconda3\\lib\\site-packages\\tensorflow\\python\\framework\\ops.py\u001b[0m in \u001b[0;36m_run_using_default_session\u001b[1;34m(operation, feed_dict, graph, session)\u001b[0m\n\u001b[0;32m   3961\u001b[0m                        \u001b[1;34m\"the operation's graph is different from the session's \"\u001b[0m\u001b[1;33m\u001b[0m\u001b[0m\n\u001b[0;32m   3962\u001b[0m                        \"graph.\")\n\u001b[1;32m-> 3963\u001b[1;33m   \u001b[0msession\u001b[0m\u001b[1;33m.\u001b[0m\u001b[0mrun\u001b[0m\u001b[1;33m(\u001b[0m\u001b[0moperation\u001b[0m\u001b[1;33m,\u001b[0m \u001b[0mfeed_dict\u001b[0m\u001b[1;33m)\u001b[0m\u001b[1;33m\u001b[0m\u001b[0m\n\u001b[0m\u001b[0;32m   3964\u001b[0m \u001b[1;33m\u001b[0m\u001b[0m\n\u001b[0;32m   3965\u001b[0m \u001b[1;33m\u001b[0m\u001b[0m\n",
      "\u001b[1;32mC:\\Anaconda3\\lib\\site-packages\\tensorflow\\python\\client\\session.py\u001b[0m in \u001b[0;36mrun\u001b[1;34m(self, fetches, feed_dict, options, run_metadata)\u001b[0m\n\u001b[0;32m    787\u001b[0m     \u001b[1;32mtry\u001b[0m\u001b[1;33m:\u001b[0m\u001b[1;33m\u001b[0m\u001b[0m\n\u001b[0;32m    788\u001b[0m       result = self._run(None, fetches, feed_dict, options_ptr,\n\u001b[1;32m--> 789\u001b[1;33m                          run_metadata_ptr)\n\u001b[0m\u001b[0;32m    790\u001b[0m       \u001b[1;32mif\u001b[0m \u001b[0mrun_metadata\u001b[0m\u001b[1;33m:\u001b[0m\u001b[1;33m\u001b[0m\u001b[0m\n\u001b[0;32m    791\u001b[0m         \u001b[0mproto_data\u001b[0m \u001b[1;33m=\u001b[0m \u001b[0mtf_session\u001b[0m\u001b[1;33m.\u001b[0m\u001b[0mTF_GetBuffer\u001b[0m\u001b[1;33m(\u001b[0m\u001b[0mrun_metadata_ptr\u001b[0m\u001b[1;33m)\u001b[0m\u001b[1;33m\u001b[0m\u001b[0m\n",
      "\u001b[1;32mC:\\Anaconda3\\lib\\site-packages\\tensorflow\\python\\client\\session.py\u001b[0m in \u001b[0;36m_run\u001b[1;34m(self, handle, fetches, feed_dict, options, run_metadata)\u001b[0m\n\u001b[0;32m    995\u001b[0m     \u001b[1;32mif\u001b[0m \u001b[0mfinal_fetches\u001b[0m \u001b[1;32mor\u001b[0m \u001b[0mfinal_targets\u001b[0m\u001b[1;33m:\u001b[0m\u001b[1;33m\u001b[0m\u001b[0m\n\u001b[0;32m    996\u001b[0m       results = self._do_run(handle, final_targets, final_fetches,\n\u001b[1;32m--> 997\u001b[1;33m                              feed_dict_string, options, run_metadata)\n\u001b[0m\u001b[0;32m    998\u001b[0m     \u001b[1;32melse\u001b[0m\u001b[1;33m:\u001b[0m\u001b[1;33m\u001b[0m\u001b[0m\n\u001b[0;32m    999\u001b[0m       \u001b[0mresults\u001b[0m \u001b[1;33m=\u001b[0m \u001b[1;33m[\u001b[0m\u001b[1;33m]\u001b[0m\u001b[1;33m\u001b[0m\u001b[0m\n",
      "\u001b[1;32mC:\\Anaconda3\\lib\\site-packages\\tensorflow\\python\\client\\session.py\u001b[0m in \u001b[0;36m_do_run\u001b[1;34m(self, handle, target_list, fetch_list, feed_dict, options, run_metadata)\u001b[0m\n\u001b[0;32m   1130\u001b[0m     \u001b[1;32mif\u001b[0m \u001b[0mhandle\u001b[0m \u001b[1;32mis\u001b[0m \u001b[1;32mNone\u001b[0m\u001b[1;33m:\u001b[0m\u001b[1;33m\u001b[0m\u001b[0m\n\u001b[0;32m   1131\u001b[0m       return self._do_call(_run_fn, self._session, feed_dict, fetch_list,\n\u001b[1;32m-> 1132\u001b[1;33m                            target_list, options, run_metadata)\n\u001b[0m\u001b[0;32m   1133\u001b[0m     \u001b[1;32melse\u001b[0m\u001b[1;33m:\u001b[0m\u001b[1;33m\u001b[0m\u001b[0m\n\u001b[0;32m   1134\u001b[0m       return self._do_call(_prun_fn, self._session, handle, feed_dict,\n",
      "\u001b[1;32mC:\\Anaconda3\\lib\\site-packages\\tensorflow\\python\\client\\session.py\u001b[0m in \u001b[0;36m_do_call\u001b[1;34m(self, fn, *args)\u001b[0m\n\u001b[0;32m   1137\u001b[0m   \u001b[1;32mdef\u001b[0m \u001b[0m_do_call\u001b[0m\u001b[1;33m(\u001b[0m\u001b[0mself\u001b[0m\u001b[1;33m,\u001b[0m \u001b[0mfn\u001b[0m\u001b[1;33m,\u001b[0m \u001b[1;33m*\u001b[0m\u001b[0margs\u001b[0m\u001b[1;33m)\u001b[0m\u001b[1;33m:\u001b[0m\u001b[1;33m\u001b[0m\u001b[0m\n\u001b[0;32m   1138\u001b[0m     \u001b[1;32mtry\u001b[0m\u001b[1;33m:\u001b[0m\u001b[1;33m\u001b[0m\u001b[0m\n\u001b[1;32m-> 1139\u001b[1;33m       \u001b[1;32mreturn\u001b[0m \u001b[0mfn\u001b[0m\u001b[1;33m(\u001b[0m\u001b[1;33m*\u001b[0m\u001b[0margs\u001b[0m\u001b[1;33m)\u001b[0m\u001b[1;33m\u001b[0m\u001b[0m\n\u001b[0m\u001b[0;32m   1140\u001b[0m     \u001b[1;32mexcept\u001b[0m \u001b[0merrors\u001b[0m\u001b[1;33m.\u001b[0m\u001b[0mOpError\u001b[0m \u001b[1;32mas\u001b[0m \u001b[0me\u001b[0m\u001b[1;33m:\u001b[0m\u001b[1;33m\u001b[0m\u001b[0m\n\u001b[0;32m   1141\u001b[0m       \u001b[0mmessage\u001b[0m \u001b[1;33m=\u001b[0m \u001b[0mcompat\u001b[0m\u001b[1;33m.\u001b[0m\u001b[0mas_text\u001b[0m\u001b[1;33m(\u001b[0m\u001b[0me\u001b[0m\u001b[1;33m.\u001b[0m\u001b[0mmessage\u001b[0m\u001b[1;33m)\u001b[0m\u001b[1;33m\u001b[0m\u001b[0m\n",
      "\u001b[1;32mC:\\Anaconda3\\lib\\site-packages\\tensorflow\\python\\client\\session.py\u001b[0m in \u001b[0;36m_run_fn\u001b[1;34m(session, feed_dict, fetch_list, target_list, options, run_metadata)\u001b[0m\n\u001b[0;32m   1119\u001b[0m         return tf_session.TF_Run(session, options,\n\u001b[0;32m   1120\u001b[0m                                  \u001b[0mfeed_dict\u001b[0m\u001b[1;33m,\u001b[0m \u001b[0mfetch_list\u001b[0m\u001b[1;33m,\u001b[0m \u001b[0mtarget_list\u001b[0m\u001b[1;33m,\u001b[0m\u001b[1;33m\u001b[0m\u001b[0m\n\u001b[1;32m-> 1121\u001b[1;33m                                  status, run_metadata)\n\u001b[0m\u001b[0;32m   1122\u001b[0m \u001b[1;33m\u001b[0m\u001b[0m\n\u001b[0;32m   1123\u001b[0m     \u001b[1;32mdef\u001b[0m \u001b[0m_prun_fn\u001b[0m\u001b[1;33m(\u001b[0m\u001b[0msession\u001b[0m\u001b[1;33m,\u001b[0m \u001b[0mhandle\u001b[0m\u001b[1;33m,\u001b[0m \u001b[0mfeed_dict\u001b[0m\u001b[1;33m,\u001b[0m \u001b[0mfetch_list\u001b[0m\u001b[1;33m)\u001b[0m\u001b[1;33m:\u001b[0m\u001b[1;33m\u001b[0m\u001b[0m\n",
      "\u001b[1;31mKeyboardInterrupt\u001b[0m: "
     ]
    }
   ],
   "source": [
    "batch_size = 1000\n",
    "num_steps  = 20\n",
    "num_epochs = 150\n",
    "\n",
    "valid_batch = {tfi_x: valid_x, tfi_y: valid_y}\n",
    "with tf.Session() as tfs:\n",
    "    tfs.run(tf.global_variables_initializer())\n",
    "    for i in range(num_epochs):\n",
    "        mini_x, mini_y = randomBatch((train_x, train_y), batchSize=batch_size)\n",
    "        train_batch = {tfi_x:mini_x, tfi_y:mini_y}\n",
    "        l0 = tfLoss.eval(feed_dict=train_batch)\n",
    "        t0 = time.perf_counter()\n",
    "        for j in range(num_steps):\n",
    "            tfTrain.run(feed_dict=train_batch)\n",
    "        t1 = time.perf_counter()\n",
    "        l1 = tfLoss.eval(feed_dict=train_batch)\n",
    "        lv = tfLoss.eval(feed_dict=valid_batch)\n",
    "        ac = tfAccuracy.eval(feed_dict=valid_batch)\n",
    "        \n",
    "        print('Epoch {0} ({1:1.3} sec): loss changed from {2:1.3} to {3:1.3}\\t\\tVL:{4:1.3}\\t\\tAC:{5:1.3}'.format(i,t1-t0,l0,l1,lv,ac))\n",
    "    valid_p, valid_r = tfs.run([tfOutP, tfOutR], feed_dict=valid_batch)"
   ]
  },
  {
   "cell_type": "code",
   "execution_count": 116,
   "metadata": {},
   "outputs": [
    {
     "data": {
      "text/plain": [
       "(array([13,  7, 11,  8, 11,  9, 10,  9, 11, 10, 10, 11,  9, 10,  8]),\n",
       " array([13,  7, 11,  8, 11,  9, 10,  9, 11, 10, 10, 11,  9, 10,  8], dtype=int64))"
      ]
     },
     "execution_count": 116,
     "metadata": {},
     "output_type": "execute_result"
    }
   ],
   "source": [
    "valid_y[:15],valid_r[:15]"
   ]
  },
  {
   "cell_type": "code",
   "execution_count": 121,
   "metadata": {},
   "outputs": [
    {
     "data": {
      "text/plain": [
       "(array([15, 14, 14, 14, 15, 15, 14, 17, 14, 14, 14, 15, 14, 14, 14, 14, 14,\n",
       "        15, 14, 14, 14, 14, 15, 15, 16, 14, 14, 16, 18, 14, 15, 15, 14, 14,\n",
       "        14, 15, 14, 14, 14, 16, 14, 15, 16, 14, 14, 16, 14, 14, 14, 14, 14,\n",
       "        14, 15, 14, 14, 14, 14, 14, 15, 14, 14, 14, 14, 15, 14, 16, 14, 14,\n",
       "        14, 15, 16, 14, 15]),\n",
       " array([15, 14, 14, 14, 15, 15, 14, 15, 14, 14, 14, 15, 14, 14, 14, 14, 14,\n",
       "        15, 14, 14, 14, 14, 15, 15, 15, 14, 14, 15, 15, 14, 15, 15, 14, 14,\n",
       "        14, 15, 14, 14, 14, 15, 14, 15, 15, 14, 14, 15, 14, 14, 14, 14, 14,\n",
       "        14, 15, 14, 14, 14, 14, 14, 15, 14, 14, 14, 14, 15, 14, 15, 14, 14,\n",
       "        14, 15, 15, 14, 15], dtype=int64))"
      ]
     },
     "execution_count": 121,
     "metadata": {},
     "output_type": "execute_result"
    }
   ],
   "source": [
    "valid_y[valid_y>13], valid_r[valid_y>13]"
   ]
  },
  {
   "cell_type": "code",
   "execution_count": null,
   "metadata": {
    "collapsed": true
   },
   "outputs": [],
   "source": []
  }
 ],
 "metadata": {
  "kernelspec": {
   "display_name": "Python 3",
   "language": "python",
   "name": "python3"
  },
  "language_info": {
   "codemirror_mode": {
    "name": "ipython",
    "version": 3
   },
   "file_extension": ".py",
   "mimetype": "text/x-python",
   "name": "python",
   "nbconvert_exporter": "python",
   "pygments_lexer": "ipython3",
   "version": "3.6.1"
  }
 },
 "nbformat": 4,
 "nbformat_minor": 2
}
